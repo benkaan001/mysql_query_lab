{
 "cells": [
  {
   "cell_type": "code",
   "execution_count": 5,
   "id": "14792bc3",
   "metadata": {},
   "outputs": [
    {
     "name": "stdout",
     "output_type": "stream",
     "text": [
      "Running notebook setup script (v2: with get_db_engine)...\n",
      "Registering custom MySQLLabMagic class...\n",
      "Custom '%%mysql_lab' magic registered successfully.\n",
      "Notebook setup script complete. Use 'get_db_engine(db_name)' to create engines.\n",
      "Creating new engine for database 'leetcode_01_db'...\n",
      "Successfully created and connected engine for 'leetcode_01_db'.\n",
      "\n",
      "Setup complete. Using database: leetcode_01_db\n"
     ]
    }
   ],
   "source": [
    "# === Notebook Setup ===\n",
    "# 1. Run the setup script to define helper functions and register magic\n",
    "%run -i ../../../src/notebook_setup.py\n",
    "\n",
    "# 2. Specify the database for THIS problem\n",
    "problem_db_name = \"leetcode_01_db\"  # Database for LeetCode Patients/Diabetes problem\n",
    "\n",
    "# 3. Create the engine for this problem's database\n",
    "#    The 'db_engine' variable is used by the %%mysql_lab magic\n",
    "db_engine = get_db_engine(problem_db_name)\n",
    "\n",
    "# 4. Check if engine was created successfully before proceeding\n",
    "if db_engine:\n",
    "    print(f\"\\nSetup complete. Using database: {problem_db_name}\")\n",
    "else:\n",
    "    print(f\"\\nERROR: Failed to create engine for {problem_db_name}. Cannot proceed.\")"
   ]
  },
  {
   "cell_type": "markdown",
   "id": "06d3f54b",
   "metadata": {},
   "source": [
    "## Problem: Patients With a Condition (Diabetes Type I - LeetCode)\n",
    "\n",
    "We have a `patients` table in the `leetcode_01_db` database with the following structure:\n",
    "\n",
    "* `patient_id` (INT)\n",
    "* `patient_name` (VARCHAR)\n",
    "* `conditions` (VARCHAR) - Contains space-separated condition codes.\n",
    "\n",
    "Let's look at the data first.\n"
   ]
  },
  {
   "cell_type": "code",
   "execution_count": 6,
   "id": "14966b74",
   "metadata": {
    "vscode": {
     "languageId": "sql"
    }
   },
   "outputs": [
    {
     "data": {
      "text/html": [
       "<div>\n",
       "<style scoped>\n",
       "    .dataframe tbody tr th:only-of-type {\n",
       "        vertical-align: middle;\n",
       "    }\n",
       "\n",
       "    .dataframe tbody tr th {\n",
       "        vertical-align: top;\n",
       "    }\n",
       "\n",
       "    .dataframe thead th {\n",
       "        text-align: right;\n",
       "    }\n",
       "</style>\n",
       "<table border=\"1\" class=\"dataframe\">\n",
       "  <thead>\n",
       "    <tr style=\"text-align: right;\">\n",
       "      <th></th>\n",
       "      <th>patient_id</th>\n",
       "      <th>patient_name</th>\n",
       "      <th>conditions</th>\n",
       "    </tr>\n",
       "  </thead>\n",
       "  <tbody>\n",
       "    <tr>\n",
       "      <th>0</th>\n",
       "      <td>1</td>\n",
       "      <td>Daniel</td>\n",
       "      <td>YFEV COUGH</td>\n",
       "    </tr>\n",
       "    <tr>\n",
       "      <th>1</th>\n",
       "      <td>2</td>\n",
       "      <td>Alice</td>\n",
       "      <td>None</td>\n",
       "    </tr>\n",
       "    <tr>\n",
       "      <th>2</th>\n",
       "      <td>3</td>\n",
       "      <td>Bob</td>\n",
       "      <td>DIAB100 MYOP</td>\n",
       "    </tr>\n",
       "    <tr>\n",
       "      <th>3</th>\n",
       "      <td>4</td>\n",
       "      <td>George</td>\n",
       "      <td>ACNE DIAB100</td>\n",
       "    </tr>\n",
       "    <tr>\n",
       "      <th>4</th>\n",
       "      <td>5</td>\n",
       "      <td>Alain</td>\n",
       "      <td>DIAB201</td>\n",
       "    </tr>\n",
       "  </tbody>\n",
       "</table>\n",
       "</div>"
      ],
      "text/plain": [
       "   patient_id patient_name    conditions\n",
       "0           1       Daniel    YFEV COUGH\n",
       "1           2        Alice          None\n",
       "2           3          Bob  DIAB100 MYOP\n",
       "3           4       George  ACNE DIAB100\n",
       "4           5        Alain       DIAB201"
      ]
     },
     "metadata": {},
     "output_type": "display_data"
    }
   ],
   "source": [
    "%%mysql_lab\n",
    "-- Display the contents of the patients table\n",
    "SELECT * FROM patients;"
   ]
  },
  {
   "cell_type": "markdown",
   "id": "ff83d394",
   "metadata": {},
   "source": [
    "**Task:**\n",
    "\n",
    "Write a SQL query to find the `patient_id`, `patient_name` and `conditions` of patients who have Type I Diabetes. Type I Diabetes always starts with `DIAB1` prefix **as a distinct word** (e.g., 'DIAB100' or 'XYZ DIAB150' but not 'ADIAB100').\n",
    "\n",
    "**Expected Output:**\n",
    "\n",
    "| patient\\_id | patient\\_name | conditions   |\n",
    "| :---------- | :------------ | :----------- |\n",
    "| 3           | Bob           | DIAB100 MYOP |\n",
    "| 4           | George        | ACNE DIAB100 |\n",
    "\n",
    "*(Explanation: Bob and George both have a condition that starts with DIAB1 as a word).*\n"
   ]
  },
  {
   "cell_type": "code",
   "execution_count": 7,
   "id": "310ca401",
   "metadata": {
    "vscode": {
     "languageId": "sql"
    }
   },
   "outputs": [
    {
     "data": {
      "text/html": [
       "<div>\n",
       "<style scoped>\n",
       "    .dataframe tbody tr th:only-of-type {\n",
       "        vertical-align: middle;\n",
       "    }\n",
       "\n",
       "    .dataframe tbody tr th {\n",
       "        vertical-align: top;\n",
       "    }\n",
       "\n",
       "    .dataframe thead th {\n",
       "        text-align: right;\n",
       "    }\n",
       "</style>\n",
       "<table border=\"1\" class=\"dataframe\">\n",
       "  <thead>\n",
       "    <tr style=\"text-align: right;\">\n",
       "      <th></th>\n",
       "      <th>patient_id</th>\n",
       "      <th>patient_name</th>\n",
       "      <th>conditions</th>\n",
       "    </tr>\n",
       "  </thead>\n",
       "  <tbody>\n",
       "    <tr>\n",
       "      <th>0</th>\n",
       "      <td>3</td>\n",
       "      <td>Bob</td>\n",
       "      <td>DIAB100 MYOP</td>\n",
       "    </tr>\n",
       "    <tr>\n",
       "      <th>1</th>\n",
       "      <td>4</td>\n",
       "      <td>George</td>\n",
       "      <td>ACNE DIAB100</td>\n",
       "    </tr>\n",
       "  </tbody>\n",
       "</table>\n",
       "</div>"
      ],
      "text/plain": [
       "   patient_id patient_name    conditions\n",
       "0           3          Bob  DIAB100 MYOP\n",
       "1           4       George  ACNE DIAB100"
      ]
     },
     "metadata": {},
     "output_type": "display_data"
    }
   ],
   "source": [
    "%%mysql_lab\n",
    "-- Write your SQL query here\n",
    "-- Solution using REGEXP with word boundary:\n",
    "SELECT\n",
    "    patient_id,\n",
    "    patient_name,\n",
    "    conditions\n",
    "FROM patients\n",
    "WHERE conditions REGEXP '\\\\bDIAB1'; -- \\\\b matches word boundary\n"
   ]
  },
  {
   "cell_type": "code",
   "execution_count": 8,
   "id": "c2385b6c",
   "metadata": {
    "vscode": {
     "languageId": "sql"
    }
   },
   "outputs": [
    {
     "data": {
      "text/html": [
       "<div>\n",
       "<style scoped>\n",
       "    .dataframe tbody tr th:only-of-type {\n",
       "        vertical-align: middle;\n",
       "    }\n",
       "\n",
       "    .dataframe tbody tr th {\n",
       "        vertical-align: top;\n",
       "    }\n",
       "\n",
       "    .dataframe thead th {\n",
       "        text-align: right;\n",
       "    }\n",
       "</style>\n",
       "<table border=\"1\" class=\"dataframe\">\n",
       "  <thead>\n",
       "    <tr style=\"text-align: right;\">\n",
       "      <th></th>\n",
       "      <th>patient_id</th>\n",
       "      <th>patient_name</th>\n",
       "      <th>conditions</th>\n",
       "    </tr>\n",
       "  </thead>\n",
       "  <tbody>\n",
       "    <tr>\n",
       "      <th>0</th>\n",
       "      <td>3</td>\n",
       "      <td>Bob</td>\n",
       "      <td>DIAB100 MYOP</td>\n",
       "    </tr>\n",
       "    <tr>\n",
       "      <th>1</th>\n",
       "      <td>4</td>\n",
       "      <td>George</td>\n",
       "      <td>ACNE DIAB100</td>\n",
       "    </tr>\n",
       "  </tbody>\n",
       "</table>\n",
       "</div>"
      ],
      "text/plain": [
       "   patient_id patient_name    conditions\n",
       "0           3          Bob  DIAB100 MYOP\n",
       "1           4       George  ACNE DIAB100"
      ]
     },
     "metadata": {},
     "output_type": "display_data"
    }
   ],
   "source": [
    "%%mysql_lab\n",
    "SELECT\n",
    "    patient_id,\n",
    "    patient_name,\n",
    "    conditions\n",
    "FROM patients\n",
    "WHERE conditions LIKE 'DIAB1%%' OR conditions LIKE '%% DIAB1%%';"
   ]
  }
 ],
 "metadata": {
  "kernelspec": {
   "display_name": ".venv",
   "language": "python",
   "name": "python3"
  },
  "language_info": {
   "codemirror_mode": {
    "name": "ipython",
    "version": 3
   },
   "file_extension": ".py",
   "mimetype": "text/x-python",
   "name": "python",
   "nbconvert_exporter": "python",
   "pygments_lexer": "ipython3",
   "version": "3.13.1"
  }
 },
 "nbformat": 4,
 "nbformat_minor": 5
}
