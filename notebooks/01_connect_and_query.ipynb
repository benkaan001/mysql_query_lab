{
 "cells": [
  {
   "cell_type": "code",
   "execution_count": 1,
   "id": "32c6ae35",
   "metadata": {},
   "outputs": [
    {
     "name": "stdout",
     "output_type": "stream",
     "text": [
      "Environment variables loaded.\n"
     ]
    }
   ],
   "source": [
    "# Import necessary libraries\n",
    "import os\n",
    "from dotenv import load_dotenv\n",
    "\n",
    "# Load environment variables from .env file located in the project root\n",
    "dotenv_path = os.path.join(os.path.dirname(os.getcwd()), '.env')\n",
    "load_dotenv(dotenv_path=dotenv_path)\n",
    "\n",
    "# Get database connection details\n",
    "db_user = os.getenv(\"MYSQL_USER\")\n",
    "db_password = os.getenv(\"MYSQL_PASSWORD\")\n",
    "db_name = os.getenv(\"MYSQL_DATABASE\")\n",
    "db_host = os.getenv(\"DB_HOST\", \"127.0.0.1\")\n",
    "db_port = os.getenv(\"DB_PORT\", \"3307\") # Use the correct host port\n",
    "\n",
    "# Construct the database connection URL\n",
    "# This variable 'db_url' will be passed explicitly to each SQL command\n",
    "db_url = f\"mysql+mysqlconnector://{db_user}:{db_password}@{db_host}:{db_port}/{db_name}\"\n",
    "\n",
    "print(\"Environment variables loaded.\")"
   ]
  },
  {
   "cell_type": "code",
   "execution_count": 2,
   "id": "bb35564b",
   "metadata": {},
   "outputs": [],
   "source": [
    "# Load the ipython-sql extension\n",
    "%load_ext sql"
   ]
  },
  {
   "cell_type": "code",
   "execution_count": 3,
   "id": "2ac5149c",
   "metadata": {},
   "outputs": [
    {
     "name": "stdout",
     "output_type": "stream",
     "text": [
      "Initial connection check successful (optional).\n"
     ]
    }
   ],
   "source": [
    "# Optional: You can still try the initial connection for feedback, but it's not strictly needed\n",
    "# as we will pass the connection string explicitly later.\n",
    "try:\n",
    "    %sql {db_url}\n",
    "    print(\"Initial connection check successful (optional).\")\n",
    "except Exception as e:\n",
    "    print(f\"Initial connection check failed (optional): {e}\")\n",
    "    # This failure might not prevent subsequent cells from working if db_url is correct."
   ]
  },
  {
   "cell_type": "code",
   "execution_count": 4,
   "id": "efb46b11",
   "metadata": {},
   "outputs": [
    {
     "name": "stdout",
     "output_type": "stream",
     "text": [
      "5 rows affected.\n"
     ]
    },
    {
     "data": {
      "text/html": [
       "<table>\n",
       "    <tr>\n",
       "        <th>dept_no</th>\n",
       "        <th>dept_name</th>\n",
       "    </tr>\n",
       "    <tr>\n",
       "        <td>d009</td>\n",
       "        <td>Customer Service</td>\n",
       "    </tr>\n",
       "    <tr>\n",
       "        <td>d005</td>\n",
       "        <td>Development</td>\n",
       "    </tr>\n",
       "    <tr>\n",
       "        <td>d002</td>\n",
       "        <td>Finance</td>\n",
       "    </tr>\n",
       "    <tr>\n",
       "        <td>d003</td>\n",
       "        <td>Human Resources</td>\n",
       "    </tr>\n",
       "    <tr>\n",
       "        <td>d001</td>\n",
       "        <td>Marketing</td>\n",
       "    </tr>\n",
       "</table>"
      ],
      "text/plain": [
       "[('d009', 'Customer Service'),\n",
       " ('d005', 'Development'),\n",
       " ('d002', 'Finance'),\n",
       " ('d003', 'Human Resources'),\n",
       " ('d001', 'Marketing')]"
      ]
     },
     "execution_count": 4,
     "metadata": {},
     "output_type": "execute_result"
    }
   ],
   "source": [
    "%%sql {db_url}\n",
    "\n",
    "SELECT *\n",
    "FROM departments\n",
    "LIMIT 5;"
   ]
  },
  {
   "cell_type": "code",
   "execution_count": 5,
   "id": "078174b5",
   "metadata": {},
   "outputs": [
    {
     "name": "stdout",
     "output_type": "stream",
     "text": [
      "1 rows affected.\n"
     ]
    },
    {
     "data": {
      "text/html": [
       "<table>\n",
       "    <tr>\n",
       "        <th>total_departments</th>\n",
       "    </tr>\n",
       "    <tr>\n",
       "        <td>9</td>\n",
       "    </tr>\n",
       "</table>"
      ],
      "text/plain": [
       "[(9,)]"
      ]
     },
     "execution_count": 5,
     "metadata": {},
     "output_type": "execute_result"
    }
   ],
   "source": [
    "%sql {db_url} SELECT COUNT(*) AS total_departments FROM departments;"
   ]
  }
 ],
 "metadata": {
  "kernelspec": {
   "display_name": ".venv",
   "language": "python",
   "name": "python3"
  },
  "language_info": {
   "codemirror_mode": {
    "name": "ipython",
    "version": 3
   },
   "file_extension": ".py",
   "mimetype": "text/x-python",
   "name": "python",
   "nbconvert_exporter": "python",
   "pygments_lexer": "ipython3",
   "version": "3.13.1"
  }
 },
 "nbformat": 4,
 "nbformat_minor": 5
}
