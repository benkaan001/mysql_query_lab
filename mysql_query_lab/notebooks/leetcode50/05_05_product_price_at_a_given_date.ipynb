{
 "cells": [
  {
   "cell_type": "code",
   "execution_count": 1,
   "metadata": {},
   "outputs": [
    {
     "name": "stdout",
     "output_type": "stream",
     "text": [
      "Successfully connected to leetcode50 database.\n"
     ]
    }
   ],
   "source": [
    "%run helper/setup_notebook.ipynb import display_table"
   ]
  },
  {
   "cell_type": "code",
   "execution_count": 3,
   "metadata": {},
   "outputs": [
    {
     "name": "stdout",
     "output_type": "stream",
     "text": [
      "+------------+-----------+-------------+\n",
      "| product_id | new_price | change_date |\n",
      "+------------+-----------+-------------+\n",
      "|     1      |     20    |  2019-08-14 |\n",
      "|     2      |     50    |  2019-08-14 |\n",
      "|     1      |     30    |  2019-08-15 |\n",
      "|     1      |     35    |  2019-08-16 |\n",
      "|     2      |     65    |  2019-08-17 |\n",
      "|     3      |     20    |  2019-08-18 |\n",
      "+------------+-----------+-------------+\n"
     ]
    }
   ],
   "source": [
    "display_table('Products')"
   ]
  },
  {
   "attachments": {},
   "cell_type": "markdown",
   "metadata": {},
   "source": [
    "### Write an SQL query to find the prices of all products on 2019-08-16. Assume the price of all products before any change is 10.\n",
    "\n",
    "```\n",
    "+------------+-------+\n",
    "| product_id | price |\n",
    "+------------+-------+\n",
    "| 2          | 50    |\n",
    "| 1          | 35    |\n",
    "| 3          | 10    |\n",
    "+------------+-------+\n",
    "```\n"
   ]
  },
  {
   "cell_type": "code",
   "execution_count": null,
   "metadata": {
    "vscode": {
     "languageId": "sql"
    }
   },
   "outputs": [],
   "source": [
    "%%sql \n"
   ]
  }
 ],
 "metadata": {
  "kernelspec": {
   "display_name": "env",
   "language": "python",
   "name": "python3"
  },
  "language_info": {
   "codemirror_mode": {
    "name": "ipython",
    "version": 3
   },
   "file_extension": ".py",
   "mimetype": "text/x-python",
   "name": "python",
   "nbconvert_exporter": "python",
   "pygments_lexer": "ipython3",
   "version": "3.11.2"
  },
  "orig_nbformat": 4
 },
 "nbformat": 4,
 "nbformat_minor": 2
}
