{
 "cells": [
  {
   "cell_type": "code",
   "execution_count": 1,
   "metadata": {},
   "outputs": [
    {
     "name": "stdout",
     "output_type": "stream",
     "text": [
      "Successfully connected to leetcode50 database.\n"
     ]
    }
   ],
   "source": [
    "%run helper/setup_notebook.ipynb import display_table"
   ]
  },
  {
   "cell_type": "code",
   "execution_count": 3,
   "metadata": {},
   "outputs": [
    {
     "name": "stdout",
     "output_type": "stream",
     "text": [
      "+------------+--------------+\n",
      "| product_id | product_name |\n",
      "+------------+--------------+\n",
      "|    100     |    Nokia     |\n",
      "|    200     |    Apple     |\n",
      "|    300     |   Samsung    |\n",
      "+------------+--------------+\n",
      "+---------+------------+------+----------+-------+\n",
      "| sale_id | product_id | year | quantity | price |\n",
      "+---------+------------+------+----------+-------+\n",
      "|    1    |    100     | 2008 |    10    |  5000 |\n",
      "|    2    |    100     | 2009 |    12    |  5000 |\n",
      "|    7    |    200     | 2011 |    15    |  9000 |\n",
      "+---------+------------+------+----------+-------+\n"
     ]
    }
   ],
   "source": [
    "tables = ['Product', 'Sales']\n",
    "for table in tables:\n",
    "    display_table(table)"
   ]
  },
  {
   "attachments": {},
   "cell_type": "markdown",
   "metadata": {},
   "source": [
    "### Write an SQL query that selects the product id, year, quantity, and price for the first year of every product sold.\n",
    "```\n",
    "+------------+------------+----------+-------+\n",
    "| product_id | first_year | quantity | price |\n",
    "+------------+------------+----------+-------+ \n",
    "| 100        | 2008       | 10       | 5000  |\n",
    "| 200        | 2011       | 15       | 9000  |\n",
    "+------------+------------+----------+-------+\n",
    "```"
   ]
  },
  {
   "cell_type": "code",
   "execution_count": 12,
   "metadata": {
    "vscode": {
     "languageId": "sql"
    }
   },
   "outputs": [
    {
     "data": {
      "text/html": [
       "<table>\n",
       "    <thead>\n",
       "        <tr>\n",
       "            <th>product_id</th>\n",
       "            <th>first_year</th>\n",
       "            <th>quantity</th>\n",
       "            <th>price</th>\n",
       "        </tr>\n",
       "    </thead>\n",
       "    <tbody>\n",
       "        <tr>\n",
       "            <td>100</td>\n",
       "            <td>2008</td>\n",
       "            <td>10</td>\n",
       "            <td>5000</td>\n",
       "        </tr>\n",
       "        <tr>\n",
       "            <td>200</td>\n",
       "            <td>2011</td>\n",
       "            <td>15</td>\n",
       "            <td>9000</td>\n",
       "        </tr>\n",
       "    </tbody>\n",
       "</table>"
      ],
      "text/plain": [
       "[(100, 2008, 10, 5000), (200, 2011, 15, 9000)]"
      ]
     },
     "execution_count": 12,
     "metadata": {},
     "output_type": "execute_result"
    }
   ],
   "source": [
    "%%sql \n",
    "\n",
    "SELECT \n",
    "    p.product_id,\n",
    "    s.year AS first_year,\n",
    "    s.quantity,\n",
    "    s.price \n",
    "FROM Product p\n",
    "RIGHT JOIN Sales s ON p.product_id = s.product_id\n",
    "WHERE (p.product_id,s.year) IN (\n",
    "    SELECT product_id,MIN(year) \n",
    "    FROM Sales \n",
    "    GROUP BY product_id)"
   ]
  }
 ],
 "metadata": {
  "kernelspec": {
   "display_name": "env",
   "language": "python",
   "name": "python3"
  },
  "language_info": {
   "codemirror_mode": {
    "name": "ipython",
    "version": 3
   },
   "file_extension": ".py",
   "mimetype": "text/x-python",
   "name": "python",
   "nbconvert_exporter": "python",
   "pygments_lexer": "ipython3",
   "version": "3.11.2"
  },
  "orig_nbformat": 4
 },
 "nbformat": 4,
 "nbformat_minor": 2
}
