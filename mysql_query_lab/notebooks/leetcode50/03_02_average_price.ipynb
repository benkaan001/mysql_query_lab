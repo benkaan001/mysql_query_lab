{
 "cells": [
  {
   "cell_type": "code",
   "execution_count": 1,
   "metadata": {},
   "outputs": [
    {
     "name": "stdout",
     "output_type": "stream",
     "text": [
      "Successfully connected to leetcode50 database.\n"
     ]
    }
   ],
   "source": [
    "%run helper/setup_notebook.ipynb import display table"
   ]
  },
  {
   "cell_type": "code",
   "execution_count": 2,
   "metadata": {
    "vscode": {
     "languageId": "sql"
    }
   },
   "outputs": [
    {
     "name": "stdout",
     "output_type": "stream",
     "text": [
      "+------------+------------+------------+-------+\n",
      "| product_id | start_date |  end_date  | price |\n",
      "+------------+------------+------------+-------+\n",
      "|     1      | 2019-02-17 | 2019-02-28 |   5   |\n",
      "|     1      | 2019-03-01 | 2019-03-22 |   20  |\n",
      "|     2      | 2019-02-01 | 2019-02-20 |   15  |\n",
      "|     2      | 2019-02-21 | 2019-03-31 |   30  |\n",
      "+------------+------------+------------+-------+\n",
      "+------------+---------------+-------+\n",
      "| product_id | purchase_date | units |\n",
      "+------------+---------------+-------+\n",
      "|     1      |   2019-02-25  |  100  |\n",
      "|     1      |   2019-03-01  |   15  |\n",
      "|     2      |   2019-02-10  |  200  |\n",
      "|     2      |   2019-03-22  |   30  |\n",
      "+------------+---------------+-------+\n"
     ]
    }
   ],
   "source": [
    "tables = ['Prices', 'UnitsSold']\n",
    "for table in tables:\n",
    "    display_table(table)"
   ]
  },
  {
   "attachments": {},
   "cell_type": "markdown",
   "metadata": {},
   "source": [
    "### Write an SQL query to find the average selling price for each product. average_price should be rounded to 2 decimal places.\n",
    "\n",
    "```\n",
    "+------------+---------------+\n",
    "| product_id | average_price |\n",
    "+------------+---------------+\n",
    "| 1          | 6.96          |\n",
    "| 2          | 16.96         |\n",
    "+------------+---------------+\n",
    "Explanation: \n",
    "Average selling price = Total Price of Product / Number of products sold.\n",
    "Average selling price for product 1 = ((100 * 5) + (15 * 20)) / 115 = 6.96\n",
    "Average selling price for product 2 = ((200 * 15) + (30 * 30)) / 230 = 16.96\n",
    "```"
   ]
  },
  {
   "cell_type": "code",
   "execution_count": 49,
   "metadata": {
    "vscode": {
     "languageId": "sql"
    }
   },
   "outputs": [
    {
     "data": {
      "text/html": [
       "<table>\n",
       "    <thead>\n",
       "        <tr>\n",
       "            <th>product_id</th>\n",
       "            <th>average_price</th>\n",
       "        </tr>\n",
       "    </thead>\n",
       "    <tbody>\n",
       "        <tr>\n",
       "            <td>1</td>\n",
       "            <td>6.96</td>\n",
       "        </tr>\n",
       "        <tr>\n",
       "            <td>2</td>\n",
       "            <td>16.96</td>\n",
       "        </tr>\n",
       "    </tbody>\n",
       "</table>"
      ],
      "text/plain": [
       "[(1, Decimal('6.96')), (2, Decimal('16.96'))]"
      ]
     },
     "execution_count": 49,
     "metadata": {},
     "output_type": "execute_result"
    }
   ],
   "source": [
    "%%sql \n",
    "\n",
    "SELECT \n",
    "    p.product_id, \n",
    "    ROUND((AVG(price * units) / avg(units)), 2) AS average_price\n",
    "FROM prices p \n",
    "JOIN UnitsSold u ON u.product_id = p.product_id\n",
    "WHERE purchase_date BETWEEN start_date AND end_date\n",
    "GROUP BY product_id "
   ]
  }
 ],
 "metadata": {
  "kernelspec": {
   "display_name": "env",
   "language": "python",
   "name": "python3"
  },
  "language_info": {
   "codemirror_mode": {
    "name": "ipython",
    "version": 3
   },
   "file_extension": ".py",
   "mimetype": "text/x-python",
   "name": "python",
   "nbconvert_exporter": "python",
   "pygments_lexer": "ipython3",
   "version": "3.11.2"
  },
  "orig_nbformat": 4
 },
 "nbformat": 4,
 "nbformat_minor": 2
}
