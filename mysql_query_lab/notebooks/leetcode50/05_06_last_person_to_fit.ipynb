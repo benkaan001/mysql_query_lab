{
 "cells": [
  {
   "cell_type": "code",
   "execution_count": 1,
   "metadata": {},
   "outputs": [
    {
     "name": "stdout",
     "output_type": "stream",
     "text": [
      "Successfully connected to leetcode50 database.\n"
     ]
    }
   ],
   "source": [
    "%run helper/setup_notebook.ipynb import display_table"
   ]
  },
  {
   "cell_type": "code",
   "execution_count": 2,
   "metadata": {},
   "outputs": [
    {
     "name": "stdout",
     "output_type": "stream",
     "text": [
      "+-----------+-------------+--------+------+\n",
      "| person_id | person_name | weight | turn |\n",
      "+-----------+-------------+--------+------+\n",
      "|     5     |    Alice    |  250   |  1   |\n",
      "|     4     |     Bob     |  175   |  5   |\n",
      "|     3     |     Alex    |  350   |  2   |\n",
      "|     6     |  John Cena  |  400   |  3   |\n",
      "|     1     |   Winston   |  500   |  6   |\n",
      "|     2     |    Marie    |  200   |  4   |\n",
      "+-----------+-------------+--------+------+\n"
     ]
    }
   ],
   "source": [
    "display_table('Queue')"
   ]
  },
  {
   "attachments": {},
   "cell_type": "markdown",
   "metadata": {},
   "source": [
    "### There is a queue of people waiting to board a bus. However, the bus has a weight limit of 1000 kilograms, so there may be some people who cannot board.\n",
    "\n",
    "Write an SQL query to find the person_name of the last person that can fit on the bus without exceeding the weight limit. The test cases are generated such that the first person does not exceed the weight limit.\n",
    "\n",
    "```\n",
    "+-------------+\n",
    "| person_name |\n",
    "+-------------+\n",
    "| John Cena   |\n",
    "+-------------+\n",
    "Explanation: The folowing table is ordered by the turn for simplicity.\n",
    "+------+----+-----------+--------+--------------+\n",
    "| Turn | ID | Name      | Weight | Total Weight |\n",
    "+------+----+-----------+--------+--------------+\n",
    "| 1    | 5  | Alice     | 250    | 250          |\n",
    "| 2    | 3  | Alex      | 350    | 600          |\n",
    "| 3    | 6  | John Cena | 400    | 1000         | (last person to board)\n",
    "| 4    | 2  | Marie     | 200    | 1200         | (cannot board)\n",
    "| 5    | 4  | Bob       | 175    | ___          |\n",
    "| 6    | 1  | Winston   | 500    | ___          |\n",
    "+------+----+-----------+--------+--------------+\n",
    "```\n"
   ]
  },
  {
   "cell_type": "code",
   "execution_count": 27,
   "metadata": {
    "vscode": {
     "languageId": "sql"
    }
   },
   "outputs": [
    {
     "data": {
      "text/html": [
       "<table>\n",
       "    <thead>\n",
       "        <tr>\n",
       "            <th>weight</th>\n",
       "            <th>@total_weight</th>\n",
       "            <th>weight_sum</th>\n",
       "        </tr>\n",
       "    </thead>\n",
       "    <tbody>\n",
       "        <tr>\n",
       "            <td>250</td>\n",
       "            <td>0</td>\n",
       "            <td>250</td>\n",
       "        </tr>\n",
       "        <tr>\n",
       "            <td>350</td>\n",
       "            <td>250</td>\n",
       "            <td>600</td>\n",
       "        </tr>\n",
       "        <tr>\n",
       "            <td>400</td>\n",
       "            <td>600</td>\n",
       "            <td>1000</td>\n",
       "        </tr>\n",
       "        <tr>\n",
       "            <td>200</td>\n",
       "            <td>1000</td>\n",
       "            <td>1200</td>\n",
       "        </tr>\n",
       "        <tr>\n",
       "            <td>175</td>\n",
       "            <td>1200</td>\n",
       "            <td>1375</td>\n",
       "        </tr>\n",
       "        <tr>\n",
       "            <td>500</td>\n",
       "            <td>1375</td>\n",
       "            <td>1875</td>\n",
       "        </tr>\n",
       "    </tbody>\n",
       "</table>"
      ],
      "text/plain": [
       "[(250, 0, 250),\n",
       " (350, 250, 600),\n",
       " (400, 600, 1000),\n",
       " (200, 1000, 1200),\n",
       " (175, 1200, 1375),\n",
       " (500, 1375, 1875)]"
      ]
     },
     "execution_count": 27,
     "metadata": {},
     "output_type": "execute_result"
    }
   ],
   "source": [
    "%%sql \n",
    "\n",
    "SET @total_weight := 0;\n",
    "\n",
    "SELECT \n",
    "    weight,\n",
    "    @total_weight,\n",
    "    (@total_weight := @total_weight + weight) AS weight_sum\n",
    "FROM Queue \n",
    "ORDER BY turn"
   ]
  },
  {
   "cell_type": "code",
   "execution_count": 34,
   "metadata": {
    "vscode": {
     "languageId": "sql"
    }
   },
   "outputs": [
    {
     "data": {
      "text/html": [
       "<table>\n",
       "    <thead>\n",
       "        <tr>\n",
       "            <th>person_name</th>\n",
       "            <th>weight_sum</th>\n",
       "        </tr>\n",
       "    </thead>\n",
       "    <tbody>\n",
       "        <tr>\n",
       "            <td>Alice</td>\n",
       "            <td>250</td>\n",
       "        </tr>\n",
       "        <tr>\n",
       "            <td>Alex</td>\n",
       "            <td>600</td>\n",
       "        </tr>\n",
       "        <tr>\n",
       "            <td>John Cena</td>\n",
       "            <td>1000</td>\n",
       "        </tr>\n",
       "    </tbody>\n",
       "</table>"
      ],
      "text/plain": [
       "[('Alice', 250), ('Alex', 600), ('John Cena', 1000)]"
      ]
     },
     "execution_count": 34,
     "metadata": {},
     "output_type": "execute_result"
    }
   ],
   "source": [
    "%%sql \n",
    "\n",
    "SET @total_weight := 0;\n",
    "\n",
    "SELECT \n",
    "    person_name,\n",
    "    weight_sum\n",
    "FROM (\n",
    "    SELECT\n",
    "        person_id,\n",
    "        person_name,\n",
    "        (@total_weight := @total_weight + weight) AS weight_sum\n",
    "    FROM Queue\n",
    "    ORDER BY turn\n",
    ")AS inner_table\n",
    "WHERE inner_table.weight_sum <= 1000"
   ]
  },
  {
   "cell_type": "code",
   "execution_count": 39,
   "metadata": {
    "vscode": {
     "languageId": "sql"
    }
   },
   "outputs": [
    {
     "data": {
      "text/html": [
       "<table>\n",
       "    <thead>\n",
       "        <tr>\n",
       "            <th>person_name</th>\n",
       "        </tr>\n",
       "    </thead>\n",
       "    <tbody>\n",
       "        <tr>\n",
       "            <td>John Cena</td>\n",
       "        </tr>\n",
       "        <tr>\n",
       "            <td>Alex</td>\n",
       "        </tr>\n",
       "        <tr>\n",
       "            <td>Alice</td>\n",
       "        </tr>\n",
       "    </tbody>\n",
       "</table>"
      ],
      "text/plain": [
       "[('John Cena',), ('Alex',), ('Alice',)]"
      ]
     },
     "execution_count": 39,
     "metadata": {},
     "output_type": "execute_result"
    }
   ],
   "source": [
    "%%sql \n",
    "\n",
    "SET @total_weight := 0;\n",
    "\n",
    "SELECT \n",
    "    person_name\n",
    "FROM (\n",
    "    SELECT\n",
    "        person_id,\n",
    "        person_name,\n",
    "        (@total_weight := @total_weight + weight) AS weight_sum,\n",
    "        turn\n",
    "    FROM Queue\n",
    "    ORDER BY turn\n",
    ") AS inner_table\n",
    "WHERE weight_sum <= 1000\n",
    "ORDER BY turn DESC;"
   ]
  },
  {
   "cell_type": "code",
   "execution_count": 40,
   "metadata": {
    "vscode": {
     "languageId": "sql"
    }
   },
   "outputs": [
    {
     "data": {
      "text/html": [
       "<table>\n",
       "    <thead>\n",
       "        <tr>\n",
       "            <th>person_name</th>\n",
       "        </tr>\n",
       "    </thead>\n",
       "    <tbody>\n",
       "        <tr>\n",
       "            <td>John Cena</td>\n",
       "        </tr>\n",
       "    </tbody>\n",
       "</table>"
      ],
      "text/plain": [
       "[('John Cena',)]"
      ]
     },
     "execution_count": 40,
     "metadata": {},
     "output_type": "execute_result"
    }
   ],
   "source": [
    "%%sql \n",
    "\n",
    "SET @total_weight := 0;\n",
    "\n",
    "SELECT \n",
    "    person_name\n",
    "FROM (\n",
    "    SELECT\n",
    "        person_id,\n",
    "        person_name,\n",
    "        (@total_weight := @total_weight + weight) AS weight_sum,\n",
    "        turn\n",
    "    FROM Queue\n",
    "    ORDER BY turn\n",
    ") AS inner_table\n",
    "WHERE weight_sum <= 1000\n",
    "ORDER BY turn DESC\n",
    "LIMIT 1;"
   ]
  },
  {
   "cell_type": "markdown",
   "metadata": {},
   "source": [
    "# Using Pandas"
   ]
  },
  {
   "cell_type": "code",
   "execution_count": 11,
   "metadata": {},
   "outputs": [
    {
     "data": {
      "text/html": [
       "<div>\n",
       "<style scoped>\n",
       "    .dataframe tbody tr th:only-of-type {\n",
       "        vertical-align: middle;\n",
       "    }\n",
       "\n",
       "    .dataframe tbody tr th {\n",
       "        vertical-align: top;\n",
       "    }\n",
       "\n",
       "    .dataframe thead th {\n",
       "        text-align: right;\n",
       "    }\n",
       "</style>\n",
       "<table border=\"1\" class=\"dataframe\">\n",
       "  <thead>\n",
       "    <tr style=\"text-align: right;\">\n",
       "      <th></th>\n",
       "      <th>person_id</th>\n",
       "      <th>person_name</th>\n",
       "      <th>weight</th>\n",
       "      <th>turn</th>\n",
       "    </tr>\n",
       "  </thead>\n",
       "  <tbody>\n",
       "    <tr>\n",
       "      <th>0</th>\n",
       "      <td>5</td>\n",
       "      <td>Alice</td>\n",
       "      <td>250</td>\n",
       "      <td>1</td>\n",
       "    </tr>\n",
       "    <tr>\n",
       "      <th>1</th>\n",
       "      <td>4</td>\n",
       "      <td>Bob</td>\n",
       "      <td>175</td>\n",
       "      <td>5</td>\n",
       "    </tr>\n",
       "    <tr>\n",
       "      <th>2</th>\n",
       "      <td>3</td>\n",
       "      <td>Alex</td>\n",
       "      <td>350</td>\n",
       "      <td>2</td>\n",
       "    </tr>\n",
       "    <tr>\n",
       "      <th>3</th>\n",
       "      <td>6</td>\n",
       "      <td>John Cena</td>\n",
       "      <td>400</td>\n",
       "      <td>3</td>\n",
       "    </tr>\n",
       "    <tr>\n",
       "      <th>4</th>\n",
       "      <td>1</td>\n",
       "      <td>Winston</td>\n",
       "      <td>500</td>\n",
       "      <td>6</td>\n",
       "    </tr>\n",
       "    <tr>\n",
       "      <th>5</th>\n",
       "      <td>2</td>\n",
       "      <td>Marie</td>\n",
       "      <td>200</td>\n",
       "      <td>4</td>\n",
       "    </tr>\n",
       "  </tbody>\n",
       "</table>\n",
       "</div>"
      ],
      "text/plain": [
       "   person_id person_name  weight  turn\n",
       "0          5       Alice     250     1\n",
       "1          4         Bob     175     5\n",
       "2          3        Alex     350     2\n",
       "3          6   John Cena     400     3\n",
       "4          1     Winston     500     6\n",
       "5          2       Marie     200     4"
      ]
     },
     "metadata": {},
     "output_type": "display_data"
    }
   ],
   "source": [
    "queue_query = %sql SELECT * FROM Queue # type: ignore\n",
    "queue_df = queue_query.DataFrame()\n",
    "\n",
    "display(queue_df)"
   ]
  },
  {
   "cell_type": "code",
   "execution_count": 14,
   "metadata": {},
   "outputs": [
    {
     "data": {
      "text/html": [
       "<div>\n",
       "<style scoped>\n",
       "    .dataframe tbody tr th:only-of-type {\n",
       "        vertical-align: middle;\n",
       "    }\n",
       "\n",
       "    .dataframe tbody tr th {\n",
       "        vertical-align: top;\n",
       "    }\n",
       "\n",
       "    .dataframe thead th {\n",
       "        text-align: right;\n",
       "    }\n",
       "</style>\n",
       "<table border=\"1\" class=\"dataframe\">\n",
       "  <thead>\n",
       "    <tr style=\"text-align: right;\">\n",
       "      <th></th>\n",
       "      <th>person_id</th>\n",
       "      <th>person_name</th>\n",
       "      <th>weight</th>\n",
       "      <th>turn</th>\n",
       "    </tr>\n",
       "  </thead>\n",
       "  <tbody>\n",
       "    <tr>\n",
       "      <th>0</th>\n",
       "      <td>5</td>\n",
       "      <td>Alice</td>\n",
       "      <td>250</td>\n",
       "      <td>1</td>\n",
       "    </tr>\n",
       "    <tr>\n",
       "      <th>2</th>\n",
       "      <td>3</td>\n",
       "      <td>Alex</td>\n",
       "      <td>350</td>\n",
       "      <td>2</td>\n",
       "    </tr>\n",
       "    <tr>\n",
       "      <th>3</th>\n",
       "      <td>6</td>\n",
       "      <td>John Cena</td>\n",
       "      <td>400</td>\n",
       "      <td>3</td>\n",
       "    </tr>\n",
       "    <tr>\n",
       "      <th>5</th>\n",
       "      <td>2</td>\n",
       "      <td>Marie</td>\n",
       "      <td>200</td>\n",
       "      <td>4</td>\n",
       "    </tr>\n",
       "    <tr>\n",
       "      <th>1</th>\n",
       "      <td>4</td>\n",
       "      <td>Bob</td>\n",
       "      <td>175</td>\n",
       "      <td>5</td>\n",
       "    </tr>\n",
       "    <tr>\n",
       "      <th>4</th>\n",
       "      <td>1</td>\n",
       "      <td>Winston</td>\n",
       "      <td>500</td>\n",
       "      <td>6</td>\n",
       "    </tr>\n",
       "  </tbody>\n",
       "</table>\n",
       "</div>"
      ],
      "text/plain": [
       "   person_id person_name  weight  turn\n",
       "0          5       Alice     250     1\n",
       "2          3        Alex     350     2\n",
       "3          6   John Cena     400     3\n",
       "5          2       Marie     200     4\n",
       "1          4         Bob     175     5\n",
       "4          1     Winston     500     6"
      ]
     },
     "execution_count": 14,
     "metadata": {},
     "output_type": "execute_result"
    }
   ],
   "source": [
    "queue_df = queue_df.sort_values(by='turn')\n",
    "queue_df"
   ]
  },
  {
   "cell_type": "code",
   "execution_count": 22,
   "metadata": {},
   "outputs": [
    {
     "data": {
      "text/plain": [
       "0     250\n",
       "2     600\n",
       "3    1000\n",
       "5    1200\n",
       "1    1375\n",
       "4    1875\n",
       "Name: weight, dtype: int64"
      ]
     },
     "execution_count": 22,
     "metadata": {},
     "output_type": "execute_result"
    }
   ],
   "source": [
    "queue_df['weight'].cumsum()"
   ]
  },
  {
   "cell_type": "code",
   "execution_count": 43,
   "metadata": {},
   "outputs": [
    {
     "data": {
      "text/html": [
       "<div>\n",
       "<style scoped>\n",
       "    .dataframe tbody tr th:only-of-type {\n",
       "        vertical-align: middle;\n",
       "    }\n",
       "\n",
       "    .dataframe tbody tr th {\n",
       "        vertical-align: top;\n",
       "    }\n",
       "\n",
       "    .dataframe thead th {\n",
       "        text-align: right;\n",
       "    }\n",
       "</style>\n",
       "<table border=\"1\" class=\"dataframe\">\n",
       "  <thead>\n",
       "    <tr style=\"text-align: right;\">\n",
       "      <th></th>\n",
       "      <th>person_id</th>\n",
       "      <th>person_name</th>\n",
       "      <th>weight</th>\n",
       "      <th>turn</th>\n",
       "      <th>previous_weight</th>\n",
       "      <th>weight_sum</th>\n",
       "    </tr>\n",
       "  </thead>\n",
       "  <tbody>\n",
       "    <tr>\n",
       "      <th>0</th>\n",
       "      <td>5</td>\n",
       "      <td>Alice</td>\n",
       "      <td>250</td>\n",
       "      <td>1</td>\n",
       "      <td>NaN</td>\n",
       "      <td>250</td>\n",
       "    </tr>\n",
       "    <tr>\n",
       "      <th>2</th>\n",
       "      <td>3</td>\n",
       "      <td>Alex</td>\n",
       "      <td>350</td>\n",
       "      <td>2</td>\n",
       "      <td>250.0</td>\n",
       "      <td>600</td>\n",
       "    </tr>\n",
       "    <tr>\n",
       "      <th>3</th>\n",
       "      <td>6</td>\n",
       "      <td>John Cena</td>\n",
       "      <td>400</td>\n",
       "      <td>3</td>\n",
       "      <td>350.0</td>\n",
       "      <td>1000</td>\n",
       "    </tr>\n",
       "    <tr>\n",
       "      <th>5</th>\n",
       "      <td>2</td>\n",
       "      <td>Marie</td>\n",
       "      <td>200</td>\n",
       "      <td>4</td>\n",
       "      <td>400.0</td>\n",
       "      <td>1200</td>\n",
       "    </tr>\n",
       "    <tr>\n",
       "      <th>1</th>\n",
       "      <td>4</td>\n",
       "      <td>Bob</td>\n",
       "      <td>175</td>\n",
       "      <td>5</td>\n",
       "      <td>200.0</td>\n",
       "      <td>1375</td>\n",
       "    </tr>\n",
       "    <tr>\n",
       "      <th>4</th>\n",
       "      <td>1</td>\n",
       "      <td>Winston</td>\n",
       "      <td>500</td>\n",
       "      <td>6</td>\n",
       "      <td>175.0</td>\n",
       "      <td>1875</td>\n",
       "    </tr>\n",
       "  </tbody>\n",
       "</table>\n",
       "</div>"
      ],
      "text/plain": [
       "   person_id person_name  weight  turn  previous_weight  weight_sum\n",
       "0          5       Alice     250     1              NaN         250\n",
       "2          3        Alex     350     2            250.0         600\n",
       "3          6   John Cena     400     3            350.0        1000\n",
       "5          2       Marie     200     4            400.0        1200\n",
       "1          4         Bob     175     5            200.0        1375\n",
       "4          1     Winston     500     6            175.0        1875"
      ]
     },
     "execution_count": 43,
     "metadata": {},
     "output_type": "execute_result"
    }
   ],
   "source": [
    "queue_df['weight_sum'] = queue_df['weight'].cumsum()\n",
    "queue_df"
   ]
  },
  {
   "cell_type": "code",
   "execution_count": 44,
   "metadata": {},
   "outputs": [
    {
     "data": {
      "text/html": [
       "<div>\n",
       "<style scoped>\n",
       "    .dataframe tbody tr th:only-of-type {\n",
       "        vertical-align: middle;\n",
       "    }\n",
       "\n",
       "    .dataframe tbody tr th {\n",
       "        vertical-align: top;\n",
       "    }\n",
       "\n",
       "    .dataframe thead th {\n",
       "        text-align: right;\n",
       "    }\n",
       "</style>\n",
       "<table border=\"1\" class=\"dataframe\">\n",
       "  <thead>\n",
       "    <tr style=\"text-align: right;\">\n",
       "      <th></th>\n",
       "      <th>person_id</th>\n",
       "      <th>person_name</th>\n",
       "      <th>weight</th>\n",
       "      <th>turn</th>\n",
       "      <th>previous_weight</th>\n",
       "      <th>weight_sum</th>\n",
       "    </tr>\n",
       "  </thead>\n",
       "  <tbody>\n",
       "    <tr>\n",
       "      <th>0</th>\n",
       "      <td>5</td>\n",
       "      <td>Alice</td>\n",
       "      <td>250</td>\n",
       "      <td>1</td>\n",
       "      <td>NaN</td>\n",
       "      <td>250</td>\n",
       "    </tr>\n",
       "    <tr>\n",
       "      <th>2</th>\n",
       "      <td>3</td>\n",
       "      <td>Alex</td>\n",
       "      <td>350</td>\n",
       "      <td>2</td>\n",
       "      <td>250.0</td>\n",
       "      <td>600</td>\n",
       "    </tr>\n",
       "    <tr>\n",
       "      <th>3</th>\n",
       "      <td>6</td>\n",
       "      <td>John Cena</td>\n",
       "      <td>400</td>\n",
       "      <td>3</td>\n",
       "      <td>350.0</td>\n",
       "      <td>1000</td>\n",
       "    </tr>\n",
       "  </tbody>\n",
       "</table>\n",
       "</div>"
      ],
      "text/plain": [
       "   person_id person_name  weight  turn  previous_weight  weight_sum\n",
       "0          5       Alice     250     1              NaN         250\n",
       "2          3        Alex     350     2            250.0         600\n",
       "3          6   John Cena     400     3            350.0        1000"
      ]
     },
     "execution_count": 44,
     "metadata": {},
     "output_type": "execute_result"
    }
   ],
   "source": [
    "queue_df.query(\"weight_sum <= 1000\")"
   ]
  },
  {
   "cell_type": "code",
   "execution_count": 55,
   "metadata": {},
   "outputs": [
    {
     "name": "stdout",
     "output_type": "stream",
     "text": [
      "Help on method idxmax in module pandas.core.frame:\n",
      "\n",
      "idxmax(axis: 'Axis' = 0, skipna: 'bool' = True, numeric_only: 'bool' = False) -> 'Series' method of pandas.core.frame.DataFrame instance\n",
      "    Return index of first occurrence of maximum over requested axis.\n",
      "    \n",
      "    NA/null values are excluded.\n",
      "    \n",
      "    Parameters\n",
      "    ----------\n",
      "    axis : {0 or 'index', 1 or 'columns'}, default 0\n",
      "        The axis to use. 0 or 'index' for row-wise, 1 or 'columns' for column-wise.\n",
      "    skipna : bool, default True\n",
      "        Exclude NA/null values. If an entire row/column is NA, the result\n",
      "        will be NA.\n",
      "    numeric_only : bool, default False\n",
      "        Include only `float`, `int` or `boolean` data.\n",
      "    \n",
      "        .. versionadded:: 1.5.0\n",
      "    \n",
      "    Returns\n",
      "    -------\n",
      "    Series\n",
      "        Indexes of maxima along the specified axis.\n",
      "    \n",
      "    Raises\n",
      "    ------\n",
      "    ValueError\n",
      "        * If the row/column is empty\n",
      "    \n",
      "    See Also\n",
      "    --------\n",
      "    Series.idxmax : Return index of the maximum element.\n",
      "    \n",
      "    Notes\n",
      "    -----\n",
      "    This method is the DataFrame version of ``ndarray.argmax``.\n",
      "    \n",
      "    Examples\n",
      "    --------\n",
      "    Consider a dataset containing food consumption in Argentina.\n",
      "    \n",
      "    >>> df = pd.DataFrame({'consumption': [10.51, 103.11, 55.48],\n",
      "    ...                     'co2_emissions': [37.2, 19.66, 1712]},\n",
      "    ...                   index=['Pork', 'Wheat Products', 'Beef'])\n",
      "    \n",
      "    >>> df\n",
      "                    consumption  co2_emissions\n",
      "    Pork                  10.51         37.20\n",
      "    Wheat Products       103.11         19.66\n",
      "    Beef                  55.48       1712.00\n",
      "    \n",
      "    By default, it returns the index for the maximum value in each column.\n",
      "    \n",
      "    >>> df.idxmax()\n",
      "    consumption     Wheat Products\n",
      "    co2_emissions             Beef\n",
      "    dtype: object\n",
      "    \n",
      "    To return the index for the maximum value in each row, use ``axis=\"columns\"``.\n",
      "    \n",
      "    >>> df.idxmax(axis=\"columns\")\n",
      "    Pork              co2_emissions\n",
      "    Wheat Products     consumption\n",
      "    Beef              co2_emissions\n",
      "    dtype: object\n",
      "\n"
     ]
    }
   ],
   "source": [
    "help(queue_df.idxmax)"
   ]
  },
  {
   "cell_type": "code",
   "execution_count": 65,
   "metadata": {},
   "outputs": [
    {
     "data": {
      "text/plain": [
       "3"
      ]
     },
     "execution_count": 65,
     "metadata": {},
     "output_type": "execute_result"
    }
   ],
   "source": [
    "max_index = queue_df.query(\"weight_sum <= 1000\").index.max()\n",
    "max_index"
   ]
  },
  {
   "cell_type": "code",
   "execution_count": 66,
   "metadata": {},
   "outputs": [
    {
     "data": {
      "text/html": [
       "<div>\n",
       "<style scoped>\n",
       "    .dataframe tbody tr th:only-of-type {\n",
       "        vertical-align: middle;\n",
       "    }\n",
       "\n",
       "    .dataframe tbody tr th {\n",
       "        vertical-align: top;\n",
       "    }\n",
       "\n",
       "    .dataframe thead th {\n",
       "        text-align: right;\n",
       "    }\n",
       "</style>\n",
       "<table border=\"1\" class=\"dataframe\">\n",
       "  <thead>\n",
       "    <tr style=\"text-align: right;\">\n",
       "      <th></th>\n",
       "      <th>person_id</th>\n",
       "      <th>person_name</th>\n",
       "      <th>weight</th>\n",
       "      <th>turn</th>\n",
       "      <th>previous_weight</th>\n",
       "      <th>weight_sum</th>\n",
       "    </tr>\n",
       "  </thead>\n",
       "  <tbody>\n",
       "    <tr>\n",
       "      <th>3</th>\n",
       "      <td>6</td>\n",
       "      <td>John Cena</td>\n",
       "      <td>400</td>\n",
       "      <td>3</td>\n",
       "      <td>350.0</td>\n",
       "      <td>1000</td>\n",
       "    </tr>\n",
       "  </tbody>\n",
       "</table>\n",
       "</div>"
      ],
      "text/plain": [
       "   person_id person_name  weight  turn  previous_weight  weight_sum\n",
       "3          6   John Cena     400     3            350.0        1000"
      ]
     },
     "execution_count": 66,
     "metadata": {},
     "output_type": "execute_result"
    }
   ],
   "source": [
    "queue_df.query(\"index == @max_index\")"
   ]
  },
  {
   "cell_type": "code",
   "execution_count": 67,
   "metadata": {},
   "outputs": [
    {
     "data": {
      "text/html": [
       "<div>\n",
       "<style scoped>\n",
       "    .dataframe tbody tr th:only-of-type {\n",
       "        vertical-align: middle;\n",
       "    }\n",
       "\n",
       "    .dataframe tbody tr th {\n",
       "        vertical-align: top;\n",
       "    }\n",
       "\n",
       "    .dataframe thead th {\n",
       "        text-align: right;\n",
       "    }\n",
       "</style>\n",
       "<table border=\"1\" class=\"dataframe\">\n",
       "  <thead>\n",
       "    <tr style=\"text-align: right;\">\n",
       "      <th></th>\n",
       "      <th>person_name</th>\n",
       "    </tr>\n",
       "  </thead>\n",
       "  <tbody>\n",
       "    <tr>\n",
       "      <th>3</th>\n",
       "      <td>John Cena</td>\n",
       "    </tr>\n",
       "  </tbody>\n",
       "</table>\n",
       "</div>"
      ],
      "text/plain": [
       "  person_name\n",
       "3   John Cena"
      ]
     },
     "execution_count": 67,
     "metadata": {},
     "output_type": "execute_result"
    }
   ],
   "source": [
    "queue_df.query(\"index == @max_index\")[['person_name']]"
   ]
  }
 ],
 "metadata": {
  "kernelspec": {
   "display_name": "env",
   "language": "python",
   "name": "python3"
  },
  "language_info": {
   "codemirror_mode": {
    "name": "ipython",
    "version": 3
   },
   "file_extension": ".py",
   "mimetype": "text/x-python",
   "name": "python",
   "nbconvert_exporter": "python",
   "pygments_lexer": "ipython3",
   "version": "3.11.2"
  },
  "orig_nbformat": 4
 },
 "nbformat": 4,
 "nbformat_minor": 2
}
