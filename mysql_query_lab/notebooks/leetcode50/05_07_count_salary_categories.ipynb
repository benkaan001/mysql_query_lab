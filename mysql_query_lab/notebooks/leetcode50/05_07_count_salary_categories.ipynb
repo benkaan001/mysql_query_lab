{
 "cells": [
  {
   "cell_type": "code",
   "execution_count": 1,
   "metadata": {},
   "outputs": [
    {
     "name": "stdout",
     "output_type": "stream",
     "text": [
      "Successfully connected to leetcode50 database.\n"
     ]
    }
   ],
   "source": [
    "%run helper/setup_notebook.ipynb import display_table"
   ]
  },
  {
   "cell_type": "code",
   "execution_count": 2,
   "metadata": {},
   "outputs": [
    {
     "name": "stdout",
     "output_type": "stream",
     "text": [
      "+------------+--------+\n",
      "| account_id | income |\n",
      "+------------+--------+\n",
      "|     3      | 108939 |\n",
      "|     2      | 12747  |\n",
      "|     8      | 87709  |\n",
      "|     6      | 91796  |\n",
      "+------------+--------+\n"
     ]
    }
   ],
   "source": [
    "display_table('Accounts')"
   ]
  },
  {
   "attachments": {},
   "cell_type": "markdown",
   "metadata": {},
   "source": [
    "### Calculate the number of bank accounts of each salary category. The salary categories are:\n",
    "\n",
    "- \"Low Salary\": All the salaries strictly less than $20000.\n",
    "- \"Average Salary\": All the salaries in the inclusive range [$20000, $50000].\n",
    "- \"High Salary\": All the salaries strictly greater than $50000.\n",
    "#### *The result table must contain all three categories. If there are no accounts in a category, then report 0.*\n",
    "\n",
    "```\n",
    "+----------------+----------------+\n",
    "| category       | accounts_count |\n",
    "+----------------+----------------+\n",
    "| Low Salary     | 1              |\n",
    "| Average Salary | 0              |\n",
    "| High Salary    | 3              |\n",
    "+----------------+----------------+\n",
    "Explanation: \n",
    "Low Salary: Account 2.\n",
    "Average Salary: No accounts.\n",
    "High Salary: Accounts 3, 6, and 8.\n",
    "```"
   ]
  },
  {
   "cell_type": "code",
   "execution_count": 11,
   "metadata": {
    "vscode": {
     "languageId": "sql"
    }
   },
   "outputs": [
    {
     "data": {
      "text/html": [
       "<table>\n",
       "    <thead>\n",
       "        <tr>\n",
       "            <th>category</th>\n",
       "        </tr>\n",
       "    </thead>\n",
       "    <tbody>\n",
       "        <tr>\n",
       "            <td>High Salary</td>\n",
       "        </tr>\n",
       "        <tr>\n",
       "            <td>Low Salary</td>\n",
       "        </tr>\n",
       "        <tr>\n",
       "            <td>High Salary</td>\n",
       "        </tr>\n",
       "        <tr>\n",
       "            <td>High Salary</td>\n",
       "        </tr>\n",
       "    </tbody>\n",
       "</table>"
      ],
      "text/plain": [
       "[('High Salary',), ('Low Salary',), ('High Salary',), ('High Salary',)]"
      ]
     },
     "execution_count": 11,
     "metadata": {},
     "output_type": "execute_result"
    }
   ],
   "source": [
    "%%sql \n",
    "\n",
    "SELECT \n",
    "    (CASE WHEN income < 20000 THEN 'Low Salary'\n",
    "    WHEN income >= 20000 AND INCOME < 50000 THEN 'Average Salary'\n",
    "    ELSE 'High Salary' END) AS category\n",
    "FROM Accounts"
   ]
  },
  {
   "cell_type": "code",
   "execution_count": 53,
   "metadata": {
    "vscode": {
     "languageId": "sql"
    }
   },
   "outputs": [
    {
     "data": {
      "text/html": [
       "<table>\n",
       "    <thead>\n",
       "        <tr>\n",
       "            <th>category</th>\n",
       "            <th>accounts_count</th>\n",
       "        </tr>\n",
       "    </thead>\n",
       "    <tbody>\n",
       "        <tr>\n",
       "            <td>High Salary</td>\n",
       "            <td>3</td>\n",
       "        </tr>\n",
       "        <tr>\n",
       "            <td>Low Salary</td>\n",
       "            <td>1</td>\n",
       "        </tr>\n",
       "    </tbody>\n",
       "</table>"
      ],
      "text/plain": [
       "[('High Salary', 3), ('Low Salary', 1)]"
      ]
     },
     "execution_count": 53,
     "metadata": {},
     "output_type": "execute_result"
    }
   ],
   "source": [
    "%%sql \n",
    "\n",
    "SELECT\n",
    "    category,\n",
    "    COUNT(category) AS accounts_count\n",
    "FROM (\n",
    "    SELECT \n",
    "        (CASE WHEN income < 20000 THEN 'Low Salary'\n",
    "        WHEN income >= 20000 AND income < 50000 THEN 'Average Salary'\n",
    "        ELSE 'High Salary' END) AS category\n",
    "    FROM Accounts\n",
    ") AS count_table\n",
    "GROUP BY category;\n"
   ]
  },
  {
   "cell_type": "code",
   "execution_count": 30,
   "metadata": {
    "vscode": {
     "languageId": "sql"
    }
   },
   "outputs": [
    {
     "data": {
      "text/html": [
       "<table>\n",
       "    <thead>\n",
       "        <tr>\n",
       "            <th>category</th>\n",
       "        </tr>\n",
       "    </thead>\n",
       "    <tbody>\n",
       "        <tr>\n",
       "            <td>Low Salary</td>\n",
       "        </tr>\n",
       "        <tr>\n",
       "            <td>Average Salary</td>\n",
       "        </tr>\n",
       "        <tr>\n",
       "            <td>High Salary</td>\n",
       "        </tr>\n",
       "    </tbody>\n",
       "</table>"
      ],
      "text/plain": [
       "[('Low Salary',), ('Average Salary',), ('High Salary',)]"
      ]
     },
     "execution_count": 30,
     "metadata": {},
     "output_type": "execute_result"
    }
   ],
   "source": [
    "%%sql \n",
    "\n",
    "SELECT 'Low Salary' AS category\n",
    "UNION \n",
    "SELECT 'Average Salary' AS category\n",
    "UNION\n",
    "SELECT 'High Salary' AS category"
   ]
  },
  {
   "cell_type": "code",
   "execution_count": 55,
   "metadata": {
    "vscode": {
     "languageId": "sql"
    }
   },
   "outputs": [
    {
     "data": {
      "text/html": [
       "<table>\n",
       "    <thead>\n",
       "        <tr>\n",
       "            <th>category</th>\n",
       "        </tr>\n",
       "    </thead>\n",
       "    <tbody>\n",
       "        <tr>\n",
       "            <td>Low Salary</td>\n",
       "        </tr>\n",
       "        <tr>\n",
       "            <td>Average Salary</td>\n",
       "        </tr>\n",
       "        <tr>\n",
       "            <td>High Salary</td>\n",
       "        </tr>\n",
       "    </tbody>\n",
       "</table>"
      ],
      "text/plain": [
       "[('Low Salary',), ('Average Salary',), ('High Salary',)]"
      ]
     },
     "execution_count": 55,
     "metadata": {},
     "output_type": "execute_result"
    }
   ],
   "source": [
    "%%sql \n",
    "\n",
    "SELECT \n",
    "    category \n",
    "FROM (\n",
    "    SELECT 'Low Salary' AS category\n",
    "    UNION \n",
    "    SELECT 'Average Salary' AS category\n",
    "    UNION\n",
    "    SELECT 'High Salary' AS category\n",
    ") AS definitions_table;"
   ]
  },
  {
   "cell_type": "code",
   "execution_count": 65,
   "metadata": {
    "vscode": {
     "languageId": "sql"
    }
   },
   "outputs": [
    {
     "data": {
      "text/html": [
       "<table>\n",
       "    <thead>\n",
       "        <tr>\n",
       "            <th>category</th>\n",
       "            <th>accounts_count</th>\n",
       "        </tr>\n",
       "    </thead>\n",
       "    <tbody>\n",
       "        <tr>\n",
       "            <td>Low Salary</td>\n",
       "            <td>1</td>\n",
       "        </tr>\n",
       "        <tr>\n",
       "            <td>Average Salary</td>\n",
       "            <td>None</td>\n",
       "        </tr>\n",
       "        <tr>\n",
       "            <td>High Salary</td>\n",
       "            <td>3</td>\n",
       "        </tr>\n",
       "    </tbody>\n",
       "</table>"
      ],
      "text/plain": [
       "[('Low Salary', 1), ('Average Salary', None), ('High Salary', 3)]"
      ]
     },
     "execution_count": 65,
     "metadata": {},
     "output_type": "execute_result"
    }
   ],
   "source": [
    "%%sql\n",
    "\n",
    "SELECT\n",
    "    category_table.category,\n",
    "    count_table.accounts_count\n",
    "FROM (\n",
    "    SELECT \n",
    "        category \n",
    "    FROM (\n",
    "        SELECT 'Low Salary' AS category\n",
    "        UNION \n",
    "        SELECT 'Average Salary' AS category\n",
    "        UNION\n",
    "        SELECT 'High Salary' AS category\n",
    "    ) AS t1\n",
    ") AS category_table\n",
    "LEFT JOIN (\n",
    "    SELECT\n",
    "    category,\n",
    "    COUNT(category) AS accounts_count\n",
    "    FROM (\n",
    "        SELECT \n",
    "            (CASE WHEN income < 20000 THEN 'Low Salary'\n",
    "            WHEN income >= 20000 AND income < 50000 THEN 'Average Salary'\n",
    "            ELSE 'High Salary' END) AS category\n",
    "        FROM Accounts\n",
    "    ) AS t2\n",
    "    GROUP BY category\n",
    ") AS count_table\n",
    "ON category_table.category = count_table.category"
   ]
  },
  {
   "cell_type": "code",
   "execution_count": 64,
   "metadata": {
    "vscode": {
     "languageId": "sql"
    }
   },
   "outputs": [
    {
     "data": {
      "text/html": [
       "<table>\n",
       "    <thead>\n",
       "        <tr>\n",
       "            <th>category</th>\n",
       "            <th>accounts_count</th>\n",
       "        </tr>\n",
       "    </thead>\n",
       "    <tbody>\n",
       "        <tr>\n",
       "            <td>Low Salary</td>\n",
       "            <td>1</td>\n",
       "        </tr>\n",
       "        <tr>\n",
       "            <td>Average Salary</td>\n",
       "            <td>0</td>\n",
       "        </tr>\n",
       "        <tr>\n",
       "            <td>High Salary</td>\n",
       "            <td>3</td>\n",
       "        </tr>\n",
       "    </tbody>\n",
       "</table>"
      ],
      "text/plain": [
       "[('Low Salary', 1), ('Average Salary', 0), ('High Salary', 3)]"
      ]
     },
     "execution_count": 64,
     "metadata": {},
     "output_type": "execute_result"
    }
   ],
   "source": [
    "%%sql\n",
    "\n",
    "SELECT\n",
    "    category_table.category,\n",
    "    IFNULL(count_table.accounts_count, 0) AS accounts_count\n",
    "FROM (\n",
    "    SELECT \n",
    "        category \n",
    "    FROM (\n",
    "        SELECT 'Low Salary' AS category\n",
    "        UNION \n",
    "        SELECT 'Average Salary' AS category\n",
    "        UNION\n",
    "        SELECT 'High Salary' AS category\n",
    "    ) AS t1\n",
    ") AS category_table\n",
    "LEFT JOIN (\n",
    "    SELECT\n",
    "    category,\n",
    "    COUNT(category) AS accounts_count\n",
    "    FROM (\n",
    "        SELECT \n",
    "            (CASE WHEN income < 20000 THEN 'Low Salary'\n",
    "            WHEN income >= 20000 AND income < 50000 THEN 'Average Salary'\n",
    "            ELSE 'High Salary' END) AS category\n",
    "        FROM Accounts\n",
    "    ) AS t2\n",
    "    GROUP BY category\n",
    ") AS count_table\n",
    "ON category_table.category = count_table.category"
   ]
  },
  {
   "cell_type": "markdown",
   "metadata": {},
   "source": [
    "# Using CTE"
   ]
  },
  {
   "cell_type": "code",
   "execution_count": 68,
   "metadata": {
    "vscode": {
     "languageId": "sql"
    }
   },
   "outputs": [
    {
     "data": {
      "text/html": [
       "<table>\n",
       "    <thead>\n",
       "        <tr>\n",
       "            <th>category</th>\n",
       "            <th>accounts_count</th>\n",
       "        </tr>\n",
       "    </thead>\n",
       "    <tbody>\n",
       "        <tr>\n",
       "            <td>Low Salary</td>\n",
       "            <td>1</td>\n",
       "        </tr>\n",
       "        <tr>\n",
       "            <td>Average Salary</td>\n",
       "            <td>None</td>\n",
       "        </tr>\n",
       "        <tr>\n",
       "            <td>High Salary</td>\n",
       "            <td>3</td>\n",
       "        </tr>\n",
       "    </tbody>\n",
       "</table>"
      ],
      "text/plain": [
       "[('Low Salary', 1), ('Average Salary', None), ('High Salary', 3)]"
      ]
     },
     "execution_count": 68,
     "metadata": {},
     "output_type": "execute_result"
    }
   ],
   "source": [
    "%%sql \n",
    "\n",
    "WITH category_cte AS(\n",
    "    SELECT \n",
    "        category\n",
    "    FROM (\n",
    "        SELECT 'Low Salary' AS category\n",
    "        UNION \n",
    "        SELECT 'Average Salary' AS category \n",
    "        UNION \n",
    "        SELECT 'High Salary' AS category \n",
    "    ) t1\n",
    "), \n",
    "count_cte AS(\n",
    "    SELECT \n",
    "        category,\n",
    "        COUNT(category) AS accounts_count\n",
    "    FROM (\n",
    "        SELECT \n",
    "            (CASE WHEN income < 20000 THEN 'Low Salary'\n",
    "            WHEN income >= 20000 AND income < 50000 THEN 'Average Salary'\n",
    "            ELSE 'High Salary' END) AS category\n",
    "        FROM Accounts\n",
    "    ) t2 \n",
    "    GROUP BY t2.category\n",
    ")\n",
    "SELECT \n",
    "    category_cte.category,\n",
    "    count_cte.accounts_count\n",
    "FROM category_cte\n",
    "LEFT JOIN count_cte ON category_cte.category = count_cte.category;"
   ]
  },
  {
   "cell_type": "code",
   "execution_count": 69,
   "metadata": {
    "vscode": {
     "languageId": "sql"
    }
   },
   "outputs": [
    {
     "data": {
      "text/html": [
       "<table>\n",
       "    <thead>\n",
       "        <tr>\n",
       "            <th>category</th>\n",
       "            <th>accounts_count</th>\n",
       "        </tr>\n",
       "    </thead>\n",
       "    <tbody>\n",
       "        <tr>\n",
       "            <td>Low Salary</td>\n",
       "            <td>1</td>\n",
       "        </tr>\n",
       "        <tr>\n",
       "            <td>Average Salary</td>\n",
       "            <td>0</td>\n",
       "        </tr>\n",
       "        <tr>\n",
       "            <td>High Salary</td>\n",
       "            <td>3</td>\n",
       "        </tr>\n",
       "    </tbody>\n",
       "</table>"
      ],
      "text/plain": [
       "[('Low Salary', 1), ('Average Salary', 0), ('High Salary', 3)]"
      ]
     },
     "execution_count": 69,
     "metadata": {},
     "output_type": "execute_result"
    }
   ],
   "source": [
    "%%sql \n",
    "\n",
    "WITH category_cte AS(\n",
    "    SELECT \n",
    "        category\n",
    "    FROM (\n",
    "        SELECT 'Low Salary' AS category\n",
    "        UNION \n",
    "        SELECT 'Average Salary' AS category \n",
    "        UNION \n",
    "        SELECT 'High Salary' AS category \n",
    "    ) t1\n",
    "), \n",
    "count_cte AS(\n",
    "    SELECT \n",
    "        category,\n",
    "        COUNT(category) AS accounts_count\n",
    "    FROM (\n",
    "        SELECT \n",
    "            (CASE WHEN income < 20000 THEN 'Low Salary'\n",
    "            WHEN income >= 20000 AND income < 50000 THEN 'Average Salary'\n",
    "            ELSE 'High Salary' END) AS category\n",
    "        FROM Accounts\n",
    "    ) t2 \n",
    "    GROUP BY t2.category\n",
    ")\n",
    "SELECT \n",
    "    category_cte.category,\n",
    "    IFNULL(count_cte.accounts_count, 0) AS accounts_count\n",
    "FROM category_cte\n",
    "LEFT JOIN count_cte ON category_cte.category = count_cte.category;"
   ]
  },
  {
   "cell_type": "markdown",
   "metadata": {},
   "source": [
    "# Using Pandas"
   ]
  },
  {
   "cell_type": "code",
   "execution_count": 70,
   "metadata": {},
   "outputs": [
    {
     "data": {
      "text/html": [
       "<div>\n",
       "<style scoped>\n",
       "    .dataframe tbody tr th:only-of-type {\n",
       "        vertical-align: middle;\n",
       "    }\n",
       "\n",
       "    .dataframe tbody tr th {\n",
       "        vertical-align: top;\n",
       "    }\n",
       "\n",
       "    .dataframe thead th {\n",
       "        text-align: right;\n",
       "    }\n",
       "</style>\n",
       "<table border=\"1\" class=\"dataframe\">\n",
       "  <thead>\n",
       "    <tr style=\"text-align: right;\">\n",
       "      <th></th>\n",
       "      <th>account_id</th>\n",
       "      <th>income</th>\n",
       "    </tr>\n",
       "  </thead>\n",
       "  <tbody>\n",
       "    <tr>\n",
       "      <th>0</th>\n",
       "      <td>3</td>\n",
       "      <td>108939</td>\n",
       "    </tr>\n",
       "    <tr>\n",
       "      <th>1</th>\n",
       "      <td>2</td>\n",
       "      <td>12747</td>\n",
       "    </tr>\n",
       "    <tr>\n",
       "      <th>2</th>\n",
       "      <td>8</td>\n",
       "      <td>87709</td>\n",
       "    </tr>\n",
       "    <tr>\n",
       "      <th>3</th>\n",
       "      <td>6</td>\n",
       "      <td>91796</td>\n",
       "    </tr>\n",
       "  </tbody>\n",
       "</table>\n",
       "</div>"
      ],
      "text/plain": [
       "   account_id  income\n",
       "0           3  108939\n",
       "1           2   12747\n",
       "2           8   87709\n",
       "3           6   91796"
      ]
     },
     "metadata": {},
     "output_type": "display_data"
    }
   ],
   "source": [
    "accounts_query = %sql SELECT * FROM Accounts # type: ignore\n",
    "accounts_df = accounts_query.DataFrame()\n",
    "\n",
    "display(accounts_df)"
   ]
  }
 ],
 "metadata": {
  "kernelspec": {
   "display_name": "env",
   "language": "python",
   "name": "python3"
  },
  "language_info": {
   "codemirror_mode": {
    "name": "ipython",
    "version": 3
   },
   "file_extension": ".py",
   "mimetype": "text/x-python",
   "name": "python",
   "nbconvert_exporter": "python",
   "pygments_lexer": "ipython3",
   "version": "3.11.2"
  },
  "orig_nbformat": 4
 },
 "nbformat": 4,
 "nbformat_minor": 2
}
