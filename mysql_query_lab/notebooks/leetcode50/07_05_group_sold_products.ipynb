{
 "cells": [
  {
   "cell_type": "code",
   "execution_count": 1,
   "metadata": {},
   "outputs": [
    {
     "name": "stdout",
     "output_type": "stream",
     "text": [
      "Successfully connected to leetcode50 database.\n"
     ]
    }
   ],
   "source": [
    "%run helper/setup_notebook.ipynb import display_table"
   ]
  },
  {
   "cell_type": "code",
   "execution_count": 2,
   "metadata": {},
   "outputs": [
    {
     "name": "stdout",
     "output_type": "stream",
     "text": [
      "+------------+------------+\n",
      "| sell_date  |  product   |\n",
      "+------------+------------+\n",
      "| 2020-05-30 | Headphone  |\n",
      "| 2020-06-01 |   Pencil   |\n",
      "| 2020-06-02 |    Mask    |\n",
      "| 2020-05-30 | Basketball |\n",
      "| 2020-06-01 |   Bible    |\n",
      "| 2020-06-02 |    Mask    |\n",
      "| 2020-05-30 |  T-Shirt   |\n",
      "+------------+------------+\n"
     ]
    }
   ],
   "source": [
    "display_table('Activities')"
   ]
  },
  {
   "attachments": {},
   "cell_type": "markdown",
   "metadata": {},
   "source": [
    "### Find for each date the number of different products sold and their names.The sold products names for each date should be sorted lexicographically. Return the result table ordered by sell_date.\n",
    "\n",
    "```\n",
    "+------------+----------+------------------------------+\n",
    "| sell_date  | num_sold | products                     |\n",
    "+------------+----------+------------------------------+\n",
    "| 2020-05-30 | 3        | Basketball,Headphone,T-shirt |\n",
    "| 2020-06-01 | 2        | Bible,Pencil                 |\n",
    "| 2020-06-02 | 1        | Mask                         |\n",
    "+------------+----------+------------------------------+\n",
    "Explanation: \n",
    "For 2020-05-30, Sold items were (Headphone, Basketball, T-shirt), we sort them lexicographically and separate them by a comma.\n",
    "For 2020-06-01, Sold items were (Pencil, Bible), we sort them lexicographically and separate them by a comma.\n",
    "For 2020-06-02, the Sold item is (Mask), we just return it.\n",
    "```"
   ]
  },
  {
   "cell_type": "code",
   "execution_count": 3,
   "metadata": {
    "vscode": {
     "languageId": "sql"
    }
   },
   "outputs": [
    {
     "data": {
      "text/html": [
       "<table>\n",
       "    <thead>\n",
       "        <tr>\n",
       "            <th>sell_date</th>\n",
       "            <th>num_sold</th>\n",
       "        </tr>\n",
       "    </thead>\n",
       "    <tbody>\n",
       "        <tr>\n",
       "            <td>2020-05-30</td>\n",
       "            <td>3</td>\n",
       "        </tr>\n",
       "        <tr>\n",
       "            <td>2020-06-01</td>\n",
       "            <td>2</td>\n",
       "        </tr>\n",
       "        <tr>\n",
       "            <td>2020-06-02</td>\n",
       "            <td>1</td>\n",
       "        </tr>\n",
       "    </tbody>\n",
       "</table>"
      ],
      "text/plain": [
       "[(datetime.date(2020, 5, 30), 3),\n",
       " (datetime.date(2020, 6, 1), 2),\n",
       " (datetime.date(2020, 6, 2), 1)]"
      ]
     },
     "execution_count": 3,
     "metadata": {},
     "output_type": "execute_result"
    }
   ],
   "source": [
    "%%sql \n",
    "\n",
    "SELECT \n",
    "    sell_date, \n",
    "    COUNT(DISTINCT product) AS num_sold\n",
    "FROM Activities\n",
    "GROUP BY sell_date\n",
    "ORDER BY sell_date;"
   ]
  },
  {
   "cell_type": "code",
   "execution_count": 5,
   "metadata": {
    "vscode": {
     "languageId": "sql"
    }
   },
   "outputs": [
    {
     "data": {
      "text/html": [
       "<table>\n",
       "    <thead>\n",
       "        <tr>\n",
       "            <th>sell_date</th>\n",
       "            <th>num_sold</th>\n",
       "            <th>products</th>\n",
       "        </tr>\n",
       "    </thead>\n",
       "    <tbody>\n",
       "        <tr>\n",
       "            <td>2020-05-30</td>\n",
       "            <td>3</td>\n",
       "            <td>Headphone,Basketball,T-Shirt</td>\n",
       "        </tr>\n",
       "        <tr>\n",
       "            <td>2020-06-01</td>\n",
       "            <td>2</td>\n",
       "            <td>Pencil,Bible</td>\n",
       "        </tr>\n",
       "        <tr>\n",
       "            <td>2020-06-02</td>\n",
       "            <td>1</td>\n",
       "            <td>Mask,Mask</td>\n",
       "        </tr>\n",
       "    </tbody>\n",
       "</table>"
      ],
      "text/plain": [
       "[(datetime.date(2020, 5, 30), 3, 'Headphone,Basketball,T-Shirt'),\n",
       " (datetime.date(2020, 6, 1), 2, 'Pencil,Bible'),\n",
       " (datetime.date(2020, 6, 2), 1, 'Mask,Mask')]"
      ]
     },
     "execution_count": 5,
     "metadata": {},
     "output_type": "execute_result"
    }
   ],
   "source": [
    "%%sql \n",
    "\n",
    "SELECT \n",
    "    sell_date, \n",
    "    COUNT(DISTINCT product) AS num_sold, \n",
    "    GROUP_CONCAT(product) AS products\n",
    "FROM Activities\n",
    "GROUP BY sell_date\n",
    "ORDER BY sell_date;"
   ]
  },
  {
   "cell_type": "code",
   "execution_count": 6,
   "metadata": {
    "vscode": {
     "languageId": "sql"
    }
   },
   "outputs": [
    {
     "data": {
      "text/html": [
       "<table>\n",
       "    <thead>\n",
       "        <tr>\n",
       "            <th>sell_date</th>\n",
       "            <th>num_sold</th>\n",
       "            <th>products</th>\n",
       "        </tr>\n",
       "    </thead>\n",
       "    <tbody>\n",
       "        <tr>\n",
       "            <td>2020-05-30</td>\n",
       "            <td>3</td>\n",
       "            <td>Basketball,Headphone,T-Shirt</td>\n",
       "        </tr>\n",
       "        <tr>\n",
       "            <td>2020-06-01</td>\n",
       "            <td>2</td>\n",
       "            <td>Bible,Pencil</td>\n",
       "        </tr>\n",
       "        <tr>\n",
       "            <td>2020-06-02</td>\n",
       "            <td>1</td>\n",
       "            <td>Mask</td>\n",
       "        </tr>\n",
       "    </tbody>\n",
       "</table>"
      ],
      "text/plain": [
       "[(datetime.date(2020, 5, 30), 3, 'Basketball,Headphone,T-Shirt'),\n",
       " (datetime.date(2020, 6, 1), 2, 'Bible,Pencil'),\n",
       " (datetime.date(2020, 6, 2), 1, 'Mask')]"
      ]
     },
     "execution_count": 6,
     "metadata": {},
     "output_type": "execute_result"
    }
   ],
   "source": [
    "%%sql \n",
    "\n",
    "SELECT \n",
    "    sell_date, \n",
    "    COUNT(DISTINCT product) AS num_sold, \n",
    "    GROUP_CONCAT(DISTINCT product) AS products\n",
    "FROM Activities\n",
    "GROUP BY sell_date\n",
    "ORDER BY sell_date;"
   ]
  }
 ],
 "metadata": {
  "kernelspec": {
   "display_name": "env",
   "language": "python",
   "name": "python3"
  },
  "language_info": {
   "codemirror_mode": {
    "name": "ipython",
    "version": 3
   },
   "file_extension": ".py",
   "mimetype": "text/x-python",
   "name": "python",
   "nbconvert_exporter": "python",
   "pygments_lexer": "ipython3",
   "version": "3.11.2"
  },
  "orig_nbformat": 4
 },
 "nbformat": 4,
 "nbformat_minor": 2
}
