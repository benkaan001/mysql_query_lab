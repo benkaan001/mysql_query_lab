{
 "cells": [
  {
   "cell_type": "code",
   "execution_count": 1,
   "metadata": {},
   "outputs": [
    {
     "name": "stdout",
     "output_type": "stream",
     "text": [
      "Successfully connected to leetcode50 database.\n"
     ]
    }
   ],
   "source": [
    "%run helper/setup_notebook.ipynb import display_table"
   ]
  },
  {
   "cell_type": "code",
   "execution_count": 2,
   "metadata": {},
   "outputs": [
    {
     "name": "stdout",
     "output_type": "stream",
     "text": [
      "+-----+---------+----------+--------+------------+\n",
      "|  id | country |  state   | amount | trans_date |\n",
      "+-----+---------+----------+--------+------------+\n",
      "| 121 |    US   | approved |  1000  | 2018-12-18 |\n",
      "| 122 |    US   | declined |  2000  | 2018-12-19 |\n",
      "| 123 |    US   | approved |  2000  | 2019-01-01 |\n",
      "| 124 |    DE   | approved |  2000  | 2019-01-07 |\n",
      "+-----+---------+----------+--------+------------+\n"
     ]
    }
   ],
   "source": [
    "display_table('Transactions')"
   ]
  },
  {
   "attachments": {},
   "cell_type": "markdown",
   "metadata": {},
   "source": [
    "### Write an SQL query to find for each month and country, the number of transactions and their total amount, the number of approved transactions and their total amount.\n",
    "\n",
    "```\n",
    "Output: \n",
    "+----------+---------+-------------+----------------+--------------------+-----------------------+\n",
    "| month    | country | trans_count | approved_count | trans_total_amount | approved_total_amount |\n",
    "+----------+---------+-------------+----------------+--------------------+-----------------------+\n",
    "| 2018-12  | US      | 2           | 1              | 3000               | 1000                  |\n",
    "| 2019-01  | US      | 1           | 1              | 2000               | 2000                  |\n",
    "| 2019-01  | DE      | 1           | 1              | 2000               | 2000                  |\n",
    "+----------+---------+-------------+----------------+--------------------+-----------------------+\n",
    "```\n"
   ]
  },
  {
   "cell_type": "code",
   "execution_count": 5,
   "metadata": {
    "vscode": {
     "languageId": "sql"
    }
   },
   "outputs": [
    {
     "data": {
      "text/html": [
       "<table>\n",
       "    <thead>\n",
       "        <tr>\n",
       "            <th>month</th>\n",
       "        </tr>\n",
       "    </thead>\n",
       "    <tbody>\n",
       "        <tr>\n",
       "            <td>2018-12</td>\n",
       "        </tr>\n",
       "        <tr>\n",
       "            <td>2018-12</td>\n",
       "        </tr>\n",
       "        <tr>\n",
       "            <td>2019-01</td>\n",
       "        </tr>\n",
       "        <tr>\n",
       "            <td>2019-01</td>\n",
       "        </tr>\n",
       "    </tbody>\n",
       "</table>"
      ],
      "text/plain": [
       "[('2018-12',), ('2018-12',), ('2019-01',), ('2019-01',)]"
      ]
     },
     "execution_count": 5,
     "metadata": {},
     "output_type": "execute_result"
    }
   ],
   "source": [
    "%%sql \n",
    "\n",
    "SELECT \n",
    "    SUBSTRING(trans_date, 1, 7) AS month \n",
    "FROM Transactions;"
   ]
  },
  {
   "cell_type": "code",
   "execution_count": 14,
   "metadata": {
    "vscode": {
     "languageId": "sql"
    }
   },
   "outputs": [
    {
     "data": {
      "text/html": [
       "<table>\n",
       "    <thead>\n",
       "        <tr>\n",
       "            <th>month</th>\n",
       "            <th>country</th>\n",
       "            <th>trans_count</th>\n",
       "            <th>trans_total_amount</th>\n",
       "        </tr>\n",
       "    </thead>\n",
       "    <tbody>\n",
       "        <tr>\n",
       "            <td>2018-12</td>\n",
       "            <td>US</td>\n",
       "            <td>2</td>\n",
       "            <td>3000</td>\n",
       "        </tr>\n",
       "        <tr>\n",
       "            <td>2019-01</td>\n",
       "            <td>US</td>\n",
       "            <td>1</td>\n",
       "            <td>2000</td>\n",
       "        </tr>\n",
       "        <tr>\n",
       "            <td>2019-01</td>\n",
       "            <td>DE</td>\n",
       "            <td>1</td>\n",
       "            <td>2000</td>\n",
       "        </tr>\n",
       "    </tbody>\n",
       "</table>"
      ],
      "text/plain": [
       "[('2018-12', 'US', 2, Decimal('3000')),\n",
       " ('2019-01', 'US', 1, Decimal('2000')),\n",
       " ('2019-01', 'DE', 1, Decimal('2000'))]"
      ]
     },
     "execution_count": 14,
     "metadata": {},
     "output_type": "execute_result"
    }
   ],
   "source": [
    "%%sql \n",
    "\n",
    "SELECT \n",
    "    SUBSTRING(trans_date, 1, 7) AS month,\n",
    "    country,\n",
    "    COUNT(*) AS trans_count,\n",
    "    SUM(amount) AS trans_total_amount\n",
    "FROM Transactions\n",
    "GROUP BY country, month"
   ]
  },
  {
   "cell_type": "code",
   "execution_count": 18,
   "metadata": {
    "vscode": {
     "languageId": "sql"
    }
   },
   "outputs": [
    {
     "data": {
      "text/html": [
       "<table>\n",
       "    <thead>\n",
       "        <tr>\n",
       "            <th>month</th>\n",
       "            <th>country</th>\n",
       "            <th>trans_count</th>\n",
       "            <th>approved_count</th>\n",
       "            <th>trans_total_amount</th>\n",
       "            <th>approved_total_amount</th>\n",
       "        </tr>\n",
       "    </thead>\n",
       "    <tbody>\n",
       "        <tr>\n",
       "            <td>2018-12</td>\n",
       "            <td>US</td>\n",
       "            <td>2</td>\n",
       "            <td>1</td>\n",
       "            <td>3000</td>\n",
       "            <td>1000</td>\n",
       "        </tr>\n",
       "        <tr>\n",
       "            <td>2019-01</td>\n",
       "            <td>US</td>\n",
       "            <td>1</td>\n",
       "            <td>1</td>\n",
       "            <td>2000</td>\n",
       "            <td>2000</td>\n",
       "        </tr>\n",
       "        <tr>\n",
       "            <td>2019-01</td>\n",
       "            <td>DE</td>\n",
       "            <td>1</td>\n",
       "            <td>1</td>\n",
       "            <td>2000</td>\n",
       "            <td>2000</td>\n",
       "        </tr>\n",
       "    </tbody>\n",
       "</table>"
      ],
      "text/plain": [
       "[('2018-12', 'US', 2, Decimal('1'), Decimal('3000'), Decimal('1000')),\n",
       " ('2019-01', 'US', 1, Decimal('1'), Decimal('2000'), Decimal('2000')),\n",
       " ('2019-01', 'DE', 1, Decimal('1'), Decimal('2000'), Decimal('2000'))]"
      ]
     },
     "execution_count": 18,
     "metadata": {},
     "output_type": "execute_result"
    }
   ],
   "source": [
    "%%sql \n",
    "\n",
    "SELECT \n",
    "    SUBSTRING(trans_date, 1, 7) AS month,\n",
    "    country,\n",
    "    COUNT(*) AS trans_count,\n",
    "    SUM(CASE WHEN state = 'approved' THEN 1 ELSE 0 END) AS approved_count,\n",
    "    SUM(amount) AS trans_total_amount,\n",
    "    SUM(CASE WHEN state = 'approved' THEN amount ELSE 0 END) AS approved_total_amount\n",
    "FROM Transactions\n",
    "GROUP BY country, month;"
   ]
  },
  {
   "attachments": {},
   "cell_type": "markdown",
   "metadata": {},
   "source": [
    "## Using CTE"
   ]
  },
  {
   "cell_type": "code",
   "execution_count": 37,
   "metadata": {
    "vscode": {
     "languageId": "sql"
    }
   },
   "outputs": [
    {
     "data": {
      "text/html": [
       "<table>\n",
       "    <thead>\n",
       "        <tr>\n",
       "            <th>month</th>\n",
       "            <th>country</th>\n",
       "            <th>trans_count</th>\n",
       "            <th>approved_count</th>\n",
       "            <th>trans_total_amount</th>\n",
       "            <th>approved_total_amount</th>\n",
       "        </tr>\n",
       "    </thead>\n",
       "    <tbody>\n",
       "        <tr>\n",
       "            <td>2018-12</td>\n",
       "            <td>US</td>\n",
       "            <td>2</td>\n",
       "            <td>1</td>\n",
       "            <td>3000</td>\n",
       "            <td>1000</td>\n",
       "        </tr>\n",
       "        <tr>\n",
       "            <td>2019-01</td>\n",
       "            <td>US</td>\n",
       "            <td>1</td>\n",
       "            <td>1</td>\n",
       "            <td>2000</td>\n",
       "            <td>2000</td>\n",
       "        </tr>\n",
       "        <tr>\n",
       "            <td>2019-01</td>\n",
       "            <td>DE</td>\n",
       "            <td>1</td>\n",
       "            <td>1</td>\n",
       "            <td>2000</td>\n",
       "            <td>2000</td>\n",
       "        </tr>\n",
       "    </tbody>\n",
       "</table>"
      ],
      "text/plain": [
       "[('2018-12', 'US', 2, 1, Decimal('3000'), Decimal('1000')),\n",
       " ('2019-01', 'US', 1, 1, Decimal('2000'), Decimal('2000')),\n",
       " ('2019-01', 'DE', 1, 1, Decimal('2000'), Decimal('2000'))]"
      ]
     },
     "execution_count": 37,
     "metadata": {},
     "output_type": "execute_result"
    }
   ],
   "source": [
    "%%sql \n",
    "\n",
    "WITH monthly_stats AS (\n",
    "    SELECT\n",
    "        SUBSTRING(trans_date, 1, 7) AS month,\n",
    "        country,\n",
    "        COUNT(*) AS trans_count,\n",
    "        SUM(amount) AS trans_total_amount\n",
    "    FROM Transactions\n",
    "    GROUP BY month, country\n",
    "),\n",
    "approved_stats AS (\n",
    "    SELECT\n",
    "        SUBSTRING(trans_date, 1, 7) AS month,\n",
    "        country,\n",
    "        COUNT(*) AS approved_count,\n",
    "        SUM(amount) AS approved_total_amount\n",
    "    FROM Transactions\n",
    "    WHERE state = 'approved'\n",
    "    GROUP BY month, country\n",
    ")\n",
    "SELECT\n",
    "    monthly_stats.month,\n",
    "    monthly_stats.country,\n",
    "    monthly_stats.trans_count,\n",
    "    approved_stats.approved_count,\n",
    "    monthly_stats.trans_total_amount,\n",
    "    approved_stats.approved_total_amount\n",
    "FROM monthly_stats\n",
    "JOIN approved_stats ON monthly_stats.month = approved_stats.month\n",
    "    AND monthly_stats.country = approved_stats.country;\n"
   ]
  }
 ],
 "metadata": {
  "kernelspec": {
   "display_name": "env",
   "language": "python",
   "name": "python3"
  },
  "language_info": {
   "codemirror_mode": {
    "name": "ipython",
    "version": 3
   },
   "file_extension": ".py",
   "mimetype": "text/x-python",
   "name": "python",
   "nbconvert_exporter": "python",
   "pygments_lexer": "ipython3",
   "version": "3.11.2"
  },
  "orig_nbformat": 4
 },
 "nbformat": 4,
 "nbformat_minor": 2
}
