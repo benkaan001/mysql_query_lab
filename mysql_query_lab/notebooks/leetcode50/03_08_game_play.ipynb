{
 "cells": [
  {
   "cell_type": "code",
   "execution_count": 1,
   "metadata": {},
   "outputs": [
    {
     "name": "stdout",
     "output_type": "stream",
     "text": [
      "Successfully connected to leetcode50 database.\n"
     ]
    }
   ],
   "source": [
    "%run helper/setup_notebook.ipynb import display_table"
   ]
  },
  {
   "cell_type": "code",
   "execution_count": 2,
   "metadata": {},
   "outputs": [
    {
     "name": "stdout",
     "output_type": "stream",
     "text": [
      "+-----------+-----------+------------+--------------+\n",
      "| player_id | device_id | event_date | games_played |\n",
      "+-----------+-----------+------------+--------------+\n",
      "|     1     |     2     | 2016-03-01 |      5       |\n",
      "|     1     |     2     | 2016-03-02 |      6       |\n",
      "|     2     |     3     | 2017-06-25 |      1       |\n",
      "|     3     |     1     | 2016-03-02 |      0       |\n",
      "|     3     |     4     | 2018-07-03 |      5       |\n",
      "+-----------+-----------+------------+--------------+\n"
     ]
    }
   ],
   "source": [
    "display_table('Activity')"
   ]
  },
  {
   "attachments": {},
   "cell_type": "markdown",
   "metadata": {},
   "source": [
    "### Write an SQL query to report the fraction of players that logged in again `on the day after the day they first logged in`, rounded to 2 decimal places. \n",
    "\n",
    "#### *In other words, you need to count the number of players that logged in for at least two consecutive days starting from their first login date, then divide that number by the total number of players.*\n",
    "\n",
    "```\n",
    "+-----------+\n",
    "| fraction  |\n",
    "+-----------+\n",
    "| 0.33      |\n",
    "+-----------+\n",
    "Explanation: \n",
    "Only the player with id 1 logged back in after the first day he had logged in so the answer is 1/3 = 0.33\n",
    "```"
   ]
  },
  {
   "cell_type": "code",
   "execution_count": 3,
   "metadata": {
    "vscode": {
     "languageId": "sql"
    }
   },
   "outputs": [
    {
     "data": {
      "text/html": [
       "<table>\n",
       "    <thead>\n",
       "        <tr>\n",
       "            <th>player_count</th>\n",
       "        </tr>\n",
       "    </thead>\n",
       "    <tbody>\n",
       "        <tr>\n",
       "            <td>3</td>\n",
       "        </tr>\n",
       "    </tbody>\n",
       "</table>"
      ],
      "text/plain": [
       "[(3,)]"
      ]
     },
     "execution_count": 3,
     "metadata": {},
     "output_type": "execute_result"
    }
   ],
   "source": [
    "%%sql \n",
    "\n",
    "SELECT \n",
    "    COUNT(DISTINCT player_id) AS player_count\n",
    "FROM Activity\n"
   ]
  },
  {
   "cell_type": "code",
   "execution_count": 4,
   "metadata": {
    "vscode": {
     "languageId": "sql"
    }
   },
   "outputs": [
    {
     "data": {
      "text/html": [
       "<table>\n",
       "    <thead>\n",
       "        <tr>\n",
       "            <th>event_date</th>\n",
       "            <th>earliest_event_date</th>\n",
       "        </tr>\n",
       "    </thead>\n",
       "    <tbody>\n",
       "        <tr>\n",
       "            <td>2016-03-01</td>\n",
       "            <td>2016-03-01</td>\n",
       "        </tr>\n",
       "        <tr>\n",
       "            <td>2016-03-02</td>\n",
       "            <td>2016-03-01</td>\n",
       "        </tr>\n",
       "        <tr>\n",
       "            <td>2017-06-25</td>\n",
       "            <td>2017-06-25</td>\n",
       "        </tr>\n",
       "        <tr>\n",
       "            <td>2016-03-02</td>\n",
       "            <td>2016-03-02</td>\n",
       "        </tr>\n",
       "        <tr>\n",
       "            <td>2018-07-03</td>\n",
       "            <td>2016-03-02</td>\n",
       "        </tr>\n",
       "    </tbody>\n",
       "</table>"
      ],
      "text/plain": [
       "[(datetime.date(2016, 3, 1), datetime.date(2016, 3, 1)),\n",
       " (datetime.date(2016, 3, 2), datetime.date(2016, 3, 1)),\n",
       " (datetime.date(2017, 6, 25), datetime.date(2017, 6, 25)),\n",
       " (datetime.date(2016, 3, 2), datetime.date(2016, 3, 2)),\n",
       " (datetime.date(2018, 7, 3), datetime.date(2016, 3, 2))]"
      ]
     },
     "execution_count": 4,
     "metadata": {},
     "output_type": "execute_result"
    }
   ],
   "source": [
    "%%sql \n",
    "\n",
    "SELECT \n",
    "    event_date,\n",
    "    MIN(event_date) OVER(PARTITION BY player_id) AS earliest_event_date\n",
    "FROM Activity"
   ]
  },
  {
   "cell_type": "code",
   "execution_count": 5,
   "metadata": {
    "vscode": {
     "languageId": "sql"
    }
   },
   "outputs": [
    {
     "data": {
      "text/html": [
       "<table>\n",
       "    <thead>\n",
       "        <tr>\n",
       "            <th>difference</th>\n",
       "        </tr>\n",
       "    </thead>\n",
       "    <tbody>\n",
       "        <tr>\n",
       "            <td>0</td>\n",
       "        </tr>\n",
       "        <tr>\n",
       "            <td>1</td>\n",
       "        </tr>\n",
       "        <tr>\n",
       "            <td>0</td>\n",
       "        </tr>\n",
       "        <tr>\n",
       "            <td>0</td>\n",
       "        </tr>\n",
       "        <tr>\n",
       "            <td>853</td>\n",
       "        </tr>\n",
       "    </tbody>\n",
       "</table>"
      ],
      "text/plain": [
       "[(0,), (1,), (0,), (0,), (853,)]"
      ]
     },
     "execution_count": 5,
     "metadata": {},
     "output_type": "execute_result"
    }
   ],
   "source": [
    "%%sql \n",
    "\n",
    "SELECT \n",
    "    DATEDIFF(event_date, MIN(event_date) OVER (PARTITION BY player_id)) AS difference\n",
    "FROM Activity;"
   ]
  },
  {
   "cell_type": "code",
   "execution_count": 6,
   "metadata": {
    "vscode": {
     "languageId": "sql"
    }
   },
   "outputs": [
    {
     "data": {
      "text/html": [
       "<table>\n",
       "    <thead>\n",
       "        <tr>\n",
       "            <th>ranking</th>\n",
       "        </tr>\n",
       "    </thead>\n",
       "    <tbody>\n",
       "        <tr>\n",
       "            <td>1</td>\n",
       "        </tr>\n",
       "        <tr>\n",
       "            <td>2</td>\n",
       "        </tr>\n",
       "        <tr>\n",
       "            <td>1</td>\n",
       "        </tr>\n",
       "        <tr>\n",
       "            <td>1</td>\n",
       "        </tr>\n",
       "        <tr>\n",
       "            <td>2</td>\n",
       "        </tr>\n",
       "    </tbody>\n",
       "</table>"
      ],
      "text/plain": [
       "[(1,), (2,), (1,), (1,), (2,)]"
      ]
     },
     "execution_count": 6,
     "metadata": {},
     "output_type": "execute_result"
    }
   ],
   "source": [
    "%%sql \n",
    "\n",
    "SELECT \n",
    "    RANK() OVER (PARTITION BY player_id ORDER BY event_date) AS ranking \n",
    "FROM Activity;"
   ]
  },
  {
   "cell_type": "code",
   "execution_count": 7,
   "metadata": {
    "vscode": {
     "languageId": "sql"
    }
   },
   "outputs": [
    {
     "data": {
      "text/html": [
       "<table>\n",
       "    <thead>\n",
       "        <tr>\n",
       "            <th>event_date</th>\n",
       "            <th>player_id</th>\n",
       "            <th>difference</th>\n",
       "            <th>ranking</th>\n",
       "        </tr>\n",
       "    </thead>\n",
       "    <tbody>\n",
       "        <tr>\n",
       "            <td>2016-03-01</td>\n",
       "            <td>1</td>\n",
       "            <td>0</td>\n",
       "            <td>1</td>\n",
       "        </tr>\n",
       "        <tr>\n",
       "            <td>2016-03-02</td>\n",
       "            <td>1</td>\n",
       "            <td>1</td>\n",
       "            <td>2</td>\n",
       "        </tr>\n",
       "        <tr>\n",
       "            <td>2017-06-25</td>\n",
       "            <td>2</td>\n",
       "            <td>0</td>\n",
       "            <td>1</td>\n",
       "        </tr>\n",
       "        <tr>\n",
       "            <td>2016-03-02</td>\n",
       "            <td>3</td>\n",
       "            <td>0</td>\n",
       "            <td>1</td>\n",
       "        </tr>\n",
       "        <tr>\n",
       "            <td>2018-07-03</td>\n",
       "            <td>3</td>\n",
       "            <td>853</td>\n",
       "            <td>2</td>\n",
       "        </tr>\n",
       "    </tbody>\n",
       "</table>"
      ],
      "text/plain": [
       "[(datetime.date(2016, 3, 1), 1, 0, 1),\n",
       " (datetime.date(2016, 3, 2), 1, 1, 2),\n",
       " (datetime.date(2017, 6, 25), 2, 0, 1),\n",
       " (datetime.date(2016, 3, 2), 3, 0, 1),\n",
       " (datetime.date(2018, 7, 3), 3, 853, 2)]"
      ]
     },
     "execution_count": 7,
     "metadata": {},
     "output_type": "execute_result"
    }
   ],
   "source": [
    "%%sql \n",
    "\n",
    "SELECT \n",
    "    event_date,\n",
    "    player_id,\n",
    "    DATEDIFF(event_date, MIN(event_date) OVER(PARTITION BY player_id)) AS difference,\n",
    "    RANK() OVER (PARTITION BY player_id ORDER BY event_date) AS ranking\n",
    "FROM Activity;"
   ]
  },
  {
   "cell_type": "code",
   "execution_count": 8,
   "metadata": {
    "vscode": {
     "languageId": "sql"
    }
   },
   "outputs": [
    {
     "data": {
      "text/html": [
       "<table>\n",
       "    <thead>\n",
       "        <tr>\n",
       "            <th>difference</th>\n",
       "        </tr>\n",
       "    </thead>\n",
       "    <tbody>\n",
       "        <tr>\n",
       "            <td>0</td>\n",
       "        </tr>\n",
       "        <tr>\n",
       "            <td>1</td>\n",
       "        </tr>\n",
       "        <tr>\n",
       "            <td>0</td>\n",
       "        </tr>\n",
       "        <tr>\n",
       "            <td>0</td>\n",
       "        </tr>\n",
       "        <tr>\n",
       "            <td>853</td>\n",
       "        </tr>\n",
       "    </tbody>\n",
       "</table>"
      ],
      "text/plain": [
       "[(0,), (1,), (0,), (0,), (853,)]"
      ]
     },
     "execution_count": 8,
     "metadata": {},
     "output_type": "execute_result"
    }
   ],
   "source": [
    "%%sql \n",
    "\n",
    "WITH cte_table AS(\n",
    "    SELECT\n",
    "        event_date,\n",
    "        player_id,\n",
    "        DATEDIFF(event_date, MIN(event_date) OVER (PARTITION BY player_id)) AS difference,\n",
    "        RANK() OVER (PARTITION BY player_id ORDER BY event_date) AS ranking\n",
    "    FROM Activity\n",
    ") SELECT \n",
    "    cte_table.difference\n",
    "FROM Activity\n",
    "JOIN cte_table ON cte_table.event_date = Activity.event_date AND cte_table.player_id = Activity.player_id "
   ]
  },
  {
   "cell_type": "code",
   "execution_count": 9,
   "metadata": {
    "vscode": {
     "languageId": "sql"
    }
   },
   "outputs": [
    {
     "data": {
      "text/html": [
       "<table>\n",
       "    <thead>\n",
       "        <tr>\n",
       "            <th>event_date</th>\n",
       "            <th>player_id</th>\n",
       "            <th>event_date_1</th>\n",
       "        </tr>\n",
       "    </thead>\n",
       "    <tbody>\n",
       "        <tr>\n",
       "            <td>2016-03-02</td>\n",
       "            <td>1</td>\n",
       "            <td>2016-03-02</td>\n",
       "        </tr>\n",
       "    </tbody>\n",
       "</table>"
      ],
      "text/plain": [
       "[(datetime.date(2016, 3, 2), 1, datetime.date(2016, 3, 2))]"
      ]
     },
     "execution_count": 9,
     "metadata": {},
     "output_type": "execute_result"
    }
   ],
   "source": [
    "%%sql \n",
    "\n",
    "WITH cte_table AS(\n",
    "    SELECT\n",
    "        event_date,\n",
    "        player_id,\n",
    "        DATEDIFF(event_date, MIN(event_date) OVER (PARTITION BY player_id)) AS difference,\n",
    "        RANK() OVER(PARTITION BY player_id ORDER BY event_date) AS ranking\n",
    "    FROM Activity\n",
    ") SELECT \n",
    "    Activity.event_date, \n",
    "    Activity.player_id, \n",
    "    Activity.event_date\n",
    "FROM Activity\n",
    "JOIN cte_table ON cte_table.event_date = Activity.event_date AND cte_table.player_id = Activity.player_id \n",
    "WHERE ranking=2 and difference = 1"
   ]
  },
  {
   "cell_type": "code",
   "execution_count": 10,
   "metadata": {
    "vscode": {
     "languageId": "sql"
    }
   },
   "outputs": [
    {
     "data": {
      "text/html": [
       "<table>\n",
       "    <thead>\n",
       "        <tr>\n",
       "            <th>fraction</th>\n",
       "        </tr>\n",
       "    </thead>\n",
       "    <tbody>\n",
       "        <tr>\n",
       "            <td>0.3333</td>\n",
       "        </tr>\n",
       "    </tbody>\n",
       "</table>"
      ],
      "text/plain": [
       "[(Decimal('0.3333'),)]"
      ]
     },
     "execution_count": 10,
     "metadata": {},
     "output_type": "execute_result"
    }
   ],
   "source": [
    "%%sql \n",
    "\n",
    "WITH cte_table AS(\n",
    "    SELECT\n",
    "        event_date,\n",
    "        player_id,\n",
    "        DATEDIFF(event_date, MIN(event_date) OVER (PARTITION BY player_id)) AS difference,\n",
    "        RANK() OVER(PARTITION BY player_id ORDER BY event_date) AS ranking\n",
    "    FROM Activity\n",
    ") SELECT \n",
    "    COUNT(cte_table.difference) / (SELECT COUNT(DISTINCT player_id) FROM Activity) AS fraction\n",
    "FROM Activity\n",
    "JOIN cte_table ON cte_table.event_date = Activity.event_date AND cte_table.player_id = Activity.player_id \n",
    "WHERE difference = 1"
   ]
  },
  {
   "cell_type": "code",
   "execution_count": 11,
   "metadata": {
    "vscode": {
     "languageId": "sql"
    }
   },
   "outputs": [
    {
     "data": {
      "text/html": [
       "<table>\n",
       "    <thead>\n",
       "        <tr>\n",
       "            <th>fraction</th>\n",
       "        </tr>\n",
       "    </thead>\n",
       "    <tbody>\n",
       "        <tr>\n",
       "            <td>0.33</td>\n",
       "        </tr>\n",
       "    </tbody>\n",
       "</table>"
      ],
      "text/plain": [
       "[(Decimal('0.33'),)]"
      ]
     },
     "execution_count": 11,
     "metadata": {},
     "output_type": "execute_result"
    }
   ],
   "source": [
    "%%sql \n",
    "\n",
    "WITH cte_table AS(\n",
    "    SELECT\n",
    "        event_date,\n",
    "        player_id,\n",
    "        DATEDIFF(event_date, MIN(event_date) OVER (PARTITION BY player_id)) AS difference,\n",
    "        RANK() OVER(PARTITION BY player_id ORDER BY event_date) AS ranking\n",
    "    FROM Activity\n",
    ") SELECT \n",
    "    ROUND((COUNT(cte_table.difference) / (SELECT COUNT(DISTINCT player_id) FROM Activity)), 2) AS fraction\n",
    "FROM Activity\n",
    "JOIN cte_table ON cte_table.event_date = Activity.event_date AND cte_table.player_id = Activity.player_id \n",
    "WHERE difference = 1 AND ranking = 2"
   ]
  }
 ],
 "metadata": {
  "kernelspec": {
   "display_name": "env",
   "language": "python",
   "name": "python3"
  },
  "language_info": {
   "codemirror_mode": {
    "name": "ipython",
    "version": 3
   },
   "file_extension": ".py",
   "mimetype": "text/x-python",
   "name": "python",
   "nbconvert_exporter": "python",
   "pygments_lexer": "ipython3",
   "version": "3.11.2"
  },
  "orig_nbformat": 4
 },
 "nbformat": 4,
 "nbformat_minor": 2
}
