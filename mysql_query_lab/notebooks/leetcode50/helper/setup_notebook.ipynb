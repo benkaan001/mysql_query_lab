{
 "cells": [
  {
   "cell_type": "code",
   "execution_count": 1,
   "metadata": {},
   "outputs": [],
   "source": [
    "from mysql_query_lab.utils.create_mysql_connection import connect_to_mysql, get_connection_string"
   ]
  },
  {
   "cell_type": "code",
   "execution_count": 2,
   "metadata": {},
   "outputs": [
    {
     "name": "stdout",
     "output_type": "stream",
     "text": [
      "Successfully connected to leetcode50 database.\n"
     ]
    }
   ],
   "source": [
    "def setup_notebook(db_name):\n",
    "    \"\"\"\n",
    "    This function sets up the notebook to connect to the specified database.\n",
    "    \"\"\"\n",
    "    \n",
    "    # create a connection string\n",
    "    connection_string = get_connection_string(db_name)\n",
    "\n",
    "    # Connect to the database using the %connect_to_mysql magic command\n",
    "    %connect_to_mysql $db_name\n",
    "\n",
    "    # load the sql notebook extension\n",
    "    %load_ext sql      \n",
    "\n",
    "    # execute the sql_conn_str string as a SQL query\n",
    "    %sql $connection_string\n",
    "\n",
    "    # turn off feedback \n",
    "    %config SqlMagic.feedback = False\n",
    "\n",
    "    # hide connection string output\n",
    "    %config SqlMagic.displaycon=False\n",
    "    \n",
    "database = 'leetcode50'\n",
    "setup_notebook(db_name=database)"
   ]
  }
 ],
 "metadata": {
  "kernelspec": {
   "display_name": "env",
   "language": "python",
   "name": "python3"
  },
  "language_info": {
   "codemirror_mode": {
    "name": "ipython",
    "version": 3
   },
   "file_extension": ".py",
   "mimetype": "text/x-python",
   "name": "python",
   "nbconvert_exporter": "python",
   "pygments_lexer": "ipython3",
   "version": "3.11.2"
  },
  "orig_nbformat": 4
 },
 "nbformat": 4,
 "nbformat_minor": 2
}
