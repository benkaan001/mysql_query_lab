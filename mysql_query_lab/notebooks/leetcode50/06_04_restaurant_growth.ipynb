{
 "cells": [
  {
   "cell_type": "code",
   "execution_count": 1,
   "metadata": {},
   "outputs": [
    {
     "name": "stdout",
     "output_type": "stream",
     "text": [
      "Successfully connected to leetcode50 database.\n"
     ]
    }
   ],
   "source": [
    "%run helper/setup_notebook.ipynb import display_table"
   ]
  },
  {
   "cell_type": "code",
   "execution_count": 2,
   "metadata": {},
   "outputs": [
    {
     "name": "stdout",
     "output_type": "stream",
     "text": [
      "+-------------+---------+------------+--------+\n",
      "| customer_id |   name  | visited_on | amount |\n",
      "+-------------+---------+------------+--------+\n",
      "|      1      |   Jhon  | 2019-01-01 |  100   |\n",
      "|      2      |  Daniel | 2019-01-02 |  110   |\n",
      "|      3      |   Jade  | 2019-01-03 |  120   |\n",
      "|      4      |  Khaled | 2019-01-04 |  130   |\n",
      "|      5      | Winston | 2019-01-05 |  110   |\n",
      "|      6      |  Elvis  | 2019-01-06 |  140   |\n",
      "|      7      |   Anna  | 2019-01-07 |  150   |\n",
      "|      8      |  Maria  | 2019-01-08 |   80   |\n",
      "|      9      |   Jaze  | 2019-01-09 |  110   |\n",
      "|      1      |   Jhon  | 2019-01-10 |  130   |\n",
      "|      3      |   Jade  | 2019-01-10 |  150   |\n",
      "+-------------+---------+------------+--------+\n"
     ]
    }
   ],
   "source": [
    "display_table('Customer')"
   ]
  },
  {
   "attachments": {},
   "cell_type": "markdown",
   "metadata": {},
   "source": [
    "#### *You are the restaurant owner and you want to analyze a possible expansion (there will be at least one customer every day).*\n",
    "\n",
    "### Write an SQL query to compute the moving average of how much the customer paid in a seven days window (i.e., current day + 6 days before). average_amount should be rounded to two decimal places.\n",
    "\n",
    "#### *Return result table ordered by visited_on in ascending order.*\n",
    "\n",
    "```\n",
    "+--------------+--------------+----------------+\n",
    "| visited_on   | amount       | average_amount |\n",
    "+--------------+--------------+----------------+\n",
    "| 2019-01-07   | 860          | 122.86         |\n",
    "| 2019-01-08   | 840          | 120            |\n",
    "| 2019-01-09   | 840          | 120            |\n",
    "| 2019-01-10   | 1000         | 142.86         |\n",
    "+--------------+--------------+----------------+\n",
    "Explanation: \n",
    "1st moving average from 2019-01-01 to 2019-01-07 has an average_amount of (100 + 110 + 120 + 130 + 110 + 140 + 150)/7 = 122.86\n",
    "2nd moving average from 2019-01-02 to 2019-01-08 has an average_amount of (110 + 120 + 130 + 110 + 140 + 150 + 80)/7 = 120\n",
    "3rd moving average from 2019-01-03 to 2019-01-09 has an average_amount of (120 + 130 + 110 + 140 + 150 + 80 + 110)/7 = 120\n",
    "4th moving average from 2019-01-04 to 2019-01-10 has an average_amount of (130 + 110 + 140 + 150 + 80 + 110 + 130 + 150)/7 = 142.86\n",
    "```\n",
    "\n"
   ]
  },
  {
   "cell_type": "code",
   "execution_count": 3,
   "metadata": {
    "vscode": {
     "languageId": "sql"
    }
   },
   "outputs": [
    {
     "data": {
      "text/html": [
       "<table>\n",
       "    <thead>\n",
       "        <tr>\n",
       "            <th>visited_on</th>\n",
       "            <th>amount</th>\n",
       "            <th>average_amount</th>\n",
       "        </tr>\n",
       "    </thead>\n",
       "    <tbody>\n",
       "        <tr>\n",
       "            <td>2019-01-01</td>\n",
       "            <td>100</td>\n",
       "            <td>100.0000</td>\n",
       "        </tr>\n",
       "        <tr>\n",
       "            <td>2019-01-02</td>\n",
       "            <td>110</td>\n",
       "            <td>105.0000</td>\n",
       "        </tr>\n",
       "        <tr>\n",
       "            <td>2019-01-03</td>\n",
       "            <td>120</td>\n",
       "            <td>110.0000</td>\n",
       "        </tr>\n",
       "        <tr>\n",
       "            <td>2019-01-04</td>\n",
       "            <td>130</td>\n",
       "            <td>115.0000</td>\n",
       "        </tr>\n",
       "        <tr>\n",
       "            <td>2019-01-05</td>\n",
       "            <td>110</td>\n",
       "            <td>114.0000</td>\n",
       "        </tr>\n",
       "        <tr>\n",
       "            <td>2019-01-06</td>\n",
       "            <td>140</td>\n",
       "            <td>118.3333</td>\n",
       "        </tr>\n",
       "        <tr>\n",
       "            <td>2019-01-07</td>\n",
       "            <td>150</td>\n",
       "            <td>122.8571</td>\n",
       "        </tr>\n",
       "        <tr>\n",
       "            <td>2019-01-08</td>\n",
       "            <td>80</td>\n",
       "            <td>117.5000</td>\n",
       "        </tr>\n",
       "        <tr>\n",
       "            <td>2019-01-09</td>\n",
       "            <td>110</td>\n",
       "            <td>118.7500</td>\n",
       "        </tr>\n",
       "        <tr>\n",
       "            <td>2019-01-10</td>\n",
       "            <td>130</td>\n",
       "            <td>121.2500</td>\n",
       "        </tr>\n",
       "        <tr>\n",
       "            <td>2019-01-10</td>\n",
       "            <td>150</td>\n",
       "            <td>125.0000</td>\n",
       "        </tr>\n",
       "    </tbody>\n",
       "</table>"
      ],
      "text/plain": [
       "[(datetime.date(2019, 1, 1), 100, Decimal('100.0000')),\n",
       " (datetime.date(2019, 1, 2), 110, Decimal('105.0000')),\n",
       " (datetime.date(2019, 1, 3), 120, Decimal('110.0000')),\n",
       " (datetime.date(2019, 1, 4), 130, Decimal('115.0000')),\n",
       " (datetime.date(2019, 1, 5), 110, Decimal('114.0000')),\n",
       " (datetime.date(2019, 1, 6), 140, Decimal('118.3333')),\n",
       " (datetime.date(2019, 1, 7), 150, Decimal('122.8571')),\n",
       " (datetime.date(2019, 1, 8), 80, Decimal('117.5000')),\n",
       " (datetime.date(2019, 1, 9), 110, Decimal('118.7500')),\n",
       " (datetime.date(2019, 1, 10), 130, Decimal('121.2500')),\n",
       " (datetime.date(2019, 1, 10), 150, Decimal('125.0000'))]"
      ]
     },
     "execution_count": 3,
     "metadata": {},
     "output_type": "execute_result"
    }
   ],
   "source": [
    "%%sql \n",
    "\n",
    "SELECT \n",
    "    visited_on,\n",
    "    amount,\n",
    "    AVG(amount) OVER(ORDER BY visited_on\n",
    "    ROWS BETWEEN 7 PRECEDING AND CURRENT ROW)\n",
    "    AS average_amount\n",
    "FROM Customer"
   ]
  },
  {
   "cell_type": "code",
   "execution_count": 4,
   "metadata": {
    "vscode": {
     "languageId": "sql"
    }
   },
   "outputs": [
    {
     "data": {
      "text/html": [
       "<table>\n",
       "    <thead>\n",
       "        <tr>\n",
       "            <th>visited_on</th>\n",
       "            <th>amount</th>\n",
       "            <th>average_amount</th>\n",
       "        </tr>\n",
       "    </thead>\n",
       "    <tbody>\n",
       "        <tr>\n",
       "            <td>2019-01-01</td>\n",
       "            <td>100</td>\n",
       "            <td>100.00</td>\n",
       "        </tr>\n",
       "        <tr>\n",
       "            <td>2019-01-02</td>\n",
       "            <td>210</td>\n",
       "            <td>105.00</td>\n",
       "        </tr>\n",
       "        <tr>\n",
       "            <td>2019-01-03</td>\n",
       "            <td>330</td>\n",
       "            <td>110.00</td>\n",
       "        </tr>\n",
       "        <tr>\n",
       "            <td>2019-01-04</td>\n",
       "            <td>460</td>\n",
       "            <td>115.00</td>\n",
       "        </tr>\n",
       "        <tr>\n",
       "            <td>2019-01-05</td>\n",
       "            <td>570</td>\n",
       "            <td>114.00</td>\n",
       "        </tr>\n",
       "        <tr>\n",
       "            <td>2019-01-06</td>\n",
       "            <td>710</td>\n",
       "            <td>118.33</td>\n",
       "        </tr>\n",
       "        <tr>\n",
       "            <td>2019-01-07</td>\n",
       "            <td>860</td>\n",
       "            <td>122.86</td>\n",
       "        </tr>\n",
       "        <tr>\n",
       "            <td>2019-01-08</td>\n",
       "            <td>940</td>\n",
       "            <td>117.50</td>\n",
       "        </tr>\n",
       "        <tr>\n",
       "            <td>2019-01-09</td>\n",
       "            <td>950</td>\n",
       "            <td>118.75</td>\n",
       "        </tr>\n",
       "        <tr>\n",
       "            <td>2019-01-10</td>\n",
       "            <td>970</td>\n",
       "            <td>121.25</td>\n",
       "        </tr>\n",
       "        <tr>\n",
       "            <td>2019-01-10</td>\n",
       "            <td>1000</td>\n",
       "            <td>125.00</td>\n",
       "        </tr>\n",
       "    </tbody>\n",
       "</table>"
      ],
      "text/plain": [
       "[(datetime.date(2019, 1, 1), Decimal('100'), Decimal('100.00')),\n",
       " (datetime.date(2019, 1, 2), Decimal('210'), Decimal('105.00')),\n",
       " (datetime.date(2019, 1, 3), Decimal('330'), Decimal('110.00')),\n",
       " (datetime.date(2019, 1, 4), Decimal('460'), Decimal('115.00')),\n",
       " (datetime.date(2019, 1, 5), Decimal('570'), Decimal('114.00')),\n",
       " (datetime.date(2019, 1, 6), Decimal('710'), Decimal('118.33')),\n",
       " (datetime.date(2019, 1, 7), Decimal('860'), Decimal('122.86')),\n",
       " (datetime.date(2019, 1, 8), Decimal('940'), Decimal('117.50')),\n",
       " (datetime.date(2019, 1, 9), Decimal('950'), Decimal('118.75')),\n",
       " (datetime.date(2019, 1, 10), Decimal('970'), Decimal('121.25')),\n",
       " (datetime.date(2019, 1, 10), Decimal('1000'), Decimal('125.00'))]"
      ]
     },
     "execution_count": 4,
     "metadata": {},
     "output_type": "execute_result"
    }
   ],
   "source": [
    "%%sql \n",
    "\n",
    "SELECT \n",
    "    visited_on,\n",
    "    ROUND(SUM(amount) OVER(ORDER BY visited_on\n",
    "    ROWS BETWEEN 7 PRECEDING AND CURRENT ROW), 2) \n",
    "    AS amount,\n",
    "    ROUND(AVG(amount) OVER(ORDER BY visited_on\n",
    "    ROWS BETWEEN 7 PRECEDING AND CURRENT ROW), 2)\n",
    "    AS average_amount\n",
    "FROM Customer"
   ]
  },
  {
   "cell_type": "markdown",
   "metadata": {},
   "source": [
    "### Solution using subquery"
   ]
  },
  {
   "cell_type": "code",
   "execution_count": 5,
   "metadata": {
    "vscode": {
     "languageId": "sql"
    }
   },
   "outputs": [
    {
     "data": {
      "text/html": [
       "<table>\n",
       "    <thead>\n",
       "        <tr>\n",
       "            <th>visited_on</th>\n",
       "            <th>daily_total</th>\n",
       "        </tr>\n",
       "    </thead>\n",
       "    <tbody>\n",
       "        <tr>\n",
       "            <td>2019-01-01</td>\n",
       "            <td>100</td>\n",
       "        </tr>\n",
       "        <tr>\n",
       "            <td>2019-01-02</td>\n",
       "            <td>110</td>\n",
       "        </tr>\n",
       "        <tr>\n",
       "            <td>2019-01-03</td>\n",
       "            <td>120</td>\n",
       "        </tr>\n",
       "        <tr>\n",
       "            <td>2019-01-04</td>\n",
       "            <td>130</td>\n",
       "        </tr>\n",
       "        <tr>\n",
       "            <td>2019-01-05</td>\n",
       "            <td>110</td>\n",
       "        </tr>\n",
       "        <tr>\n",
       "            <td>2019-01-06</td>\n",
       "            <td>140</td>\n",
       "        </tr>\n",
       "        <tr>\n",
       "            <td>2019-01-07</td>\n",
       "            <td>150</td>\n",
       "        </tr>\n",
       "        <tr>\n",
       "            <td>2019-01-08</td>\n",
       "            <td>80</td>\n",
       "        </tr>\n",
       "        <tr>\n",
       "            <td>2019-01-09</td>\n",
       "            <td>110</td>\n",
       "        </tr>\n",
       "        <tr>\n",
       "            <td>2019-01-10</td>\n",
       "            <td>280</td>\n",
       "        </tr>\n",
       "    </tbody>\n",
       "</table>"
      ],
      "text/plain": [
       "[(datetime.date(2019, 1, 1), Decimal('100')),\n",
       " (datetime.date(2019, 1, 2), Decimal('110')),\n",
       " (datetime.date(2019, 1, 3), Decimal('120')),\n",
       " (datetime.date(2019, 1, 4), Decimal('130')),\n",
       " (datetime.date(2019, 1, 5), Decimal('110')),\n",
       " (datetime.date(2019, 1, 6), Decimal('140')),\n",
       " (datetime.date(2019, 1, 7), Decimal('150')),\n",
       " (datetime.date(2019, 1, 8), Decimal('80')),\n",
       " (datetime.date(2019, 1, 9), Decimal('110')),\n",
       " (datetime.date(2019, 1, 10), Decimal('280'))]"
      ]
     },
     "execution_count": 5,
     "metadata": {},
     "output_type": "execute_result"
    }
   ],
   "source": [
    "%%sql \n",
    "-- in case there are days with multiple sales\n",
    "SELECT \n",
    "    visited_on,\n",
    "    SUM(amount) AS daily_total\n",
    "FROM Customer\n",
    "GROUP BY visited_on"
   ]
  },
  {
   "cell_type": "code",
   "execution_count": 6,
   "metadata": {
    "vscode": {
     "languageId": "sql"
    }
   },
   "outputs": [
    {
     "data": {
      "text/html": [
       "<table>\n",
       "    <thead>\n",
       "        <tr>\n",
       "            <th>visited_on</th>\n",
       "            <th>daily_total</th>\n",
       "        </tr>\n",
       "    </thead>\n",
       "    <tbody>\n",
       "        <tr>\n",
       "            <td>2019-01-01</td>\n",
       "            <td>100</td>\n",
       "        </tr>\n",
       "        <tr>\n",
       "            <td>2019-01-02</td>\n",
       "            <td>110</td>\n",
       "        </tr>\n",
       "        <tr>\n",
       "            <td>2019-01-03</td>\n",
       "            <td>120</td>\n",
       "        </tr>\n",
       "        <tr>\n",
       "            <td>2019-01-04</td>\n",
       "            <td>130</td>\n",
       "        </tr>\n",
       "        <tr>\n",
       "            <td>2019-01-05</td>\n",
       "            <td>110</td>\n",
       "        </tr>\n",
       "        <tr>\n",
       "            <td>2019-01-06</td>\n",
       "            <td>140</td>\n",
       "        </tr>\n",
       "        <tr>\n",
       "            <td>2019-01-07</td>\n",
       "            <td>150</td>\n",
       "        </tr>\n",
       "        <tr>\n",
       "            <td>2019-01-08</td>\n",
       "            <td>80</td>\n",
       "        </tr>\n",
       "        <tr>\n",
       "            <td>2019-01-09</td>\n",
       "            <td>110</td>\n",
       "        </tr>\n",
       "        <tr>\n",
       "            <td>2019-01-10</td>\n",
       "            <td>280</td>\n",
       "        </tr>\n",
       "    </tbody>\n",
       "</table>"
      ],
      "text/plain": [
       "[(datetime.date(2019, 1, 1), Decimal('100')),\n",
       " (datetime.date(2019, 1, 2), Decimal('110')),\n",
       " (datetime.date(2019, 1, 3), Decimal('120')),\n",
       " (datetime.date(2019, 1, 4), Decimal('130')),\n",
       " (datetime.date(2019, 1, 5), Decimal('110')),\n",
       " (datetime.date(2019, 1, 6), Decimal('140')),\n",
       " (datetime.date(2019, 1, 7), Decimal('150')),\n",
       " (datetime.date(2019, 1, 8), Decimal('80')),\n",
       " (datetime.date(2019, 1, 9), Decimal('110')),\n",
       " (datetime.date(2019, 1, 10), Decimal('280'))]"
      ]
     },
     "execution_count": 6,
     "metadata": {},
     "output_type": "execute_result"
    }
   ],
   "source": [
    "%%sql \n",
    "\n",
    "SELECT \n",
    "    visited_on,\n",
    "    SUM(amount) AS daily_total\n",
    "FROM Customer\n",
    "GROUP BY visited_on"
   ]
  },
  {
   "cell_type": "code",
   "execution_count": 7,
   "metadata": {
    "vscode": {
     "languageId": "sql"
    }
   },
   "outputs": [
    {
     "data": {
      "text/html": [
       "<table>\n",
       "    <thead>\n",
       "        <tr>\n",
       "            <th>visited_on</th>\n",
       "            <th>amount</th>\n",
       "            <th>average_amount</th>\n",
       "        </tr>\n",
       "    </thead>\n",
       "    <tbody>\n",
       "        <tr>\n",
       "            <td>2019-01-10</td>\n",
       "            <td>1330</td>\n",
       "            <td>133.0000</td>\n",
       "        </tr>\n",
       "        <tr>\n",
       "            <td>2019-01-09</td>\n",
       "            <td>1330</td>\n",
       "            <td>133.0000</td>\n",
       "        </tr>\n",
       "        <tr>\n",
       "            <td>2019-01-08</td>\n",
       "            <td>1330</td>\n",
       "            <td>133.0000</td>\n",
       "        </tr>\n",
       "        <tr>\n",
       "            <td>2019-01-07</td>\n",
       "            <td>1330</td>\n",
       "            <td>133.0000</td>\n",
       "        </tr>\n",
       "        <tr>\n",
       "            <td>2019-01-06</td>\n",
       "            <td>1330</td>\n",
       "            <td>133.0000</td>\n",
       "        </tr>\n",
       "        <tr>\n",
       "            <td>2019-01-05</td>\n",
       "            <td>1330</td>\n",
       "            <td>133.0000</td>\n",
       "        </tr>\n",
       "        <tr>\n",
       "            <td>2019-01-04</td>\n",
       "            <td>1330</td>\n",
       "            <td>133.0000</td>\n",
       "        </tr>\n",
       "        <tr>\n",
       "            <td>2019-01-03</td>\n",
       "            <td>1330</td>\n",
       "            <td>133.0000</td>\n",
       "        </tr>\n",
       "        <tr>\n",
       "            <td>2019-01-02</td>\n",
       "            <td>1330</td>\n",
       "            <td>133.0000</td>\n",
       "        </tr>\n",
       "        <tr>\n",
       "            <td>2019-01-01</td>\n",
       "            <td>1330</td>\n",
       "            <td>133.0000</td>\n",
       "        </tr>\n",
       "    </tbody>\n",
       "</table>"
      ],
      "text/plain": [
       "[(datetime.date(2019, 1, 10), Decimal('1330'), Decimal('133.0000')),\n",
       " (datetime.date(2019, 1, 9), Decimal('1330'), Decimal('133.0000')),\n",
       " (datetime.date(2019, 1, 8), Decimal('1330'), Decimal('133.0000')),\n",
       " (datetime.date(2019, 1, 7), Decimal('1330'), Decimal('133.0000')),\n",
       " (datetime.date(2019, 1, 6), Decimal('1330'), Decimal('133.0000')),\n",
       " (datetime.date(2019, 1, 5), Decimal('1330'), Decimal('133.0000')),\n",
       " (datetime.date(2019, 1, 4), Decimal('1330'), Decimal('133.0000')),\n",
       " (datetime.date(2019, 1, 3), Decimal('1330'), Decimal('133.0000')),\n",
       " (datetime.date(2019, 1, 2), Decimal('1330'), Decimal('133.0000')),\n",
       " (datetime.date(2019, 1, 1), Decimal('1330'), Decimal('133.0000'))]"
      ]
     },
     "execution_count": 7,
     "metadata": {},
     "output_type": "execute_result"
    }
   ],
   "source": [
    "%%sql \n",
    "\n",
    "WITH daily_total_cte AS (\n",
    "    SELECT \n",
    "        visited_on,\n",
    "        SUM(amount) AS daily_total \n",
    "    FROM Customer\n",
    "    GROUP BY visited_on\n",
    "),\n",
    "daily_average_cte AS (\n",
    "    SELECT \n",
    "        visited_on,\n",
    "        SUM(amount) AS daily_total \n",
    "    FROM Customer\n",
    "    GROUP BY visited_on\n",
    ")\n",
    "SELECT \n",
    "    a.visited_on AS visited_on,\n",
    "    SUM(b.daily_total) AS amount,\n",
    "    AVG(b.daily_total) AS average_amount\n",
    "FROM daily_total_cte a\n",
    "JOIN daily_average_cte b\n",
    "GROUP BY visited_on"
   ]
  },
  {
   "cell_type": "code",
   "execution_count": 8,
   "metadata": {
    "vscode": {
     "languageId": "sql"
    }
   },
   "outputs": [
    {
     "data": {
      "text/html": [
       "<table>\n",
       "    <thead>\n",
       "        <tr>\n",
       "            <th>visited_on</th>\n",
       "            <th>amount</th>\n",
       "            <th>average_amount</th>\n",
       "        </tr>\n",
       "    </thead>\n",
       "    <tbody>\n",
       "        <tr>\n",
       "            <td>2019-01-07</td>\n",
       "            <td>860</td>\n",
       "            <td>122.86</td>\n",
       "        </tr>\n",
       "        <tr>\n",
       "            <td>2019-01-06</td>\n",
       "            <td>710</td>\n",
       "            <td>118.33</td>\n",
       "        </tr>\n",
       "        <tr>\n",
       "            <td>2019-01-05</td>\n",
       "            <td>570</td>\n",
       "            <td>114.00</td>\n",
       "        </tr>\n",
       "        <tr>\n",
       "            <td>2019-01-04</td>\n",
       "            <td>460</td>\n",
       "            <td>115.00</td>\n",
       "        </tr>\n",
       "        <tr>\n",
       "            <td>2019-01-03</td>\n",
       "            <td>330</td>\n",
       "            <td>110.00</td>\n",
       "        </tr>\n",
       "        <tr>\n",
       "            <td>2019-01-02</td>\n",
       "            <td>210</td>\n",
       "            <td>105.00</td>\n",
       "        </tr>\n",
       "        <tr>\n",
       "            <td>2019-01-01</td>\n",
       "            <td>100</td>\n",
       "            <td>100.00</td>\n",
       "        </tr>\n",
       "        <tr>\n",
       "            <td>2019-01-08</td>\n",
       "            <td>840</td>\n",
       "            <td>120.00</td>\n",
       "        </tr>\n",
       "        <tr>\n",
       "            <td>2019-01-09</td>\n",
       "            <td>840</td>\n",
       "            <td>120.00</td>\n",
       "        </tr>\n",
       "        <tr>\n",
       "            <td>2019-01-10</td>\n",
       "            <td>1000</td>\n",
       "            <td>142.86</td>\n",
       "        </tr>\n",
       "    </tbody>\n",
       "</table>"
      ],
      "text/plain": [
       "[(datetime.date(2019, 1, 7), Decimal('860'), Decimal('122.86')),\n",
       " (datetime.date(2019, 1, 6), Decimal('710'), Decimal('118.33')),\n",
       " (datetime.date(2019, 1, 5), Decimal('570'), Decimal('114.00')),\n",
       " (datetime.date(2019, 1, 4), Decimal('460'), Decimal('115.00')),\n",
       " (datetime.date(2019, 1, 3), Decimal('330'), Decimal('110.00')),\n",
       " (datetime.date(2019, 1, 2), Decimal('210'), Decimal('105.00')),\n",
       " (datetime.date(2019, 1, 1), Decimal('100'), Decimal('100.00')),\n",
       " (datetime.date(2019, 1, 8), Decimal('840'), Decimal('120.00')),\n",
       " (datetime.date(2019, 1, 9), Decimal('840'), Decimal('120.00')),\n",
       " (datetime.date(2019, 1, 10), Decimal('1000'), Decimal('142.86'))]"
      ]
     },
     "execution_count": 8,
     "metadata": {},
     "output_type": "execute_result"
    }
   ],
   "source": [
    "%%sql \n",
    "\n",
    "WITH daily_total_cte AS (\n",
    "    SELECT \n",
    "        visited_on,\n",
    "        SUM(amount) AS daily_total \n",
    "    FROM Customer\n",
    "    GROUP BY visited_on\n",
    "),\n",
    "daily_average_cte AS (\n",
    "    SELECT \n",
    "        visited_on,\n",
    "        SUM(amount) AS daily_total \n",
    "    FROM Customer\n",
    "    GROUP BY visited_on\n",
    ")\n",
    "SELECT \n",
    "    a.visited_on AS visited_on,\n",
    "    SUM(b.daily_total) AS amount,\n",
    "    ROUND(AVG(b.daily_total),2) AS average_amount\n",
    "FROM daily_total_cte a\n",
    "JOIN daily_average_cte b\n",
    "WHERE DATEDIFF(a.visited_on, b.visited_on) BETWEEN 0 AND 6\n",
    "GROUP BY a.visited_on"
   ]
  },
  {
   "cell_type": "code",
   "execution_count": 9,
   "metadata": {
    "vscode": {
     "languageId": "sql"
    }
   },
   "outputs": [
    {
     "data": {
      "text/html": [
       "<table>\n",
       "    <thead>\n",
       "        <tr>\n",
       "            <th>visited_on</th>\n",
       "            <th>amount</th>\n",
       "            <th>average_amount</th>\n",
       "        </tr>\n",
       "    </thead>\n",
       "    <tbody>\n",
       "        <tr>\n",
       "            <td>2019-01-07</td>\n",
       "            <td>860</td>\n",
       "            <td>122.86</td>\n",
       "        </tr>\n",
       "        <tr>\n",
       "            <td>2019-01-08</td>\n",
       "            <td>840</td>\n",
       "            <td>120.00</td>\n",
       "        </tr>\n",
       "        <tr>\n",
       "            <td>2019-01-09</td>\n",
       "            <td>840</td>\n",
       "            <td>120.00</td>\n",
       "        </tr>\n",
       "        <tr>\n",
       "            <td>2019-01-10</td>\n",
       "            <td>1000</td>\n",
       "            <td>142.86</td>\n",
       "        </tr>\n",
       "    </tbody>\n",
       "</table>"
      ],
      "text/plain": [
       "[(datetime.date(2019, 1, 7), Decimal('860'), Decimal('122.86')),\n",
       " (datetime.date(2019, 1, 8), Decimal('840'), Decimal('120.00')),\n",
       " (datetime.date(2019, 1, 9), Decimal('840'), Decimal('120.00')),\n",
       " (datetime.date(2019, 1, 10), Decimal('1000'), Decimal('142.86'))]"
      ]
     },
     "execution_count": 9,
     "metadata": {},
     "output_type": "execute_result"
    }
   ],
   "source": [
    "%%sql \n",
    "\n",
    "WITH daily_total_cte AS (\n",
    "    SELECT \n",
    "        visited_on,\n",
    "        SUM(amount) AS daily_total \n",
    "    FROM Customer\n",
    "    GROUP BY visited_on\n",
    "),\n",
    "daily_average_cte AS (\n",
    "    SELECT \n",
    "        visited_on,\n",
    "        SUM(amount) AS daily_total \n",
    "    FROM Customer\n",
    "    GROUP BY visited_on\n",
    ")\n",
    "SELECT \n",
    "    a.visited_on AS visited_on,\n",
    "    SUM(b.daily_total) AS amount,\n",
    "    ROUND(AVG(b.daily_total), 2) AS average_amount\n",
    "FROM daily_total_cte a\n",
    "JOIN daily_average_cte b \n",
    "WHERE DATEDIFF(a.visited_on, b.visited_on) BETWEEN 0 AND 6\n",
    "GROUP BY a.visited_on\n",
    "HAVING COUNT(b.visited_on) = 7"
   ]
  }
 ],
 "metadata": {
  "kernelspec": {
   "display_name": "env",
   "language": "python",
   "name": "python3"
  },
  "language_info": {
   "codemirror_mode": {
    "name": "ipython",
    "version": 3
   },
   "file_extension": ".py",
   "mimetype": "text/x-python",
   "name": "python",
   "nbconvert_exporter": "python",
   "pygments_lexer": "ipython3",
   "version": "3.11.2"
  },
  "orig_nbformat": 4
 },
 "nbformat": 4,
 "nbformat_minor": 2
}
