{
 "cells": [
  {
   "cell_type": "code",
   "execution_count": 1,
   "metadata": {},
   "outputs": [
    {
     "name": "stdout",
     "output_type": "stream",
     "text": [
      "Successfully connected to leetcode50 database.\n"
     ]
    }
   ],
   "source": [
    "%run helper/setup_notebook.ipynb import display_table"
   ]
  },
  {
   "cell_type": "code",
   "execution_count": 2,
   "metadata": {},
   "outputs": [
    {
     "name": "stdout",
     "output_type": "stream",
     "text": [
      "+-------------+-------------+------------+-----------------------------+\n",
      "| delivery_id | customer_id | order_date | customer_pref_delivery_date |\n",
      "+-------------+-------------+------------+-----------------------------+\n",
      "|      1      |      1      | 2019-08-01 |          2019-08-02         |\n",
      "|      2      |      2      | 2019-08-02 |          2019-08-02         |\n",
      "|      3      |      1      | 2019-08-11 |          2019-08-12         |\n",
      "|      4      |      3      | 2019-08-24 |          2019-08-24         |\n",
      "|      5      |      3      | 2019-08-21 |          2019-08-22         |\n",
      "|      6      |      2      | 2019-08-11 |          2019-08-13         |\n",
      "|      7      |      4      | 2019-08-09 |          2019-08-09         |\n",
      "+-------------+-------------+------------+-----------------------------+\n"
     ]
    }
   ],
   "source": [
    "display_table('Delivery')"
   ]
  },
  {
   "attachments": {},
   "cell_type": "markdown",
   "metadata": {},
   "source": [
    "\n",
    "### Write an SQL query to find the percentage of immediate orders in the first orders of all customers, rounded to 2 decimal places.\n",
    "\n",
    "#### *If the customer's preferred delivery date is the same as the order date, then the order is called immediate; otherwise, it is called scheduled.* *The first order of a customer is the order with the earliest order date that the customer made. It is guaranteed that a customer has precisely one first order.*\n",
    "```\n",
    "+----------------------+\n",
    "| immediate_percentage |\n",
    "+----------------------+\n",
    "| 50.00                |\n",
    "+----------------------+\n",
    "Explanation: \n",
    "The customer id 1 has a first order with delivery id 1 and it is scheduled.\n",
    "The customer id 2 has a first order with delivery id 2 and it is immediate.\n",
    "The customer id 3 has a first order with delivery id 5 and it is scheduled.\n",
    "The customer id 4 has a first order with delivery id 7 and it is immediate.\n",
    "Hence, half the customers have immediate first orders.\n",
    "```\n"
   ]
  },
  {
   "cell_type": "code",
   "execution_count": 21,
   "metadata": {
    "vscode": {
     "languageId": "sql"
    }
   },
   "outputs": [
    {
     "data": {
      "text/html": [
       "<table>\n",
       "    <thead>\n",
       "        <tr>\n",
       "            <th>COUNT(*)</th>\n",
       "        </tr>\n",
       "    </thead>\n",
       "    <tbody>\n",
       "        <tr>\n",
       "            <td>3</td>\n",
       "        </tr>\n",
       "    </tbody>\n",
       "</table>"
      ],
      "text/plain": [
       "[(3,)]"
      ]
     },
     "execution_count": 21,
     "metadata": {},
     "output_type": "execute_result"
    }
   ],
   "source": [
    "%%sql \n",
    "\n",
    "SELECT \n",
    "    COUNT(*)\n",
    "FROM Delivery \n",
    "WHERE order_date = customer_pref_delivery_date"
   ]
  },
  {
   "cell_type": "code",
   "execution_count": 3,
   "metadata": {
    "vscode": {
     "languageId": "sql"
    }
   },
   "outputs": [
    {
     "data": {
      "text/html": [
       "<table>\n",
       "    <thead>\n",
       "        <tr>\n",
       "            <th>customer_id</th>\n",
       "            <th>earliest_order</th>\n",
       "        </tr>\n",
       "    </thead>\n",
       "    <tbody>\n",
       "        <tr>\n",
       "            <td>1</td>\n",
       "            <td>2019-08-01</td>\n",
       "        </tr>\n",
       "        <tr>\n",
       "            <td>2</td>\n",
       "            <td>2019-08-02</td>\n",
       "        </tr>\n",
       "        <tr>\n",
       "            <td>3</td>\n",
       "            <td>2019-08-21</td>\n",
       "        </tr>\n",
       "        <tr>\n",
       "            <td>4</td>\n",
       "            <td>2019-08-09</td>\n",
       "        </tr>\n",
       "    </tbody>\n",
       "</table>"
      ],
      "text/plain": [
       "[(1, datetime.date(2019, 8, 1)),\n",
       " (2, datetime.date(2019, 8, 2)),\n",
       " (3, datetime.date(2019, 8, 21)),\n",
       " (4, datetime.date(2019, 8, 9))]"
      ]
     },
     "execution_count": 3,
     "metadata": {},
     "output_type": "execute_result"
    }
   ],
   "source": [
    "%%sql \n",
    "\n",
    "SELECT customer_id, MIN(order_date) AS earliest_order\n",
    "FROM Delivery\n",
    "GROUP BY customer_id"
   ]
  },
  {
   "cell_type": "code",
   "execution_count": 4,
   "metadata": {
    "vscode": {
     "languageId": "sql"
    }
   },
   "outputs": [
    {
     "data": {
      "text/html": [
       "<table>\n",
       "    <thead>\n",
       "        <tr>\n",
       "            <th>customer_id</th>\n",
       "            <th>order_date</th>\n",
       "            <th>customer_pref_delivery_date</th>\n",
       "            <th>earliest_order</th>\n",
       "        </tr>\n",
       "    </thead>\n",
       "    <tbody>\n",
       "        <tr>\n",
       "            <td>1</td>\n",
       "            <td>2019-08-01</td>\n",
       "            <td>2019-08-02</td>\n",
       "            <td>2019-08-01</td>\n",
       "        </tr>\n",
       "        <tr>\n",
       "            <td>1</td>\n",
       "            <td>2019-08-11</td>\n",
       "            <td>2019-08-12</td>\n",
       "            <td>2019-08-01</td>\n",
       "        </tr>\n",
       "        <tr>\n",
       "            <td>2</td>\n",
       "            <td>2019-08-02</td>\n",
       "            <td>2019-08-02</td>\n",
       "            <td>2019-08-02</td>\n",
       "        </tr>\n",
       "        <tr>\n",
       "            <td>2</td>\n",
       "            <td>2019-08-11</td>\n",
       "            <td>2019-08-13</td>\n",
       "            <td>2019-08-02</td>\n",
       "        </tr>\n",
       "        <tr>\n",
       "            <td>3</td>\n",
       "            <td>2019-08-24</td>\n",
       "            <td>2019-08-24</td>\n",
       "            <td>2019-08-21</td>\n",
       "        </tr>\n",
       "        <tr>\n",
       "            <td>3</td>\n",
       "            <td>2019-08-21</td>\n",
       "            <td>2019-08-22</td>\n",
       "            <td>2019-08-21</td>\n",
       "        </tr>\n",
       "        <tr>\n",
       "            <td>4</td>\n",
       "            <td>2019-08-09</td>\n",
       "            <td>2019-08-09</td>\n",
       "            <td>2019-08-09</td>\n",
       "        </tr>\n",
       "    </tbody>\n",
       "</table>"
      ],
      "text/plain": [
       "[(1, datetime.date(2019, 8, 1), datetime.date(2019, 8, 2), datetime.date(2019, 8, 1)),\n",
       " (1, datetime.date(2019, 8, 11), datetime.date(2019, 8, 12), datetime.date(2019, 8, 1)),\n",
       " (2, datetime.date(2019, 8, 2), datetime.date(2019, 8, 2), datetime.date(2019, 8, 2)),\n",
       " (2, datetime.date(2019, 8, 11), datetime.date(2019, 8, 13), datetime.date(2019, 8, 2)),\n",
       " (3, datetime.date(2019, 8, 24), datetime.date(2019, 8, 24), datetime.date(2019, 8, 21)),\n",
       " (3, datetime.date(2019, 8, 21), datetime.date(2019, 8, 22), datetime.date(2019, 8, 21)),\n",
       " (4, datetime.date(2019, 8, 9), datetime.date(2019, 8, 9), datetime.date(2019, 8, 9))]"
      ]
     },
     "execution_count": 4,
     "metadata": {},
     "output_type": "execute_result"
    }
   ],
   "source": [
    "%%sql \n",
    "-- the PARTITION BY clause specifies the column (customer_id) \n",
    "-- by which the rows should be grouped, \n",
    "-- AND the MIN() function calculates the minimum value within each group.\n",
    "SELECT\n",
    "    customer_id,\n",
    "    order_date,\n",
    "    customer_pref_delivery_date,\n",
    "    MIN(order_date) OVER (PARTITION BY customer_id) AS earliest_order\n",
    "FROM Delivery\n"
   ]
  },
  {
   "cell_type": "code",
   "execution_count": 5,
   "metadata": {
    "vscode": {
     "languageId": "sql"
    }
   },
   "outputs": [
    {
     "data": {
      "text/html": [
       "<table>\n",
       "    <thead>\n",
       "        <tr>\n",
       "            <th>delivery_id</th>\n",
       "            <th>earliest_order</th>\n",
       "        </tr>\n",
       "    </thead>\n",
       "    <tbody>\n",
       "        <tr>\n",
       "            <td>1</td>\n",
       "            <td>2019-08-01</td>\n",
       "        </tr>\n",
       "        <tr>\n",
       "            <td>3</td>\n",
       "            <td>2019-08-01</td>\n",
       "        </tr>\n",
       "        <tr>\n",
       "            <td>2</td>\n",
       "            <td>2019-08-02</td>\n",
       "        </tr>\n",
       "        <tr>\n",
       "            <td>6</td>\n",
       "            <td>2019-08-02</td>\n",
       "        </tr>\n",
       "        <tr>\n",
       "            <td>4</td>\n",
       "            <td>2019-08-21</td>\n",
       "        </tr>\n",
       "        <tr>\n",
       "            <td>5</td>\n",
       "            <td>2019-08-21</td>\n",
       "        </tr>\n",
       "        <tr>\n",
       "            <td>7</td>\n",
       "            <td>2019-08-09</td>\n",
       "        </tr>\n",
       "    </tbody>\n",
       "</table>"
      ],
      "text/plain": [
       "[(1, datetime.date(2019, 8, 1)),\n",
       " (3, datetime.date(2019, 8, 1)),\n",
       " (2, datetime.date(2019, 8, 2)),\n",
       " (6, datetime.date(2019, 8, 2)),\n",
       " (4, datetime.date(2019, 8, 21)),\n",
       " (5, datetime.date(2019, 8, 21)),\n",
       " (7, datetime.date(2019, 8, 9))]"
      ]
     },
     "execution_count": 5,
     "metadata": {},
     "output_type": "execute_result"
    }
   ],
   "source": [
    "%%sql \n",
    "\n",
    "SELECT \n",
    "    delivery_id,\n",
    "    MIN(order_date) OVER (PARTITION BY customer_id) AS earliest_order\n",
    "FROM Delivery\n",
    "GROUP BY delivery_id"
   ]
  },
  {
   "cell_type": "code",
   "execution_count": 6,
   "metadata": {
    "vscode": {
     "languageId": "sql"
    }
   },
   "outputs": [
    {
     "data": {
      "text/html": [
       "<table>\n",
       "    <thead>\n",
       "        <tr>\n",
       "            <th>delivery_id</th>\n",
       "            <th>order_date</th>\n",
       "            <th>customer_pref_delivery_date</th>\n",
       "            <th>earliest_order</th>\n",
       "        </tr>\n",
       "    </thead>\n",
       "    <tbody>\n",
       "        <tr>\n",
       "            <td>2</td>\n",
       "            <td>2019-08-02</td>\n",
       "            <td>2019-08-02</td>\n",
       "            <td>2019-08-02</td>\n",
       "        </tr>\n",
       "        <tr>\n",
       "            <td>7</td>\n",
       "            <td>2019-08-09</td>\n",
       "            <td>2019-08-09</td>\n",
       "            <td>2019-08-09</td>\n",
       "        </tr>\n",
       "    </tbody>\n",
       "</table>"
      ],
      "text/plain": [
       "[(2, datetime.date(2019, 8, 2), datetime.date(2019, 8, 2), datetime.date(2019, 8, 2)),\n",
       " (7, datetime.date(2019, 8, 9), datetime.date(2019, 8, 9), datetime.date(2019, 8, 9))]"
      ]
     },
     "execution_count": 6,
     "metadata": {},
     "output_type": "execute_result"
    }
   ],
   "source": [
    "%%sql \n",
    "\n",
    "WITH cte_table AS (\n",
    "    SELECT \n",
    "        delivery_id,\n",
    "        MIN(order_date) OVER (PARTITION BY customer_id) AS earliest_order\n",
    "    FROM Delivery\n",
    "    GROUP BY delivery_id\n",
    ")\n",
    "SELECT \n",
    "    Delivery.delivery_id,\n",
    "    Delivery.order_date,\n",
    "    Delivery.customer_pref_delivery_date,\n",
    "    cte_table.earliest_order\n",
    "FROM Delivery\n",
    "JOIN cte_table ON cte_table.delivery_id = Delivery.delivery_id\n",
    "WHERE customer_pref_delivery_date = earliest_order"
   ]
  },
  {
   "cell_type": "code",
   "execution_count": 23,
   "metadata": {
    "vscode": {
     "languageId": "sql"
    }
   },
   "outputs": [
    {
     "data": {
      "text/html": [
       "<table>\n",
       "    <thead>\n",
       "        <tr>\n",
       "            <th>immediate_order_count</th>\n",
       "        </tr>\n",
       "    </thead>\n",
       "    <tbody>\n",
       "        <tr>\n",
       "            <td>2</td>\n",
       "        </tr>\n",
       "    </tbody>\n",
       "</table>"
      ],
      "text/plain": [
       "[(2,)]"
      ]
     },
     "execution_count": 23,
     "metadata": {},
     "output_type": "execute_result"
    }
   ],
   "source": [
    "%%sql \n",
    "\n",
    "WITH cte_table AS (\n",
    "    SELECT \n",
    "        delivery_id,\n",
    "        MIN(order_date) OVER (PARTITION BY customer_id) AS earliest_order\n",
    "    FROM Delivery\n",
    "    GROUP BY delivery_id\n",
    ")\n",
    "SELECT \n",
    "    COUNT(Delivery.delivery_id) AS immediate_order_count\n",
    "FROM Delivery\n",
    "JOIN cte_table ON cte_table.delivery_id = Delivery.delivery_id\n",
    "WHERE customer_pref_delivery_date = earliest_order"
   ]
  },
  {
   "cell_type": "code",
   "execution_count": 24,
   "metadata": {
    "vscode": {
     "languageId": "sql"
    }
   },
   "outputs": [
    {
     "data": {
      "text/html": [
       "<table>\n",
       "    <thead>\n",
       "        <tr>\n",
       "            <th>immediate_percentage</th>\n",
       "        </tr>\n",
       "    </thead>\n",
       "    <tbody>\n",
       "        <tr>\n",
       "            <td>0.5000</td>\n",
       "        </tr>\n",
       "    </tbody>\n",
       "</table>"
      ],
      "text/plain": [
       "[(Decimal('0.5000'),)]"
      ]
     },
     "execution_count": 24,
     "metadata": {},
     "output_type": "execute_result"
    }
   ],
   "source": [
    "%%sql \n",
    "\n",
    "WITH cte_table AS (\n",
    "    SELECT \n",
    "        delivery_id,\n",
    "        MIN(order_date) OVER (PARTITION BY customer_id) AS earliest_order\n",
    "    FROM Delivery\n",
    "    GROUP BY delivery_id\n",
    ")\n",
    "SELECT \n",
    "    COUNT(Delivery.delivery_id) / (SELECT COUNT(DISTINCT customer_id) FROM Delivery) AS immediate_percentage\n",
    "FROM Delivery\n",
    "JOIN cte_table ON cte_table.delivery_id = Delivery.delivery_id\n",
    "WHERE customer_pref_delivery_date = earliest_order"
   ]
  },
  {
   "cell_type": "code",
   "execution_count": 25,
   "metadata": {
    "vscode": {
     "languageId": "sql"
    }
   },
   "outputs": [
    {
     "data": {
      "text/html": [
       "<table>\n",
       "    <thead>\n",
       "        <tr>\n",
       "            <th>immediate_percentage</th>\n",
       "        </tr>\n",
       "    </thead>\n",
       "    <tbody>\n",
       "        <tr>\n",
       "            <td>50.00</td>\n",
       "        </tr>\n",
       "    </tbody>\n",
       "</table>"
      ],
      "text/plain": [
       "[(Decimal('50.00'),)]"
      ]
     },
     "execution_count": 25,
     "metadata": {},
     "output_type": "execute_result"
    }
   ],
   "source": [
    "%%sql \n",
    "\n",
    "WITH cte_table AS (\n",
    "    SELECT \n",
    "        delivery_id,\n",
    "        MIN(order_date) OVER (PARTITION BY customer_id) AS earliest_order\n",
    "    FROM Delivery\n",
    "    GROUP BY delivery_id\n",
    ")\n",
    "SELECT \n",
    "    ROUND((COUNT(Delivery.delivery_id) / (SELECT COUNT(DISTINCT customer_id) FROM Delivery)) * 100, 2) AS immediate_percentage\n",
    "FROM Delivery\n",
    "JOIN cte_table ON cte_table.delivery_id = Delivery.delivery_id\n",
    "WHERE customer_pref_delivery_date = earliest_order"
   ]
  },
  {
   "attachments": {},
   "cell_type": "markdown",
   "metadata": {},
   "source": [
    "### Solution without using CTE"
   ]
  },
  {
   "cell_type": "code",
   "execution_count": 26,
   "metadata": {
    "vscode": {
     "languageId": "sql"
    }
   },
   "outputs": [
    {
     "data": {
      "text/html": [
       "<table>\n",
       "    <thead>\n",
       "        <tr>\n",
       "            <th>immediate_percentage</th>\n",
       "        </tr>\n",
       "    </thead>\n",
       "    <tbody>\n",
       "        <tr>\n",
       "            <td>50.00</td>\n",
       "        </tr>\n",
       "    </tbody>\n",
       "</table>"
      ],
      "text/plain": [
       "[(Decimal('50.00'),)]"
      ]
     },
     "execution_count": 26,
     "metadata": {},
     "output_type": "execute_result"
    }
   ],
   "source": [
    "%%sql \n",
    "\n",
    "SELECT\n",
    "    ROUND((COUNT(*) / (SELECT COUNT(DISTINCT customer_id) FROM Delivery)) * 100, 2) AS immediate_percentage\n",
    "FROM Delivery\n",
    "WHERE order_date = (\n",
    "    SELECT MIN(order_date)\n",
    "    FROM Delivery d\n",
    "    WHERE d.customer_id = Delivery.customer_id\n",
    ")\n",
    "AND order_date = customer_pref_delivery_date;\n"
   ]
  }
 ],
 "metadata": {
  "kernelspec": {
   "display_name": "env",
   "language": "python",
   "name": "python3"
  },
  "language_info": {
   "codemirror_mode": {
    "name": "ipython",
    "version": 3
   },
   "file_extension": ".py",
   "mimetype": "text/x-python",
   "name": "python",
   "nbconvert_exporter": "python",
   "pygments_lexer": "ipython3",
   "version": "3.11.2"
  },
  "orig_nbformat": 4
 },
 "nbformat": 4,
 "nbformat_minor": 2
}
