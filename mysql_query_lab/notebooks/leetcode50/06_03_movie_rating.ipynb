{
 "cells": [
  {
   "cell_type": "code",
   "execution_count": 1,
   "metadata": {},
   "outputs": [
    {
     "name": "stdout",
     "output_type": "stream",
     "text": [
      "Successfully connected to leetcode50 database.\n"
     ]
    }
   ],
   "source": [
    "%run helper/setup_notebook.ipynb import display_table"
   ]
  },
  {
   "cell_type": "code",
   "execution_count": 2,
   "metadata": {},
   "outputs": [
    {
     "name": "stdout",
     "output_type": "stream",
     "text": [
      "+----------+----------+\n",
      "| movie_id |  title   |\n",
      "+----------+----------+\n",
      "|    1     | Avengers |\n",
      "|    2     | Frozen 2 |\n",
      "|    3     |  Joker   |\n",
      "+----------+----------+\n",
      "+---------+--------+\n",
      "| user_id |  name  |\n",
      "+---------+--------+\n",
      "|    1    | Daniel |\n",
      "|    2    | Monica |\n",
      "|    3    | Maria  |\n",
      "|    4    | James  |\n",
      "+---------+--------+\n",
      "+----------+---------+--------+------------+\n",
      "| movie_id | user_id | rating | created_at |\n",
      "+----------+---------+--------+------------+\n",
      "|    1     |    1    |   3    | 2020-01-12 |\n",
      "|    1     |    2    |   4    | 2020-02-11 |\n",
      "|    1     |    3    |   2    | 2020-02-12 |\n",
      "|    1     |    4    |   1    | 2020-01-01 |\n",
      "|    2     |    1    |   5    | 2020-02-17 |\n",
      "|    2     |    2    |   2    | 2020-02-01 |\n",
      "|    2     |    3    |   2    | 2020-03-01 |\n",
      "|    3     |    1    |   3    | 2020-02-22 |\n",
      "|    3     |    2    |   4    | 2020-02-25 |\n",
      "+----------+---------+--------+------------+\n"
     ]
    }
   ],
   "source": [
    "tables = ['Movies', 'Users', 'MovieRating']\n",
    "\n",
    "for table in tables:\n",
    "    display_table(table)"
   ]
  },
  {
   "attachments": {},
   "cell_type": "markdown",
   "metadata": {},
   "source": [
    "### Write an SQL query to:\n",
    "* #### Find the name of the user who has rated the greatest number of movies. In case of a tie, return the lexicographically smaller user name.\n",
    "* #### Find the movie name with the highest average rating in February 2020. In case of a tie, return the lexicographically smaller movie name.\n",
    "\n",
    "### The query result format is in the following example.*\n",
    "\n",
    "```\n",
    "+--------------+\n",
    "| results      |\n",
    "+--------------+\n",
    "| Daniel       |\n",
    "| Frozen 2     |\n",
    "+--------------+\n",
    "Explanation: \n",
    "\n",
    "Daniel and Monica have rated 3 movies (\"Avengers\", \"Frozen 2\" and \"Joker\") but Daniel is smaller lexicographically.\n",
    "\n",
    "Frozen 2 and Joker have a rating average of 3.5 in February but Frozen 2 is smaller lexicographically.\n",
    "```"
   ]
  },
  {
   "cell_type": "code",
   "execution_count": 3,
   "metadata": {
    "vscode": {
     "languageId": "sql"
    }
   },
   "outputs": [
    {
     "data": {
      "text/html": [
       "<table>\n",
       "    <thead>\n",
       "        <tr>\n",
       "            <th>user_id</th>\n",
       "            <th>vote_count</th>\n",
       "        </tr>\n",
       "    </thead>\n",
       "    <tbody>\n",
       "        <tr>\n",
       "            <td>1</td>\n",
       "            <td>3</td>\n",
       "        </tr>\n",
       "        <tr>\n",
       "            <td>2</td>\n",
       "            <td>3</td>\n",
       "        </tr>\n",
       "        <tr>\n",
       "            <td>3</td>\n",
       "            <td>2</td>\n",
       "        </tr>\n",
       "        <tr>\n",
       "            <td>4</td>\n",
       "            <td>1</td>\n",
       "        </tr>\n",
       "    </tbody>\n",
       "</table>"
      ],
      "text/plain": [
       "[(1, 3), (2, 3), (3, 2), (4, 1)]"
      ]
     },
     "execution_count": 3,
     "metadata": {},
     "output_type": "execute_result"
    }
   ],
   "source": [
    "%%sql \n",
    "\n",
    "SELECT \n",
    "    user_id,\n",
    "    COUNT(user_id) AS vote_count\n",
    "FROM MovieRating\n",
    "GROUP BY user_id;\n"
   ]
  },
  {
   "cell_type": "code",
   "execution_count": 4,
   "metadata": {
    "vscode": {
     "languageId": "sql"
    }
   },
   "outputs": [
    {
     "data": {
      "text/html": [
       "<table>\n",
       "    <thead>\n",
       "        <tr>\n",
       "            <th>user_id</th>\n",
       "        </tr>\n",
       "    </thead>\n",
       "    <tbody>\n",
       "        <tr>\n",
       "            <td>1</td>\n",
       "        </tr>\n",
       "        <tr>\n",
       "            <td>2</td>\n",
       "        </tr>\n",
       "    </tbody>\n",
       "</table>"
      ],
      "text/plain": [
       "[(1,), (2,)]"
      ]
     },
     "execution_count": 4,
     "metadata": {},
     "output_type": "execute_result"
    }
   ],
   "source": [
    "%%sql \n",
    "\n",
    "SELECT \n",
    "    user_id\n",
    "FROM MovieRating\n",
    "GROUP BY user_id\n",
    "HAVING COUNT(user_id) = (\n",
    "    SELECT COUNT(user_id) \n",
    "    FROM MovieRating \n",
    "    GROUP BY user_id \n",
    "    LIMIT 1)"
   ]
  },
  {
   "cell_type": "code",
   "execution_count": 5,
   "metadata": {
    "vscode": {
     "languageId": "sql"
    }
   },
   "outputs": [
    {
     "data": {
      "text/html": [
       "<table>\n",
       "    <thead>\n",
       "        <tr>\n",
       "            <th>name</th>\n",
       "        </tr>\n",
       "    </thead>\n",
       "    <tbody>\n",
       "        <tr>\n",
       "            <td>Daniel</td>\n",
       "        </tr>\n",
       "        <tr>\n",
       "            <td>Monica</td>\n",
       "        </tr>\n",
       "    </tbody>\n",
       "</table>"
      ],
      "text/plain": [
       "[('Daniel',), ('Monica',)]"
      ]
     },
     "execution_count": 5,
     "metadata": {},
     "output_type": "execute_result"
    }
   ],
   "source": [
    "%%sql \n",
    "\n",
    "SELECT \n",
    "    name\n",
    "FROM MovieRating\n",
    "JOIN Users ON Users.user_id = MovieRating.user_id\n",
    "GROUP BY name\n",
    "HAVING COUNT(Users.user_id) = (\n",
    "    SELECT COUNT(user_id) \n",
    "    FROM MovieRating\n",
    "    GROUP BY user_id \n",
    "    LIMIT 1)"
   ]
  },
  {
   "cell_type": "code",
   "execution_count": 6,
   "metadata": {
    "vscode": {
     "languageId": "sql"
    }
   },
   "outputs": [
    {
     "data": {
      "text/html": [
       "<table>\n",
       "    <thead>\n",
       "        <tr>\n",
       "            <th>name</th>\n",
       "        </tr>\n",
       "    </thead>\n",
       "    <tbody>\n",
       "        <tr>\n",
       "            <td>Daniel</td>\n",
       "        </tr>\n",
       "    </tbody>\n",
       "</table>"
      ],
      "text/plain": [
       "[('Daniel',)]"
      ]
     },
     "execution_count": 6,
     "metadata": {},
     "output_type": "execute_result"
    }
   ],
   "source": [
    "%%sql \n",
    "\n",
    "SELECT \n",
    "    name\n",
    "FROM MovieRating\n",
    "JOIN Users ON Users.user_id = MovieRating.user_id\n",
    "GROUP BY name\n",
    "HAVING COUNT(Users.user_id) = (\n",
    "    SELECT COUNT(user_id) \n",
    "    FROM MovieRating\n",
    "    GROUP BY user_id \n",
    "    LIMIT 1)\n",
    "ORDER BY name \n",
    "LIMIT 1"
   ]
  },
  {
   "cell_type": "markdown",
   "metadata": {},
   "source": [
    "### Second query"
   ]
  },
  {
   "cell_type": "code",
   "execution_count": 7,
   "metadata": {
    "vscode": {
     "languageId": "sql"
    }
   },
   "outputs": [
    {
     "data": {
      "text/html": [
       "<table>\n",
       "    <thead>\n",
       "        <tr>\n",
       "            <th>movie_id</th>\n",
       "            <th>AVG(rating)</th>\n",
       "        </tr>\n",
       "    </thead>\n",
       "    <tbody>\n",
       "        <tr>\n",
       "            <td>1</td>\n",
       "            <td>2.5000</td>\n",
       "        </tr>\n",
       "        <tr>\n",
       "            <td>2</td>\n",
       "            <td>3.0000</td>\n",
       "        </tr>\n",
       "        <tr>\n",
       "            <td>3</td>\n",
       "            <td>3.5000</td>\n",
       "        </tr>\n",
       "    </tbody>\n",
       "</table>"
      ],
      "text/plain": [
       "[(1, Decimal('2.5000')), (2, Decimal('3.0000')), (3, Decimal('3.5000'))]"
      ]
     },
     "execution_count": 7,
     "metadata": {},
     "output_type": "execute_result"
    }
   ],
   "source": [
    "%%sql \n",
    "\n",
    "SELECT\n",
    "    movie_id,\n",
    "    AVG(rating)\n",
    "FROM MovieRating\n",
    "GROUP BY movie_id"
   ]
  },
  {
   "cell_type": "markdown",
   "metadata": {},
   "source": [
    "### Get the month column"
   ]
  },
  {
   "cell_type": "code",
   "execution_count": 8,
   "metadata": {
    "vscode": {
     "languageId": "sql"
    }
   },
   "outputs": [
    {
     "data": {
      "text/html": [
       "<table>\n",
       "    <thead>\n",
       "        <tr>\n",
       "            <th>month</th>\n",
       "        </tr>\n",
       "    </thead>\n",
       "    <tbody>\n",
       "        <tr>\n",
       "            <td>2020-01</td>\n",
       "        </tr>\n",
       "        <tr>\n",
       "            <td>2020-02</td>\n",
       "        </tr>\n",
       "        <tr>\n",
       "            <td>2020-02</td>\n",
       "        </tr>\n",
       "        <tr>\n",
       "            <td>2020-01</td>\n",
       "        </tr>\n",
       "        <tr>\n",
       "            <td>2020-02</td>\n",
       "        </tr>\n",
       "        <tr>\n",
       "            <td>2020-02</td>\n",
       "        </tr>\n",
       "        <tr>\n",
       "            <td>2020-03</td>\n",
       "        </tr>\n",
       "        <tr>\n",
       "            <td>2020-02</td>\n",
       "        </tr>\n",
       "        <tr>\n",
       "            <td>2020-02</td>\n",
       "        </tr>\n",
       "    </tbody>\n",
       "</table>"
      ],
      "text/plain": [
       "[('2020-01',),\n",
       " ('2020-02',),\n",
       " ('2020-02',),\n",
       " ('2020-01',),\n",
       " ('2020-02',),\n",
       " ('2020-02',),\n",
       " ('2020-03',),\n",
       " ('2020-02',),\n",
       " ('2020-02',)]"
      ]
     },
     "execution_count": 8,
     "metadata": {},
     "output_type": "execute_result"
    }
   ],
   "source": [
    "%%sql \n",
    "\n",
    "SELECT SUBSTR(created_at, 1, 7) AS month\n",
    "FROM MovieRating"
   ]
  },
  {
   "cell_type": "code",
   "execution_count": 9,
   "metadata": {
    "vscode": {
     "languageId": "sql"
    }
   },
   "outputs": [
    {
     "data": {
      "text/html": [
       "<table>\n",
       "    <thead>\n",
       "        <tr>\n",
       "            <th>movie_id</th>\n",
       "            <th>title</th>\n",
       "            <th>average_rating</th>\n",
       "        </tr>\n",
       "    </thead>\n",
       "    <tbody>\n",
       "        <tr>\n",
       "            <td>1</td>\n",
       "            <td>Avengers</td>\n",
       "            <td>3.0000</td>\n",
       "        </tr>\n",
       "        <tr>\n",
       "            <td>2</td>\n",
       "            <td>Frozen 2</td>\n",
       "            <td>3.5000</td>\n",
       "        </tr>\n",
       "        <tr>\n",
       "            <td>3</td>\n",
       "            <td>Joker</td>\n",
       "            <td>3.5000</td>\n",
       "        </tr>\n",
       "    </tbody>\n",
       "</table>"
      ],
      "text/plain": [
       "[(1, 'Avengers', Decimal('3.0000')),\n",
       " (2, 'Frozen 2', Decimal('3.5000')),\n",
       " (3, 'Joker', Decimal('3.5000'))]"
      ]
     },
     "execution_count": 9,
     "metadata": {},
     "output_type": "execute_result"
    }
   ],
   "source": [
    "%%sql \n",
    "\n",
    "SELECT\n",
    "    Movies.movie_id,\n",
    "    title,\n",
    "    AVG(rating) AS average_rating\n",
    "FROM MovieRating \n",
    "JOIN Movies ON Movies.movie_id = MovieRating.movie_id\n",
    "WHERE SUBSTRING(created_at, 6, 2) = 2\n",
    "GROUP BY movie_id, title"
   ]
  },
  {
   "cell_type": "code",
   "execution_count": 10,
   "metadata": {
    "vscode": {
     "languageId": "sql"
    }
   },
   "outputs": [
    {
     "data": {
      "text/html": [
       "<table>\n",
       "    <thead>\n",
       "        <tr>\n",
       "            <th>average_rating</th>\n",
       "        </tr>\n",
       "    </thead>\n",
       "    <tbody>\n",
       "        <tr>\n",
       "            <td>3.5000</td>\n",
       "        </tr>\n",
       "        <tr>\n",
       "            <td>3.0000</td>\n",
       "        </tr>\n",
       "        <tr>\n",
       "            <td>2.5000</td>\n",
       "        </tr>\n",
       "    </tbody>\n",
       "</table>"
      ],
      "text/plain": [
       "[(Decimal('3.5000'),), (Decimal('3.0000'),), (Decimal('2.5000'),)]"
      ]
     },
     "execution_count": 10,
     "metadata": {},
     "output_type": "execute_result"
    }
   ],
   "source": [
    "%%sql \n",
    "\n",
    "SELECT AVG(rating) AS average_rating\n",
    "FROM MovieRating\n",
    "GROUP BY movie_id\n",
    "ORDER BY average_rating DESC"
   ]
  },
  {
   "cell_type": "code",
   "execution_count": 11,
   "metadata": {
    "vscode": {
     "languageId": "sql"
    }
   },
   "outputs": [
    {
     "data": {
      "text/html": [
       "<table>\n",
       "    <thead>\n",
       "        <tr>\n",
       "            <th>average_rating</th>\n",
       "        </tr>\n",
       "    </thead>\n",
       "    <tbody>\n",
       "        <tr>\n",
       "            <td>3.5000</td>\n",
       "        </tr>\n",
       "    </tbody>\n",
       "</table>"
      ],
      "text/plain": [
       "[(Decimal('3.5000'),)]"
      ]
     },
     "execution_count": 11,
     "metadata": {},
     "output_type": "execute_result"
    }
   ],
   "source": [
    "%%sql \n",
    "\n",
    "SELECT AVG(rating) AS average_rating\n",
    "FROM MovieRating\n",
    "GROUP BY movie_id\n",
    "ORDER BY average_rating DESC\n",
    "LIMIT 1"
   ]
  },
  {
   "cell_type": "code",
   "execution_count": 12,
   "metadata": {
    "vscode": {
     "languageId": "sql"
    }
   },
   "outputs": [
    {
     "data": {
      "text/html": [
       "<table>\n",
       "    <thead>\n",
       "        <tr>\n",
       "            <th>movie_id</th>\n",
       "            <th>average_rating</th>\n",
       "        </tr>\n",
       "    </thead>\n",
       "    <tbody>\n",
       "        <tr>\n",
       "            <td>2</td>\n",
       "            <td>3.5000</td>\n",
       "        </tr>\n",
       "        <tr>\n",
       "            <td>3</td>\n",
       "            <td>3.5000</td>\n",
       "        </tr>\n",
       "    </tbody>\n",
       "</table>"
      ],
      "text/plain": [
       "[(2, Decimal('3.5000')), (3, Decimal('3.5000'))]"
      ]
     },
     "execution_count": 12,
     "metadata": {},
     "output_type": "execute_result"
    }
   ],
   "source": [
    "%%sql \n",
    "\n",
    "SELECT\n",
    "    Movies.movie_id,\n",
    "    AVG(rating) AS average_rating\n",
    "FROM MovieRating \n",
    "JOIN Movies ON Movies.movie_id = MovieRating.movie_id \n",
    "WHERE SUBSTR(created_at, 1, 7) = \"2020-02\"\n",
    "GROUP BY movie_id\n",
    "HAVING average_rating = (\n",
    "    SELECT AVG(rating) AS average_rating\n",
    "    FROM MovieRating\n",
    "    GROUP BY movie_id\n",
    "    ORDER BY average_rating DESC\n",
    "    LIMIT 1)"
   ]
  },
  {
   "cell_type": "code",
   "execution_count": 13,
   "metadata": {
    "vscode": {
     "languageId": "sql"
    }
   },
   "outputs": [
    {
     "data": {
      "text/html": [
       "<table>\n",
       "    <thead>\n",
       "        <tr>\n",
       "            <th>title</th>\n",
       "        </tr>\n",
       "    </thead>\n",
       "    <tbody>\n",
       "        <tr>\n",
       "            <td>Frozen 2</td>\n",
       "        </tr>\n",
       "        <tr>\n",
       "            <td>Joker</td>\n",
       "        </tr>\n",
       "    </tbody>\n",
       "</table>"
      ],
      "text/plain": [
       "[('Frozen 2',), ('Joker',)]"
      ]
     },
     "execution_count": 13,
     "metadata": {},
     "output_type": "execute_result"
    }
   ],
   "source": [
    "%%sql \n",
    "\n",
    "SELECT\n",
    "    title\n",
    "FROM MovieRating \n",
    "JOIN Movies ON Movies.movie_id = MovieRating.movie_id \n",
    "WHERE SUBSTR(created_at, 1, 7) = \"2020-02\"\n",
    "GROUP BY title\n",
    "HAVING AVG(rating) = (\n",
    "    SELECT AVG(rating) AS average_rating\n",
    "    FROM MovieRating\n",
    "    GROUP BY movie_id\n",
    "    ORDER BY average_rating DESC\n",
    "    LIMIT 1)"
   ]
  },
  {
   "cell_type": "code",
   "execution_count": 14,
   "metadata": {
    "vscode": {
     "languageId": "sql"
    }
   },
   "outputs": [
    {
     "data": {
      "text/html": [
       "<table>\n",
       "    <thead>\n",
       "        <tr>\n",
       "            <th>title</th>\n",
       "        </tr>\n",
       "    </thead>\n",
       "    <tbody>\n",
       "        <tr>\n",
       "            <td>Frozen 2</td>\n",
       "        </tr>\n",
       "    </tbody>\n",
       "</table>"
      ],
      "text/plain": [
       "[('Frozen 2',)]"
      ]
     },
     "execution_count": 14,
     "metadata": {},
     "output_type": "execute_result"
    }
   ],
   "source": [
    "%%sql \n",
    "\n",
    "SELECT\n",
    "    title\n",
    "FROM MovieRating \n",
    "JOIN Movies ON Movies.movie_id = MovieRating.movie_id \n",
    "WHERE SUBSTR(created_at, 1, 7) = \"2020-02\"\n",
    "GROUP BY title\n",
    "HAVING AVG(rating) = (\n",
    "    SELECT AVG(rating) AS average_rating\n",
    "    FROM MovieRating\n",
    "    GROUP BY movie_id\n",
    "    ORDER BY average_rating DESC\n",
    "    LIMIT 1)\n",
    "ORDER BY title\n",
    "LIMIT 1"
   ]
  },
  {
   "cell_type": "markdown",
   "metadata": {},
   "source": [
    "### Combine both results"
   ]
  },
  {
   "cell_type": "code",
   "execution_count": 15,
   "metadata": {
    "vscode": {
     "languageId": "sql"
    }
   },
   "outputs": [
    {
     "data": {
      "text/html": [
       "<table>\n",
       "    <thead>\n",
       "        <tr>\n",
       "            <th>results</th>\n",
       "        </tr>\n",
       "    </thead>\n",
       "    <tbody>\n",
       "        <tr>\n",
       "            <td>Daniel</td>\n",
       "        </tr>\n",
       "        <tr>\n",
       "            <td>Frozen 2</td>\n",
       "        </tr>\n",
       "    </tbody>\n",
       "</table>"
      ],
      "text/plain": [
       "[('Daniel',), ('Frozen 2',)]"
      ]
     },
     "execution_count": 15,
     "metadata": {},
     "output_type": "execute_result"
    }
   ],
   "source": [
    "%%sql \n",
    "\n",
    "(SELECT \n",
    "    name AS results\n",
    "FROM MovieRating\n",
    "JOIN Users ON Users.user_id = MovieRating.user_id\n",
    "GROUP BY name\n",
    "HAVING COUNT(Users.user_id) = (\n",
    "    SELECT COUNT(user_id) \n",
    "    FROM MovieRating\n",
    "    GROUP BY user_id \n",
    "    LIMIT 1)\n",
    "ORDER BY name \n",
    "LIMIT 1)\n",
    "\n",
    "UNION \n",
    "\n",
    "(SELECT\n",
    "    title AS results\n",
    "FROM MovieRating \n",
    "JOIN Movies ON Movies.movie_id = MovieRating.movie_id \n",
    "WHERE SUBSTR(created_at, 1, 7) = \"2020-02\"\n",
    "GROUP BY title\n",
    "HAVING AVG(rating) = (\n",
    "    SELECT AVG(rating) AS average_rating\n",
    "    FROM MovieRating\n",
    "    GROUP BY movie_id\n",
    "    ORDER BY average_rating DESC\n",
    "    LIMIT 1)\n",
    "ORDER BY title\n",
    "LIMIT 1)"
   ]
  }
 ],
 "metadata": {
  "kernelspec": {
   "display_name": "env",
   "language": "python",
   "name": "python3"
  },
  "language_info": {
   "codemirror_mode": {
    "name": "ipython",
    "version": 3
   },
   "file_extension": ".py",
   "mimetype": "text/x-python",
   "name": "python",
   "nbconvert_exporter": "python",
   "pygments_lexer": "ipython3",
   "version": "3.11.2"
  },
  "orig_nbformat": 4
 },
 "nbformat": 4,
 "nbformat_minor": 2
}
