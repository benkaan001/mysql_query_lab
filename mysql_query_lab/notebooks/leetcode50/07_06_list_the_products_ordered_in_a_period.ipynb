{
 "cells": [
  {
   "cell_type": "code",
   "execution_count": 1,
   "metadata": {},
   "outputs": [
    {
     "name": "stdout",
     "output_type": "stream",
     "text": [
      "Successfully connected to leetcode50 database.\n"
     ]
    }
   ],
   "source": [
    "%run helper/setup_notebook.ipynb import display_table"
   ]
  },
  {
   "cell_type": "code",
   "execution_count": 2,
   "metadata": {},
   "outputs": [
    {
     "name": "stdout",
     "output_type": "stream",
     "text": [
      "+------------+-----------------------+------------------+\n",
      "| product_id |      product_name     | product_category |\n",
      "+------------+-----------------------+------------------+\n",
      "|     1      |   Leetcode Solutions  |       Book       |\n",
      "|     2      | Jewels of Stringology |       Book       |\n",
      "|     3      |           HP          |      Laptop      |\n",
      "|     4      |         Lenovo        |      Laptop      |\n",
      "|     5      |      Leetcode Kit     |     T-shirt      |\n",
      "+------------+-----------------------+------------------+\n",
      "+------------+------------+------+\n",
      "| product_id | order_date | unit |\n",
      "+------------+------------+------+\n",
      "|     1      | 2020-02-05 |  60  |\n",
      "|     1      | 2020-02-10 |  70  |\n",
      "|     2      | 2020-01-18 |  30  |\n",
      "|     2      | 2020-02-11 |  80  |\n",
      "|     3      | 2020-02-17 |  2   |\n",
      "|     3      | 2020-02-24 |  3   |\n",
      "|     4      | 2020-03-01 |  20  |\n",
      "|     4      | 2020-03-04 |  30  |\n",
      "|     4      | 2020-03-04 |  60  |\n",
      "|     5      | 2020-02-25 |  50  |\n",
      "|     5      | 2020-02-27 |  50  |\n",
      "|     5      | 2020-03-01 |  50  |\n",
      "+------------+------------+------+\n"
     ]
    }
   ],
   "source": [
    "tables = ['Products', 'Orders']\n",
    "for table in tables:\n",
    "    display_table(table)"
   ]
  },
  {
   "attachments": {},
   "cell_type": "markdown",
   "metadata": {},
   "source": [
    "### Write an SQL query to get the names of products that have at least 100 units ordered in February 2020 and their amount.\n",
    "```\n",
    "+--------------------+---------+\n",
    "| product_name       | unit    |\n",
    "+--------------------+---------+\n",
    "| Leetcode Solutions | 130     |\n",
    "| Leetcode Kit       | 100     |\n",
    "+--------------------+---------+\n",
    "Explanation: \n",
    "Products with product_id = 1 is ordered in February a total of (60 + 70) = 130.\n",
    "Products with product_id = 2 is ordered in February a total of 80.\n",
    "Products with product_id = 3 is ordered in February a total of (2 + 3) = 5.\n",
    "Products with product_id = 4 was not ordered in February 2020.\n",
    "Products with product_id = 5 is ordered in February a total of (50 + 50) = 100.\n",
    "```"
   ]
  },
  {
   "cell_type": "code",
   "execution_count": 4,
   "metadata": {
    "vscode": {
     "languageId": "sql"
    }
   },
   "outputs": [
    {
     "data": {
      "text/html": [
       "<table>\n",
       "    <thead>\n",
       "        <tr>\n",
       "            <th>product_id</th>\n",
       "            <th>unit</th>\n",
       "        </tr>\n",
       "    </thead>\n",
       "    <tbody>\n",
       "        <tr>\n",
       "            <td>1</td>\n",
       "            <td>130</td>\n",
       "        </tr>\n",
       "        <tr>\n",
       "            <td>2</td>\n",
       "            <td>110</td>\n",
       "        </tr>\n",
       "        <tr>\n",
       "            <td>3</td>\n",
       "            <td>5</td>\n",
       "        </tr>\n",
       "        <tr>\n",
       "            <td>4</td>\n",
       "            <td>110</td>\n",
       "        </tr>\n",
       "        <tr>\n",
       "            <td>5</td>\n",
       "            <td>150</td>\n",
       "        </tr>\n",
       "    </tbody>\n",
       "</table>"
      ],
      "text/plain": [
       "[(1, Decimal('130')),\n",
       " (2, Decimal('110')),\n",
       " (3, Decimal('5')),\n",
       " (4, Decimal('110')),\n",
       " (5, Decimal('150'))]"
      ]
     },
     "execution_count": 4,
     "metadata": {},
     "output_type": "execute_result"
    }
   ],
   "source": [
    "%%sql \n",
    "\n",
    "SELECT \n",
    "    product_id, SUM(unit) AS unit\n",
    "FROM Orders\n",
    "GROUP BY product_id;"
   ]
  },
  {
   "cell_type": "code",
   "execution_count": 6,
   "metadata": {
    "vscode": {
     "languageId": "sql"
    }
   },
   "outputs": [
    {
     "data": {
      "text/html": [
       "<table>\n",
       "    <thead>\n",
       "        <tr>\n",
       "            <th>product_name</th>\n",
       "            <th>unit</th>\n",
       "        </tr>\n",
       "    </thead>\n",
       "    <tbody>\n",
       "        <tr>\n",
       "            <td>Leetcode Solutions</td>\n",
       "            <td>130</td>\n",
       "        </tr>\n",
       "        <tr>\n",
       "            <td>Jewels of Stringology</td>\n",
       "            <td>110</td>\n",
       "        </tr>\n",
       "        <tr>\n",
       "            <td>HP</td>\n",
       "            <td>5</td>\n",
       "        </tr>\n",
       "        <tr>\n",
       "            <td>Lenovo</td>\n",
       "            <td>110</td>\n",
       "        </tr>\n",
       "        <tr>\n",
       "            <td>Leetcode Kit</td>\n",
       "            <td>150</td>\n",
       "        </tr>\n",
       "    </tbody>\n",
       "</table>"
      ],
      "text/plain": [
       "[('Leetcode Solutions', Decimal('130')),\n",
       " ('Jewels of Stringology', Decimal('110')),\n",
       " ('HP', Decimal('5')),\n",
       " ('Lenovo', Decimal('110')),\n",
       " ('Leetcode Kit', Decimal('150'))]"
      ]
     },
     "execution_count": 6,
     "metadata": {},
     "output_type": "execute_result"
    }
   ],
   "source": [
    "%%sql \n",
    "\n",
    "SELECT \n",
    "    product_name, \n",
    "    SUM(unit) AS unit\n",
    "FROM Orders o\n",
    "JOIN Products p ON o.product_id = p.product_id\n",
    "GROUP BY product_name;"
   ]
  },
  {
   "cell_type": "code",
   "execution_count": 7,
   "metadata": {
    "vscode": {
     "languageId": "sql"
    }
   },
   "outputs": [
    {
     "data": {
      "text/html": [
       "<table>\n",
       "    <thead>\n",
       "        <tr>\n",
       "            <th>product_name</th>\n",
       "            <th>unit</th>\n",
       "        </tr>\n",
       "    </thead>\n",
       "    <tbody>\n",
       "        <tr>\n",
       "            <td>Leetcode Solutions</td>\n",
       "            <td>130</td>\n",
       "        </tr>\n",
       "        <tr>\n",
       "            <td>Jewels of Stringology</td>\n",
       "            <td>110</td>\n",
       "        </tr>\n",
       "        <tr>\n",
       "            <td>Lenovo</td>\n",
       "            <td>110</td>\n",
       "        </tr>\n",
       "        <tr>\n",
       "            <td>Leetcode Kit</td>\n",
       "            <td>150</td>\n",
       "        </tr>\n",
       "    </tbody>\n",
       "</table>"
      ],
      "text/plain": [
       "[('Leetcode Solutions', Decimal('130')),\n",
       " ('Jewels of Stringology', Decimal('110')),\n",
       " ('Lenovo', Decimal('110')),\n",
       " ('Leetcode Kit', Decimal('150'))]"
      ]
     },
     "execution_count": 7,
     "metadata": {},
     "output_type": "execute_result"
    }
   ],
   "source": [
    "%%sql \n",
    "\n",
    "SELECT \n",
    "    product_name, \n",
    "    SUM(unit) AS unit\n",
    "FROM Orders o\n",
    "JOIN Products p ON o.product_id = p.product_id\n",
    "GROUP BY product_name\n",
    "HAVING SUM(unit) >= 100;"
   ]
  },
  {
   "cell_type": "code",
   "execution_count": 9,
   "metadata": {
    "vscode": {
     "languageId": "sql"
    }
   },
   "outputs": [
    {
     "data": {
      "text/html": [
       "<table>\n",
       "    <thead>\n",
       "        <tr>\n",
       "            <th>SUBSTR(order_date, 1, 7)</th>\n",
       "        </tr>\n",
       "    </thead>\n",
       "    <tbody>\n",
       "        <tr>\n",
       "            <td>2020-02</td>\n",
       "        </tr>\n",
       "        <tr>\n",
       "            <td>2020-02</td>\n",
       "        </tr>\n",
       "        <tr>\n",
       "            <td>2020-01</td>\n",
       "        </tr>\n",
       "    </tbody>\n",
       "</table>"
      ],
      "text/plain": [
       "[('2020-02',), ('2020-02',), ('2020-01',)]"
      ]
     },
     "execution_count": 9,
     "metadata": {},
     "output_type": "execute_result"
    }
   ],
   "source": [
    "%%sql \n",
    "\n",
    "SELECT \n",
    "    SUBSTR(order_date, 1, 7)\n",
    "FROM Orders\n",
    "LIMIT 3;"
   ]
  },
  {
   "cell_type": "code",
   "execution_count": 10,
   "metadata": {
    "vscode": {
     "languageId": "sql"
    }
   },
   "outputs": [
    {
     "data": {
      "text/html": [
       "<table>\n",
       "    <thead>\n",
       "        <tr>\n",
       "            <th>product_name</th>\n",
       "            <th>unit</th>\n",
       "        </tr>\n",
       "    </thead>\n",
       "    <tbody>\n",
       "        <tr>\n",
       "            <td>Leetcode Solutions</td>\n",
       "            <td>130</td>\n",
       "        </tr>\n",
       "        <tr>\n",
       "            <td>Leetcode Kit</td>\n",
       "            <td>100</td>\n",
       "        </tr>\n",
       "    </tbody>\n",
       "</table>"
      ],
      "text/plain": [
       "[('Leetcode Solutions', Decimal('130')), ('Leetcode Kit', Decimal('100'))]"
      ]
     },
     "execution_count": 10,
     "metadata": {},
     "output_type": "execute_result"
    }
   ],
   "source": [
    "%%sql \n",
    "\n",
    "SELECT \n",
    "    product_name, \n",
    "    SUM(unit) AS unit\n",
    "FROM Orders o\n",
    "JOIN Products p ON o.product_id = p.product_id\n",
    "WHERE SUBSTR(order_date, 1, 7) = '2020-02'\n",
    "GROUP BY product_name\n",
    "HAVING SUM(unit) >= 100;"
   ]
  }
 ],
 "metadata": {
  "kernelspec": {
   "display_name": "env",
   "language": "python",
   "name": "python3"
  },
  "language_info": {
   "codemirror_mode": {
    "name": "ipython",
    "version": 3
   },
   "file_extension": ".py",
   "mimetype": "text/x-python",
   "name": "python",
   "nbconvert_exporter": "python",
   "pygments_lexer": "ipython3",
   "version": "3.11.2"
  },
  "orig_nbformat": 4
 },
 "nbformat": 4,
 "nbformat_minor": 2
}
