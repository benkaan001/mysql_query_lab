{
 "cells": [
  {
   "cell_type": "code",
   "execution_count": 1,
   "metadata": {},
   "outputs": [
    {
     "name": "stdout",
     "output_type": "stream",
     "text": [
      "Successfully connected to leetcode50 database.\n"
     ]
    }
   ],
   "source": [
    "%run helper/setup_notebook.ipynb import display_table"
   ]
  },
  {
   "cell_type": "code",
   "execution_count": 2,
   "metadata": {},
   "outputs": [
    {
     "name": "stdout",
     "output_type": "stream",
     "text": [
      "+---------+-----------+-------------------------+\n",
      "| user_id |    name   |           mail          |\n",
      "+---------+-----------+-------------------------+\n",
      "|    1    |  Winston  |   winston@leetcode.com  |\n",
      "|    2    |  Jonathan |     jonathanisgreat     |\n",
      "|    3    | Annabelle |   bella-@leetcode.com   |\n",
      "|    4    |   Sally   | sally.come@leetcode.com |\n",
      "|    5    |   Marwan  | quarz#2020@leetcode.com |\n",
      "|    6    |   David   |    david69@gmail.com    |\n",
      "|    7    |  Shapiro  |   .shapo@leetcode.com   |\n",
      "+---------+-----------+-------------------------+\n"
     ]
    }
   ],
   "source": [
    "display_table('Users')"
   ]
  },
  {
   "attachments": {},
   "cell_type": "markdown",
   "metadata": {},
   "source": [
    "### Find the users who have valid emails.\n",
    "\n",
    "#### *A valid e-mail has a prefix name and a domain where:*\n",
    "\n",
    "* The prefix name is a string that may contain letters (upper or lower case), digits, underscore '_', period '.', and/or dash '-'. \n",
    "* The prefix name must start with a letter.\n",
    "\n",
    "#### *The domain is '@leetcode.com'.*\n",
    "```\n",
    "+---------+-----------+-------------------------+\n",
    "| user_id | name      | mail                    |\n",
    "+---------+-----------+-------------------------+\n",
    "| 1       | Winston   | winston@leetcode.com    |\n",
    "| 3       | Annabelle | bella-@leetcode.com     |\n",
    "| 4       | Sally     | sally.come@leetcode.com |\n",
    "+---------+-----------+-------------------------+\n",
    "Explanation: \n",
    "The mail of user 2 does not have a domain.\n",
    "The mail of user 5 has the # sign which is not allowed.\n",
    "The mail of user 6 does not have the leetcode domain.\n",
    "The mail of user 7 starts with a period.\n",
    "```"
   ]
  },
  {
   "cell_type": "code",
   "execution_count": 3,
   "metadata": {
    "vscode": {
     "languageId": "sql"
    }
   },
   "outputs": [
    {
     "data": {
      "text/html": [
       "<table>\n",
       "    <thead>\n",
       "        <tr>\n",
       "            <th>mail</th>\n",
       "        </tr>\n",
       "    </thead>\n",
       "    <tbody>\n",
       "        <tr>\n",
       "            <td>winston@leetcode.com</td>\n",
       "        </tr>\n",
       "        <tr>\n",
       "            <td>bella-@leetcode.com</td>\n",
       "        </tr>\n",
       "        <tr>\n",
       "            <td>sally.come@leetcode.com</td>\n",
       "        </tr>\n",
       "        <tr>\n",
       "            <td>quarz#2020@leetcode.com</td>\n",
       "        </tr>\n",
       "        <tr>\n",
       "            <td>.shapo@leetcode.com</td>\n",
       "        </tr>\n",
       "    </tbody>\n",
       "</table>"
      ],
      "text/plain": [
       "[('winston@leetcode.com',),\n",
       " ('bella-@leetcode.com',),\n",
       " ('sally.come@leetcode.com',),\n",
       " ('quarz#2020@leetcode.com',),\n",
       " ('.shapo@leetcode.com',)]"
      ]
     },
     "execution_count": 3,
     "metadata": {},
     "output_type": "execute_result"
    }
   ],
   "source": [
    "%%sql\n",
    "\n",
    "SELECT \n",
    "    mail\n",
    "FROM Users\n",
    "WHERE mail LIKE \"%@leetcode.com\""
   ]
  },
  {
   "cell_type": "code",
   "execution_count": 4,
   "metadata": {
    "vscode": {
     "languageId": "sql"
    }
   },
   "outputs": [
    {
     "data": {
      "text/html": [
       "<table>\n",
       "    <thead>\n",
       "        <tr>\n",
       "            <th>SUBSTRING_INDEX(mail, &#x27;@&#x27;, 1)</th>\n",
       "        </tr>\n",
       "    </thead>\n",
       "    <tbody>\n",
       "        <tr>\n",
       "            <td>winston</td>\n",
       "        </tr>\n",
       "        <tr>\n",
       "            <td>bella-</td>\n",
       "        </tr>\n",
       "        <tr>\n",
       "            <td>sally.come</td>\n",
       "        </tr>\n",
       "        <tr>\n",
       "            <td>quarz#2020</td>\n",
       "        </tr>\n",
       "        <tr>\n",
       "            <td>.shapo</td>\n",
       "        </tr>\n",
       "    </tbody>\n",
       "</table>"
      ],
      "text/plain": [
       "[('winston',), ('bella-',), ('sally.come',), ('quarz#2020',), ('.shapo',)]"
      ]
     },
     "execution_count": 4,
     "metadata": {},
     "output_type": "execute_result"
    }
   ],
   "source": [
    "%%sql\n",
    "\n",
    "SELECT \n",
    "    SUBSTRING_INDEX(mail, '@', 1)\n",
    "FROM Users\n",
    "WHERE mail LIKE \"%@leetcode.com\""
   ]
  },
  {
   "cell_type": "code",
   "execution_count": 5,
   "metadata": {
    "vscode": {
     "languageId": "sql"
    }
   },
   "outputs": [
    {
     "data": {
      "text/html": [
       "<table>\n",
       "    <thead>\n",
       "        <tr>\n",
       "            <th>user_id</th>\n",
       "            <th>name</th>\n",
       "            <th>mail</th>\n",
       "        </tr>\n",
       "    </thead>\n",
       "    <tbody>\n",
       "        <tr>\n",
       "            <td>1</td>\n",
       "            <td>Winston</td>\n",
       "            <td>winston@leetcode.com</td>\n",
       "        </tr>\n",
       "        <tr>\n",
       "            <td>3</td>\n",
       "            <td>Annabelle</td>\n",
       "            <td>bella-@leetcode.com</td>\n",
       "        </tr>\n",
       "        <tr>\n",
       "            <td>4</td>\n",
       "            <td>Sally</td>\n",
       "            <td>sally.come@leetcode.com</td>\n",
       "        </tr>\n",
       "    </tbody>\n",
       "</table>"
      ],
      "text/plain": [
       "[(1, 'Winston', 'winston@leetcode.com'),\n",
       " (3, 'Annabelle', 'bella-@leetcode.com'),\n",
       " (4, 'Sally', 'sally.come@leetcode.com')]"
      ]
     },
     "execution_count": 5,
     "metadata": {},
     "output_type": "execute_result"
    }
   ],
   "source": [
    "%%sql\n",
    "\n",
    "SELECT \n",
    "    user_id,\n",
    "    name,\n",
    "    mail\n",
    "FROM Users\n",
    "WHERE mail LIKE \"%@leetcode.com\" \n",
    "    AND SUBSTRING_INDEX(mail, '@', 1) NOT LIKE '%#%'\n",
    "    AND SUBSTRING_INDEX(mail, '@', 1) NOT LIKE '.%'"
   ]
  }
 ],
 "metadata": {
  "kernelspec": {
   "display_name": "env",
   "language": "python",
   "name": "python3"
  },
  "language_info": {
   "codemirror_mode": {
    "name": "ipython",
    "version": 3
   },
   "file_extension": ".py",
   "mimetype": "text/x-python",
   "name": "python",
   "nbconvert_exporter": "python",
   "pygments_lexer": "ipython3",
   "version": "3.11.2"
  },
  "orig_nbformat": 4
 },
 "nbformat": 4,
 "nbformat_minor": 2
}
