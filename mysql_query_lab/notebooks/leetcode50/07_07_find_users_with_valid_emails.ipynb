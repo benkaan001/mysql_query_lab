{
 "cells": [
  {
   "cell_type": "code",
   "execution_count": 1,
   "metadata": {},
   "outputs": [
    {
     "name": "stdout",
     "output_type": "stream",
     "text": [
      "Successfully connected to leetcode50 database.\n"
     ]
    }
   ],
   "source": [
    "%run helper/setup_notebook.ipynb import display_table"
   ]
  },
  {
   "cell_type": "code",
   "execution_count": 2,
   "metadata": {},
   "outputs": [
    {
     "name": "stdout",
     "output_type": "stream",
     "text": [
      "+---------+-----------+-------------------------+\n",
      "| user_id |    name   |           mail          |\n",
      "+---------+-----------+-------------------------+\n",
      "|    1    |  Winston  |   winston@leetcode.com  |\n",
      "|    2    |  Jonathan |     jonathanisgreat     |\n",
      "|    3    | Annabelle |   bella-@leetcode.com   |\n",
      "|    4    |   Sally   | sally.come@leetcode.com |\n",
      "|    5    |   Marwan  | quarz#2020@leetcode.com |\n",
      "|    6    |   David   |    david69@gmail.com    |\n",
      "|    7    |  Shapiro  |   .shapo@leetcode.com   |\n",
      "+---------+-----------+-------------------------+\n"
     ]
    }
   ],
   "source": [
    "display_table('Users')"
   ]
  },
  {
   "attachments": {},
   "cell_type": "markdown",
   "metadata": {},
   "source": [
    "### Find the users who have valid emails.\n",
    "\n",
    "#### *A valid e-mail has a prefix name and a domain where:*\n",
    "\n",
    "* The prefix name is a string that may contain letters (upper or lower case), digits, underscore '_', period '.', and/or dash '-'. \n",
    "* The prefix name must start with a letter.\n",
    "\n",
    "#### *The domain is '@leetcode.com'.*\n",
    "```\n",
    "+---------+-----------+-------------------------+\n",
    "| user_id | name      | mail                    |\n",
    "+---------+-----------+-------------------------+\n",
    "| 1       | Winston   | winston@leetcode.com    |\n",
    "| 3       | Annabelle | bella-@leetcode.com     |\n",
    "| 4       | Sally     | sally.come@leetcode.com |\n",
    "+---------+-----------+-------------------------+\n",
    "Explanation: \n",
    "The mail of user 2 does not have a domain.\n",
    "The mail of user 5 has the # sign which is not allowed.\n",
    "The mail of user 6 does not have the leetcode domain.\n",
    "The mail of user 7 starts with a period.\n",
    "```"
   ]
  },
  {
   "cell_type": "markdown",
   "metadata": {},
   "source": [
    "# Using `regex`"
   ]
  },
  {
   "cell_type": "code",
   "execution_count": 3,
   "metadata": {
    "vscode": {
     "languageId": "sql"
    }
   },
   "outputs": [
    {
     "data": {
      "text/html": [
       "<table>\n",
       "    <thead>\n",
       "        <tr>\n",
       "            <th>mail</th>\n",
       "        </tr>\n",
       "    </thead>\n",
       "    <tbody>\n",
       "        <tr>\n",
       "            <td>winston@leetcode.com</td>\n",
       "        </tr>\n",
       "        <tr>\n",
       "            <td>jonathanisgreat</td>\n",
       "        </tr>\n",
       "        <tr>\n",
       "            <td>bella-@leetcode.com</td>\n",
       "        </tr>\n",
       "        <tr>\n",
       "            <td>sally.come@leetcode.com</td>\n",
       "        </tr>\n",
       "        <tr>\n",
       "            <td>quarz#2020@leetcode.com</td>\n",
       "        </tr>\n",
       "        <tr>\n",
       "            <td>david69@gmail.com</td>\n",
       "        </tr>\n",
       "    </tbody>\n",
       "</table>"
      ],
      "text/plain": [
       "[('winston@leetcode.com',),\n",
       " ('jonathanisgreat',),\n",
       " ('bella-@leetcode.com',),\n",
       " ('sally.come@leetcode.com',),\n",
       " ('quarz#2020@leetcode.com',),\n",
       " ('david69@gmail.com',)]"
      ]
     },
     "execution_count": 3,
     "metadata": {},
     "output_type": "execute_result"
    }
   ],
   "source": [
    "%%sql \n",
    "\n",
    "SELECT\n",
    "    mail\n",
    "FROM Users\n",
    "WHERE mail REGEXP '^[a-zA-Z]'\n"
   ]
  },
  {
   "cell_type": "code",
   "execution_count": 4,
   "metadata": {
    "vscode": {
     "languageId": "sql"
    }
   },
   "outputs": [
    {
     "data": {
      "text/html": [
       "<table>\n",
       "    <thead>\n",
       "        <tr>\n",
       "            <th>user_id</th>\n",
       "            <th>name</th>\n",
       "            <th>mail</th>\n",
       "        </tr>\n",
       "    </thead>\n",
       "    <tbody>\n",
       "        <tr>\n",
       "            <td>1</td>\n",
       "            <td>Winston</td>\n",
       "            <td>winston@leetcode.com</td>\n",
       "        </tr>\n",
       "        <tr>\n",
       "            <td>3</td>\n",
       "            <td>Annabelle</td>\n",
       "            <td>bella-@leetcode.com</td>\n",
       "        </tr>\n",
       "        <tr>\n",
       "            <td>4</td>\n",
       "            <td>Sally</td>\n",
       "            <td>sally.come@leetcode.com</td>\n",
       "        </tr>\n",
       "    </tbody>\n",
       "</table>"
      ],
      "text/plain": [
       "[(1, 'Winston', 'winston@leetcode.com'),\n",
       " (3, 'Annabelle', 'bella-@leetcode.com'),\n",
       " (4, 'Sally', 'sally.come@leetcode.com')]"
      ]
     },
     "execution_count": 4,
     "metadata": {},
     "output_type": "execute_result"
    }
   ],
   "source": [
    "%%sql \n",
    "\n",
    "-- Need to wrap '.' character to pass 'leetcode?com' test case \n",
    "\n",
    "SELECT\n",
    "    user_id,\n",
    "    name,\n",
    "    mail\n",
    "FROM Users\n",
    "WHERE mail REGEXP '^[a-zA-Z][a-zA-Z0-9\\.\\_\\-]*@leetcode[.]com$'\n"
   ]
  },
  {
   "cell_type": "code",
   "execution_count": 5,
   "metadata": {
    "vscode": {
     "languageId": "sql"
    }
   },
   "outputs": [
    {
     "ename": "IndentationError",
     "evalue": "unexpected indent (1781598578.py, line 2)",
     "output_type": "error",
     "traceback": [
      "\u001b[0;36m  Cell \u001b[0;32mIn[5], line 2\u001b[0;36m\u001b[0m\n\u001b[0;31m    mail\u001b[0m\n\u001b[0m    ^\u001b[0m\n\u001b[0;31mIndentationError\u001b[0m\u001b[0;31m:\u001b[0m unexpected indent\n"
     ]
    }
   ],
   "source": [
    "SELECT\n",
    "    mail\n",
    "FROM Users\n",
    "WHERE mail REGEXP '^[a-zA-Z][a-zA-Z0-9\\.\\_\\-]*@leetcode\\.com$'"
   ]
  },
  {
   "cell_type": "markdown",
   "metadata": {},
   "source": [
    "## Using `SUBSTRING_INDEX`"
   ]
  },
  {
   "cell_type": "code",
   "execution_count": null,
   "metadata": {
    "vscode": {
     "languageId": "sql"
    }
   },
   "outputs": [],
   "source": [
    "%%sql\n",
    "\n",
    "SELECT \n",
    "    mail\n",
    "FROM Users\n",
    "WHERE mail LIKE \"%@leetcode.com\""
   ]
  },
  {
   "cell_type": "code",
   "execution_count": null,
   "metadata": {
    "vscode": {
     "languageId": "sql"
    }
   },
   "outputs": [],
   "source": [
    "%%sql\n",
    "\n",
    "SELECT \n",
    "    SUBSTRING_INDEX(mail, '@', 1)\n",
    "FROM Users\n",
    "WHERE mail LIKE \"%@leetcode.com\""
   ]
  },
  {
   "cell_type": "code",
   "execution_count": null,
   "metadata": {
    "vscode": {
     "languageId": "sql"
    }
   },
   "outputs": [],
   "source": [
    "%%sql\n",
    "\n",
    "SELECT \n",
    "    user_id,\n",
    "    name,\n",
    "    mail\n",
    "FROM Users\n",
    "WHERE mail LIKE \"%@leetcode.com\" \n",
    "    AND SUBSTRING_INDEX(mail, '@', 1) NOT LIKE '%#%'\n",
    "    AND SUBSTRING_INDEX(mail, '@', 1) NOT LIKE '.%'"
   ]
  },
  {
   "cell_type": "markdown",
   "metadata": {},
   "source": [
    "# Using Pandas"
   ]
  },
  {
   "cell_type": "code",
   "execution_count": null,
   "metadata": {},
   "outputs": [],
   "source": [
    "users_query = %sql SELECT * FROM Users # type: ignore\n",
    "users_df = users_query.DataFrame()\n",
    "\n",
    "display(users_df)"
   ]
  },
  {
   "cell_type": "code",
   "execution_count": null,
   "metadata": {},
   "outputs": [],
   "source": [
    "filtered_df = users_df[users_df['mail'].str.contains('@leetcode.com')]\n",
    "filtered_df"
   ]
  },
  {
   "cell_type": "code",
   "execution_count": null,
   "metadata": {},
   "outputs": [],
   "source": [
    "filtered_df['mail'].str.split('@')"
   ]
  },
  {
   "cell_type": "code",
   "execution_count": null,
   "metadata": {},
   "outputs": [],
   "source": [
    "filtered_df['mail'].str.split('@')"
   ]
  },
  {
   "cell_type": "code",
   "execution_count": null,
   "metadata": {},
   "outputs": [],
   "source": [
    "filtered_df['mail'].str.split('@').str.get(0)"
   ]
  },
  {
   "cell_type": "code",
   "execution_count": null,
   "metadata": {},
   "outputs": [],
   "source": [
    "filtered_df['email_local_part'] = filtered_df['mail'].str.split('@').str.get(0)\n",
    "\n",
    "filtered_df"
   ]
  },
  {
   "cell_type": "code",
   "execution_count": null,
   "metadata": {},
   "outputs": [],
   "source": [
    "# Filter out those that start with a letter\n",
    "pattern = r'^[a-zA-Z]'\n",
    "filtered_df['email_local_part'].str.contains(pattern, regex=True)"
   ]
  },
  {
   "cell_type": "code",
   "execution_count": null,
   "metadata": {},
   "outputs": [],
   "source": [
    "#  Matches zero or more occurrences of any uppercase or lowercase letter, digit, underscore, period, or dash.\n",
    "pattern = r'^[a-zA-Z][a-zA-Z0-9_.-]*'\n",
    "filtered_df['email_local_part'].str.contains(pattern, regex=True)"
   ]
  },
  {
   "cell_type": "markdown",
   "metadata": {},
   "source": [
    "### Without the `$` end-of-string(EOS) anchor, the pattern only requires the local part to start with a letter and followed by zero or more alphanumeric characters, underscores, periods, or dashes. It doesn't account for any additional characters after the valid local part, so the regex matches only the art that satisfies the pattern and ignores the rest of the email."
   ]
  },
  {
   "cell_type": "code",
   "execution_count": null,
   "metadata": {},
   "outputs": [],
   "source": [
    "# Ensure that the pattern matches the entire string from start to end, leaving no room for additional\n",
    "# characters like '#' after the valid part.\n",
    "pattern = r'^[a-zA-Z][a-zA-Z0-9_.-]*$'\n",
    "filtered_df['email_local_part'].str.contains(pattern, regex=True)"
   ]
  },
  {
   "cell_type": "code",
   "execution_count": null,
   "metadata": {},
   "outputs": [],
   "source": [
    "mask = filtered_df['email_local_part'].str.contains(pattern, regex=True)\n",
    "final_df = filtered_df[mask]\n",
    "final_df"
   ]
  },
  {
   "cell_type": "code",
   "execution_count": null,
   "metadata": {},
   "outputs": [],
   "source": [
    "final_df.drop('email_local_part', axis=1, inplace=True)\n",
    "final_df"
   ]
  }
 ],
 "metadata": {
  "kernelspec": {
   "display_name": "env",
   "language": "python",
   "name": "python3"
  },
  "language_info": {
   "codemirror_mode": {
    "name": "ipython",
    "version": 3
   },
   "file_extension": ".py",
   "mimetype": "text/x-python",
   "name": "python",
   "nbconvert_exporter": "python",
   "pygments_lexer": "ipython3",
   "version": "3.11.2"
  },
  "orig_nbformat": 4
 },
 "nbformat": 4,
 "nbformat_minor": 2
}
