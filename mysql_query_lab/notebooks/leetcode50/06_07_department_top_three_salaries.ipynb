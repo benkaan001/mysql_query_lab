{
 "cells": [
  {
   "cell_type": "code",
   "execution_count": 1,
   "metadata": {},
   "outputs": [
    {
     "name": "stdout",
     "output_type": "stream",
     "text": [
      "Successfully connected to leetcode50 database.\n"
     ]
    }
   ],
   "source": [
    "%run helper/setup_notebook.ipynb import display_table"
   ]
  },
  {
   "cell_type": "code",
   "execution_count": 2,
   "metadata": {},
   "outputs": [
    {
     "name": "stdout",
     "output_type": "stream",
     "text": [
      "+----+-------+--------+--------------+\n",
      "| id |  name | salary | departmentId |\n",
      "+----+-------+--------+--------------+\n",
      "| 1  |  Joe  | 85000  |      1       |\n",
      "| 2  | Henry | 80000  |      2       |\n",
      "| 3  |  Sam  | 60000  |      2       |\n",
      "| 4  |  Max  | 90000  |      1       |\n",
      "| 5  | Janet | 69000  |      1       |\n",
      "| 6  | Randy | 85000  |      1       |\n",
      "| 7  |  Will | 70000  |      1       |\n",
      "+----+-------+--------+--------------+\n",
      "+----+-------+\n",
      "| id |  name |\n",
      "+----+-------+\n",
      "| 1  |   IT  |\n",
      "| 2  | Sales |\n",
      "+----+-------+\n"
     ]
    }
   ],
   "source": [
    "tables = ['Employee', 'Department']\n",
    "for table in tables:\n",
    "    display_table(table)"
   ]
  },
  {
   "attachments": {},
   "cell_type": "markdown",
   "metadata": {},
   "source": [
    "#### *A company's executives are interested in seeing who earns the most money in each of the company's departments. A high earner in a department is an employee who has a salary in the top three unique salaries for that department.*\n",
    "\n",
    "### Write an SQL query to find the employees who are high earners in each of the departments.\n",
    "\n",
    "```\n",
    "+------------+----------+--------+\n",
    "| Department | Employee | Salary |\n",
    "+------------+----------+--------+\n",
    "| IT         | Max      | 90000  |\n",
    "| IT         | Joe      | 85000  |\n",
    "| IT         | Randy    | 85000  |\n",
    "| IT         | Will     | 70000  |\n",
    "| Sales      | Henry    | 80000  |\n",
    "| Sales      | Sam      | 60000  |\n",
    "+------------+----------+--------+\n",
    "Explanation: \n",
    "In the IT department:\n",
    "- Max earns the highest unique salary\n",
    "- Both Randy and Joe earn the second-highest unique salary\n",
    "- Will earns the third-highest unique salary\n",
    "\n",
    "In the Sales department:\n",
    "- Henry earns the highest salary\n",
    "- Sam earns the second-highest salary\n",
    "- There is no third-highest salary as there are only two employees\n",
    "```"
   ]
  },
  {
   "cell_type": "code",
   "execution_count": 3,
   "metadata": {
    "vscode": {
     "languageId": "sql"
    }
   },
   "outputs": [
    {
     "data": {
      "text/html": [
       "<table>\n",
       "    <thead>\n",
       "        <tr>\n",
       "            <th>Department</th>\n",
       "            <th>Employee</th>\n",
       "            <th>Salary</th>\n",
       "        </tr>\n",
       "    </thead>\n",
       "    <tbody>\n",
       "        <tr>\n",
       "            <td>IT</td>\n",
       "            <td>Joe</td>\n",
       "            <td>85000</td>\n",
       "        </tr>\n",
       "        <tr>\n",
       "            <td>Sales</td>\n",
       "            <td>Henry</td>\n",
       "            <td>80000</td>\n",
       "        </tr>\n",
       "        <tr>\n",
       "            <td>Sales</td>\n",
       "            <td>Sam</td>\n",
       "            <td>60000</td>\n",
       "        </tr>\n",
       "        <tr>\n",
       "            <td>IT</td>\n",
       "            <td>Max</td>\n",
       "            <td>90000</td>\n",
       "        </tr>\n",
       "        <tr>\n",
       "            <td>IT</td>\n",
       "            <td>Janet</td>\n",
       "            <td>69000</td>\n",
       "        </tr>\n",
       "        <tr>\n",
       "            <td>IT</td>\n",
       "            <td>Randy</td>\n",
       "            <td>85000</td>\n",
       "        </tr>\n",
       "        <tr>\n",
       "            <td>IT</td>\n",
       "            <td>Will</td>\n",
       "            <td>70000</td>\n",
       "        </tr>\n",
       "    </tbody>\n",
       "</table>"
      ],
      "text/plain": [
       "[('IT', 'Joe', 85000),\n",
       " ('Sales', 'Henry', 80000),\n",
       " ('Sales', 'Sam', 60000),\n",
       " ('IT', 'Max', 90000),\n",
       " ('IT', 'Janet', 69000),\n",
       " ('IT', 'Randy', 85000),\n",
       " ('IT', 'Will', 70000)]"
      ]
     },
     "execution_count": 3,
     "metadata": {},
     "output_type": "execute_result"
    }
   ],
   "source": [
    "%%sql \n",
    "\n",
    "SELECT \n",
    "    d.name AS Department,\n",
    "    e.name AS Employee,\n",
    "    e.salary AS Salary\n",
    "FROM Employee e\n",
    "JOIN Department d ON e.departmentId = d.id "
   ]
  },
  {
   "cell_type": "code",
   "execution_count": 4,
   "metadata": {
    "vscode": {
     "languageId": "sql"
    }
   },
   "outputs": [
    {
     "data": {
      "text/html": [
       "<table>\n",
       "    <thead>\n",
       "        <tr>\n",
       "            <th>salary</th>\n",
       "        </tr>\n",
       "    </thead>\n",
       "    <tbody>\n",
       "        <tr>\n",
       "            <td>85000</td>\n",
       "        </tr>\n",
       "        <tr>\n",
       "            <td>90000</td>\n",
       "        </tr>\n",
       "        <tr>\n",
       "            <td>69000</td>\n",
       "        </tr>\n",
       "        <tr>\n",
       "            <td>85000</td>\n",
       "        </tr>\n",
       "        <tr>\n",
       "            <td>70000</td>\n",
       "        </tr>\n",
       "    </tbody>\n",
       "</table>"
      ],
      "text/plain": [
       "[(85000,), (90000,), (69000,), (85000,), (70000,)]"
      ]
     },
     "execution_count": 4,
     "metadata": {},
     "output_type": "execute_result"
    }
   ],
   "source": [
    "%%sql \n",
    "\n",
    "SELECT \n",
    "    salary \n",
    "FROM Employee e\n",
    "JOIN Department d ON e.departmentId = d.id \n",
    "WHERE d.name = 'IT'"
   ]
  },
  {
   "cell_type": "code",
   "execution_count": 5,
   "metadata": {
    "vscode": {
     "languageId": "sql"
    }
   },
   "outputs": [
    {
     "data": {
      "text/html": [
       "<table>\n",
       "    <thead>\n",
       "        <tr>\n",
       "            <th>salary</th>\n",
       "        </tr>\n",
       "    </thead>\n",
       "    <tbody>\n",
       "        <tr>\n",
       "            <td>90000</td>\n",
       "        </tr>\n",
       "        <tr>\n",
       "            <td>85000</td>\n",
       "        </tr>\n",
       "        <tr>\n",
       "            <td>70000</td>\n",
       "        </tr>\n",
       "    </tbody>\n",
       "</table>"
      ],
      "text/plain": [
       "[(90000,), (85000,), (70000,)]"
      ]
     },
     "execution_count": 5,
     "metadata": {},
     "output_type": "execute_result"
    }
   ],
   "source": [
    "%%sql \n",
    "\n",
    "SELECT \n",
    "    DISTINCT salary \n",
    "FROM Employee e\n",
    "JOIN Department d ON e.departmentId = d.id \n",
    "WHERE d.name = 'IT'\n",
    "ORDER BY salary DESC\n",
    "LIMIT 3"
   ]
  },
  {
   "cell_type": "code",
   "execution_count": 6,
   "metadata": {
    "vscode": {
     "languageId": "sql"
    }
   },
   "outputs": [
    {
     "data": {
      "text/html": [
       "<table>\n",
       "    <thead>\n",
       "        <tr>\n",
       "            <th>salary</th>\n",
       "        </tr>\n",
       "    </thead>\n",
       "    <tbody>\n",
       "        <tr>\n",
       "            <td>80000</td>\n",
       "        </tr>\n",
       "        <tr>\n",
       "            <td>60000</td>\n",
       "        </tr>\n",
       "    </tbody>\n",
       "</table>"
      ],
      "text/plain": [
       "[(80000,), (60000,)]"
      ]
     },
     "execution_count": 6,
     "metadata": {},
     "output_type": "execute_result"
    }
   ],
   "source": [
    "%%sql \n",
    "\n",
    "SELECT \n",
    "    DISTINCT salary \n",
    "FROM Employee e\n",
    "JOIN Department d ON e.departmentId = d.id \n",
    "WHERE d.name = 'Sales'\n",
    "ORDER BY salary DESC\n",
    "LIMIT 3"
   ]
  },
  {
   "cell_type": "code",
   "execution_count": 7,
   "metadata": {
    "vscode": {
     "languageId": "sql"
    }
   },
   "outputs": [
    {
     "data": {
      "text/html": [
       "<table>\n",
       "    <thead>\n",
       "        <tr>\n",
       "            <th>Department</th>\n",
       "            <th>Employee</th>\n",
       "            <th>Salary</th>\n",
       "        </tr>\n",
       "    </thead>\n",
       "    <tbody>\n",
       "        <tr>\n",
       "            <td>IT</td>\n",
       "            <td>Max</td>\n",
       "            <td>90000</td>\n",
       "        </tr>\n",
       "        <tr>\n",
       "            <td>IT</td>\n",
       "            <td>Joe</td>\n",
       "            <td>85000</td>\n",
       "        </tr>\n",
       "        <tr>\n",
       "            <td>IT</td>\n",
       "            <td>Randy</td>\n",
       "            <td>85000</td>\n",
       "        </tr>\n",
       "        <tr>\n",
       "            <td>IT</td>\n",
       "            <td>Will</td>\n",
       "            <td>70000</td>\n",
       "        </tr>\n",
       "    </tbody>\n",
       "</table>"
      ],
      "text/plain": [
       "[('IT', 'Max', 90000),\n",
       " ('IT', 'Joe', 85000),\n",
       " ('IT', 'Randy', 85000),\n",
       " ('IT', 'Will', 70000)]"
      ]
     },
     "execution_count": 7,
     "metadata": {},
     "output_type": "execute_result"
    }
   ],
   "source": [
    "%%sql \n",
    "\n",
    "SELECT \n",
    "    d.name AS Department, \n",
    "    e.name AS Employee, \n",
    "    e.salary AS Salary\n",
    "FROM Employee e\n",
    "JOIN Department d ON e.departmentId = d.id \n",
    "WHERE d.name = 'IT'\n",
    "    AND e.salary >= (\n",
    "        SELECT \n",
    "            DISTINCT salary\n",
    "        FROM Employee e1\n",
    "        JOIN Department d1 ON e1.departmentId = d1.id \n",
    "        WHERE d1.name = 'IT'\n",
    "        ORDER BY salary DESC\n",
    "        LIMIT 1 OFFSET 2\n",
    "    )\n",
    "ORDER BY e.salary DESC;\n"
   ]
  },
  {
   "cell_type": "code",
   "execution_count": 8,
   "metadata": {
    "vscode": {
     "languageId": "sql"
    }
   },
   "outputs": [
    {
     "data": {
      "text/html": [
       "<table>\n",
       "    <thead>\n",
       "        <tr>\n",
       "            <th>Department</th>\n",
       "            <th>Employee</th>\n",
       "            <th>Salary</th>\n",
       "        </tr>\n",
       "    </thead>\n",
       "    <tbody>\n",
       "        <tr>\n",
       "            <td>Sales</td>\n",
       "            <td>Henry</td>\n",
       "            <td>80000</td>\n",
       "        </tr>\n",
       "        <tr>\n",
       "            <td>Sales</td>\n",
       "            <td>Sam</td>\n",
       "            <td>60000</td>\n",
       "        </tr>\n",
       "    </tbody>\n",
       "</table>"
      ],
      "text/plain": [
       "[('Sales', 'Henry', 80000), ('Sales', 'Sam', 60000)]"
      ]
     },
     "execution_count": 8,
     "metadata": {},
     "output_type": "execute_result"
    }
   ],
   "source": [
    "%%sql \n",
    "\n",
    "SELECT \n",
    "    d.name AS Department,\n",
    "    e.name AS Employee,\n",
    "    e.salary AS Salary\n",
    "FROM Employee e\n",
    "JOIN Department d ON e.departmentId = d.id \n",
    "WHERE d.name = 'Sales' AND e.salary >= (\n",
    "    SELECT \n",
    "        DISTINCT salary \n",
    "    FROM Employee e\n",
    "    JOIN Department d ON e.departmentId = d.id \n",
    "    WHERE d.name = 'Sales'\n",
    "    ORDER BY salary DESC\n",
    "    LIMIT 1 OFFSET 1\n",
    ")\n",
    "ORDER BY e.salary DESC"
   ]
  },
  {
   "cell_type": "code",
   "execution_count": 9,
   "metadata": {
    "vscode": {
     "languageId": "sql"
    }
   },
   "outputs": [
    {
     "data": {
      "text/html": [
       "<table>\n",
       "    <thead>\n",
       "        <tr>\n",
       "            <th>Department</th>\n",
       "            <th>Employee</th>\n",
       "            <th>Salary</th>\n",
       "        </tr>\n",
       "    </thead>\n",
       "    <tbody>\n",
       "        <tr>\n",
       "            <td>IT</td>\n",
       "            <td>Max</td>\n",
       "            <td>90000</td>\n",
       "        </tr>\n",
       "        <tr>\n",
       "            <td>IT</td>\n",
       "            <td>Joe</td>\n",
       "            <td>85000</td>\n",
       "        </tr>\n",
       "        <tr>\n",
       "            <td>IT</td>\n",
       "            <td>Randy</td>\n",
       "            <td>85000</td>\n",
       "        </tr>\n",
       "        <tr>\n",
       "            <td>Sales</td>\n",
       "            <td>Henry</td>\n",
       "            <td>80000</td>\n",
       "        </tr>\n",
       "        <tr>\n",
       "            <td>IT</td>\n",
       "            <td>Will</td>\n",
       "            <td>70000</td>\n",
       "        </tr>\n",
       "        <tr>\n",
       "            <td>Sales</td>\n",
       "            <td>Sam</td>\n",
       "            <td>60000</td>\n",
       "        </tr>\n",
       "    </tbody>\n",
       "</table>"
      ],
      "text/plain": [
       "[('IT', 'Max', 90000),\n",
       " ('IT', 'Joe', 85000),\n",
       " ('IT', 'Randy', 85000),\n",
       " ('Sales', 'Henry', 80000),\n",
       " ('IT', 'Will', 70000),\n",
       " ('Sales', 'Sam', 60000)]"
      ]
     },
     "execution_count": 9,
     "metadata": {},
     "output_type": "execute_result"
    }
   ],
   "source": [
    "%%sql\n",
    "\n",
    "-- Solution failing test case\n",
    "SELECT \n",
    "    d.name AS Department,\n",
    "    e.name AS Employee,\n",
    "    e.salary AS Salary\n",
    "FROM Employee e\n",
    "JOIN Department d ON e.departmentId = d.id \n",
    "WHERE (d.name = 'IT' AND e.salary >= (\n",
    "    SELECT \n",
    "        DISTINCT salary \n",
    "    FROM Employee e1\n",
    "    JOIN Department d1 ON e1.departmentId = d1.id \n",
    "    WHERE d1.name = 'IT'\n",
    "    ORDER BY salary DESC\n",
    "    LIMIT 1 OFFSET 2\n",
    "))\n",
    "OR (d.name = 'Sales' AND e.salary >= (\n",
    "    SELECT \n",
    "        DISTINCT salary \n",
    "    FROM Employee e2\n",
    "    JOIN Department d2 ON e2.departmentId = d2.id \n",
    "    WHERE d2.name = 'Sales'\n",
    "    ORDER BY salary DESC\n",
    "    LIMIT 1 OFFSET 1\n",
    "))\n",
    "ORDER BY e.salary DESC;\n"
   ]
  },
  {
   "cell_type": "markdown",
   "metadata": {},
   "source": [
    "## Solution using CTE"
   ]
  },
  {
   "cell_type": "code",
   "execution_count": 10,
   "metadata": {
    "vscode": {
     "languageId": "sql"
    }
   },
   "outputs": [
    {
     "data": {
      "text/html": [
       "<table>\n",
       "    <thead>\n",
       "        <tr>\n",
       "            <th>Department</th>\n",
       "            <th>Employee</th>\n",
       "            <th>Salary</th>\n",
       "            <th>salary_rank</th>\n",
       "        </tr>\n",
       "    </thead>\n",
       "    <tbody>\n",
       "        <tr>\n",
       "            <td>IT</td>\n",
       "            <td>Max</td>\n",
       "            <td>90000</td>\n",
       "            <td>1</td>\n",
       "        </tr>\n",
       "        <tr>\n",
       "            <td>IT</td>\n",
       "            <td>Joe</td>\n",
       "            <td>85000</td>\n",
       "            <td>2</td>\n",
       "        </tr>\n",
       "        <tr>\n",
       "            <td>IT</td>\n",
       "            <td>Randy</td>\n",
       "            <td>85000</td>\n",
       "            <td>2</td>\n",
       "        </tr>\n",
       "        <tr>\n",
       "            <td>IT</td>\n",
       "            <td>Will</td>\n",
       "            <td>70000</td>\n",
       "            <td>3</td>\n",
       "        </tr>\n",
       "        <tr>\n",
       "            <td>IT</td>\n",
       "            <td>Janet</td>\n",
       "            <td>69000</td>\n",
       "            <td>4</td>\n",
       "        </tr>\n",
       "        <tr>\n",
       "            <td>Sales</td>\n",
       "            <td>Henry</td>\n",
       "            <td>80000</td>\n",
       "            <td>1</td>\n",
       "        </tr>\n",
       "        <tr>\n",
       "            <td>Sales</td>\n",
       "            <td>Sam</td>\n",
       "            <td>60000</td>\n",
       "            <td>2</td>\n",
       "        </tr>\n",
       "    </tbody>\n",
       "</table>"
      ],
      "text/plain": [
       "[('IT', 'Max', 90000, 1),\n",
       " ('IT', 'Joe', 85000, 2),\n",
       " ('IT', 'Randy', 85000, 2),\n",
       " ('IT', 'Will', 70000, 3),\n",
       " ('IT', 'Janet', 69000, 4),\n",
       " ('Sales', 'Henry', 80000, 1),\n",
       " ('Sales', 'Sam', 60000, 2)]"
      ]
     },
     "execution_count": 10,
     "metadata": {},
     "output_type": "execute_result"
    }
   ],
   "source": [
    "%%sql \n",
    "\n",
    "SELECT\n",
    "d.name AS Department,\n",
    "e.name AS Employee,\n",
    "e.Salary AS Salary,\n",
    "DENSE_RANK() OVER(PARTITION BY e.departmentId ORDER BY e.Salary DESC) AS salary_rank\n",
    "FROM Employee e\n",
    "LEFT JOIN Department d ON e.departmentId = d.id"
   ]
  },
  {
   "cell_type": "code",
   "execution_count": 11,
   "metadata": {
    "vscode": {
     "languageId": "sql"
    }
   },
   "outputs": [
    {
     "data": {
      "text/html": [
       "<table>\n",
       "    <thead>\n",
       "        <tr>\n",
       "            <th>Department</th>\n",
       "            <th>Employee</th>\n",
       "            <th>Salary</th>\n",
       "        </tr>\n",
       "    </thead>\n",
       "    <tbody>\n",
       "        <tr>\n",
       "            <td>IT</td>\n",
       "            <td>Max</td>\n",
       "            <td>90000</td>\n",
       "        </tr>\n",
       "        <tr>\n",
       "            <td>IT</td>\n",
       "            <td>Joe</td>\n",
       "            <td>85000</td>\n",
       "        </tr>\n",
       "        <tr>\n",
       "            <td>IT</td>\n",
       "            <td>Randy</td>\n",
       "            <td>85000</td>\n",
       "        </tr>\n",
       "        <tr>\n",
       "            <td>IT</td>\n",
       "            <td>Will</td>\n",
       "            <td>70000</td>\n",
       "        </tr>\n",
       "        <tr>\n",
       "            <td>Sales</td>\n",
       "            <td>Henry</td>\n",
       "            <td>80000</td>\n",
       "        </tr>\n",
       "        <tr>\n",
       "            <td>Sales</td>\n",
       "            <td>Sam</td>\n",
       "            <td>60000</td>\n",
       "        </tr>\n",
       "    </tbody>\n",
       "</table>"
      ],
      "text/plain": [
       "[('IT', 'Max', 90000),\n",
       " ('IT', 'Joe', 85000),\n",
       " ('IT', 'Randy', 85000),\n",
       " ('IT', 'Will', 70000),\n",
       " ('Sales', 'Henry', 80000),\n",
       " ('Sales', 'Sam', 60000)]"
      ]
     },
     "execution_count": 11,
     "metadata": {},
     "output_type": "execute_result"
    }
   ],
   "source": [
    "%%sql \n",
    "\n",
    "WITH salary_rank_cte AS (\n",
    "    SELECT \n",
    "        d.name AS Department,\n",
    "        e.name AS Employee,\n",
    "        e.salary AS Salary,\n",
    "        DENSE_RANK() OVER (PARTITION BY e.departmentId ORDER BY e.Salary DESC) AS salary_rank\n",
    "    FROM Employee e \n",
    "    JOIN Department d ON e.departmentId = d.id \n",
    ") \n",
    "SELECT \n",
    "    Department,\n",
    "    Employee,\n",
    "    Salary \n",
    "FROM salary_rank_cte\n",
    "WHERE salary_rank <= 3;"
   ]
  },
  {
   "cell_type": "code",
   "execution_count": 12,
   "metadata": {
    "vscode": {
     "languageId": "sql"
    }
   },
   "outputs": [
    {
     "data": {
      "text/html": [
       "<table>\n",
       "    <thead>\n",
       "        <tr>\n",
       "            <th>Department</th>\n",
       "            <th>Employee</th>\n",
       "            <th>Salary</th>\n",
       "        </tr>\n",
       "    </thead>\n",
       "    <tbody>\n",
       "        <tr>\n",
       "            <td>IT</td>\n",
       "            <td>Max</td>\n",
       "            <td>90000</td>\n",
       "        </tr>\n",
       "        <tr>\n",
       "            <td>IT</td>\n",
       "            <td>Joe</td>\n",
       "            <td>85000</td>\n",
       "        </tr>\n",
       "        <tr>\n",
       "            <td>IT</td>\n",
       "            <td>Randy</td>\n",
       "            <td>85000</td>\n",
       "        </tr>\n",
       "        <tr>\n",
       "            <td>IT</td>\n",
       "            <td>Will</td>\n",
       "            <td>70000</td>\n",
       "        </tr>\n",
       "        <tr>\n",
       "            <td>Sales</td>\n",
       "            <td>Henry</td>\n",
       "            <td>80000</td>\n",
       "        </tr>\n",
       "        <tr>\n",
       "            <td>Sales</td>\n",
       "            <td>Sam</td>\n",
       "            <td>60000</td>\n",
       "        </tr>\n",
       "    </tbody>\n",
       "</table>"
      ],
      "text/plain": [
       "[('IT', 'Max', 90000),\n",
       " ('IT', 'Joe', 85000),\n",
       " ('IT', 'Randy', 85000),\n",
       " ('IT', 'Will', 70000),\n",
       " ('Sales', 'Henry', 80000),\n",
       " ('Sales', 'Sam', 60000)]"
      ]
     },
     "execution_count": 12,
     "metadata": {},
     "output_type": "execute_result"
    }
   ],
   "source": [
    "%%sql \n",
    "-- Without using CTE \n",
    "SELECT \n",
    "    Department,\n",
    "    Employee,\n",
    "    Salary\n",
    "FROM (\n",
    "    SELECT\n",
    "        d.name AS Department,\n",
    "        e.name AS Employee,\n",
    "        e.Salary AS Salary,\n",
    "        DENSE_RANK() OVER (PARTITION BY e.departmentId ORDER BY e.Salary DESC) AS salary_rank\n",
    "    FROM Employee e\n",
    "    LEFT JOIN Department d ON e.departmentId = d.id) AS inner_table\n",
    "WHERE salary_rank <= 3"
   ]
  },
  {
   "cell_type": "markdown",
   "metadata": {},
   "source": [
    "# Using Pandas"
   ]
  },
  {
   "cell_type": "code",
   "execution_count": null,
   "metadata": {},
   "outputs": [],
   "source": [
    "employee_query = %sql SELECT * FROM Employee # type: ignore\n",
    "department_query = %sql SELECT * FROM Department #type: ignore \n",
    "employee_df = employee_query.DataFrame()\n",
    "department_df = department_query.DataFrame()\n",
    "\n",
    "display(employee_df, department_df)"
   ]
  }
 ],
 "metadata": {
  "kernelspec": {
   "display_name": "env",
   "language": "python",
   "name": "python3"
  },
  "language_info": {
   "codemirror_mode": {
    "name": "ipython",
    "version": 3
   },
   "file_extension": ".py",
   "mimetype": "text/x-python",
   "name": "python",
   "nbconvert_exporter": "python",
   "pygments_lexer": "ipython3",
   "version": "3.11.2"
  },
  "orig_nbformat": 4
 },
 "nbformat": 4,
 "nbformat_minor": 2
}
