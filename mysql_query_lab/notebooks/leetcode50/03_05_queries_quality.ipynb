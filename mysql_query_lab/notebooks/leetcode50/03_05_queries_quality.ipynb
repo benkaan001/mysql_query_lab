{
 "cells": [
  {
   "cell_type": "code",
   "execution_count": 1,
   "metadata": {
    "vscode": {
     "languageId": "sql"
    }
   },
   "outputs": [
    {
     "name": "stdout",
     "output_type": "stream",
     "text": [
      "Successfully connected to leetcode50 database.\n"
     ]
    }
   ],
   "source": [
    "%run helper/setup_notebook.ipynb import display_table"
   ]
  },
  {
   "cell_type": "code",
   "execution_count": 2,
   "metadata": {
    "vscode": {
     "languageId": "sql"
    }
   },
   "outputs": [
    {
     "name": "stdout",
     "output_type": "stream",
     "text": [
      "+------------+------------------+----------+--------+\n",
      "| query_name |      result      | position | rating |\n",
      "+------------+------------------+----------+--------+\n",
      "|    Dog     | Golden Retriever |    1     |   5    |\n",
      "|    Dog     | German Shepherd  |    2     |   5    |\n",
      "|    Dog     |       Mule       |   200    |   1    |\n",
      "|    Cat     |     Shirazi      |    5     |   2    |\n",
      "|    Cat     |     Siamese      |    3     |   3    |\n",
      "|    Cat     |      Sphynx      |    7     |   4    |\n",
      "+------------+------------------+----------+--------+\n"
     ]
    }
   ],
   "source": [
    "table_name = 'queries'\n",
    "display_table(table_name)"
   ]
  },
  {
   "attachments": {},
   "cell_type": "markdown",
   "metadata": {},
   "source": [
    "- ### We define query quality as: *The average of the ratio between query rating and its position.* \n",
    "- ### We also define poor query percentage as: *The percentage of all queries with rating less than 3.*\n",
    "\n",
    "### Write an SQL query to find each query_name, the quality and poor_query_percentage. Both quality and poor_query_percentage should be rounded to 2 decimal places.\n",
    "\n",
    "```\n",
    "+------------+---------+-----------------------+\n",
    "| query_name | quality | poor_query_percentage |\n",
    "+------------+---------+-----------------------+\n",
    "| Dog        | 2.50    | 33.33                 |\n",
    "| Cat        | 0.66    | 33.33                 |\n",
    "+------------+---------+-----------------------+\n",
    "Explanation: \n",
    "Dog queries quality is ((5 / 1) + (5 / 2) + (1 / 200)) / 3 = 2.50\n",
    "Dog queries poor_ query_percentage is (1 / 3) * 100 = 33.33\n",
    "\n",
    "Cat queries quality equals ((2 / 5) + (3 / 3) + (4 / 7)) / 3 = 0.66\n",
    "Cat queries poor_ query_percentage is (1 / 3) * 100 = 33.33\n",
    "```"
   ]
  },
  {
   "cell_type": "code",
   "execution_count": 3,
   "metadata": {
    "vscode": {
     "languageId": "sql"
    }
   },
   "outputs": [
    {
     "data": {
      "text/html": [
       "<table>\n",
       "    <thead>\n",
       "        <tr>\n",
       "            <th>query_name</th>\n",
       "            <th>quality</th>\n",
       "        </tr>\n",
       "    </thead>\n",
       "    <tbody>\n",
       "        <tr>\n",
       "            <td>Dog</td>\n",
       "            <td>2.50166667</td>\n",
       "        </tr>\n",
       "        <tr>\n",
       "            <td>Cat</td>\n",
       "            <td>0.65713333</td>\n",
       "        </tr>\n",
       "    </tbody>\n",
       "</table>"
      ],
      "text/plain": [
       "[('Dog', Decimal('2.50166667')), ('Cat', Decimal('0.65713333'))]"
      ]
     },
     "execution_count": 3,
     "metadata": {},
     "output_type": "execute_result"
    }
   ],
   "source": [
    "%%sql \n",
    "\n",
    "SELECT query_name, AVG(rating / position) as quality\n",
    "FROM Queries \n",
    "GROUP BY query_name;\n"
   ]
  },
  {
   "cell_type": "code",
   "execution_count": 4,
   "metadata": {
    "vscode": {
     "languageId": "sql"
    }
   },
   "outputs": [
    {
     "data": {
      "text/html": [
       "<table>\n",
       "    <thead>\n",
       "        <tr>\n",
       "            <th>query_name</th>\n",
       "            <th>quality</th>\n",
       "            <th>poor_query_percentage</th>\n",
       "        </tr>\n",
       "    </thead>\n",
       "    <tbody>\n",
       "        <tr>\n",
       "            <td>Dog</td>\n",
       "            <td>2.50</td>\n",
       "            <td>33.33</td>\n",
       "        </tr>\n",
       "        <tr>\n",
       "            <td>Cat</td>\n",
       "            <td>0.66</td>\n",
       "            <td>33.33</td>\n",
       "        </tr>\n",
       "    </tbody>\n",
       "</table>"
      ],
      "text/plain": [
       "[('Dog', Decimal('2.50'), Decimal('33.33')),\n",
       " ('Cat', Decimal('0.66'), Decimal('33.33'))]"
      ]
     },
     "execution_count": 4,
     "metadata": {},
     "output_type": "execute_result"
    }
   ],
   "source": [
    "%%sql\n",
    "SELECT \n",
    "    query_name, \n",
    "    ROUND(AVG(rating / position), 2) AS quality,\n",
    "    ROUND((SUM(CASE WHEN rating < 3 THEN 1 ELSE 0 END) / COUNT(*)) * 100, 2) AS poor_query_percentage\n",
    "FROM Queries\n",
    "GROUP BY query_name;\n"
   ]
  }
 ],
 "metadata": {
  "kernelspec": {
   "display_name": "env",
   "language": "python",
   "name": "python3"
  },
  "language_info": {
   "codemirror_mode": {
    "name": "ipython",
    "version": 3
   },
   "file_extension": ".py",
   "mimetype": "text/x-python",
   "name": "python",
   "nbconvert_exporter": "python",
   "pygments_lexer": "ipython3",
   "version": "3.11.2"
  },
  "orig_nbformat": 4
 },
 "nbformat": 4,
 "nbformat_minor": 2
}
