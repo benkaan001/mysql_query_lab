{
 "cells": [
  {
   "cell_type": "code",
   "execution_count": 1,
   "metadata": {
    "vscode": {
     "languageId": "sql"
    }
   },
   "outputs": [
    {
     "name": "stdout",
     "output_type": "stream",
     "text": [
      "Successfully connected to leetcode50 database.\n"
     ]
    }
   ],
   "source": [
    "%run helper/setup_notebook.ipynb import display_table"
   ]
  },
  {
   "cell_type": "code",
   "execution_count": 2,
   "metadata": {
    "vscode": {
     "languageId": "sql"
    }
   },
   "outputs": [
    {
     "name": "stdout",
     "output_type": "stream",
     "text": [
      "+------------+--------------+--------------+\n",
      "| patient_id | patient_name |  conditions  |\n",
      "+------------+--------------+--------------+\n",
      "|     1      |    Daniel    |  YFEV COUGH  |\n",
      "|     2      |    Alice     |              |\n",
      "|     3      |     Bob      | DIAB100 MYOP |\n",
      "|     4      |    George    | ACNE DIAB100 |\n",
      "|     5      |    Alain     |   DIAB201    |\n",
      "+------------+--------------+--------------+\n"
     ]
    }
   ],
   "source": [
    "display_table('Patients')"
   ]
  },
  {
   "attachments": {},
   "cell_type": "markdown",
   "metadata": {},
   "source": [
    "### Find the patient_id, patient_name and conditions of the patients who have Type I Diabetes. Type I Diabetes always starts with DIAB1 prefix.\n",
    "```\n",
    "+------------+--------------+--------------+\n",
    "| patient_id | patient_name | conditions   |\n",
    "+------------+--------------+--------------+\n",
    "| 3          | Bob          | DIAB100 MYOP |\n",
    "| 4          | George       | ACNE DIAB100 | \n",
    "+------------+--------------+--------------+\n",
    "Explanation: Bob and George both have a condition that starts with DIAB1.\n",
    "```"
   ]
  },
  {
   "cell_type": "code",
   "execution_count": 3,
   "metadata": {
    "vscode": {
     "languageId": "sql"
    }
   },
   "outputs": [
    {
     "data": {
      "text/html": [
       "<table>\n",
       "    <thead>\n",
       "        <tr>\n",
       "            <th>patient_id</th>\n",
       "            <th>patient_name</th>\n",
       "            <th>conditions</th>\n",
       "        </tr>\n",
       "    </thead>\n",
       "    <tbody>\n",
       "        <tr>\n",
       "            <td>3</td>\n",
       "            <td>Bob</td>\n",
       "            <td>DIAB100 MYOP</td>\n",
       "        </tr>\n",
       "        <tr>\n",
       "            <td>4</td>\n",
       "            <td>George</td>\n",
       "            <td>ACNE DIAB100</td>\n",
       "        </tr>\n",
       "    </tbody>\n",
       "</table>"
      ],
      "text/plain": [
       "[(3, 'Bob', 'DIAB100 MYOP'), (4, 'George', 'ACNE DIAB100')]"
      ]
     },
     "execution_count": 3,
     "metadata": {},
     "output_type": "execute_result"
    }
   ],
   "source": [
    "%%sql \n",
    "\n",
    "-- Fails a test case where condition name is `01DIAB18900`\n",
    "\n",
    "SELECT \n",
    "    patient_id,\n",
    "    patient_name,\n",
    "    conditions \n",
    "FROM Patients \n",
    "WHERE conditions LIKE '%DIAB1%'"
   ]
  },
  {
   "cell_type": "code",
   "execution_count": 4,
   "metadata": {
    "vscode": {
     "languageId": "sql"
    }
   },
   "outputs": [
    {
     "data": {
      "text/html": [
       "<table>\n",
       "    <thead>\n",
       "        <tr>\n",
       "            <th>patient_id</th>\n",
       "            <th>patient_name</th>\n",
       "            <th>conditions</th>\n",
       "        </tr>\n",
       "    </thead>\n",
       "    <tbody>\n",
       "        <tr>\n",
       "            <td>3</td>\n",
       "            <td>Bob</td>\n",
       "            <td>DIAB100 MYOP</td>\n",
       "        </tr>\n",
       "        <tr>\n",
       "            <td>4</td>\n",
       "            <td>George</td>\n",
       "            <td>ACNE DIAB100</td>\n",
       "        </tr>\n",
       "    </tbody>\n",
       "</table>"
      ],
      "text/plain": [
       "[(3, 'Bob', 'DIAB100 MYOP'), (4, 'George', 'ACNE DIAB100')]"
      ]
     },
     "execution_count": 4,
     "metadata": {},
     "output_type": "execute_result"
    }
   ],
   "source": [
    "%%sql \n",
    "-- Need to pass the empty space before DIAB1 to match test cases with multiple lines \n",
    "SELECT \n",
    "    patient_id,\n",
    "    patient_name,\n",
    "    conditions\n",
    "FROM Patients\n",
    "WHERE conditions LIKE '% DIAB1%' OR conditions LIKE 'DIAB1%'"
   ]
  },
  {
   "cell_type": "markdown",
   "metadata": {},
   "source": [
    "## Using `regex`"
   ]
  },
  {
   "cell_type": "markdown",
   "metadata": {},
   "source": [
    "#### `\\b` represents a word boundary in regular expressions. It matches a position where a word character (alphanumeric or underscore) is adjacent to a non-word character (such as whitespace, punctuation, or the start/end of a string)."
   ]
  },
  {
   "cell_type": "code",
   "execution_count": 5,
   "metadata": {
    "vscode": {
     "languageId": "sql"
    }
   },
   "outputs": [
    {
     "data": {
      "text/html": [
       "<table>\n",
       "    <thead>\n",
       "        <tr>\n",
       "            <th>patient_id</th>\n",
       "            <th>patient_name</th>\n",
       "            <th>conditions</th>\n",
       "        </tr>\n",
       "    </thead>\n",
       "    <tbody>\n",
       "        <tr>\n",
       "            <td>3</td>\n",
       "            <td>Bob</td>\n",
       "            <td>DIAB100 MYOP</td>\n",
       "        </tr>\n",
       "        <tr>\n",
       "            <td>4</td>\n",
       "            <td>George</td>\n",
       "            <td>ACNE DIAB100</td>\n",
       "        </tr>\n",
       "    </tbody>\n",
       "</table>"
      ],
      "text/plain": [
       "[(3, 'Bob', 'DIAB100 MYOP'), (4, 'George', 'ACNE DIAB100')]"
      ]
     },
     "execution_count": 5,
     "metadata": {},
     "output_type": "execute_result"
    }
   ],
   "source": [
    "%%sql \n",
    "\n",
    "SELECT \n",
    "    patient_id,\n",
    "    patient_name,\n",
    "    conditions\n",
    "FROM Patients\n",
    "WHERE conditions REGEXP '\\\\bDIAB1'"
   ]
  },
  {
   "cell_type": "markdown",
   "metadata": {},
   "source": [
    "## Using `SUBSTRING_INDEX`"
   ]
  },
  {
   "cell_type": "code",
   "execution_count": 6,
   "metadata": {
    "vscode": {
     "languageId": "sql"
    }
   },
   "outputs": [
    {
     "data": {
      "text/html": [
       "<table>\n",
       "    <thead>\n",
       "        <tr>\n",
       "            <th>first_word</th>\n",
       "            <th>last_word</th>\n",
       "        </tr>\n",
       "    </thead>\n",
       "    <tbody>\n",
       "        <tr>\n",
       "            <td>Sloppy</td>\n",
       "            <td>Joe</td>\n",
       "        </tr>\n",
       "    </tbody>\n",
       "</table>"
      ],
      "text/plain": [
       "[('Sloppy', 'Joe')]"
      ]
     },
     "execution_count": 6,
     "metadata": {},
     "output_type": "execute_result"
    }
   ],
   "source": [
    "%%sql\n",
    "\n",
    "SELECT\n",
    "    SUBSTRING_INDEX('Sloppy Joe', ' ', 1) AS first_word,\n",
    "    SUBSTRING_INDEX('Sloppy Joe', ' ', -1) AS last_word;"
   ]
  },
  {
   "cell_type": "code",
   "execution_count": 7,
   "metadata": {
    "vscode": {
     "languageId": "sql"
    }
   },
   "outputs": [
    {
     "data": {
      "text/html": [
       "<table>\n",
       "    <thead>\n",
       "        <tr>\n",
       "            <th>first_half</th>\n",
       "            <th>second_half</th>\n",
       "        </tr>\n",
       "    </thead>\n",
       "    <tbody>\n",
       "        <tr>\n",
       "            <td>YFEV</td>\n",
       "            <td>COUGH</td>\n",
       "        </tr>\n",
       "        <tr>\n",
       "            <td></td>\n",
       "            <td></td>\n",
       "        </tr>\n",
       "        <tr>\n",
       "            <td>DIAB100</td>\n",
       "            <td>MYOP</td>\n",
       "        </tr>\n",
       "        <tr>\n",
       "            <td>ACNE</td>\n",
       "            <td>DIAB100</td>\n",
       "        </tr>\n",
       "        <tr>\n",
       "            <td>DIAB201</td>\n",
       "            <td>DIAB201</td>\n",
       "        </tr>\n",
       "    </tbody>\n",
       "</table>"
      ],
      "text/plain": [
       "[('YFEV', 'COUGH'),\n",
       " ('', ''),\n",
       " ('DIAB100', 'MYOP'),\n",
       " ('ACNE', 'DIAB100'),\n",
       " ('DIAB201', 'DIAB201')]"
      ]
     },
     "execution_count": 7,
     "metadata": {},
     "output_type": "execute_result"
    }
   ],
   "source": [
    "%%sql \n",
    "-- Split the condition on ' '\n",
    "SELECT \n",
    "    SUBSTRING_INDEX(conditions, ' ', 1) AS first_half,\n",
    "    SUBSTRING_INDEX(conditions, ' ', -1) AS second_half\n",
    "FROM Patients"
   ]
  },
  {
   "cell_type": "code",
   "execution_count": 8,
   "metadata": {
    "vscode": {
     "languageId": "sql"
    }
   },
   "outputs": [
    {
     "data": {
      "text/html": [
       "<table>\n",
       "    <thead>\n",
       "        <tr>\n",
       "            <th>SUBSTR(conditions, 1, 5)</th>\n",
       "        </tr>\n",
       "    </thead>\n",
       "    <tbody>\n",
       "        <tr>\n",
       "            <td>YFEV </td>\n",
       "        </tr>\n",
       "        <tr>\n",
       "            <td></td>\n",
       "        </tr>\n",
       "        <tr>\n",
       "            <td>DIAB1</td>\n",
       "        </tr>\n",
       "        <tr>\n",
       "            <td>ACNE </td>\n",
       "        </tr>\n",
       "        <tr>\n",
       "            <td>DIAB2</td>\n",
       "        </tr>\n",
       "    </tbody>\n",
       "</table>"
      ],
      "text/plain": [
       "[('YFEV ',), ('',), ('DIAB1',), ('ACNE ',), ('DIAB2',)]"
      ]
     },
     "execution_count": 8,
     "metadata": {},
     "output_type": "execute_result"
    }
   ],
   "source": [
    "%%sql \n",
    "\n",
    "SELECT \n",
    "    SUBSTR(conditions, 1, 5)\n",
    "FROM Patients"
   ]
  },
  {
   "cell_type": "code",
   "execution_count": 9,
   "metadata": {
    "vscode": {
     "languageId": "sql"
    }
   },
   "outputs": [
    {
     "data": {
      "text/html": [
       "<table>\n",
       "    <thead>\n",
       "        <tr>\n",
       "            <th>patient_id</th>\n",
       "            <th>patient_name</th>\n",
       "            <th>conditions</th>\n",
       "        </tr>\n",
       "    </thead>\n",
       "    <tbody>\n",
       "        <tr>\n",
       "            <td>3</td>\n",
       "            <td>Bob</td>\n",
       "            <td>DIAB100 MYOP</td>\n",
       "        </tr>\n",
       "        <tr>\n",
       "            <td>4</td>\n",
       "            <td>George</td>\n",
       "            <td>ACNE DIAB100</td>\n",
       "        </tr>\n",
       "    </tbody>\n",
       "</table>"
      ],
      "text/plain": [
       "[(3, 'Bob', 'DIAB100 MYOP'), (4, 'George', 'ACNE DIAB100')]"
      ]
     },
     "execution_count": 9,
     "metadata": {},
     "output_type": "execute_result"
    }
   ],
   "source": [
    "%%sql\n",
    "-- This solution fails the test cases \n",
    "WITH substring_table AS (\n",
    "    SELECT \n",
    "        patient_id,\n",
    "        patient_name,\n",
    "        SUBSTRING_INDEX(conditions, ' ', 1) AS first_half,\n",
    "        SUBSTRING_INDEX(conditions, ' ', -1) AS second_half,\n",
    "        conditions\n",
    "    FROM Patients\n",
    ")\n",
    "SELECT \n",
    "    patient_id,\n",
    "    patient_name,\n",
    "    conditions\n",
    "FROM substring_table\n",
    "WHERE SUBSTR(first_half, 1, 5) = 'DIAB1' OR SUBSTR(second_half, 1, 5) = 'DIAB1';"
   ]
  }
 ],
 "metadata": {
  "kernelspec": {
   "display_name": "env",
   "language": "python",
   "name": "python3"
  },
  "language_info": {
   "codemirror_mode": {
    "name": "ipython",
    "version": 3
   },
   "file_extension": ".py",
   "mimetype": "text/x-python",
   "name": "python",
   "nbconvert_exporter": "python",
   "pygments_lexer": "ipython3",
   "version": "3.11.2"
  },
  "orig_nbformat": 4
 },
 "nbformat": 4,
 "nbformat_minor": 2
}
