{
 "cells": [
  {
   "cell_type": "code",
   "execution_count": 1,
   "metadata": {},
   "outputs": [
    {
     "name": "stdout",
     "output_type": "stream",
     "text": [
      "Successfully connected to universities database.\n"
     ]
    }
   ],
   "source": [
    "%run setup_notebook.ipynb"
   ]
  },
  {
   "cell_type": "code",
   "execution_count": 2,
   "metadata": {},
   "outputs": [
    {
     "name": "stdout",
     "output_type": "stream",
     "text": [
      "__init__.py        create_tables.sql  seed_tables.sql\n"
     ]
    }
   ],
   "source": [
    "ls ../../../databases/universities_db/"
   ]
  },
  {
   "cell_type": "code",
   "execution_count": 3,
   "metadata": {
    "vscode": {
     "languageId": "sql"
    }
   },
   "outputs": [
    {
     "data": {
      "text/plain": [
       "[]"
      ]
     },
     "execution_count": 3,
     "metadata": {},
     "output_type": "execute_result"
    }
   ],
   "source": [
    "%sql -f ../../../databases/universities_db/create_tables.sql"
   ]
  },
  {
   "cell_type": "code",
   "execution_count": 4,
   "metadata": {
    "vscode": {
     "languageId": "sql"
    }
   },
   "outputs": [
    {
     "data": {
      "text/html": [
       "<table>\n",
       "    <thead>\n",
       "        <tr>\n",
       "            <th>Tables_in_universities</th>\n",
       "        </tr>\n",
       "    </thead>\n",
       "    <tbody>\n",
       "        <tr>\n",
       "            <td>country</td>\n",
       "        </tr>\n",
       "        <tr>\n",
       "            <td>ranking_criteria</td>\n",
       "        </tr>\n",
       "        <tr>\n",
       "            <td>ranking_system</td>\n",
       "        </tr>\n",
       "        <tr>\n",
       "            <td>university</td>\n",
       "        </tr>\n",
       "        <tr>\n",
       "            <td>university_ranking_year</td>\n",
       "        </tr>\n",
       "        <tr>\n",
       "            <td>university_year</td>\n",
       "        </tr>\n",
       "    </tbody>\n",
       "</table>"
      ],
      "text/plain": [
       "[('country',),\n",
       " ('ranking_criteria',),\n",
       " ('ranking_system',),\n",
       " ('university',),\n",
       " ('university_ranking_year',),\n",
       " ('university_year',)]"
      ]
     },
     "execution_count": 4,
     "metadata": {},
     "output_type": "execute_result"
    }
   ],
   "source": [
    "%%sql \n",
    "\n",
    "-- confirm that tables are created successfully \n",
    "\n",
    "SHOW TABLES;"
   ]
  }
 ],
 "metadata": {
  "kernelspec": {
   "display_name": "env",
   "language": "python",
   "name": "python3"
  },
  "language_info": {
   "codemirror_mode": {
    "name": "ipython",
    "version": 3
   },
   "file_extension": ".py",
   "mimetype": "text/x-python",
   "name": "python",
   "nbconvert_exporter": "python",
   "pygments_lexer": "ipython3",
   "version": "3.11.2"
  },
  "orig_nbformat": 4
 },
 "nbformat": 4,
 "nbformat_minor": 2
}
