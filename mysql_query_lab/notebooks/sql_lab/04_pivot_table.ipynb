{
 "cells": [
  {
   "cell_type": "code",
   "execution_count": 1,
   "metadata": {},
   "outputs": [
    {
     "name": "stdout",
     "output_type": "stream",
     "text": [
      "Successfully connected to sql_lab database.\n"
     ]
    }
   ],
   "source": [
    "%run helper/setup_notebook.ipynb"
   ]
  },
  {
   "attachments": {},
   "cell_type": "markdown",
   "metadata": {},
   "source": [
    "#### ***Pivot tables*** enable the presentation of row values as columns, facilitating insightful observations. Unfortunately, MySQL does not provide a built-in function for creating pivot tables. Nevertheless, there exist multiple approaches to creating pivot tables in MySQL."
   ]
  },
  {
   "cell_type": "code",
   "execution_count": 2,
   "metadata": {
    "vscode": {
     "languageId": "sql"
    }
   },
   "outputs": [
    {
     "data": {
      "text/html": [
       "<table>\n",
       "    <thead>\n",
       "        <tr>\n",
       "            <th>student</th>\n",
       "            <th>exam</th>\n",
       "            <th>score</th>\n",
       "        </tr>\n",
       "    </thead>\n",
       "    <tbody>\n",
       "        <tr>\n",
       "            <td>Bao</td>\n",
       "            <td>Math</td>\n",
       "            <td>90</td>\n",
       "        </tr>\n",
       "        <tr>\n",
       "            <td>Bao</td>\n",
       "            <td>English</td>\n",
       "            <td>78</td>\n",
       "        </tr>\n",
       "        <tr>\n",
       "            <td>Bao</td>\n",
       "            <td>History</td>\n",
       "            <td>88</td>\n",
       "        </tr>\n",
       "        <tr>\n",
       "            <td>Bao</td>\n",
       "            <td>Art</td>\n",
       "            <td>60</td>\n",
       "        </tr>\n",
       "        <tr>\n",
       "            <td>Joe</td>\n",
       "            <td>Math</td>\n",
       "            <td>69</td>\n",
       "        </tr>\n",
       "        <tr>\n",
       "            <td>Joe</td>\n",
       "            <td>English</td>\n",
       "            <td>87</td>\n",
       "        </tr>\n",
       "        <tr>\n",
       "            <td>Joe</td>\n",
       "            <td>History</td>\n",
       "            <td>98</td>\n",
       "        </tr>\n",
       "        <tr>\n",
       "            <td>Joe</td>\n",
       "            <td>Art</td>\n",
       "            <td>79</td>\n",
       "        </tr>\n",
       "        <tr>\n",
       "            <td>Jane</td>\n",
       "            <td>Math</td>\n",
       "            <td>99</td>\n",
       "        </tr>\n",
       "        <tr>\n",
       "            <td>Jane</td>\n",
       "            <td>English</td>\n",
       "            <td>77</td>\n",
       "        </tr>\n",
       "        <tr>\n",
       "            <td>Jane</td>\n",
       "            <td>History</td>\n",
       "            <td>83</td>\n",
       "        </tr>\n",
       "        <tr>\n",
       "            <td>Jane</td>\n",
       "            <td>Art</td>\n",
       "            <td>100</td>\n",
       "        </tr>\n",
       "    </tbody>\n",
       "</table>"
      ],
      "text/plain": [
       "[('Bao', 'Math', 90),\n",
       " ('Bao', 'English', 78),\n",
       " ('Bao', 'History', 88),\n",
       " ('Bao', 'Art', 60),\n",
       " ('Joe', 'Math', 69),\n",
       " ('Joe', 'English', 87),\n",
       " ('Joe', 'History', 98),\n",
       " ('Joe', 'Art', 79),\n",
       " ('Jane', 'Math', 99),\n",
       " ('Jane', 'English', 77),\n",
       " ('Jane', 'History', 83),\n",
       " ('Jane', 'Art', 100)]"
      ]
     },
     "execution_count": 2,
     "metadata": {},
     "output_type": "execute_result"
    }
   ],
   "source": [
    "%%sql\n",
    "\n",
    "SELECT * \n",
    "FROM exams;"
   ]
  },
  {
   "attachments": {},
   "cell_type": "markdown",
   "metadata": {},
   "source": [
    "### *Desired output*\n",
    "\n",
    "```sql\n",
    "+---------+------+---------+---------+------+\n",
    "| student | Math | English | History | Art  |\n",
    "+---------+------+---------+---------+------+\n",
    "| Bao     |   90 |      78 |      88 |   60 |\n",
    "| Jane    |   99 |      77 |      83 |  100 |\n",
    "| Joe     |   69 |      87 |      98 |   79 |\n",
    "+---------+------+---------+---------+------+\n",
    "```"
   ]
  },
  {
   "attachments": {},
   "cell_type": "markdown",
   "metadata": {},
   "source": [
    "## Using *CASE* Statement"
   ]
  },
  {
   "cell_type": "code",
   "execution_count": 3,
   "metadata": {
    "vscode": {
     "languageId": "sql"
    }
   },
   "outputs": [
    {
     "data": {
      "text/html": [
       "<table>\n",
       "    <thead>\n",
       "        <tr>\n",
       "            <th>student</th>\n",
       "            <th>Math</th>\n",
       "            <th>English</th>\n",
       "            <th>History</th>\n",
       "            <th>Art</th>\n",
       "        </tr>\n",
       "    </thead>\n",
       "    <tbody>\n",
       "        <tr>\n",
       "            <td>Bao</td>\n",
       "            <td>90</td>\n",
       "            <td>None</td>\n",
       "            <td>None</td>\n",
       "            <td>None</td>\n",
       "        </tr>\n",
       "        <tr>\n",
       "            <td>Bao</td>\n",
       "            <td>None</td>\n",
       "            <td>78</td>\n",
       "            <td>None</td>\n",
       "            <td>None</td>\n",
       "        </tr>\n",
       "        <tr>\n",
       "            <td>Bao</td>\n",
       "            <td>None</td>\n",
       "            <td>None</td>\n",
       "            <td>88</td>\n",
       "            <td>None</td>\n",
       "        </tr>\n",
       "        <tr>\n",
       "            <td>Bao</td>\n",
       "            <td>None</td>\n",
       "            <td>None</td>\n",
       "            <td>None</td>\n",
       "            <td>60</td>\n",
       "        </tr>\n",
       "        <tr>\n",
       "            <td>Joe</td>\n",
       "            <td>69</td>\n",
       "            <td>None</td>\n",
       "            <td>None</td>\n",
       "            <td>None</td>\n",
       "        </tr>\n",
       "        <tr>\n",
       "            <td>Joe</td>\n",
       "            <td>None</td>\n",
       "            <td>87</td>\n",
       "            <td>None</td>\n",
       "            <td>None</td>\n",
       "        </tr>\n",
       "        <tr>\n",
       "            <td>Joe</td>\n",
       "            <td>None</td>\n",
       "            <td>None</td>\n",
       "            <td>98</td>\n",
       "            <td>None</td>\n",
       "        </tr>\n",
       "        <tr>\n",
       "            <td>Joe</td>\n",
       "            <td>None</td>\n",
       "            <td>None</td>\n",
       "            <td>None</td>\n",
       "            <td>79</td>\n",
       "        </tr>\n",
       "        <tr>\n",
       "            <td>Jane</td>\n",
       "            <td>99</td>\n",
       "            <td>None</td>\n",
       "            <td>None</td>\n",
       "            <td>None</td>\n",
       "        </tr>\n",
       "        <tr>\n",
       "            <td>Jane</td>\n",
       "            <td>None</td>\n",
       "            <td>77</td>\n",
       "            <td>None</td>\n",
       "            <td>None</td>\n",
       "        </tr>\n",
       "        <tr>\n",
       "            <td>Jane</td>\n",
       "            <td>None</td>\n",
       "            <td>None</td>\n",
       "            <td>83</td>\n",
       "            <td>None</td>\n",
       "        </tr>\n",
       "        <tr>\n",
       "            <td>Jane</td>\n",
       "            <td>None</td>\n",
       "            <td>None</td>\n",
       "            <td>None</td>\n",
       "            <td>100</td>\n",
       "        </tr>\n",
       "    </tbody>\n",
       "</table>"
      ],
      "text/plain": [
       "[('Bao', 90, None, None, None),\n",
       " ('Bao', None, 78, None, None),\n",
       " ('Bao', None, None, 88, None),\n",
       " ('Bao', None, None, None, 60),\n",
       " ('Joe', 69, None, None, None),\n",
       " ('Joe', None, 87, None, None),\n",
       " ('Joe', None, None, 98, None),\n",
       " ('Joe', None, None, None, 79),\n",
       " ('Jane', 99, None, None, None),\n",
       " ('Jane', None, 77, None, None),\n",
       " ('Jane', None, None, 83, None),\n",
       " ('Jane', None, None, None, 100)]"
      ]
     },
     "execution_count": 3,
     "metadata": {},
     "output_type": "execute_result"
    }
   ],
   "source": [
    "%%sql \n",
    "\n",
    "SELECT\n",
    "    student,\n",
    "    CASE WHEN exam='Math' THEN score ELSE NULL END AS Math,\n",
    "    CASE WHEN exam='English' THEN score ELSE NULL END AS English,\n",
    "    CASE WHEN exam='History' THEN score ELSE NULL END AS History,\n",
    "    CASE WHEN exam='Art' THEN score ELSE NULL END AS Art \n",
    "FROM exams;"
   ]
  },
  {
   "cell_type": "code",
   "execution_count": 4,
   "metadata": {
    "vscode": {
     "languageId": "sql"
    }
   },
   "outputs": [
    {
     "data": {
      "text/html": [
       "<table>\n",
       "    <thead>\n",
       "        <tr>\n",
       "            <th>student</th>\n",
       "            <th>Math</th>\n",
       "            <th>English</th>\n",
       "            <th>History</th>\n",
       "            <th>Art</th>\n",
       "        </tr>\n",
       "    </thead>\n",
       "    <tbody>\n",
       "        <tr>\n",
       "            <td>Bao</td>\n",
       "            <td>90</td>\n",
       "            <td>78</td>\n",
       "            <td>88</td>\n",
       "            <td>60</td>\n",
       "        </tr>\n",
       "        <tr>\n",
       "            <td>Joe</td>\n",
       "            <td>69</td>\n",
       "            <td>87</td>\n",
       "            <td>98</td>\n",
       "            <td>79</td>\n",
       "        </tr>\n",
       "        <tr>\n",
       "            <td>Jane</td>\n",
       "            <td>99</td>\n",
       "            <td>77</td>\n",
       "            <td>83</td>\n",
       "            <td>100</td>\n",
       "        </tr>\n",
       "    </tbody>\n",
       "</table>"
      ],
      "text/plain": [
       "[('Bao', Decimal('90'), Decimal('78'), Decimal('88'), Decimal('60')),\n",
       " ('Joe', Decimal('69'), Decimal('87'), Decimal('98'), Decimal('79')),\n",
       " ('Jane', Decimal('99'), Decimal('77'), Decimal('83'), Decimal('100'))]"
      ]
     },
     "execution_count": 4,
     "metadata": {},
     "output_type": "execute_result"
    }
   ],
   "source": [
    "%%sql \n",
    "\n",
    "-- since we are dealing with integer values \n",
    "-- we can group by student name to use SUM function\n",
    "\n",
    "SELECT\n",
    "    student,\n",
    "    SUM(CASE WHEN exam='Math' THEN score ELSE NULL END) AS Math,\n",
    "    SUM(CASE WHEN exam='English' THEN score ELSE NULL END) AS English,\n",
    "    SUM(CASE WHEN exam='History' THEN score ELSE NULL END) AS History,\n",
    "    SUM(CASE WHEN exam='Art' THEN score ELSE NULL END) AS Art \n",
    "FROM exams\n",
    "GROUP BY student;"
   ]
  },
  {
   "cell_type": "code",
   "execution_count": 5,
   "metadata": {
    "vscode": {
     "languageId": "sql"
    }
   },
   "outputs": [
    {
     "data": {
      "text/html": [
       "<table>\n",
       "    <thead>\n",
       "        <tr>\n",
       "            <th>student</th>\n",
       "            <th>Non_Math_Average</th>\n",
       "            <th>Math</th>\n",
       "        </tr>\n",
       "    </thead>\n",
       "    <tbody>\n",
       "        <tr>\n",
       "            <td>Bao</td>\n",
       "            <td>75.3333</td>\n",
       "            <td>90</td>\n",
       "        </tr>\n",
       "        <tr>\n",
       "            <td>Joe</td>\n",
       "            <td>88.0000</td>\n",
       "            <td>69</td>\n",
       "        </tr>\n",
       "        <tr>\n",
       "            <td>Jane</td>\n",
       "            <td>86.6667</td>\n",
       "            <td>99</td>\n",
       "        </tr>\n",
       "    </tbody>\n",
       "</table>"
      ],
      "text/plain": [
       "[('Bao', Decimal('75.3333'), Decimal('90')),\n",
       " ('Joe', Decimal('88.0000'), Decimal('69')),\n",
       " ('Jane', Decimal('86.6667'), Decimal('99'))]"
      ]
     },
     "execution_count": 5,
     "metadata": {},
     "output_type": "execute_result"
    }
   ],
   "source": [
    "%%sql \n",
    "\n",
    "-- pivot tables enable to derive valuable insight\n",
    "-- assume that we want to find out the average score of the students on\n",
    "-- non-Math related exams \n",
    "\n",
    "SELECT \n",
    "    student,\n",
    "    SUM(CASE WHEN exam <> 'Math' THEN score ELSE NULL END)/3 AS Non_Math_Average,\n",
    "    SUM(CASE WHEN exam = 'Math' THEN score ELSE NULL END) AS Math \n",
    "FROM exams\n",
    "GROUP BY student;"
   ]
  },
  {
   "attachments": {},
   "cell_type": "markdown",
   "metadata": {},
   "source": [
    "## Using *IF* Statement"
   ]
  },
  {
   "cell_type": "code",
   "execution_count": 6,
   "metadata": {
    "vscode": {
     "languageId": "sql"
    }
   },
   "outputs": [
    {
     "data": {
      "text/html": [
       "<table>\n",
       "    <thead>\n",
       "        <tr>\n",
       "            <th>student</th>\n",
       "            <th>Math</th>\n",
       "            <th>English</th>\n",
       "            <th>History</th>\n",
       "            <th>Art</th>\n",
       "        </tr>\n",
       "    </thead>\n",
       "    <tbody>\n",
       "        <tr>\n",
       "            <td>Bao</td>\n",
       "            <td>90</td>\n",
       "            <td>78</td>\n",
       "            <td>88</td>\n",
       "            <td>60</td>\n",
       "        </tr>\n",
       "        <tr>\n",
       "            <td>Joe</td>\n",
       "            <td>69</td>\n",
       "            <td>87</td>\n",
       "            <td>98</td>\n",
       "            <td>79</td>\n",
       "        </tr>\n",
       "        <tr>\n",
       "            <td>Jane</td>\n",
       "            <td>99</td>\n",
       "            <td>77</td>\n",
       "            <td>83</td>\n",
       "            <td>100</td>\n",
       "        </tr>\n",
       "    </tbody>\n",
       "</table>"
      ],
      "text/plain": [
       "[('Bao', Decimal('90'), Decimal('78'), Decimal('88'), Decimal('60')),\n",
       " ('Joe', Decimal('69'), Decimal('87'), Decimal('98'), Decimal('79')),\n",
       " ('Jane', Decimal('99'), Decimal('77'), Decimal('83'), Decimal('100'))]"
      ]
     },
     "execution_count": 6,
     "metadata": {},
     "output_type": "execute_result"
    }
   ],
   "source": [
    "%%sql \n",
    "\n",
    "SELECT\n",
    "    student,\n",
    "    SUM(IF(exam='Math', score, NULL)) AS Math,\n",
    "    SUM(IF(exam='English', score, NULL)) AS English,\n",
    "    SUM(IF(exam='History', score, NULL)) AS History,\n",
    "    SUM(IF(exam='Art', score, NULL)) AS Art \n",
    "FROM exams \n",
    "GROUP BY student;\n"
   ]
  },
  {
   "attachments": {},
   "cell_type": "markdown",
   "metadata": {},
   "source": [
    "## Using *Stored Procedure*"
   ]
  },
  {
   "attachments": {},
   "cell_type": "markdown",
   "metadata": {},
   "source": [
    "- #### These two methods work great if we know the column names - `Math`, `English`, etc.\n",
    "- #### *GROUP_CONCAT* function helps us dynamically generate the columns of a PIVOT table. "
   ]
  },
  {
   "cell_type": "code",
   "execution_count": 7,
   "metadata": {
    "vscode": {
     "languageId": "sql"
    }
   },
   "outputs": [
    {
     "data": {
      "text/plain": [
       "[]"
      ]
     },
     "execution_count": 7,
     "metadata": {},
     "output_type": "execute_result"
    }
   ],
   "source": [
    "%%sql\n",
    "\n",
    "DROP PROCEDURE IF EXISTS create_pivot_table;\n",
    "\n",
    "CREATE PROCEDURE create_pivot_table()\n",
    "BEGIN\n",
    "    DECLARE sql_query VARCHAR(4000);\n",
    "    DECLARE exam_list VARCHAR(4000);\n",
    "  \n",
    "    -- Get the list of unique exams\n",
    "    SELECT \n",
    "        GROUP_CONCAT(DISTINCT CONCAT('MAX(CASE WHEN exam = ''', exam, ''' THEN score END) AS ', exam)) \n",
    "    INTO exam_list \n",
    "    FROM exams;\n",
    "  \n",
    "    -- Prepare the dynamic SQL query\n",
    "    SET @sql_query = CONCAT('SELECT student, ', exam_list, ' FROM exams GROUP BY student;');\n",
    "  \n",
    "    -- Execute the dynamic SQL query\n",
    "    PREPARE stmt FROM @sql_query;\n",
    "    EXECUTE stmt;\n",
    "    DEALLOCATE PREPARE stmt;\n",
    "END;\n"
   ]
  },
  {
   "cell_type": "code",
   "execution_count": 8,
   "metadata": {
    "vscode": {
     "languageId": "sql"
    }
   },
   "outputs": [
    {
     "data": {
      "text/plain": [
       "[]"
      ]
     },
     "execution_count": 8,
     "metadata": {},
     "output_type": "execute_result"
    }
   ],
   "source": [
    "%%sql\n",
    "-- unable to call a procedure\n",
    "-- CALL create_pivot_table();"
   ]
  }
 ],
 "metadata": {
  "kernelspec": {
   "display_name": "env",
   "language": "python",
   "name": "python3"
  },
  "language_info": {
   "codemirror_mode": {
    "name": "ipython",
    "version": 3
   },
   "file_extension": ".py",
   "mimetype": "text/x-python",
   "name": "python",
   "nbconvert_exporter": "python",
   "pygments_lexer": "ipython3",
   "version": "3.11.2"
  },
  "orig_nbformat": 4
 },
 "nbformat": 4,
 "nbformat_minor": 2
}
