{
 "cells": [
  {
   "cell_type": "code",
   "execution_count": 1,
   "metadata": {},
   "outputs": [
    {
     "name": "stdout",
     "output_type": "stream",
     "text": [
      "Successfully connected to sql_lab database.\n"
     ]
    }
   ],
   "source": [
    "%run helper/setup_notebook.ipynb"
   ]
  },
  {
   "attachments": {},
   "cell_type": "markdown",
   "metadata": {},
   "source": [
    "**LAG Function Syntax:**\n",
    "\n",
    "The LAG function allows you to retrieve a value from a previous row in a result set based on a specified offset. Here is the syntax for using the LAG function:\n",
    "\n",
    "```sql\n",
    "LAG(expression [, offset [, default]]) OVER ([query_partition_clause] order_by_clause)\n",
    "```\n",
    "\n",
    "- **expression (mandatory):** This represents the column or value that you want the LAG function to evaluate and return for the previous row.\n",
    "\n",
    "- **offset (optional):** You can specify the number of rows \"backward\" in the result set to look at. If you omit this parameter, the default offset is 1, meaning the LAG function will retrieve the value from the immediate previous row.\n",
    "\n",
    "- **default (optional):** If the offset is outside the bounds of the result set, you can specify a default value to be returned. The default value is usually set to NULL if not explicitly provided.\n",
    "\n",
    "- **query_partition_clause (optional):** This clause allows you to divide the analysis into partitions, similar to other analytic functions. It creates groups within which the LAG function operates independently.\n",
    "\n",
    "- **order_by_clause (mandatory):** Use the order_by_clause to determine the order of the records in the result set. This determines which row is considered \"previous\" for the LAG function."
   ]
  },
  {
   "cell_type": "code",
   "execution_count": 2,
   "metadata": {
    "vscode": {
     "languageId": "sql"
    }
   },
   "outputs": [
    {
     "data": {
      "text/html": [
       "<table>\n",
       "    <thead>\n",
       "        <tr>\n",
       "            <th>stock_name</th>\n",
       "            <th>price_date</th>\n",
       "            <th>closing_price</th>\n",
       "        </tr>\n",
       "    </thead>\n",
       "    <tbody>\n",
       "        <tr>\n",
       "            <td>Apple</td>\n",
       "            <td>2023-01-01</td>\n",
       "            <td>155.00</td>\n",
       "        </tr>\n",
       "        <tr>\n",
       "            <td>Apple</td>\n",
       "            <td>2023-01-02</td>\n",
       "            <td>160.00</td>\n",
       "        </tr>\n",
       "        <tr>\n",
       "            <td>Apple</td>\n",
       "            <td>2023-01-03</td>\n",
       "            <td>143.00</td>\n",
       "        </tr>\n",
       "        <tr>\n",
       "            <td>Apple</td>\n",
       "            <td>2023-01-04</td>\n",
       "            <td>169.00</td>\n",
       "        </tr>\n",
       "        <tr>\n",
       "            <td>Apple</td>\n",
       "            <td>2023-01-05</td>\n",
       "            <td>162.00</td>\n",
       "        </tr>\n",
       "        <tr>\n",
       "            <td>Microsoft</td>\n",
       "            <td>2023-01-01</td>\n",
       "            <td>205.00</td>\n",
       "        </tr>\n",
       "        <tr>\n",
       "            <td>Microsoft</td>\n",
       "            <td>2023-01-02</td>\n",
       "            <td>211.00</td>\n",
       "        </tr>\n",
       "        <tr>\n",
       "            <td>Microsoft</td>\n",
       "            <td>2023-01-03</td>\n",
       "            <td>202.00</td>\n",
       "        </tr>\n",
       "        <tr>\n",
       "            <td>Microsoft</td>\n",
       "            <td>2023-01-04</td>\n",
       "            <td>226.00</td>\n",
       "        </tr>\n",
       "        <tr>\n",
       "            <td>Microsoft</td>\n",
       "            <td>2023-01-05</td>\n",
       "            <td>214.00</td>\n",
       "        </tr>\n",
       "    </tbody>\n",
       "</table>"
      ],
      "text/plain": [
       "[('Apple', datetime.date(2023, 1, 1), Decimal('155.00')),\n",
       " ('Apple', datetime.date(2023, 1, 2), Decimal('160.00')),\n",
       " ('Apple', datetime.date(2023, 1, 3), Decimal('143.00')),\n",
       " ('Apple', datetime.date(2023, 1, 4), Decimal('169.00')),\n",
       " ('Apple', datetime.date(2023, 1, 5), Decimal('162.00')),\n",
       " ('Microsoft', datetime.date(2023, 1, 1), Decimal('205.00')),\n",
       " ('Microsoft', datetime.date(2023, 1, 2), Decimal('211.00')),\n",
       " ('Microsoft', datetime.date(2023, 1, 3), Decimal('202.00')),\n",
       " ('Microsoft', datetime.date(2023, 1, 4), Decimal('226.00')),\n",
       " ('Microsoft', datetime.date(2023, 1, 5), Decimal('214.00'))]"
      ]
     },
     "execution_count": 2,
     "metadata": {},
     "output_type": "execute_result"
    }
   ],
   "source": [
    "%%sql \n",
    "\n",
    "SELECT * FROM stock_price;\n"
   ]
  },
  {
   "cell_type": "code",
   "execution_count": 3,
   "metadata": {
    "vscode": {
     "languageId": "sql"
    }
   },
   "outputs": [
    {
     "data": {
      "text/html": [
       "<table>\n",
       "    <thead>\n",
       "        <tr>\n",
       "            <th>stock_name</th>\n",
       "            <th>price_date</th>\n",
       "            <th>closing_price</th>\n",
       "            <th>previous_day_close</th>\n",
       "        </tr>\n",
       "    </thead>\n",
       "    <tbody>\n",
       "        <tr>\n",
       "            <td>Apple</td>\n",
       "            <td>2023-01-01</td>\n",
       "            <td>155.00</td>\n",
       "            <td>None</td>\n",
       "        </tr>\n",
       "        <tr>\n",
       "            <td>Apple</td>\n",
       "            <td>2023-01-02</td>\n",
       "            <td>160.00</td>\n",
       "            <td>205.00</td>\n",
       "        </tr>\n",
       "        <tr>\n",
       "            <td>Apple</td>\n",
       "            <td>2023-01-03</td>\n",
       "            <td>143.00</td>\n",
       "            <td>211.00</td>\n",
       "        </tr>\n",
       "        <tr>\n",
       "            <td>Apple</td>\n",
       "            <td>2023-01-04</td>\n",
       "            <td>169.00</td>\n",
       "            <td>202.00</td>\n",
       "        </tr>\n",
       "        <tr>\n",
       "            <td>Apple</td>\n",
       "            <td>2023-01-05</td>\n",
       "            <td>162.00</td>\n",
       "            <td>226.00</td>\n",
       "        </tr>\n",
       "        <tr>\n",
       "            <td>Microsoft</td>\n",
       "            <td>2023-01-01</td>\n",
       "            <td>205.00</td>\n",
       "            <td>155.00</td>\n",
       "        </tr>\n",
       "        <tr>\n",
       "            <td>Microsoft</td>\n",
       "            <td>2023-01-02</td>\n",
       "            <td>211.00</td>\n",
       "            <td>160.00</td>\n",
       "        </tr>\n",
       "        <tr>\n",
       "            <td>Microsoft</td>\n",
       "            <td>2023-01-03</td>\n",
       "            <td>202.00</td>\n",
       "            <td>143.00</td>\n",
       "        </tr>\n",
       "        <tr>\n",
       "            <td>Microsoft</td>\n",
       "            <td>2023-01-04</td>\n",
       "            <td>226.00</td>\n",
       "            <td>169.00</td>\n",
       "        </tr>\n",
       "        <tr>\n",
       "            <td>Microsoft</td>\n",
       "            <td>2023-01-05</td>\n",
       "            <td>214.00</td>\n",
       "            <td>162.00</td>\n",
       "        </tr>\n",
       "    </tbody>\n",
       "</table>"
      ],
      "text/plain": [
       "[('Apple', datetime.date(2023, 1, 1), Decimal('155.00'), None),\n",
       " ('Apple', datetime.date(2023, 1, 2), Decimal('160.00'), Decimal('205.00')),\n",
       " ('Apple', datetime.date(2023, 1, 3), Decimal('143.00'), Decimal('211.00')),\n",
       " ('Apple', datetime.date(2023, 1, 4), Decimal('169.00'), Decimal('202.00')),\n",
       " ('Apple', datetime.date(2023, 1, 5), Decimal('162.00'), Decimal('226.00')),\n",
       " ('Microsoft', datetime.date(2023, 1, 1), Decimal('205.00'), Decimal('155.00')),\n",
       " ('Microsoft', datetime.date(2023, 1, 2), Decimal('211.00'), Decimal('160.00')),\n",
       " ('Microsoft', datetime.date(2023, 1, 3), Decimal('202.00'), Decimal('143.00')),\n",
       " ('Microsoft', datetime.date(2023, 1, 4), Decimal('226.00'), Decimal('169.00')),\n",
       " ('Microsoft', datetime.date(2023, 1, 5), Decimal('214.00'), Decimal('162.00'))]"
      ]
     },
     "execution_count": 3,
     "metadata": {},
     "output_type": "execute_result"
    }
   ],
   "source": [
    "%%sql \n",
    "-- Notice the incorrect previous_day_close values without partitioning\n",
    "SELECT \n",
    "    stock_name,\n",
    "    price_date,\n",
    "    closing_price,\n",
    "    LAG(closing_price) OVER (ORDER BY price_date) AS previous_day_close\n",
    "FROM stock_price\n",
    "ORDER BY stock_name;"
   ]
  },
  {
   "cell_type": "code",
   "execution_count": 4,
   "metadata": {
    "vscode": {
     "languageId": "sql"
    }
   },
   "outputs": [
    {
     "data": {
      "text/html": [
       "<table>\n",
       "    <thead>\n",
       "        <tr>\n",
       "            <th>stock_name</th>\n",
       "            <th>price_date</th>\n",
       "            <th>closing_price</th>\n",
       "            <th>previous_day_close</th>\n",
       "            <th>day_variance</th>\n",
       "        </tr>\n",
       "    </thead>\n",
       "    <tbody>\n",
       "        <tr>\n",
       "            <td>Apple</td>\n",
       "            <td>2023-01-01</td>\n",
       "            <td>155.00</td>\n",
       "            <td>None</td>\n",
       "            <td>None</td>\n",
       "        </tr>\n",
       "        <tr>\n",
       "            <td>Apple</td>\n",
       "            <td>2023-01-02</td>\n",
       "            <td>160.00</td>\n",
       "            <td>155.00</td>\n",
       "            <td>5.00</td>\n",
       "        </tr>\n",
       "        <tr>\n",
       "            <td>Apple</td>\n",
       "            <td>2023-01-03</td>\n",
       "            <td>143.00</td>\n",
       "            <td>160.00</td>\n",
       "            <td>-17.00</td>\n",
       "        </tr>\n",
       "        <tr>\n",
       "            <td>Apple</td>\n",
       "            <td>2023-01-04</td>\n",
       "            <td>169.00</td>\n",
       "            <td>143.00</td>\n",
       "            <td>26.00</td>\n",
       "        </tr>\n",
       "        <tr>\n",
       "            <td>Apple</td>\n",
       "            <td>2023-01-05</td>\n",
       "            <td>162.00</td>\n",
       "            <td>169.00</td>\n",
       "            <td>-7.00</td>\n",
       "        </tr>\n",
       "        <tr>\n",
       "            <td>Microsoft</td>\n",
       "            <td>2023-01-01</td>\n",
       "            <td>205.00</td>\n",
       "            <td>None</td>\n",
       "            <td>None</td>\n",
       "        </tr>\n",
       "        <tr>\n",
       "            <td>Microsoft</td>\n",
       "            <td>2023-01-02</td>\n",
       "            <td>211.00</td>\n",
       "            <td>205.00</td>\n",
       "            <td>6.00</td>\n",
       "        </tr>\n",
       "        <tr>\n",
       "            <td>Microsoft</td>\n",
       "            <td>2023-01-03</td>\n",
       "            <td>202.00</td>\n",
       "            <td>211.00</td>\n",
       "            <td>-9.00</td>\n",
       "        </tr>\n",
       "        <tr>\n",
       "            <td>Microsoft</td>\n",
       "            <td>2023-01-04</td>\n",
       "            <td>226.00</td>\n",
       "            <td>202.00</td>\n",
       "            <td>24.00</td>\n",
       "        </tr>\n",
       "        <tr>\n",
       "            <td>Microsoft</td>\n",
       "            <td>2023-01-05</td>\n",
       "            <td>214.00</td>\n",
       "            <td>226.00</td>\n",
       "            <td>-12.00</td>\n",
       "        </tr>\n",
       "    </tbody>\n",
       "</table>"
      ],
      "text/plain": [
       "[('Apple', datetime.date(2023, 1, 1), Decimal('155.00'), None, None),\n",
       " ('Apple', datetime.date(2023, 1, 2), Decimal('160.00'), Decimal('155.00'), Decimal('5.00')),\n",
       " ('Apple', datetime.date(2023, 1, 3), Decimal('143.00'), Decimal('160.00'), Decimal('-17.00')),\n",
       " ('Apple', datetime.date(2023, 1, 4), Decimal('169.00'), Decimal('143.00'), Decimal('26.00')),\n",
       " ('Apple', datetime.date(2023, 1, 5), Decimal('162.00'), Decimal('169.00'), Decimal('-7.00')),\n",
       " ('Microsoft', datetime.date(2023, 1, 1), Decimal('205.00'), None, None),\n",
       " ('Microsoft', datetime.date(2023, 1, 2), Decimal('211.00'), Decimal('205.00'), Decimal('6.00')),\n",
       " ('Microsoft', datetime.date(2023, 1, 3), Decimal('202.00'), Decimal('211.00'), Decimal('-9.00')),\n",
       " ('Microsoft', datetime.date(2023, 1, 4), Decimal('226.00'), Decimal('202.00'), Decimal('24.00')),\n",
       " ('Microsoft', datetime.date(2023, 1, 5), Decimal('214.00'), Decimal('226.00'), Decimal('-12.00'))]"
      ]
     },
     "execution_count": 4,
     "metadata": {},
     "output_type": "execute_result"
    }
   ],
   "source": [
    "%%sql \n",
    "\n",
    "SELECT \n",
    "    stock_name,\n",
    "    price_date,\n",
    "    closing_price,\n",
    "    LAG(closing_price) OVER(PARTITION BY stock_name ORDER BY price_date) AS previous_day_close,\n",
    "    closing_price - (LAG(closing_price) OVER (PARTITION BY stock_name ORDER BY price_date)) AS day_variance\n",
    "FROM stock_price\n",
    "ORDER BY stock_name;"
   ]
  },
  {
   "cell_type": "code",
   "execution_count": 5,
   "metadata": {
    "vscode": {
     "languageId": "sql"
    }
   },
   "outputs": [
    {
     "data": {
      "text/html": [
       "<table>\n",
       "    <thead>\n",
       "        <tr>\n",
       "            <th>stock_name</th>\n",
       "            <th>price_date</th>\n",
       "            <th>closing_price</th>\n",
       "            <th>previous_day_close</th>\n",
       "            <th>day_variance</th>\n",
       "        </tr>\n",
       "    </thead>\n",
       "    <tbody>\n",
       "        <tr>\n",
       "            <td>Apple</td>\n",
       "            <td>2023-01-01</td>\n",
       "            <td>155.00</td>\n",
       "            <td>No prev day info</td>\n",
       "            <td>None</td>\n",
       "        </tr>\n",
       "        <tr>\n",
       "            <td>Apple</td>\n",
       "            <td>2023-01-02</td>\n",
       "            <td>160.00</td>\n",
       "            <td>155.00</td>\n",
       "            <td>5.00</td>\n",
       "        </tr>\n",
       "        <tr>\n",
       "            <td>Apple</td>\n",
       "            <td>2023-01-03</td>\n",
       "            <td>143.00</td>\n",
       "            <td>160.00</td>\n",
       "            <td>-17.00</td>\n",
       "        </tr>\n",
       "        <tr>\n",
       "            <td>Apple</td>\n",
       "            <td>2023-01-04</td>\n",
       "            <td>169.00</td>\n",
       "            <td>143.00</td>\n",
       "            <td>26.00</td>\n",
       "        </tr>\n",
       "        <tr>\n",
       "            <td>Apple</td>\n",
       "            <td>2023-01-05</td>\n",
       "            <td>162.00</td>\n",
       "            <td>169.00</td>\n",
       "            <td>-7.00</td>\n",
       "        </tr>\n",
       "        <tr>\n",
       "            <td>Microsoft</td>\n",
       "            <td>2023-01-01</td>\n",
       "            <td>205.00</td>\n",
       "            <td>No prev day info</td>\n",
       "            <td>None</td>\n",
       "        </tr>\n",
       "        <tr>\n",
       "            <td>Microsoft</td>\n",
       "            <td>2023-01-02</td>\n",
       "            <td>211.00</td>\n",
       "            <td>205.00</td>\n",
       "            <td>6.00</td>\n",
       "        </tr>\n",
       "        <tr>\n",
       "            <td>Microsoft</td>\n",
       "            <td>2023-01-03</td>\n",
       "            <td>202.00</td>\n",
       "            <td>211.00</td>\n",
       "            <td>-9.00</td>\n",
       "        </tr>\n",
       "        <tr>\n",
       "            <td>Microsoft</td>\n",
       "            <td>2023-01-04</td>\n",
       "            <td>226.00</td>\n",
       "            <td>202.00</td>\n",
       "            <td>24.00</td>\n",
       "        </tr>\n",
       "        <tr>\n",
       "            <td>Microsoft</td>\n",
       "            <td>2023-01-05</td>\n",
       "            <td>214.00</td>\n",
       "            <td>226.00</td>\n",
       "            <td>-12.00</td>\n",
       "        </tr>\n",
       "    </tbody>\n",
       "</table>"
      ],
      "text/plain": [
       "[('Apple', datetime.date(2023, 1, 1), Decimal('155.00'), 'No prev day info', None),\n",
       " ('Apple', datetime.date(2023, 1, 2), Decimal('160.00'), '155.00', Decimal('5.00')),\n",
       " ('Apple', datetime.date(2023, 1, 3), Decimal('143.00'), '160.00', Decimal('-17.00')),\n",
       " ('Apple', datetime.date(2023, 1, 4), Decimal('169.00'), '143.00', Decimal('26.00')),\n",
       " ('Apple', datetime.date(2023, 1, 5), Decimal('162.00'), '169.00', Decimal('-7.00')),\n",
       " ('Microsoft', datetime.date(2023, 1, 1), Decimal('205.00'), 'No prev day info', None),\n",
       " ('Microsoft', datetime.date(2023, 1, 2), Decimal('211.00'), '205.00', Decimal('6.00')),\n",
       " ('Microsoft', datetime.date(2023, 1, 3), Decimal('202.00'), '211.00', Decimal('-9.00')),\n",
       " ('Microsoft', datetime.date(2023, 1, 4), Decimal('226.00'), '202.00', Decimal('24.00')),\n",
       " ('Microsoft', datetime.date(2023, 1, 5), Decimal('214.00'), '226.00', Decimal('-12.00'))]"
      ]
     },
     "execution_count": 5,
     "metadata": {},
     "output_type": "execute_result"
    }
   ],
   "source": [
    "%%sql \n",
    "-- with default value\n",
    "SELECT \n",
    "    stock_name,\n",
    "    price_date,\n",
    "    closing_price,\n",
    "    LAG(closing_price, 1, 'No prev day info') OVER(PARTITION BY stock_name ORDER BY price_date) AS previous_day_close,\n",
    "    closing_price - (LAG(closing_price) OVER (PARTITION BY stock_name ORDER BY price_date)) AS day_variance\n",
    "FROM stock_price\n",
    "ORDER BY stock_name;"
   ]
  },
  {
   "attachments": {},
   "cell_type": "markdown",
   "metadata": {},
   "source": [
    "#### Find the biggest gain day for Apple."
   ]
  },
  {
   "cell_type": "code",
   "execution_count": 12,
   "metadata": {
    "vscode": {
     "languageId": "sql"
    }
   },
   "outputs": [
    {
     "data": {
      "text/html": [
       "<table>\n",
       "    <thead>\n",
       "        <tr>\n",
       "            <th>price_date</th>\n",
       "            <th>day_variance</th>\n",
       "        </tr>\n",
       "    </thead>\n",
       "    <tbody>\n",
       "        <tr>\n",
       "            <td>Jan-04</td>\n",
       "            <td>26.00</td>\n",
       "        </tr>\n",
       "    </tbody>\n",
       "</table>"
      ],
      "text/plain": [
       "[('Jan-04', Decimal('26.00'))]"
      ]
     },
     "execution_count": 12,
     "metadata": {},
     "output_type": "execute_result"
    }
   ],
   "source": [
    "%%sql \n",
    "\n",
    "-- suboptimal option\n",
    "\n",
    "SELECT\n",
    "    DATE_FORMAT(price_date, '%b-%d') AS price_date,\n",
    "    closing_price - (LAG(closing_price) OVER (PARTITION BY stock_name ORDER BY price_date)) AS day_variance\n",
    "FROM stock_price\n",
    "WHERE stock_name = 'Apple'\n",
    "ORDER BY day_variance DESC\n",
    "LIMIT 1;"
   ]
  },
  {
   "cell_type": "code",
   "execution_count": 20,
   "metadata": {
    "vscode": {
     "languageId": "sql"
    }
   },
   "outputs": [
    {
     "data": {
      "text/html": [
       "<table>\n",
       "    <thead>\n",
       "        <tr>\n",
       "            <th>price_date</th>\n",
       "            <th>day_variance</th>\n",
       "        </tr>\n",
       "    </thead>\n",
       "    <tbody>\n",
       "        <tr>\n",
       "            <td>Jan-04</td>\n",
       "            <td>26.00</td>\n",
       "        </tr>\n",
       "    </tbody>\n",
       "</table>"
      ],
      "text/plain": [
       "[('Jan-04', Decimal('26.00'))]"
      ]
     },
     "execution_count": 20,
     "metadata": {},
     "output_type": "execute_result"
    }
   ],
   "source": [
    "%%sql \n",
    "\n",
    "-- better and more flexible option using CTE\n",
    "\n",
    "WITH growth_CTE AS (\n",
    "    SELECT\n",
    "        DATE_FORMAT(price_date, '%b-%d') AS price_date,\n",
    "        closing_price - (LAG(closing_price) OVER (PARTITION BY stock_name ORDER BY price_date)) AS day_variance\n",
    "    FROM stock_price\n",
    "    WHERE stock_name = 'Apple'\n",
    ")\n",
    "SELECT \n",
    "    price_date,\n",
    "    day_variance\n",
    "FROM growth_CTE\n",
    "WHERE day_variance = ( SELECT MAX(day_variance) FROM growth_CTE)"
   ]
  }
 ],
 "metadata": {
  "kernelspec": {
   "display_name": "env",
   "language": "python",
   "name": "python3"
  },
  "language_info": {
   "codemirror_mode": {
    "name": "ipython",
    "version": 3
   },
   "file_extension": ".py",
   "mimetype": "text/x-python",
   "name": "python",
   "nbconvert_exporter": "python",
   "pygments_lexer": "ipython3",
   "version": "3.11.2"
  },
  "orig_nbformat": 4
 },
 "nbformat": 4,
 "nbformat_minor": 2
}
