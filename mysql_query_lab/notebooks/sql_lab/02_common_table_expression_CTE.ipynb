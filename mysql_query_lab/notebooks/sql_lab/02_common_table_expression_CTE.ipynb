{
 "cells": [
  {
   "cell_type": "code",
   "execution_count": 1,
   "metadata": {},
   "outputs": [
    {
     "name": "stdout",
     "output_type": "stream",
     "text": [
      "Successfully connected to sql_lab database.\n"
     ]
    }
   ],
   "source": [
    "%run helper/setup_notebook.ipynb"
   ]
  },
  {
   "cell_type": "code",
   "execution_count": 2,
   "metadata": {
    "vscode": {
     "languageId": "sql"
    }
   },
   "outputs": [
    {
     "data": {
      "text/html": [
       "<table>\n",
       "    <thead>\n",
       "        <tr>\n",
       "            <th>emp_id</th>\n",
       "            <th>first_name</th>\n",
       "            <th>last_name</th>\n",
       "            <th>dept_id</th>\n",
       "            <th>manager_id</th>\n",
       "            <th>office_id</th>\n",
       "        </tr>\n",
       "    </thead>\n",
       "    <tbody>\n",
       "        <tr>\n",
       "            <td>1</td>\n",
       "            <td>Sally</td>\n",
       "            <td>Jones</td>\n",
       "            <td>3</td>\n",
       "            <td>2</td>\n",
       "            <td>5</td>\n",
       "        </tr>\n",
       "        <tr>\n",
       "            <td>2</td>\n",
       "            <td>Mark</td>\n",
       "            <td>Smith</td>\n",
       "            <td>2</td>\n",
       "            <td>4</td>\n",
       "            <td>3</td>\n",
       "        </tr>\n",
       "        <tr>\n",
       "            <td>3</td>\n",
       "            <td>John</td>\n",
       "            <td>Andrews</td>\n",
       "            <td>1</td>\n",
       "            <td>4</td>\n",
       "            <td>3</td>\n",
       "        </tr>\n",
       "        <tr>\n",
       "            <td>4</td>\n",
       "            <td>Michelle</td>\n",
       "            <td>Johnson</td>\n",
       "            <td>2</td>\n",
       "            <td>None</td>\n",
       "            <td>5</td>\n",
       "        </tr>\n",
       "        <tr>\n",
       "            <td>5</td>\n",
       "            <td>Brian</td>\n",
       "            <td>Grand</td>\n",
       "            <td>2</td>\n",
       "            <td>2</td>\n",
       "            <td>3</td>\n",
       "        </tr>\n",
       "    </tbody>\n",
       "</table>"
      ],
      "text/plain": [
       "[(1, 'Sally', 'Jones', 3, 2, 5),\n",
       " (2, 'Mark', 'Smith', 2, 4, 3),\n",
       " (3, 'John', 'Andrews', 1, 4, 3),\n",
       " (4, 'Michelle', 'Johnson', 2, None, 5),\n",
       " (5, 'Brian', 'Grand', 2, 2, 3)]"
      ]
     },
     "execution_count": 2,
     "metadata": {},
     "output_type": "execute_result"
    }
   ],
   "source": [
    "%%sql \n",
    "\n",
    "SELECT *\n",
    "FROM employee;"
   ]
  },
  {
   "cell_type": "code",
   "execution_count": 3,
   "metadata": {
    "vscode": {
     "languageId": "sql"
    }
   },
   "outputs": [
    {
     "data": {
      "text/html": [
       "<table>\n",
       "    <thead>\n",
       "        <tr>\n",
       "            <th>dept_id</th>\n",
       "            <th>dept_name</th>\n",
       "        </tr>\n",
       "    </thead>\n",
       "    <tbody>\n",
       "        <tr>\n",
       "            <td>1</td>\n",
       "            <td>Sales</td>\n",
       "        </tr>\n",
       "        <tr>\n",
       "            <td>2</td>\n",
       "            <td>IT</td>\n",
       "        </tr>\n",
       "        <tr>\n",
       "            <td>3</td>\n",
       "            <td>Support</td>\n",
       "        </tr>\n",
       "    </tbody>\n",
       "</table>"
      ],
      "text/plain": [
       "[(1, 'Sales'), (2, 'IT'), (3, 'Support')]"
      ]
     },
     "execution_count": 3,
     "metadata": {},
     "output_type": "execute_result"
    }
   ],
   "source": [
    "%%sql \n",
    "\n",
    "SELECT * \n",
    "FROM department;"
   ]
  },
  {
   "attachments": {},
   "cell_type": "markdown",
   "metadata": {},
   "source": [
    "##### Display the employee name and count per department."
   ]
  },
  {
   "cell_type": "code",
   "execution_count": 4,
   "metadata": {
    "vscode": {
     "languageId": "sql"
    }
   },
   "outputs": [
    {
     "data": {
      "text/html": [
       "<table>\n",
       "    <thead>\n",
       "        <tr>\n",
       "            <th>dept_id</th>\n",
       "            <th>dept_count</th>\n",
       "        </tr>\n",
       "    </thead>\n",
       "    <tbody>\n",
       "        <tr>\n",
       "            <td>3</td>\n",
       "            <td>1</td>\n",
       "        </tr>\n",
       "        <tr>\n",
       "            <td>2</td>\n",
       "            <td>3</td>\n",
       "        </tr>\n",
       "        <tr>\n",
       "            <td>1</td>\n",
       "            <td>1</td>\n",
       "        </tr>\n",
       "    </tbody>\n",
       "</table>"
      ],
      "text/plain": [
       "[(3, 1), (2, 3), (1, 1)]"
      ]
     },
     "execution_count": 4,
     "metadata": {},
     "output_type": "execute_result"
    }
   ],
   "source": [
    "%%sql \n",
    "\n",
    "-- step 1. find the department id and the count of each department\n",
    "SELECT dept_id, COUNT(*) as dept_count\n",
    "FROM employee\n",
    "GROUP BY dept_id;"
   ]
  },
  {
   "cell_type": "code",
   "execution_count": 5,
   "metadata": {
    "vscode": {
     "languageId": "sql"
    }
   },
   "outputs": [
    {
     "data": {
      "text/html": [
       "<table>\n",
       "    <thead>\n",
       "        <tr>\n",
       "            <th>first_name</th>\n",
       "            <th>last_name</th>\n",
       "            <th>dept_count</th>\n",
       "        </tr>\n",
       "    </thead>\n",
       "    <tbody>\n",
       "        <tr>\n",
       "            <td>Sally</td>\n",
       "            <td>Jones</td>\n",
       "            <td>1</td>\n",
       "        </tr>\n",
       "        <tr>\n",
       "            <td>Mark</td>\n",
       "            <td>Smith</td>\n",
       "            <td>3</td>\n",
       "        </tr>\n",
       "        <tr>\n",
       "            <td>John</td>\n",
       "            <td>Andrews</td>\n",
       "            <td>1</td>\n",
       "        </tr>\n",
       "        <tr>\n",
       "            <td>Michelle</td>\n",
       "            <td>Johnson</td>\n",
       "            <td>3</td>\n",
       "        </tr>\n",
       "        <tr>\n",
       "            <td>Brian</td>\n",
       "            <td>Grand</td>\n",
       "            <td>3</td>\n",
       "        </tr>\n",
       "    </tbody>\n",
       "</table>"
      ],
      "text/plain": [
       "[('Sally', 'Jones', 1),\n",
       " ('Mark', 'Smith', 3),\n",
       " ('John', 'Andrews', 1),\n",
       " ('Michelle', 'Johnson', 3),\n",
       " ('Brian', 'Grand', 3)]"
      ]
     },
     "execution_count": 5,
     "metadata": {},
     "output_type": "execute_result"
    }
   ],
   "source": [
    "%%sql \n",
    "\n",
    "-- step 2. run an inner join based on employee's department id \n",
    "\n",
    "SELECT e.first_name, \n",
    "e.last_name, \n",
    "d.dept_count\n",
    "FROM employee e\n",
    "INNER JOIN (\n",
    "    SELECT dept_id, COUNT(*) AS dept_count\n",
    "    FROM employee \n",
    "    GROUP BY dept_id \n",
    ") d\n",
    "ON e.dept_id = d.dept_id"
   ]
  },
  {
   "attachments": {},
   "cell_type": "markdown",
   "metadata": {},
   "source": [
    "#### ***`CTE`*** allow us to move the subquery and define it separately. "
   ]
  },
  {
   "cell_type": "code",
   "execution_count": 6,
   "metadata": {
    "vscode": {
     "languageId": "sql"
    }
   },
   "outputs": [
    {
     "data": {
      "text/html": [
       "<table>\n",
       "    <thead>\n",
       "        <tr>\n",
       "            <th>first_name</th>\n",
       "            <th>last_name</th>\n",
       "            <th>dept_count</th>\n",
       "        </tr>\n",
       "    </thead>\n",
       "    <tbody>\n",
       "        <tr>\n",
       "            <td>Sally</td>\n",
       "            <td>Jones</td>\n",
       "            <td>1</td>\n",
       "        </tr>\n",
       "        <tr>\n",
       "            <td>Mark</td>\n",
       "            <td>Smith</td>\n",
       "            <td>3</td>\n",
       "        </tr>\n",
       "        <tr>\n",
       "            <td>John</td>\n",
       "            <td>Andrews</td>\n",
       "            <td>1</td>\n",
       "        </tr>\n",
       "        <tr>\n",
       "            <td>Michelle</td>\n",
       "            <td>Johnson</td>\n",
       "            <td>3</td>\n",
       "        </tr>\n",
       "        <tr>\n",
       "            <td>Brian</td>\n",
       "            <td>Grand</td>\n",
       "            <td>3</td>\n",
       "        </tr>\n",
       "    </tbody>\n",
       "</table>"
      ],
      "text/plain": [
       "[('Sally', 'Jones', 1),\n",
       " ('Mark', 'Smith', 3),\n",
       " ('John', 'Andrews', 1),\n",
       " ('Michelle', 'Johnson', 3),\n",
       " ('Brian', 'Grand', 3)]"
      ]
     },
     "execution_count": 6,
     "metadata": {},
     "output_type": "execute_result"
    }
   ],
   "source": [
    "%%sql \n",
    "\n",
    "WITH department_count AS (\n",
    "    SELECT dept_id, COUNT(*) AS dept_count\n",
    "    FROM employee\n",
    "    GROUP BY dept_id\n",
    ")\n",
    "SELECT e.first_name,\n",
    "e.last_name,\n",
    "d.dept_count\n",
    "FROM employee e\n",
    "INNER JOIN department_count d ON e.dept_id = d.dept_id\n"
   ]
  },
  {
   "attachments": {},
   "cell_type": "markdown",
   "metadata": {},
   "source": [
    "#### We can create multiple CTEs seperated by `comma(,)`"
   ]
  },
  {
   "cell_type": "code",
   "execution_count": 28,
   "metadata": {
    "vscode": {
     "languageId": "sql"
    }
   },
   "outputs": [
    {
     "data": {
      "text/html": [
       "<table>\n",
       "    <thead>\n",
       "        <tr>\n",
       "            <th>first_name</th>\n",
       "            <th>last_name</th>\n",
       "            <th>dept_count</th>\n",
       "            <th>manager_full_name</th>\n",
       "        </tr>\n",
       "    </thead>\n",
       "    <tbody>\n",
       "        <tr>\n",
       "            <td>Sally</td>\n",
       "            <td>Jones</td>\n",
       "            <td>1</td>\n",
       "            <td>Mark Smith</td>\n",
       "        </tr>\n",
       "        <tr>\n",
       "            <td>Mark</td>\n",
       "            <td>Smith</td>\n",
       "            <td>3</td>\n",
       "            <td>Michelle Johnson</td>\n",
       "        </tr>\n",
       "        <tr>\n",
       "            <td>John</td>\n",
       "            <td>Andrews</td>\n",
       "            <td>1</td>\n",
       "            <td>Michelle Johnson</td>\n",
       "        </tr>\n",
       "        <tr>\n",
       "            <td>Michelle</td>\n",
       "            <td>Johnson</td>\n",
       "            <td>3</td>\n",
       "            <td>None</td>\n",
       "        </tr>\n",
       "        <tr>\n",
       "            <td>Brian</td>\n",
       "            <td>Grand</td>\n",
       "            <td>3</td>\n",
       "            <td>Mark Smith</td>\n",
       "        </tr>\n",
       "    </tbody>\n",
       "</table>"
      ],
      "text/plain": [
       "[('Sally', 'Jones', 1, 'Mark Smith'),\n",
       " ('Mark', 'Smith', 3, 'Michelle Johnson'),\n",
       " ('John', 'Andrews', 1, 'Michelle Johnson'),\n",
       " ('Michelle', 'Johnson', 3, None),\n",
       " ('Brian', 'Grand', 3, 'Mark Smith')]"
      ]
     },
     "execution_count": 28,
     "metadata": {},
     "output_type": "execute_result"
    }
   ],
   "source": [
    "%%sql \n",
    "\n",
    "WITH department_count AS(\n",
    "    SELECT dept_id, COUNT(*) AS dept_count\n",
    "    FROM employee\n",
    "    GROUP BY dept_id\n",
    "),\n",
    "manager_name AS(\n",
    "    SELECT CONCAT(mng.first_name, ' ', mng.last_name) AS manager_full_name, \n",
    "        mng.emp_id,\n",
    "        emp.dept_id\n",
    "    FROM employee mng \n",
    "    INNER JOIN employee emp ON mng.emp_id = emp.manager_id\n",
    "    GROUP BY mng.emp_id, emp.dept_id, CONCAT(mng.first_name, ' ', mng.last_name) \n",
    ")\n",
    "SELECT e.first_name,\n",
    "e.last_name,\n",
    "d.dept_count,\n",
    "m.manager_full_name\n",
    "FROM employee e\n",
    "INNER JOIN department_count d ON e.dept_id = d.dept_id\n",
    "LEFT JOIN manager_name m ON e.dept_id = m.dept_id AND e.manager_id = m.emp_id\n"
   ]
  }
 ],
 "metadata": {
  "kernelspec": {
   "display_name": "env",
   "language": "python",
   "name": "python3"
  },
  "language_info": {
   "codemirror_mode": {
    "name": "ipython",
    "version": 3
   },
   "file_extension": ".py",
   "mimetype": "text/x-python",
   "name": "python",
   "nbconvert_exporter": "python",
   "pygments_lexer": "ipython3",
   "version": "3.11.2"
  },
  "orig_nbformat": 4
 },
 "nbformat": 4,
 "nbformat_minor": 2
}
