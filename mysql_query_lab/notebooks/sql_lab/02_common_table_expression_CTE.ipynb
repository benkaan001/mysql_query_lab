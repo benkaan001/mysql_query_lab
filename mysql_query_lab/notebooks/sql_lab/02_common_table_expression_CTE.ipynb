{
 "cells": [
  {
   "cell_type": "code",
   "execution_count": 1,
   "metadata": {},
   "outputs": [
    {
     "name": "stdout",
     "output_type": "stream",
     "text": [
      "Successfully connected to sql_lab database.\n"
     ]
    }
   ],
   "source": [
    "%run helper/setup_notebook.ipynb"
   ]
  },
  {
   "cell_type": "code",
   "execution_count": 2,
   "metadata": {
    "vscode": {
     "languageId": "sql"
    }
   },
   "outputs": [
    {
     "data": {
      "text/html": [
       "<table>\n",
       "    <thead>\n",
       "        <tr>\n",
       "            <th>emp_id</th>\n",
       "            <th>first_name</th>\n",
       "            <th>last_name</th>\n",
       "            <th>dept_id</th>\n",
       "            <th>manager_id</th>\n",
       "            <th>office_id</th>\n",
       "        </tr>\n",
       "    </thead>\n",
       "    <tbody>\n",
       "        <tr>\n",
       "            <td>1</td>\n",
       "            <td>Sally</td>\n",
       "            <td>Jones</td>\n",
       "            <td>3</td>\n",
       "            <td>2</td>\n",
       "            <td>5</td>\n",
       "        </tr>\n",
       "        <tr>\n",
       "            <td>2</td>\n",
       "            <td>Mark</td>\n",
       "            <td>Smith</td>\n",
       "            <td>2</td>\n",
       "            <td>4</td>\n",
       "            <td>3</td>\n",
       "        </tr>\n",
       "        <tr>\n",
       "            <td>3</td>\n",
       "            <td>John</td>\n",
       "            <td>Andrews</td>\n",
       "            <td>1</td>\n",
       "            <td>4</td>\n",
       "            <td>3</td>\n",
       "        </tr>\n",
       "        <tr>\n",
       "            <td>4</td>\n",
       "            <td>Michelle</td>\n",
       "            <td>Johnson</td>\n",
       "            <td>2</td>\n",
       "            <td>None</td>\n",
       "            <td>5</td>\n",
       "        </tr>\n",
       "        <tr>\n",
       "            <td>5</td>\n",
       "            <td>Brian</td>\n",
       "            <td>Grand</td>\n",
       "            <td>2</td>\n",
       "            <td>2</td>\n",
       "            <td>3</td>\n",
       "        </tr>\n",
       "    </tbody>\n",
       "</table>"
      ],
      "text/plain": [
       "[(1, 'Sally', 'Jones', 3, 2, 5),\n",
       " (2, 'Mark', 'Smith', 2, 4, 3),\n",
       " (3, 'John', 'Andrews', 1, 4, 3),\n",
       " (4, 'Michelle', 'Johnson', 2, None, 5),\n",
       " (5, 'Brian', 'Grand', 2, 2, 3)]"
      ]
     },
     "execution_count": 2,
     "metadata": {},
     "output_type": "execute_result"
    }
   ],
   "source": [
    "%%sql \n",
    "\n",
    "SELECT *\n",
    "FROM employee;"
   ]
  },
  {
   "cell_type": "code",
   "execution_count": 3,
   "metadata": {
    "vscode": {
     "languageId": "sql"
    }
   },
   "outputs": [
    {
     "data": {
      "text/html": [
       "<table>\n",
       "    <thead>\n",
       "        <tr>\n",
       "            <th>dept_id</th>\n",
       "            <th>dept_name</th>\n",
       "        </tr>\n",
       "    </thead>\n",
       "    <tbody>\n",
       "        <tr>\n",
       "            <td>1</td>\n",
       "            <td>Sales</td>\n",
       "        </tr>\n",
       "        <tr>\n",
       "            <td>2</td>\n",
       "            <td>IT</td>\n",
       "        </tr>\n",
       "        <tr>\n",
       "            <td>3</td>\n",
       "            <td>Support</td>\n",
       "        </tr>\n",
       "    </tbody>\n",
       "</table>"
      ],
      "text/plain": [
       "[(1, 'Sales'), (2, 'IT'), (3, 'Support')]"
      ]
     },
     "execution_count": 3,
     "metadata": {},
     "output_type": "execute_result"
    }
   ],
   "source": [
    "%%sql \n",
    "\n",
    "SELECT * \n",
    "FROM department;"
   ]
  },
  {
   "attachments": {},
   "cell_type": "markdown",
   "metadata": {},
   "source": [
    "##### Display the employee name and count per department."
   ]
  },
  {
   "cell_type": "code",
   "execution_count": 4,
   "metadata": {
    "vscode": {
     "languageId": "sql"
    }
   },
   "outputs": [
    {
     "data": {
      "text/html": [
       "<table>\n",
       "    <thead>\n",
       "        <tr>\n",
       "            <th>dept_id</th>\n",
       "            <th>dept_count</th>\n",
       "        </tr>\n",
       "    </thead>\n",
       "    <tbody>\n",
       "        <tr>\n",
       "            <td>3</td>\n",
       "            <td>1</td>\n",
       "        </tr>\n",
       "        <tr>\n",
       "            <td>2</td>\n",
       "            <td>3</td>\n",
       "        </tr>\n",
       "        <tr>\n",
       "            <td>1</td>\n",
       "            <td>1</td>\n",
       "        </tr>\n",
       "    </tbody>\n",
       "</table>"
      ],
      "text/plain": [
       "[(3, 1), (2, 3), (1, 1)]"
      ]
     },
     "execution_count": 4,
     "metadata": {},
     "output_type": "execute_result"
    }
   ],
   "source": [
    "%%sql \n",
    "\n",
    "-- step 1. find the department id and the count of each department\n",
    "SELECT dept_id, COUNT(*) as dept_count\n",
    "FROM employee\n",
    "GROUP BY dept_id;"
   ]
  },
  {
   "cell_type": "code",
   "execution_count": 5,
   "metadata": {
    "vscode": {
     "languageId": "sql"
    }
   },
   "outputs": [
    {
     "data": {
      "text/html": [
       "<table>\n",
       "    <thead>\n",
       "        <tr>\n",
       "            <th>first_name</th>\n",
       "            <th>last_name</th>\n",
       "            <th>dept_count</th>\n",
       "        </tr>\n",
       "    </thead>\n",
       "    <tbody>\n",
       "        <tr>\n",
       "            <td>Sally</td>\n",
       "            <td>Jones</td>\n",
       "            <td>1</td>\n",
       "        </tr>\n",
       "        <tr>\n",
       "            <td>Mark</td>\n",
       "            <td>Smith</td>\n",
       "            <td>3</td>\n",
       "        </tr>\n",
       "        <tr>\n",
       "            <td>John</td>\n",
       "            <td>Andrews</td>\n",
       "            <td>1</td>\n",
       "        </tr>\n",
       "        <tr>\n",
       "            <td>Michelle</td>\n",
       "            <td>Johnson</td>\n",
       "            <td>3</td>\n",
       "        </tr>\n",
       "        <tr>\n",
       "            <td>Brian</td>\n",
       "            <td>Grand</td>\n",
       "            <td>3</td>\n",
       "        </tr>\n",
       "    </tbody>\n",
       "</table>"
      ],
      "text/plain": [
       "[('Sally', 'Jones', 1),\n",
       " ('Mark', 'Smith', 3),\n",
       " ('John', 'Andrews', 1),\n",
       " ('Michelle', 'Johnson', 3),\n",
       " ('Brian', 'Grand', 3)]"
      ]
     },
     "execution_count": 5,
     "metadata": {},
     "output_type": "execute_result"
    }
   ],
   "source": [
    "%%sql \n",
    "\n",
    "-- step 2. run an inner join based on employee's department id \n",
    "\n",
    "SELECT e.first_name, \n",
    "e.last_name, \n",
    "d.dept_count\n",
    "FROM employee e\n",
    "INNER JOIN (\n",
    "    SELECT dept_id, COUNT(*) AS dept_count\n",
    "    FROM employee \n",
    "    GROUP BY dept_id \n",
    ") d\n",
    "ON e.dept_id = d.dept_id"
   ]
  },
  {
   "attachments": {},
   "cell_type": "markdown",
   "metadata": {},
   "source": [
    "#### ***`CTE`*** allow us to move the subquery and define it separately. "
   ]
  },
  {
   "cell_type": "code",
   "execution_count": 6,
   "metadata": {
    "vscode": {
     "languageId": "sql"
    }
   },
   "outputs": [
    {
     "data": {
      "text/html": [
       "<table>\n",
       "    <thead>\n",
       "        <tr>\n",
       "            <th>first_name</th>\n",
       "            <th>last_name</th>\n",
       "            <th>dept_count</th>\n",
       "        </tr>\n",
       "    </thead>\n",
       "    <tbody>\n",
       "        <tr>\n",
       "            <td>Sally</td>\n",
       "            <td>Jones</td>\n",
       "            <td>1</td>\n",
       "        </tr>\n",
       "        <tr>\n",
       "            <td>Mark</td>\n",
       "            <td>Smith</td>\n",
       "            <td>3</td>\n",
       "        </tr>\n",
       "        <tr>\n",
       "            <td>John</td>\n",
       "            <td>Andrews</td>\n",
       "            <td>1</td>\n",
       "        </tr>\n",
       "        <tr>\n",
       "            <td>Michelle</td>\n",
       "            <td>Johnson</td>\n",
       "            <td>3</td>\n",
       "        </tr>\n",
       "        <tr>\n",
       "            <td>Brian</td>\n",
       "            <td>Grand</td>\n",
       "            <td>3</td>\n",
       "        </tr>\n",
       "    </tbody>\n",
       "</table>"
      ],
      "text/plain": [
       "[('Sally', 'Jones', 1),\n",
       " ('Mark', 'Smith', 3),\n",
       " ('John', 'Andrews', 1),\n",
       " ('Michelle', 'Johnson', 3),\n",
       " ('Brian', 'Grand', 3)]"
      ]
     },
     "execution_count": 6,
     "metadata": {},
     "output_type": "execute_result"
    }
   ],
   "source": [
    "%%sql \n",
    "\n",
    "WITH dept_count_table AS (\n",
    "    SELECT dept_id, COUNT(*) AS dept_count\n",
    "    FROM employee\n",
    "    GROUP BY dept_id\n",
    ")\n",
    "SELECT e.first_name,\n",
    "e.last_name,\n",
    "dct.dept_count\n",
    "FROM employee e\n",
    "INNER JOIN dept_count_table dct ON e.dept_id = dct.dept_id\n"
   ]
  },
  {
   "attachments": {},
   "cell_type": "markdown",
   "metadata": {},
   "source": [
    "#### We can create multiple CTEs seperated by `comma(,)`"
   ]
  },
  {
   "cell_type": "code",
   "execution_count": 7,
   "metadata": {
    "vscode": {
     "languageId": "sql"
    }
   },
   "outputs": [
    {
     "data": {
      "text/html": [
       "<table>\n",
       "    <thead>\n",
       "        <tr>\n",
       "            <th>employee_full_name</th>\n",
       "            <th>dept_count</th>\n",
       "            <th>manager_full_name</th>\n",
       "        </tr>\n",
       "    </thead>\n",
       "    <tbody>\n",
       "        <tr>\n",
       "            <td>Sally Jones</td>\n",
       "            <td>1</td>\n",
       "            <td>Mark Smith</td>\n",
       "        </tr>\n",
       "        <tr>\n",
       "            <td>Mark Smith</td>\n",
       "            <td>3</td>\n",
       "            <td>Michelle Johnson</td>\n",
       "        </tr>\n",
       "        <tr>\n",
       "            <td>John Andrews</td>\n",
       "            <td>1</td>\n",
       "            <td>Michelle Johnson</td>\n",
       "        </tr>\n",
       "        <tr>\n",
       "            <td>Michelle Johnson</td>\n",
       "            <td>3</td>\n",
       "            <td>None</td>\n",
       "        </tr>\n",
       "        <tr>\n",
       "            <td>Brian Grand</td>\n",
       "            <td>3</td>\n",
       "            <td>Mark Smith</td>\n",
       "        </tr>\n",
       "    </tbody>\n",
       "</table>"
      ],
      "text/plain": [
       "[('Sally Jones', 1, 'Mark Smith'),\n",
       " ('Mark Smith', 3, 'Michelle Johnson'),\n",
       " ('John Andrews', 1, 'Michelle Johnson'),\n",
       " ('Michelle Johnson', 3, None),\n",
       " ('Brian Grand', 3, 'Mark Smith')]"
      ]
     },
     "execution_count": 7,
     "metadata": {},
     "output_type": "execute_result"
    }
   ],
   "source": [
    "%%sql \n",
    "\n",
    "WITH dept_count_table AS(\n",
    "    SELECT dept_id, COUNT(*) AS dept_count\n",
    "    FROM employee\n",
    "    GROUP BY dept_id\n",
    "),\n",
    "mng_table AS(\n",
    "    SELECT CONCAT(mng.first_name, ' ', mng.last_name) AS manager_full_name, \n",
    "        mng.emp_id,\n",
    "        emp.dept_id\n",
    "    FROM employee mng \n",
    "    INNER JOIN employee emp ON mng.emp_id = emp.manager_id\n",
    ")\n",
    "SELECT CONCAT(e.first_name,' ',e.last_name) AS employee_full_name,\n",
    "dct.dept_count,\n",
    "mt.manager_full_name\n",
    "FROM employee e\n",
    "INNER JOIN dept_count_table dct ON e.dept_id = dct.dept_id\n",
    "LEFT JOIN mng_table mt ON e.dept_id = mt.dept_id AND e.manager_id = mt.emp_id\n"
   ]
  },
  {
   "attachments": {},
   "cell_type": "markdown",
   "metadata": {},
   "source": [
    "## Key takeaways:\n",
    "\n",
    "- CTEs can enhance the readability of a query and make it easier to understand by replacing multiple subqueries with named temporary result sets. \n",
    "\n",
    "- Unlike temporary tables, CTEs don't create new database objects, and thus have no significant impact on query performance."
   ]
  },
  {
   "attachments": {},
   "cell_type": "markdown",
   "metadata": {},
   "source": [
    "# ***RECURSIVE*** Common Table Expression"
   ]
  },
  {
   "attachments": {},
   "cell_type": "markdown",
   "metadata": {},
   "source": [
    "- Operates on its own result.\n",
    "- Allows you to perform recursive operations in SQL, where a query refers to a ***subquery*** that refers back to the ***main*** query.\n",
    "- Used to work with hierarchical data such as org chart or file system. "
   ]
  },
  {
   "cell_type": "code",
   "execution_count": 8,
   "metadata": {
    "vscode": {
     "languageId": "sql"
    }
   },
   "outputs": [
    {
     "data": {
      "text/html": [
       "<table>\n",
       "    <thead>\n",
       "        <tr>\n",
       "            <th>emp_id</th>\n",
       "            <th>first_name</th>\n",
       "            <th>manager_id</th>\n",
       "            <th>dept_id</th>\n",
       "        </tr>\n",
       "    </thead>\n",
       "    <tbody>\n",
       "        <tr>\n",
       "            <td>1</td>\n",
       "            <td>Sally</td>\n",
       "            <td>2</td>\n",
       "            <td>3</td>\n",
       "        </tr>\n",
       "        <tr>\n",
       "            <td>2</td>\n",
       "            <td>Mark</td>\n",
       "            <td>4</td>\n",
       "            <td>2</td>\n",
       "        </tr>\n",
       "        <tr>\n",
       "            <td>3</td>\n",
       "            <td>John</td>\n",
       "            <td>4</td>\n",
       "            <td>1</td>\n",
       "        </tr>\n",
       "        <tr>\n",
       "            <td>4</td>\n",
       "            <td>Michelle</td>\n",
       "            <td>None</td>\n",
       "            <td>2</td>\n",
       "        </tr>\n",
       "        <tr>\n",
       "            <td>5</td>\n",
       "            <td>Brian</td>\n",
       "            <td>2</td>\n",
       "            <td>2</td>\n",
       "        </tr>\n",
       "    </tbody>\n",
       "</table>"
      ],
      "text/plain": [
       "[(1, 'Sally', 2, 3),\n",
       " (2, 'Mark', 4, 2),\n",
       " (3, 'John', 4, 1),\n",
       " (4, 'Michelle', None, 2),\n",
       " (5, 'Brian', 2, 2)]"
      ]
     },
     "execution_count": 8,
     "metadata": {},
     "output_type": "execute_result"
    }
   ],
   "source": [
    "%%sql \n",
    "\n",
    "-- initial state of the employee table\n",
    "SELECT emp_id, first_name, manager_id, dept_id \n",
    "FROM employee"
   ]
  },
  {
   "cell_type": "code",
   "execution_count": 9,
   "metadata": {
    "vscode": {
     "languageId": "sql"
    }
   },
   "outputs": [
    {
     "data": {
      "text/html": [
       "<table>\n",
       "    <thead>\n",
       "        <tr>\n",
       "            <th>emp_id</th>\n",
       "            <th>first_name</th>\n",
       "            <th>manager_id</th>\n",
       "            <th>dept_id</th>\n",
       "            <th>emp_id_1</th>\n",
       "            <th>first_name_1</th>\n",
       "            <th>manager_id_1</th>\n",
       "            <th>dept_id_1</th>\n",
       "        </tr>\n",
       "    </thead>\n",
       "    <tbody>\n",
       "        <tr>\n",
       "            <td>1</td>\n",
       "            <td>Sally</td>\n",
       "            <td>2</td>\n",
       "            <td>3</td>\n",
       "            <td>2</td>\n",
       "            <td>Mark</td>\n",
       "            <td>4</td>\n",
       "            <td>2</td>\n",
       "        </tr>\n",
       "        <tr>\n",
       "            <td>2</td>\n",
       "            <td>Mark</td>\n",
       "            <td>4</td>\n",
       "            <td>2</td>\n",
       "            <td>4</td>\n",
       "            <td>Michelle</td>\n",
       "            <td>None</td>\n",
       "            <td>2</td>\n",
       "        </tr>\n",
       "        <tr>\n",
       "            <td>3</td>\n",
       "            <td>John</td>\n",
       "            <td>4</td>\n",
       "            <td>1</td>\n",
       "            <td>4</td>\n",
       "            <td>Michelle</td>\n",
       "            <td>None</td>\n",
       "            <td>2</td>\n",
       "        </tr>\n",
       "        <tr>\n",
       "            <td>4</td>\n",
       "            <td>Michelle</td>\n",
       "            <td>None</td>\n",
       "            <td>2</td>\n",
       "            <td>None</td>\n",
       "            <td>None</td>\n",
       "            <td>None</td>\n",
       "            <td>None</td>\n",
       "        </tr>\n",
       "        <tr>\n",
       "            <td>5</td>\n",
       "            <td>Brian</td>\n",
       "            <td>2</td>\n",
       "            <td>2</td>\n",
       "            <td>2</td>\n",
       "            <td>Mark</td>\n",
       "            <td>4</td>\n",
       "            <td>2</td>\n",
       "        </tr>\n",
       "    </tbody>\n",
       "</table>"
      ],
      "text/plain": [
       "[(1, 'Sally', 2, 3, 2, 'Mark', 4, 2),\n",
       " (2, 'Mark', 4, 2, 4, 'Michelle', None, 2),\n",
       " (3, 'John', 4, 1, 4, 'Michelle', None, 2),\n",
       " (4, 'Michelle', None, 2, None, None, None, None),\n",
       " (5, 'Brian', 2, 2, 2, 'Mark', 4, 2)]"
      ]
     },
     "execution_count": 9,
     "metadata": {},
     "output_type": "execute_result"
    }
   ],
   "source": [
    "%%sql \n",
    "\n",
    "-- if you want to see the details of the manager \n",
    "SELECT e.emp_id, e.first_name, e.manager_id, e.dept_id,\n",
    "m.emp_id, m.first_name, m.manager_id, m.dept_id\n",
    "FROM employee e \n",
    "LEFT JOIN employee m \n",
    "ON e.manager_id = m.emp_id;"
   ]
  },
  {
   "attachments": {},
   "cell_type": "markdown",
   "metadata": {},
   "source": [
    "- The issue is that we can only see one level of hirerachy wihtout Recursive CTE unless we keep adding UNION ALL and LEFT JOIN "
   ]
  },
  {
   "cell_type": "code",
   "execution_count": 13,
   "metadata": {
    "vscode": {
     "languageId": "sql"
    }
   },
   "outputs": [
    {
     "data": {
      "text/html": [
       "<table>\n",
       "    <thead>\n",
       "        <tr>\n",
       "            <th>emp_id</th>\n",
       "            <th>first_name</th>\n",
       "            <th>manager_id</th>\n",
       "            <th>emplevel</th>\n",
       "        </tr>\n",
       "    </thead>\n",
       "    <tbody>\n",
       "        <tr>\n",
       "            <td>4</td>\n",
       "            <td>Michelle</td>\n",
       "            <td>None</td>\n",
       "            <td>1</td>\n",
       "        </tr>\n",
       "        <tr>\n",
       "            <td>2</td>\n",
       "            <td>Mark</td>\n",
       "            <td>4</td>\n",
       "            <td>2</td>\n",
       "        </tr>\n",
       "        <tr>\n",
       "            <td>3</td>\n",
       "            <td>John</td>\n",
       "            <td>4</td>\n",
       "            <td>2</td>\n",
       "        </tr>\n",
       "        <tr>\n",
       "            <td>1</td>\n",
       "            <td>Sally</td>\n",
       "            <td>2</td>\n",
       "            <td>3</td>\n",
       "        </tr>\n",
       "        <tr>\n",
       "            <td>5</td>\n",
       "            <td>Brian</td>\n",
       "            <td>2</td>\n",
       "            <td>3</td>\n",
       "        </tr>\n",
       "    </tbody>\n",
       "</table>"
      ],
      "text/plain": [
       "[(4, 'Michelle', None, 1),\n",
       " (2, 'Mark', 4, 2),\n",
       " (3, 'John', 4, 2),\n",
       " (1, 'Sally', 2, 3),\n",
       " (5, 'Brian', 2, 3)]"
      ]
     },
     "execution_count": 13,
     "metadata": {},
     "output_type": "execute_result"
    }
   ],
   "source": [
    "%%sql \n",
    "\n",
    "WITH RECURSIVE cteEmp(emp_id, first_name, manager_id, emplevel) AS (\n",
    "    SELECT emp_id, first_name, manager_id, 1\n",
    "    FROM employee \n",
    "    WHERE manager_id IS NULL\n",
    "    UNION ALL\n",
    "    SELECT e.emp_id, e.first_name, e.manager_id, r.emplevel+1\n",
    "    FROM employee e\n",
    "    INNER JOIN cteEmp r\n",
    "    ON e.manager_id = r.emp_id\n",
    ")\n",
    "SELECT emp_id,\n",
    "first_name,\n",
    "manager_id,\n",
    "emplevel \n",
    "FROM cteEmp\n",
    "ORDER BY emplevel;"
   ]
  },
  {
   "cell_type": "code",
   "execution_count": 21,
   "metadata": {
    "vscode": {
     "languageId": "sql"
    }
   },
   "outputs": [
    {
     "data": {
      "text/html": [
       "<table>\n",
       "    <thead>\n",
       "        <tr>\n",
       "            <th>emp_id</th>\n",
       "            <th>first_name</th>\n",
       "            <th>manager_id</th>\n",
       "            <th>title</th>\n",
       "        </tr>\n",
       "    </thead>\n",
       "    <tbody>\n",
       "        <tr>\n",
       "            <td>4</td>\n",
       "            <td>Michelle</td>\n",
       "            <td>None</td>\n",
       "            <td>CEO</td>\n",
       "        </tr>\n",
       "        <tr>\n",
       "            <td>2</td>\n",
       "            <td>Mark</td>\n",
       "            <td>4</td>\n",
       "            <td>Managing Director</td>\n",
       "        </tr>\n",
       "        <tr>\n",
       "            <td>3</td>\n",
       "            <td>John</td>\n",
       "            <td>4</td>\n",
       "            <td>Managing Director</td>\n",
       "        </tr>\n",
       "        <tr>\n",
       "            <td>1</td>\n",
       "            <td>Sally</td>\n",
       "            <td>2</td>\n",
       "            <td>VP</td>\n",
       "        </tr>\n",
       "        <tr>\n",
       "            <td>5</td>\n",
       "            <td>Brian</td>\n",
       "            <td>2</td>\n",
       "            <td>VP</td>\n",
       "        </tr>\n",
       "    </tbody>\n",
       "</table>"
      ],
      "text/plain": [
       "[(4, 'Michelle', None, 'CEO'),\n",
       " (2, 'Mark', 4, 'Managing Director'),\n",
       " (3, 'John', 4, 'Managing Director'),\n",
       " (1, 'Sally', 2, 'VP'),\n",
       " (5, 'Brian', 2, 'VP')]"
      ]
     },
     "execution_count": 21,
     "metadata": {},
     "output_type": "execute_result"
    }
   ],
   "source": [
    "%%sql \n",
    "\n",
    "\n",
    "WITH RECURSIVE cteEmp(emp_id, first_name, manager_id, emplevel) AS (\n",
    "    SELECT emp_id, first_name, manager_id, 1\n",
    "    FROM employee \n",
    "    WHERE manager_id IS NULL\n",
    "    UNION ALL\n",
    "    SELECT e.emp_id, e.first_name, e.manager_id, r.emplevel+1\n",
    "    FROM employee e\n",
    "    INNER JOIN cteEmp r\n",
    "    ON e.manager_id = r.emp_id\n",
    ")\n",
    "SELECT emp_id,\n",
    "first_name,\n",
    "manager_id,\n",
    "CASE \n",
    "    WHEN emplevel = 1 THEN \"CEO\"\n",
    "    WHEN emplevel = 2 THEN \"Managing Director\"\n",
    "    ELSE \"VP\"\n",
    "END AS title\n",
    "FROM cteEmp\n",
    "ORDER BY emplevel;"
   ]
  },
  {
   "attachments": {},
   "cell_type": "markdown",
   "metadata": {},
   "source": [
    "\n",
    "## ***Query Breakdown*** \n",
    "\n",
    "- First we define a recursive Common Table Expression (CTE) called ***cteEmp***. The CTE defines four columns: ***emp_id***, ***first_name***, ***manager_id***, and ***emplevel***.\n",
    "\n",
    "    ```sql\n",
    "        WITH RECURSIVE cteEmp (emp_id, first_name, manager_id, emplevel) AS ...\n",
    "     ```\n",
    "\n",
    "\n",
    "- The first part of the CTE is a ***SELECT*** statement that retrieves data from the ***employee*** table where ***manager_id*** is ***NULL***. This represents the top level of the employee hierarchy.\n",
    "    ```sql\n",
    "        SELECT emp_id, first_name, manager_id, 1\n",
    "        FROM employee \n",
    "        WHERE manager_id IS NULL\n",
    "    ```\n",
    "\n",
    "- The second part of the CTE is also a ***SELECT*** statement that retrieves data from the ***employee*** table and the previous recursive result set (***cteEmp***) using an ***INNER JOIN***. This will recursively retrieve data for all levels of the employee hierarchy. The ***emplevel*** column is incremented by 1 for each recursive level.\n",
    "\n",
    "    ```sql\n",
    "        UNION ALL\n",
    "        SELECT e.emp_id, e.first_name, e.manager_id, r.emplevel+1\n",
    "        FROM employee e\n",
    "        INNER JOIN cteEmp r\n",
    "        ON e.manager_id = r.emp_id\n",
    "    ```\n",
    "\n",
    "- The ***SELECT*** statement after the CTE retrieves data from the ***cteEmp*** result set. A ***CASE*** statement is used to assign a title based on the ***emplevel*** value. The result set is sorted by ***emplevel***.The output includes the **emp_id**, **first_name**, **manager_id**, and **title** columns.\n",
    "\n",
    "    ```sql\n",
    "        SELECT emp_id,\n",
    "        first_name,\n",
    "        manager_id,\n",
    "        CASE \n",
    "            WHEN emplevel = 1 THEN \"CEO\"\n",
    "            WHEN emplevel = 2 THEN \"Managing Director\"\n",
    "            ELSE \"VP\"\n",
    "        END AS title\n",
    "        FROM cteEmp\n",
    "        ORDER BY emplevel;\n",
    "    ```\n",
    "\n"
   ]
  }
 ],
 "metadata": {
  "kernelspec": {
   "display_name": "env",
   "language": "python",
   "name": "python3"
  },
  "language_info": {
   "codemirror_mode": {
    "name": "ipython",
    "version": 3
   },
   "file_extension": ".py",
   "mimetype": "text/x-python",
   "name": "python",
   "nbconvert_exporter": "python",
   "pygments_lexer": "ipython3",
   "version": "3.11.2"
  },
  "orig_nbformat": 4
 },
 "nbformat": 4,
 "nbformat_minor": 2
}
