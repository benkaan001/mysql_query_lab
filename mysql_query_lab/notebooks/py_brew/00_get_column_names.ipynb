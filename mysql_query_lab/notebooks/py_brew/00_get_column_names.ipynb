{
 "cells": [
  {
   "cell_type": "code",
   "execution_count": 2,
   "metadata": {},
   "outputs": [
    {
     "name": "stdout",
     "output_type": "stream",
     "text": [
      "Successfully connected to py_brew database.\n"
     ]
    }
   ],
   "source": [
    "%run helper/setup_notebook.ipynb"
   ]
  },
  {
   "cell_type": "code",
   "execution_count": 3,
   "metadata": {
    "vscode": {
     "languageId": "sql"
    }
   },
   "outputs": [
    {
     "data": {
      "text/html": [
       "<table>\n",
       "    <thead>\n",
       "        <tr>\n",
       "            <th>COLUMN_NAME</th>\n",
       "            <th>DATA_TYPE</th>\n",
       "            <th>CHARACTER_MAXIMUM_LENGTH</th>\n",
       "        </tr>\n",
       "    </thead>\n",
       "    <tbody>\n",
       "        <tr>\n",
       "            <td>product_category</td>\n",
       "            <td>varchar</td>\n",
       "            <td>50</td>\n",
       "        </tr>\n",
       "        <tr>\n",
       "            <td>product_id</td>\n",
       "            <td>varchar</td>\n",
       "            <td>20</td>\n",
       "        </tr>\n",
       "        <tr>\n",
       "            <td>product_name</td>\n",
       "            <td>varchar</td>\n",
       "            <td>50</td>\n",
       "        </tr>\n",
       "        <tr>\n",
       "            <td>product_price</td>\n",
       "            <td>decimal</td>\n",
       "            <td>None</td>\n",
       "        </tr>\n",
       "        <tr>\n",
       "            <td>product_subcategory</td>\n",
       "            <td>varchar</td>\n",
       "            <td>50</td>\n",
       "        </tr>\n",
       "    </tbody>\n",
       "</table>"
      ],
      "text/plain": [
       "[('product_category', 'varchar', 50),\n",
       " ('product_id', 'varchar', 20),\n",
       " ('product_name', 'varchar', 50),\n",
       " ('product_price', 'decimal', None),\n",
       " ('product_subcategory', 'varchar', 50)]"
      ]
     },
     "execution_count": 3,
     "metadata": {},
     "output_type": "execute_result"
    }
   ],
   "source": [
    "%%sql \n",
    "\n",
    "SELECT COLUMN_NAME, DATA_TYPE, CHARACTER_MAXIMUM_LENGTH\n",
    "FROM INFORMATION_SCHEMA.COLUMNS\n",
    "WHERE TABLE_NAME = 'dim_product'"
   ]
  },
  {
   "cell_type": "code",
   "execution_count": 4,
   "metadata": {
    "vscode": {
     "languageId": "sql"
    }
   },
   "outputs": [
    {
     "data": {
      "text/html": [
       "<table>\n",
       "    <thead>\n",
       "        <tr>\n",
       "            <th>COLUMN_NAME</th>\n",
       "        </tr>\n",
       "    </thead>\n",
       "    <tbody>\n",
       "        <tr>\n",
       "            <td>product_category</td>\n",
       "        </tr>\n",
       "        <tr>\n",
       "            <td>product_id</td>\n",
       "        </tr>\n",
       "        <tr>\n",
       "            <td>product_name</td>\n",
       "        </tr>\n",
       "        <tr>\n",
       "            <td>product_price</td>\n",
       "        </tr>\n",
       "        <tr>\n",
       "            <td>product_subcategory</td>\n",
       "        </tr>\n",
       "    </tbody>\n",
       "</table>"
      ],
      "text/plain": [
       "[('product_category',),\n",
       " ('product_id',),\n",
       " ('product_name',),\n",
       " ('product_price',),\n",
       " ('product_subcategory',)]"
      ]
     },
     "execution_count": 4,
     "metadata": {},
     "output_type": "execute_result"
    }
   ],
   "source": [
    "%%sql \n",
    "\n",
    "SELECT COLUMN_NAME\n",
    "FROM INFORMATION_SCHEMA.COLUMNS\n",
    "WHERE TABLE_NAME = 'dim_product'"
   ]
  },
  {
   "cell_type": "code",
   "execution_count": 5,
   "metadata": {
    "vscode": {
     "languageId": "sql"
    }
   },
   "outputs": [
    {
     "data": {
      "text/html": [
       "<table>\n",
       "    <thead>\n",
       "        <tr>\n",
       "            <th>COLUMN_NAME</th>\n",
       "        </tr>\n",
       "    </thead>\n",
       "    <tbody>\n",
       "        <tr>\n",
       "            <td>customer_city</td>\n",
       "        </tr>\n",
       "        <tr>\n",
       "            <td>customer_id</td>\n",
       "        </tr>\n",
       "        <tr>\n",
       "            <td>customer_name</td>\n",
       "        </tr>\n",
       "        <tr>\n",
       "            <td>customer_state</td>\n",
       "        </tr>\n",
       "    </tbody>\n",
       "</table>"
      ],
      "text/plain": [
       "[('customer_city',), ('customer_id',), ('customer_name',), ('customer_state',)]"
      ]
     },
     "execution_count": 5,
     "metadata": {},
     "output_type": "execute_result"
    }
   ],
   "source": [
    "%%sql \n",
    "\n",
    "SELECT COLUMN_NAME\n",
    "FROM INFORMATION_SCHEMA.COLUMNS\n",
    "WHERE TABLE_NAME = 'dim_customer'"
   ]
  },
  {
   "cell_type": "code",
   "execution_count": 6,
   "metadata": {
    "vscode": {
     "languageId": "sql"
    }
   },
   "outputs": [
    {
     "data": {
      "text/html": [
       "<table>\n",
       "    <thead>\n",
       "        <tr>\n",
       "            <th>COLUMN_NAME</th>\n",
       "        </tr>\n",
       "    </thead>\n",
       "    <tbody>\n",
       "        <tr>\n",
       "            <td>customer_id</td>\n",
       "        </tr>\n",
       "        <tr>\n",
       "            <td>date_id</td>\n",
       "        </tr>\n",
       "        <tr>\n",
       "            <td>product_id</td>\n",
       "        </tr>\n",
       "        <tr>\n",
       "            <td>sales_amount</td>\n",
       "        </tr>\n",
       "        <tr>\n",
       "            <td>sales_id</td>\n",
       "        </tr>\n",
       "    </tbody>\n",
       "</table>"
      ],
      "text/plain": [
       "[('customer_id',),\n",
       " ('date_id',),\n",
       " ('product_id',),\n",
       " ('sales_amount',),\n",
       " ('sales_id',)]"
      ]
     },
     "execution_count": 6,
     "metadata": {},
     "output_type": "execute_result"
    }
   ],
   "source": [
    "%%sql \n",
    "\n",
    "SELECT COLUMN_NAME\n",
    "FROM INFORMATION_SCHEMA.COLUMNS\n",
    "WHERE TABLE_NAME = 'fact_sales'"
   ]
  }
 ],
 "metadata": {
  "kernelspec": {
   "display_name": "env",
   "language": "python",
   "name": "python3"
  },
  "language_info": {
   "codemirror_mode": {
    "name": "ipython",
    "version": 3
   },
   "file_extension": ".py",
   "mimetype": "text/x-python",
   "name": "python",
   "nbconvert_exporter": "python",
   "pygments_lexer": "ipython3",
   "version": "3.11.2"
  },
  "orig_nbformat": 4
 },
 "nbformat": 4,
 "nbformat_minor": 2
}
