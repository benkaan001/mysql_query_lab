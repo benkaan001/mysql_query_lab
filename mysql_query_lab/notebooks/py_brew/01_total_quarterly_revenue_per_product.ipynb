{
 "cells": [
  {
   "cell_type": "code",
   "execution_count": 1,
   "metadata": {},
   "outputs": [
    {
     "name": "stdout",
     "output_type": "stream",
     "text": [
      "Successfully connected to py_brew database.\n",
      "+-------------+-------------------+---------------+----------------+\n",
      "| customer_id |   customer_name   | customer_city | customer_state |\n",
      "+-------------+-------------------+---------------+----------------+\n",
      "|     100     | Jennifer Gonzalez |   Smithland   |    Arkansas    |\n",
      "+-------------+-------------------+---------------+----------------+\n",
      "+---------+---------------------+------------+-------------+-------+------+\n",
      "| date_id |        tmstp        |    date    | day_of_week | month | year |\n",
      "+---------+---------------------+------------+-------------+-------+------+\n",
      "|    1    | 2020-07-04 21:23:10 | 2020-07-04 |      4      |   7   | 2020 |\n",
      "+---------+---------------------+------------+-------------+-------+------+\n",
      "+------------------+------------------+---------------------+--------------+---------------+\n",
      "|    product_id    | product_category | product_subcategory | product_name | product_price |\n",
      "+------------------+------------------+---------------------+--------------+---------------+\n",
      "| COL:ICE:COL:1048 |  Cold Beverages  |     Iced Coffee     |  Cold Brew   |      4.50     |\n",
      "+------------------+------------------+---------------------+--------------+---------------+\n",
      "+----------+--------------+-------------+---------+------------------+\n",
      "| sales_id | sales_amount | customer_id | date_id |    product_id    |\n",
      "+----------+--------------+-------------+---------+------------------+\n",
      "|  100000  |    23.64     |     629     |   888   | HOT:TEA:EAR:1339 |\n",
      "+----------+--------------+-------------+---------+------------------+\n"
     ]
    }
   ],
   "source": [
    "%run 00_display_tables.ipynb import captured_output"
   ]
  },
  {
   "attachments": {},
   "cell_type": "markdown",
   "metadata": {},
   "source": [
    "## Calculate the total revenue of each product for the past quarter (90 days)"
   ]
  },
  {
   "cell_type": "code",
   "execution_count": 2,
   "metadata": {
    "vscode": {
     "languageId": "sql"
    }
   },
   "outputs": [
    {
     "data": {
      "text/html": [
       "<table>\n",
       "    <thead>\n",
       "        <tr>\n",
       "            <th>product_name</th>\n",
       "            <th>product_sales_total</th>\n",
       "            <th>sale_month</th>\n",
       "        </tr>\n",
       "    </thead>\n",
       "    <tbody>\n",
       "        <tr>\n",
       "            <td>PyBrew I Wish You Were Here Mug 12oz</td>\n",
       "            <td>746.03</td>\n",
       "            <td>April</td>\n",
       "        </tr>\n",
       "        <tr>\n",
       "            <td>French Press</td>\n",
       "            <td>551.47</td>\n",
       "            <td>March</td>\n",
       "        </tr>\n",
       "        <tr>\n",
       "            <td>Dripper</td>\n",
       "            <td>499.42</td>\n",
       "            <td>March</td>\n",
       "        </tr>\n",
       "        <tr>\n",
       "            <td>PyBrew Texas Edition Mug 36oz</td>\n",
       "            <td>489.42</td>\n",
       "            <td>April</td>\n",
       "        </tr>\n",
       "        <tr>\n",
       "            <td>Iced Chai Tea</td>\n",
       "            <td>458.44</td>\n",
       "            <td>March</td>\n",
       "        </tr>\n",
       "        <tr>\n",
       "            <td>Iced Mocha</td>\n",
       "            <td>453.75</td>\n",
       "            <td>March</td>\n",
       "        </tr>\n",
       "        <tr>\n",
       "            <td>French Press</td>\n",
       "            <td>405.86</td>\n",
       "            <td>April</td>\n",
       "        </tr>\n",
       "        <tr>\n",
       "            <td>Iced Mocha</td>\n",
       "            <td>396.00</td>\n",
       "            <td>April</td>\n",
       "        </tr>\n",
       "        <tr>\n",
       "            <td>PyBrew Texas Edition Mug 36oz</td>\n",
       "            <td>388.66</td>\n",
       "            <td>March</td>\n",
       "        </tr>\n",
       "        <tr>\n",
       "            <td>PyBrew I Wish You Were Here Mug 12oz</td>\n",
       "            <td>376.28</td>\n",
       "            <td>March</td>\n",
       "        </tr>\n",
       "    </tbody>\n",
       "</table>"
      ],
      "text/plain": [
       "[('PyBrew I Wish You Were Here Mug 12oz', Decimal('746.03'), 'April'),\n",
       " ('French Press', Decimal('551.47'), 'March'),\n",
       " ('Dripper', Decimal('499.42'), 'March'),\n",
       " ('PyBrew Texas Edition Mug 36oz', Decimal('489.42'), 'April'),\n",
       " ('Iced Chai Tea', Decimal('458.44'), 'March'),\n",
       " ('Iced Mocha', Decimal('453.75'), 'March'),\n",
       " ('French Press', Decimal('405.86'), 'April'),\n",
       " ('Iced Mocha', Decimal('396.00'), 'April'),\n",
       " ('PyBrew Texas Edition Mug 36oz', Decimal('388.66'), 'March'),\n",
       " ('PyBrew I Wish You Were Here Mug 12oz', Decimal('376.28'), 'March')]"
      ]
     },
     "execution_count": 2,
     "metadata": {},
     "output_type": "execute_result"
    }
   ],
   "source": [
    "%%sql \n",
    "\n",
    "SELECT  \n",
    "    p.product_name,\n",
    "    SUM(s.sales_amount) AS product_sales_total, \n",
    "    MONTHNAME(d.date) AS sale_month\n",
    "FROM fact_sales s \n",
    "JOIN dim_date d ON s.date_id = d.date_id\n",
    "JOIN dim_product p ON s.product_id = p.product_id\n",
    "WHERE d.date >= DATE_SUB(CURDATE(), INTERVAL 90 DAY)\n",
    "GROUP BY product_name, sale_month\n",
    "ORDER BY product_sales_total DESC\n",
    "LIMIT 10"
   ]
  }
 ],
 "metadata": {
  "kernelspec": {
   "display_name": "env",
   "language": "python",
   "name": "python3"
  },
  "language_info": {
   "codemirror_mode": {
    "name": "ipython",
    "version": 3
   },
   "file_extension": ".py",
   "mimetype": "text/x-python",
   "name": "python",
   "nbconvert_exporter": "python",
   "pygments_lexer": "ipython3",
   "version": "3.11.2"
  },
  "orig_nbformat": 4
 },
 "nbformat": 4,
 "nbformat_minor": 2
}
