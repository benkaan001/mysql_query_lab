{
 "cells": [
  {
   "cell_type": "code",
   "execution_count": 1,
   "metadata": {},
   "outputs": [
    {
     "name": "stdout",
     "output_type": "stream",
     "text": [
      "Successfully connected to py_brew database.\n",
      "+-------------+-------------------+---------------+----------------+\n",
      "| customer_id |   customer_name   | customer_city | customer_state |\n",
      "+-------------+-------------------+---------------+----------------+\n",
      "|     100     | Jennifer Gonzalez |   Smithland   |    Arkansas    |\n",
      "+-------------+-------------------+---------------+----------------+\n",
      "+---------+---------------------+------------+-------------+-------+------+\n",
      "| date_id |        tmstp        |    date    | day_of_week | month | year |\n",
      "+---------+---------------------+------------+-------------+-------+------+\n",
      "|    1    | 2020-07-04 21:23:10 | 2020-07-04 |      4      |   7   | 2020 |\n",
      "+---------+---------------------+------------+-------------+-------+------+\n",
      "+------------------+------------------+---------------------+--------------+---------------+\n",
      "|    product_id    | product_category | product_subcategory | product_name | product_price |\n",
      "+------------------+------------------+---------------------+--------------+---------------+\n",
      "| COL:ICE:COL:1048 |  Cold Beverages  |     Iced Coffee     |  Cold Brew   |      4.50     |\n",
      "+------------------+------------------+---------------------+--------------+---------------+\n",
      "+----------+--------------+-------------+---------+------------------+\n",
      "| sales_id | sales_amount | customer_id | date_id |    product_id    |\n",
      "+----------+--------------+-------------+---------+------------------+\n",
      "|  100000  |    23.64     |     629     |   888   | HOT:TEA:EAR:1339 |\n",
      "+----------+--------------+-------------+---------+------------------+\n"
     ]
    }
   ],
   "source": [
    "%run 00_display_tables.ipynb "
   ]
  },
  {
   "attachments": {},
   "cell_type": "markdown",
   "metadata": {},
   "source": [
    "#### Calculate the average sales and total sales amount for each product category, including only the products that have been sold more than 10 times. Order the results by the total sales amount in descending order.\n",
    "\n",
    "##### *Hint: Use a combination of aggregations, subqueries, and filtering conditions to calculate the average sales amount and include only the desired products.*"
   ]
  },
  {
   "cell_type": "code",
   "execution_count": 23,
   "metadata": {
    "vscode": {
     "languageId": "sql"
    }
   },
   "outputs": [
    {
     "data": {
      "text/html": [
       "<table>\n",
       "    <thead>\n",
       "        <tr>\n",
       "            <th>product_id</th>\n",
       "        </tr>\n",
       "    </thead>\n",
       "    <tbody>\n",
       "        <tr>\n",
       "            <td>COL:ICE:COL:1051</td>\n",
       "        </tr>\n",
       "        <tr>\n",
       "            <td>COL:ICE:COL:1105</td>\n",
       "        </tr>\n",
       "        <tr>\n",
       "            <td>COL:ICE:COL:1139</td>\n",
       "        </tr>\n",
       "    </tbody>\n",
       "</table>"
      ],
      "text/plain": [
       "[('COL:ICE:COL:1051',), ('COL:ICE:COL:1105',), ('COL:ICE:COL:1139',)]"
      ]
     },
     "execution_count": 23,
     "metadata": {},
     "output_type": "execute_result"
    }
   ],
   "source": [
    "%%sql \n",
    "\n",
    "-- step 1: Create the subquery logic to select the distinct products\n",
    "SELECT product_id\n",
    "FROM fact_sales\n",
    "GROUP BY product_id\n",
    "HAVING COUNT(DISTINCT sales_id ) > 10\n",
    "LIMIT 3 -- limit the output to 3 for visual"
   ]
  },
  {
   "cell_type": "code",
   "execution_count": 13,
   "metadata": {
    "vscode": {
     "languageId": "sql"
    }
   },
   "outputs": [
    {
     "data": {
      "text/html": [
       "<table>\n",
       "    <thead>\n",
       "        <tr>\n",
       "            <th>product_category</th>\n",
       "            <th>average_sales</th>\n",
       "            <th>total_sales</th>\n",
       "        </tr>\n",
       "    </thead>\n",
       "    <tbody>\n",
       "        <tr>\n",
       "            <td>Snacks</td>\n",
       "            <td>27.624575</td>\n",
       "            <td>39309.77</td>\n",
       "        </tr>\n",
       "        <tr>\n",
       "            <td>Retail</td>\n",
       "            <td>28.007972</td>\n",
       "            <td>38538.97</td>\n",
       "        </tr>\n",
       "        <tr>\n",
       "            <td>Cold Beverages</td>\n",
       "            <td>27.584482</td>\n",
       "            <td>37542.48</td>\n",
       "        </tr>\n",
       "        <tr>\n",
       "            <td>Hot Beverages</td>\n",
       "            <td>27.437614</td>\n",
       "            <td>35998.15</td>\n",
       "        </tr>\n",
       "    </tbody>\n",
       "</table>"
      ],
      "text/plain": [
       "[('Snacks', Decimal('27.624575'), Decimal('39309.77')),\n",
       " ('Retail', Decimal('28.007972'), Decimal('38538.97')),\n",
       " ('Cold Beverages', Decimal('27.584482'), Decimal('37542.48')),\n",
       " ('Hot Beverages', Decimal('27.437614'), Decimal('35998.15'))]"
      ]
     },
     "execution_count": 13,
     "metadata": {},
     "output_type": "execute_result"
    }
   ],
   "source": [
    "%%sql \n",
    "-- step 2: Join the subquery \n",
    "\n",
    "SELECT p.product_category, \n",
    "AVG(s.sales_amount) AS average_sales, \n",
    "SUM(s.sales_amount) AS total_sales\n",
    "FROM fact_sales s\n",
    "JOIN dim_product p ON s.product_id = p.product_id\n",
    "JOIN (\n",
    "    SELECT product_id\n",
    "    FROM fact_sales\n",
    "    GROUP BY product_id\n",
    "    HAVING COUNT(DISTINCT sales_id) > 10\n",
    " ) AS subquery ON p.product_id = subquery.product_id\n",
    "GROUP BY p.product_category\n",
    "ORDER BY total_sales DESC "
   ]
  },
  {
   "cell_type": "code",
   "execution_count": 16,
   "metadata": {
    "vscode": {
     "languageId": "sql"
    }
   },
   "outputs": [
    {
     "data": {
      "text/html": [
       "<table>\n",
       "    <thead>\n",
       "        <tr>\n",
       "            <th>product_category</th>\n",
       "            <th>average_sales</th>\n",
       "            <th>total_sales</th>\n",
       "        </tr>\n",
       "    </thead>\n",
       "    <tbody>\n",
       "        <tr>\n",
       "            <td>Snacks</td>\n",
       "            <td>27.624575</td>\n",
       "            <td>39309.77</td>\n",
       "        </tr>\n",
       "        <tr>\n",
       "            <td>Retail</td>\n",
       "            <td>28.007972</td>\n",
       "            <td>38538.97</td>\n",
       "        </tr>\n",
       "        <tr>\n",
       "            <td>Cold Beverages</td>\n",
       "            <td>27.584482</td>\n",
       "            <td>37542.48</td>\n",
       "        </tr>\n",
       "        <tr>\n",
       "            <td>Hot Beverages</td>\n",
       "            <td>27.437614</td>\n",
       "            <td>35998.15</td>\n",
       "        </tr>\n",
       "    </tbody>\n",
       "</table>"
      ],
      "text/plain": [
       "[('Snacks', Decimal('27.624575'), Decimal('39309.77')),\n",
       " ('Retail', Decimal('28.007972'), Decimal('38538.97')),\n",
       " ('Cold Beverages', Decimal('27.584482'), Decimal('37542.48')),\n",
       " ('Hot Beverages', Decimal('27.437614'), Decimal('35998.15'))]"
      ]
     },
     "execution_count": 16,
     "metadata": {},
     "output_type": "execute_result"
    }
   ],
   "source": [
    "%%sql \n",
    "\n",
    "-- using CTE\n",
    "\n",
    "WITH distinct_sales_CTE AS (\n",
    "    SELECT product_id\n",
    "    FROM fact_sales\n",
    "    GROUP BY product_id\n",
    "    HAVING COUNT(DISTINCT sales_id) > 10\n",
    ") SELECT p.product_category,\n",
    "AVG(s.sales_amount) AS average_sales,\n",
    "SUM(s.sales_amount) AS total_sales\n",
    "FROM fact_sales s \n",
    "INNER JOIN dim_product p ON p.product_id = s.product_id\n",
    "JOIN distinct_sales_CTE dist ON dist.product_id = p.product_id\n",
    "GROUP BY p.product_category\n",
    "ORDER BY total_sales DESC;"
   ]
  },
  {
   "cell_type": "code",
   "execution_count": 24,
   "metadata": {
    "vscode": {
     "languageId": "sql"
    }
   },
   "outputs": [
    {
     "data": {
      "text/html": [
       "<table>\n",
       "    <thead>\n",
       "        <tr>\n",
       "            <th>product_category</th>\n",
       "            <th>average_sales</th>\n",
       "            <th>total_sales</th>\n",
       "        </tr>\n",
       "    </thead>\n",
       "    <tbody>\n",
       "        <tr>\n",
       "            <td>Snacks</td>\n",
       "            <td>27.624575</td>\n",
       "            <td>39309.77</td>\n",
       "        </tr>\n",
       "        <tr>\n",
       "            <td>Retail</td>\n",
       "            <td>28.007972</td>\n",
       "            <td>38538.97</td>\n",
       "        </tr>\n",
       "        <tr>\n",
       "            <td>Cold Beverages</td>\n",
       "            <td>27.584482</td>\n",
       "            <td>37542.48</td>\n",
       "        </tr>\n",
       "        <tr>\n",
       "            <td>Hot Beverages</td>\n",
       "            <td>27.437614</td>\n",
       "            <td>35998.15</td>\n",
       "        </tr>\n",
       "    </tbody>\n",
       "</table>"
      ],
      "text/plain": [
       "[('Snacks', Decimal('27.624575'), Decimal('39309.77')),\n",
       " ('Retail', Decimal('28.007972'), Decimal('38538.97')),\n",
       " ('Cold Beverages', Decimal('27.584482'), Decimal('37542.48')),\n",
       " ('Hot Beverages', Decimal('27.437614'), Decimal('35998.15'))]"
      ]
     },
     "execution_count": 24,
     "metadata": {},
     "output_type": "execute_result"
    }
   ],
   "source": [
    "%%sql \n",
    "\n",
    "-- using inner query. This will result in the worst performance. Why?\n",
    "\n",
    "SELECT p.product_category, \n",
    "AVG(s.sales_amount) AS average_sales, \n",
    "SUM(s.sales_amount) AS total_sales\n",
    "FROM fact_sales s\n",
    "JOIN dim_product p ON s.product_id = p.product_id\n",
    "WHERE p.product_id IN (\n",
    "    SELECT product_id\n",
    "    FROM fact_sales\n",
    "    GROUP BY product_id\n",
    "    HAVING COUNT(DISTINCT sales_id) > 10\n",
    " )\n",
    "GROUP BY p.product_category\n",
    "ORDER BY total_sales DESC "
   ]
  },
  {
   "cell_type": "code",
   "execution_count": 25,
   "metadata": {
    "vscode": {
     "languageId": "sql"
    }
   },
   "outputs": [
    {
     "data": {
      "text/html": [
       "<table>\n",
       "    <thead>\n",
       "        <tr>\n",
       "            <th>id</th>\n",
       "            <th>select_type</th>\n",
       "            <th>table</th>\n",
       "            <th>partitions</th>\n",
       "            <th>type</th>\n",
       "            <th>possible_keys</th>\n",
       "            <th>key</th>\n",
       "            <th>key_len</th>\n",
       "            <th>ref</th>\n",
       "            <th>rows</th>\n",
       "            <th>filtered</th>\n",
       "            <th>Extra</th>\n",
       "        </tr>\n",
       "    </thead>\n",
       "    <tbody>\n",
       "        <tr>\n",
       "            <td>1</td>\n",
       "            <td>PRIMARY</td>\n",
       "            <td>p</td>\n",
       "            <td>None</td>\n",
       "            <td>ALL</td>\n",
       "            <td>PRIMARY</td>\n",
       "            <td>None</td>\n",
       "            <td>None</td>\n",
       "            <td>None</td>\n",
       "            <td>1000</td>\n",
       "            <td>100.0</td>\n",
       "            <td>Using where; Using temporary; Using filesort</td>\n",
       "        </tr>\n",
       "        <tr>\n",
       "            <td>1</td>\n",
       "            <td>PRIMARY</td>\n",
       "            <td>s</td>\n",
       "            <td>None</td>\n",
       "            <td>ref</td>\n",
       "            <td>product_id</td>\n",
       "            <td>product_id</td>\n",
       "            <td>82</td>\n",
       "            <td>py_brew.p.product_id</td>\n",
       "            <td>9</td>\n",
       "            <td>100.0</td>\n",
       "            <td>None</td>\n",
       "        </tr>\n",
       "        <tr>\n",
       "            <td>2</td>\n",
       "            <td>SUBQUERY</td>\n",
       "            <td>fact_sales</td>\n",
       "            <td>None</td>\n",
       "            <td>range</td>\n",
       "            <td>product_id</td>\n",
       "            <td>product_id</td>\n",
       "            <td>86</td>\n",
       "            <td>None</td>\n",
       "            <td>9741</td>\n",
       "            <td>100.0</td>\n",
       "            <td>Using index for group-by (scanning)</td>\n",
       "        </tr>\n",
       "    </tbody>\n",
       "</table>"
      ],
      "text/plain": [
       "[(1, 'PRIMARY', 'p', None, 'ALL', 'PRIMARY', None, None, None, 1000, 100.0, 'Using where; Using temporary; Using filesort'),\n",
       " (1, 'PRIMARY', 's', None, 'ref', 'product_id', 'product_id', '82', 'py_brew.p.product_id', 9, 100.0, None),\n",
       " (2, 'SUBQUERY', 'fact_sales', None, 'range', 'product_id', 'product_id', '86', None, 9741, 100.0, 'Using index for group-by (scanning)')]"
      ]
     },
     "execution_count": 25,
     "metadata": {},
     "output_type": "execute_result"
    }
   ],
   "source": [
    "%%sql \n",
    "\n",
    "EXPLAIN SELECT p.product_category, \n",
    "AVG(s.sales_amount) AS average_sales, \n",
    "SUM(s.sales_amount) AS total_sales\n",
    "FROM fact_sales s\n",
    "JOIN dim_product p ON s.product_id = p.product_id\n",
    "WHERE p.product_id IN (\n",
    "    SELECT product_id\n",
    "    FROM fact_sales\n",
    "    GROUP BY product_id\n",
    "    HAVING COUNT(DISTINCT sales_id) > 10\n",
    " )\n",
    "GROUP BY p.product_category\n",
    "ORDER BY total_sales DESC "
   ]
  },
  {
   "attachments": {},
   "cell_type": "markdown",
   "metadata": {},
   "source": [
    "Let's analyze the values in each column in this **EXPLAIN SELECT**:\n",
    "\n",
    "- `id`: The sequential number of the table within the query.The `PRIMARY` select_type indicates the main query.\n",
    "\n",
    "- `select_type`: The type of select operation performed.\n",
    "\n",
    "- `table`: The table involved in the operation.The `PRIMARY` select_type indicates the main query.\n",
    "\n",
    "- `partitions`: The partitions used in the operation.Both tables have no partitions (`None`).\n",
    "\n",
    "- `type`: The join type or access method used.The `type` column shows that a full table scan (`ALL`) is performed on the `p` table, which means it scans the entire table.\n",
    "\n",
    "- `possible_keys`: The possible indexes that could be used.The `possible_keys` column shows that there are no possible indexes for the operation.\n",
    "\n",
    "- `key`: The index used for the operation. The `key` column is `None`, indicating that no index is used.\n",
    "\n",
    "- `key_len`: The length of the key used. The `key_len` column is also `None` as no key is used.\n",
    "\n",
    "- `ref`: The column or expression used with the key. The `ref` column is `None` as there is no reference column used.\n",
    "\n",
    "- `rows`: The estimated number of rows examined for the operation. The `rows` column shows an estimated number of 1000 rows examined for the operation.\n",
    "\n",
    "- `filtered`: The percentage of rows filtered by the table condition. The `filtered` column indicates that 100% of the rows pass the table condition.\n",
    "    \n",
    "- `Extra`: Additional information or optimizations applied. The `Extra` column shows that temporary and filesort operations are used.\n",
    "\n",
    "\n",
    "Based on this information, it appears that the query is performing a full table scan on the `p` table and using temporary and filesort operations. This indicates that there may be room for optimization, such as adding appropriate indexes on the join and filter columns to improve performance."
   ]
  }
 ],
 "metadata": {
  "kernelspec": {
   "display_name": "env",
   "language": "python",
   "name": "python3"
  },
  "language_info": {
   "codemirror_mode": {
    "name": "ipython",
    "version": 3
   },
   "file_extension": ".py",
   "mimetype": "text/x-python",
   "name": "python",
   "nbconvert_exporter": "python",
   "pygments_lexer": "ipython3",
   "version": "3.11.2"
  },
  "orig_nbformat": 4
 },
 "nbformat": 4,
 "nbformat_minor": 2
}
