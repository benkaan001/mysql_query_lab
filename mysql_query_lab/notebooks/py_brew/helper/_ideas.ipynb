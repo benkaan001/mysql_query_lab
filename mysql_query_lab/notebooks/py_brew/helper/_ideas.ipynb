{
 "cells": [
  {
   "cell_type": "code",
   "execution_count": 1,
   "metadata": {},
   "outputs": [
    {
     "name": "stdout",
     "output_type": "stream",
     "text": [
      "Successfully connected to py_brew database.\n"
     ]
    }
   ],
   "source": [
    "%run setup_notebook.ipynb"
   ]
  },
  {
   "cell_type": "code",
   "execution_count": 2,
   "metadata": {
    "vscode": {
     "languageId": "sql"
    }
   },
   "outputs": [
    {
     "name": "stdout",
     "output_type": "stream",
     "text": [
      "+----------+--------------+-------------+---------+------------------+\n",
      "| sales_id | sales_amount | customer_id | date_id |    product_id    |\n",
      "+----------+--------------+-------------+---------+------------------+\n",
      "|  100000  |    23.64     |     629     |   888   | HOT:TEA:EAR:1339 |\n",
      "+----------+--------------+-------------+---------+------------------+\n",
      "+---------+---------------------+------------+-------------+-------+------+\n",
      "| date_id |        tmstp        |    date    | day_of_week | month | year |\n",
      "+---------+---------------------+------------+-------------+-------+------+\n",
      "|    1    | 2020-07-04 21:23:10 | 2020-07-04 |      4      |   7   | 2020 |\n",
      "+---------+---------------------+------------+-------------+-------+------+\n",
      "+------------------+------------------+---------------------+--------------+---------------+\n",
      "|    product_id    | product_category | product_subcategory | product_name | product_price |\n",
      "+------------------+------------------+---------------------+--------------+---------------+\n",
      "| COL:ICE:COL:1048 |  Cold Beverages  |     Iced Coffee     |  Cold Brew   |      4.50     |\n",
      "+------------------+------------------+---------------------+--------------+---------------+\n",
      "+-------------+-------------------+---------------+----------------+\n",
      "| customer_id |   customer_name   | customer_city | customer_state |\n",
      "+-------------+-------------------+---------------+----------------+\n",
      "|     100     | Jennifer Gonzalez |   Smithland   |    Arkansas    |\n",
      "+-------------+-------------------+---------------+----------------+\n"
     ]
    }
   ],
   "source": [
    "# we can mix up python and sql to take a quick look at table columns\n",
    "\n",
    "tables = ['fact_sales', 'dim_date', 'dim_product', 'dim_customer']\n",
    "\n",
    "for table in tables:\n",
    "    query = %sql SELECT * FROM {table} LIMIT 1;\n",
    "    print(query)"
   ]
  },
  {
   "attachments": {},
   "cell_type": "markdown",
   "metadata": {},
   "source": [
    "## Display output in plain text format.\n",
    "\n",
    "- save the print output to `captured_output`\n",
    "- execute a SQL query and store the output in `result`\n",
    "- save the print output to captured_output"
   ]
  },
  {
   "cell_type": "code",
   "execution_count": 3,
   "metadata": {
    "vscode": {
     "languageId": "sql"
    }
   },
   "outputs": [],
   "source": [
    "%%capture captured_output \n",
    "result = %sql SHOW TABLES; \n",
    "print(result)"
   ]
  },
  {
   "cell_type": "code",
   "execution_count": 4,
   "metadata": {
    "vscode": {
     "languageId": "sql"
    }
   },
   "outputs": [
    {
     "data": {
      "text/plain": [
       "<IPython.utils.capture.CapturedIO at 0x1040a4c90>"
      ]
     },
     "execution_count": 4,
     "metadata": {},
     "output_type": "execute_result"
    }
   ],
   "source": [
    "captured_output"
   ]
  },
  {
   "cell_type": "code",
   "execution_count": 5,
   "metadata": {
    "vscode": {
     "languageId": "sql"
    }
   },
   "outputs": [
    {
     "name": "stdout",
     "output_type": "stream",
     "text": [
      "+-------------------+\n",
      "| Tables_in_py_brew |\n",
      "+-------------------+\n",
      "|    dim_customer   |\n",
      "|      dim_date     |\n",
      "|    dim_product    |\n",
      "|     fact_sales    |\n",
      "+-------------------+\n"
     ]
    }
   ],
   "source": [
    "captured_output.show()"
   ]
  },
  {
   "cell_type": "code",
   "execution_count": 6,
   "metadata": {
    "vscode": {
     "languageId": "sql"
    }
   },
   "outputs": [],
   "source": [
    "%%capture display_table_output\n",
    "def display_tables():\n",
    "    tables = ['fact_sales', 'dim_date', 'dim_product', 'dim_customer']\n",
    "    \n",
    "    for table in tables:\n",
    "        query = %sql SELECT * FROM {table} LIMIT 1;\n",
    "        print(query)\n",
    "\n",
    "display_tables()"
   ]
  },
  {
   "cell_type": "code",
   "execution_count": 7,
   "metadata": {
    "vscode": {
     "languageId": "sql"
    }
   },
   "outputs": [
    {
     "data": {
      "text/plain": [
       "<IPython.utils.capture.CapturedIO at 0x10c4d8510>"
      ]
     },
     "execution_count": 7,
     "metadata": {},
     "output_type": "execute_result"
    }
   ],
   "source": [
    "display_table_output"
   ]
  },
  {
   "cell_type": "code",
   "execution_count": 8,
   "metadata": {
    "vscode": {
     "languageId": "sql"
    }
   },
   "outputs": [
    {
     "name": "stdout",
     "output_type": "stream",
     "text": [
      "+----------+--------------+-------------+---------+------------------+\n",
      "| sales_id | sales_amount | customer_id | date_id |    product_id    |\n",
      "+----------+--------------+-------------+---------+------------------+\n",
      "|  100000  |    23.64     |     629     |   888   | HOT:TEA:EAR:1339 |\n",
      "+----------+--------------+-------------+---------+------------------+\n",
      "+---------+---------------------+------------+-------------+-------+------+\n",
      "| date_id |        tmstp        |    date    | day_of_week | month | year |\n",
      "+---------+---------------------+------------+-------------+-------+------+\n",
      "|    1    | 2020-07-04 21:23:10 | 2020-07-04 |      4      |   7   | 2020 |\n",
      "+---------+---------------------+------------+-------------+-------+------+\n",
      "+------------------+------------------+---------------------+--------------+---------------+\n",
      "|    product_id    | product_category | product_subcategory | product_name | product_price |\n",
      "+------------------+------------------+---------------------+--------------+---------------+\n",
      "| COL:ICE:COL:1048 |  Cold Beverages  |     Iced Coffee     |  Cold Brew   |      4.50     |\n",
      "+------------------+------------------+---------------------+--------------+---------------+\n",
      "+-------------+-------------------+---------------+----------------+\n",
      "| customer_id |   customer_name   | customer_city | customer_state |\n",
      "+-------------+-------------------+---------------+----------------+\n",
      "|     100     | Jennifer Gonzalez |   Smithland   |    Arkansas    |\n",
      "+-------------+-------------------+---------------+----------------+\n"
     ]
    }
   ],
   "source": [
    "display_table_output.show()"
   ]
  },
  {
   "cell_type": "code",
   "execution_count": 9,
   "metadata": {
    "vscode": {
     "languageId": "sql"
    }
   },
   "outputs": [
    {
     "data": {
      "text/plain": [
       "['__call__',\n",
       " '__class__',\n",
       " '__delattr__',\n",
       " '__dict__',\n",
       " '__dir__',\n",
       " '__doc__',\n",
       " '__eq__',\n",
       " '__format__',\n",
       " '__ge__',\n",
       " '__getattribute__',\n",
       " '__getstate__',\n",
       " '__gt__',\n",
       " '__hash__',\n",
       " '__init__',\n",
       " '__init_subclass__',\n",
       " '__le__',\n",
       " '__lt__',\n",
       " '__module__',\n",
       " '__ne__',\n",
       " '__new__',\n",
       " '__reduce__',\n",
       " '__reduce_ex__',\n",
       " '__repr__',\n",
       " '__setattr__',\n",
       " '__sizeof__',\n",
       " '__str__',\n",
       " '__subclasshook__',\n",
       " '__weakref__',\n",
       " '_outputs',\n",
       " '_stderr',\n",
       " '_stdout',\n",
       " 'outputs',\n",
       " 'show',\n",
       " 'stderr',\n",
       " 'stdout']"
      ]
     },
     "execution_count": 9,
     "metadata": {},
     "output_type": "execute_result"
    }
   ],
   "source": [
    "# explore available methods \n",
    "dir(display_table_output)"
   ]
  },
  {
   "cell_type": "code",
   "execution_count": 19,
   "metadata": {
    "vscode": {
     "languageId": "sql"
    }
   },
   "outputs": [
    {
     "name": "stdout",
     "output_type": "stream",
     "text": [
      "+----------+--------------+-------------+---------+------------------+\n",
      "| sales_id | sales_amount | customer_id | date_id |    product_id    |\n",
      "+----------+--------------+-------------+---------+------------------+\n",
      "|  100000  |    23.64     |     629     |   888   | HOT:TEA:EAR:1339 |\n",
      "+----------+--------------+-------------+---------+------------------+\n",
      "+---------+---------------------+------------+-------------+-------+------+\n",
      "| date_id |        tmstp        |    date    | day_of_week | month | year |\n",
      "+---------+---------------------+------------+-------------+-------+------+\n",
      "|    1    | 2020-07-04 21:23:10 | 2020-07-04 |      4      |   7   | 2020 |\n",
      "+---------+---------------------+------------+-------------+-------+------+\n",
      "+------------------+------------------+---------------------+--------------+---------------+\n",
      "|    product_id    | product_category | product_subcategory | product_name | product_price |\n",
      "+------------------+------------------+---------------------+--------------+---------------+\n",
      "| COL:ICE:COL:1048 |  Cold Beverages  |     Iced Coffee     |  Cold Brew   |      4.50     |\n",
      "+------------------+------------------+---------------------+--------------+---------------+\n",
      "+-------------+-------------------+---------------+----------------+\n",
      "| customer_id |   customer_name   | customer_city | customer_state |\n",
      "+-------------+-------------------+---------------+----------------+\n",
      "|     100     | Jennifer Gonzalez |   Smithland   |    Arkansas    |\n",
      "+-------------+-------------------+---------------+----------------+\n",
      "\n"
     ]
    }
   ],
   "source": [
    "print(display_table_output.stdout)"
   ]
  }
 ],
 "metadata": {
  "kernelspec": {
   "display_name": "env",
   "language": "python",
   "name": "python3"
  },
  "language_info": {
   "codemirror_mode": {
    "name": "ipython",
    "version": 3
   },
   "file_extension": ".py",
   "mimetype": "text/x-python",
   "name": "python",
   "nbconvert_exporter": "python",
   "pygments_lexer": "ipython3",
   "version": "3.11.2"
  },
  "orig_nbformat": 4
 },
 "nbformat": 4,
 "nbformat_minor": 2
}
