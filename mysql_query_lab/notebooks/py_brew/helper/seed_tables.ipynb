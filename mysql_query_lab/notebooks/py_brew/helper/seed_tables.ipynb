{
 "cells": [
  {
   "cell_type": "code",
   "execution_count": 1,
   "metadata": {},
   "outputs": [
    {
     "name": "stdout",
     "output_type": "stream",
     "text": [
      "Successfully connected to py_brew database.\n"
     ]
    }
   ],
   "source": [
    "%run setup_notebook.ipynb"
   ]
  },
  {
   "attachments": {},
   "cell_type": "markdown",
   "metadata": {},
   "source": [
    "To find all CSV files in the `data` directory and its subdirectories using `pathlib`, we need to use the ***`rglob()`*** method instead of `glob()` to recursively search all files with a `.csv` extension under the `data` directory. "
   ]
  },
  {
   "cell_type": "code",
   "execution_count": 2,
   "metadata": {},
   "outputs": [
    {
     "name": "stdout",
     "output_type": "stream",
     "text": [
      "../../../data/pybrew_dim_date/dim_date.csv\n",
      "../../../data/pybrew_dim_customer/dim_customer.csv\n",
      "../../../data/pybrew_dim_product/dim_product.csv\n",
      "../../../data/pybrew_fact_sales/fact_sales.csv\n"
     ]
    }
   ],
   "source": [
    "from pathlib import Path \n",
    "\n",
    "# create a path object for the data directory\n",
    "data_directory = Path('../../../data/')\n",
    "\n",
    "# Use the rglob() method to find the CSV files in the data directory\n",
    "csv_files = data_directory.rglob('*.csv')\n",
    "\n",
    "# because Path returns a generator object, save it to a list to be able to reuse it later\n",
    "\n",
    "csv_file_list = list(csv_files)\n",
    "\n",
    "for file in csv_file_list:\n",
    "    print(file)"
   ]
  },
  {
   "cell_type": "code",
   "execution_count": 3,
   "metadata": {},
   "outputs": [
    {
     "name": "stdout",
     "output_type": "stream",
     "text": [
      "../../../data/pybrew_dim_date/dim_date.csv\n"
     ]
    }
   ],
   "source": [
    "\n",
    "# unpack the list to save each path to its own path variable\n",
    "dim_date_path, dim_customer_path, dim_product_path, fact_sales_path = csv_file_list\n",
    "\n",
    "print(dim_date_path)"
   ]
  },
  {
   "cell_type": "code",
   "execution_count": 4,
   "metadata": {
    "vscode": {
     "languageId": "sql"
    }
   },
   "outputs": [
    {
     "data": {
      "text/html": [
       "<table>\n",
       "    <thead>\n",
       "        <tr>\n",
       "            <th>Variable_name</th>\n",
       "            <th>Value</th>\n",
       "        </tr>\n",
       "    </thead>\n",
       "    <tbody>\n",
       "        <tr>\n",
       "            <td>secure_file_priv</td>\n",
       "            <td>NULL</td>\n",
       "        </tr>\n",
       "    </tbody>\n",
       "</table>"
      ],
      "text/plain": [
       "[('secure_file_priv', 'NULL')]"
      ]
     },
     "execution_count": 4,
     "metadata": {},
     "output_type": "execute_result"
    }
   ],
   "source": [
    "%%sql \n",
    "\n",
    "SHOW VARIABLES LIKE 'secure_file_priv'"
   ]
  },
  {
   "cell_type": "code",
   "execution_count": 5,
   "metadata": {
    "vscode": {
     "languageId": "sql"
    }
   },
   "outputs": [
    {
     "data": {
      "text/plain": [
       "[]"
      ]
     },
     "execution_count": 5,
     "metadata": {},
     "output_type": "execute_result"
    }
   ],
   "source": [
    "%%sql \n",
    "\n",
    "-- set local_infile to ON/true/1 to enable LOCAL INFILE import\n",
    "SET GLOBAL local_infile = true;"
   ]
  },
  {
   "cell_type": "code",
   "execution_count": 6,
   "metadata": {
    "vscode": {
     "languageId": "sql"
    }
   },
   "outputs": [
    {
     "data": {
      "text/html": [
       "<table>\n",
       "    <thead>\n",
       "        <tr>\n",
       "            <th>Variable_name</th>\n",
       "            <th>Value</th>\n",
       "        </tr>\n",
       "    </thead>\n",
       "    <tbody>\n",
       "        <tr>\n",
       "            <td>local_infile</td>\n",
       "            <td>ON</td>\n",
       "        </tr>\n",
       "    </tbody>\n",
       "</table>"
      ],
      "text/plain": [
       "[('local_infile', 'ON')]"
      ]
     },
     "execution_count": 6,
     "metadata": {},
     "output_type": "execute_result"
    }
   ],
   "source": [
    "%%sql \n",
    "\n",
    "SHOW GLOBAL VARIABLES LIKE 'local_infile';"
   ]
  },
  {
   "cell_type": "code",
   "execution_count": null,
   "metadata": {
    "vscode": {
     "languageId": "sql"
    }
   },
   "outputs": [],
   "source": [
    "%%sql \n",
    "LOAD DATA LOCAL INFILE '../../../data/pybrew_dim_date/dim_date.csv'\n",
    "INTO TABLE dim_date\n",
    "FIELDS TERMINATED BY ','\n",
    "LINES TERMINATED BY '\\n'\n",
    "IGNORE 1 ROWS;"
   ]
  },
  {
   "cell_type": "code",
   "execution_count": 8,
   "metadata": {
    "vscode": {
     "languageId": "sql"
    }
   },
   "outputs": [
    {
     "name": "stdout",
     "output_type": "stream",
     "text": [
      "+---------+---------------------+------------+-------------+-------+------+\n",
      "| date_id |        tmstp        |    date    | day_of_week | month | year |\n",
      "+---------+---------------------+------------+-------------+-------+------+\n",
      "|    1    | 2020-07-04 21:23:10 | 2020-07-04 |      4      |   7   | 2020 |\n",
      "|    2    | 2021-07-03 07:13:40 | 2021-07-03 |      3      |   7   | 2021 |\n",
      "|    3    | 2021-05-03 00:55:54 | 2021-05-03 |      3      |   5   | 2021 |\n",
      "|    4    | 2021-03-16 10:03:55 | 2021-03-16 |      16     |   3   | 2021 |\n",
      "|    5    | 2022-02-22 16:29:22 | 2022-02-22 |      22     |   2   | 2022 |\n",
      "|    6    | 2022-06-10 22:19:28 | 2022-06-10 |      10     |   6   | 2022 |\n",
      "|    7    | 2022-03-22 11:25:33 | 2022-03-22 |      22     |   3   | 2022 |\n",
      "|    8    | 2020-11-20 08:06:37 | 2020-11-20 |      20     |   11  | 2020 |\n",
      "|    9    | 2021-11-06 09:57:10 | 2021-11-06 |      6      |   11  | 2021 |\n",
      "|    10   | 2021-06-29 22:11:10 | 2021-06-29 |      29     |   6   | 2021 |\n",
      "+---------+---------------------+------------+-------------+-------+------+\n"
     ]
    }
   ],
   "source": [
    "dates = %sql SELECT * FROM dim_date LIMIT 10\n",
    "\n",
    "print(dates)"
   ]
  },
  {
   "cell_type": "code",
   "execution_count": null,
   "metadata": {
    "vscode": {
     "languageId": "sql"
    }
   },
   "outputs": [],
   "source": [
    "%%sql \n",
    "\n",
    "LOAD DATA LOCAL INFILE '../../../data/pybrew_dim_customer/dim_customer.csv'\n",
    "INTO TABLE dim_customer\n",
    "FIELDS TERMINATED BY ','\n",
    "LINES TERMINATED BY '\\n'\n",
    "IGNORE 1 ROWS;"
   ]
  },
  {
   "cell_type": "code",
   "execution_count": 10,
   "metadata": {
    "vscode": {
     "languageId": "sql"
    }
   },
   "outputs": [
    {
     "name": "stdout",
     "output_type": "stream",
     "text": [
      "+-------------+--------------------+----------------+----------------+\n",
      "| customer_id |   customer_name    | customer_city  | customer_state |\n",
      "+-------------+--------------------+----------------+----------------+\n",
      "|     100     | Jennifer Gonzalez  |   Smithland    |    Arkansas    |\n",
      "|     101     |   Anthony Turner   |    Fordland    | West Virginia  |\n",
      "|     102     |   Jonathan Bell    |  Collinsmouth  |  Mississippi   |\n",
      "|     103     |  Michelle Johnson  | South Paulland |    Montana     |\n",
      "|     104     | Christopher Miller | North Loriview |  South Dakota  |\n",
      "|     105     |    Brian Brown     |  North Jeremy  |   Minnesota    |\n",
      "|     106     |    Cathy Suarez    |   South Ian    |   New Jersey   |\n",
      "|     107     | David Fitzpatrick  |   Danielland   |    Wyoming     |\n",
      "|     108     |     Juan Logan     |  Danielburgh   |   New Jersey   |\n",
      "|     109     |    Corey Morgan    |    Leeland     |     Kansas     |\n",
      "+-------------+--------------------+----------------+----------------+\n"
     ]
    }
   ],
   "source": [
    "customers = %sql SELECT * FROM dim_customer LIMIT 10\n",
    "\n",
    "print(customers)"
   ]
  },
  {
   "cell_type": "code",
   "execution_count": null,
   "metadata": {
    "vscode": {
     "languageId": "sql"
    }
   },
   "outputs": [],
   "source": [
    "%%sql \n",
    "\n",
    "LOAD DATA LOCAL INFILE '../../../data/pybrew_dim_product/dim_product.csv'\n",
    "INTO TABLE dim_product\n",
    "FIELDS TERMINATED BY ','\n",
    "LINES TERMINATED BY '\\n'\n",
    "IGNORE 1 ROWS;"
   ]
  },
  {
   "cell_type": "code",
   "execution_count": 12,
   "metadata": {
    "vscode": {
     "languageId": "sql"
    }
   },
   "outputs": [
    {
     "name": "stdout",
     "output_type": "stream",
     "text": [
      "+------------------+------------------+---------------------+--------------+---------------+\n",
      "|    product_id    | product_category | product_subcategory | product_name | product_price |\n",
      "+------------------+------------------+---------------------+--------------+---------------+\n",
      "| COL:ICE:COL:1048 |  Cold Beverages  |     Iced Coffee     |  Cold Brew   |      4.50     |\n",
      "| COL:ICE:COL:1051 |  Cold Beverages  |     Iced Coffee     |  Cold Brew   |      4.50     |\n",
      "| COL:ICE:COL:1072 |  Cold Beverages  |     Iced Coffee     |  Cold Brew   |      4.50     |\n",
      "| COL:ICE:COL:1105 |  Cold Beverages  |     Iced Coffee     |  Cold Brew   |      4.50     |\n",
      "| COL:ICE:COL:1139 |  Cold Beverages  |     Iced Coffee     |  Cold Brew   |      4.50     |\n",
      "| COL:ICE:COL:1169 |  Cold Beverages  |     Iced Coffee     |  Cold Brew   |      4.50     |\n",
      "| COL:ICE:COL:1204 |  Cold Beverages  |     Iced Coffee     |  Cold Brew   |      4.50     |\n",
      "| COL:ICE:COL:1268 |  Cold Beverages  |     Iced Coffee     |  Cold Brew   |      4.50     |\n",
      "| COL:ICE:COL:1303 |  Cold Beverages  |     Iced Coffee     |  Cold Brew   |      4.50     |\n",
      "| COL:ICE:COL:1318 |  Cold Beverages  |     Iced Coffee     |  Cold Brew   |      4.50     |\n",
      "+------------------+------------------+---------------------+--------------+---------------+\n"
     ]
    }
   ],
   "source": [
    "products = %sql SELECT * FROM dim_product LIMIT 10\n",
    "\n",
    "print(products)"
   ]
  },
  {
   "cell_type": "code",
   "execution_count": null,
   "metadata": {
    "vscode": {
     "languageId": "sql"
    }
   },
   "outputs": [],
   "source": [
    "%%sql \n",
    "\n",
    "LOAD DATA LOCAL INFILE '../../../data/pybrew_fact_sales/fact_sales.csv'\n",
    "INTO TABLE fact_sales\n",
    "FIELDS TERMINATED BY ','\n",
    "LINES TERMINATED BY '\\n'\n",
    "IGNORE 1 ROWS;"
   ]
  },
  {
   "cell_type": "code",
   "execution_count": 14,
   "metadata": {
    "vscode": {
     "languageId": "sql"
    }
   },
   "outputs": [
    {
     "name": "stdout",
     "output_type": "stream",
     "text": [
      "+----------+--------------+-------------+---------+------------------+\n",
      "| sales_id | sales_amount | customer_id | date_id |    product_id    |\n",
      "+----------+--------------+-------------+---------+------------------+\n",
      "|  100000  |    23.64     |     629     |   888   | HOT:TEA:EAR:1339 |\n",
      "|  100001  |    44.67     |     751     |    76   | COL:ICE:ICE:1633 |\n",
      "|  100002  |    26.24     |     329     |    67   | COL:ICE:ICE:1918 |\n",
      "|  100003  |    46.86     |     305     |   315   | RET:MUG:PYB:1708 |\n",
      "|  100004  |    45.11     |     435     |   293   | COL:ICE:ICE:1757 |\n",
      "|  100005  |    46.04     |     102     |   584   | SNA:PAC:FRU:1900 |\n",
      "|  100006  |    17.71     |     656     |   503   | HOT:COF:MOC:1413 |\n",
      "|  100007  |    33.10     |     178     |   259   | HOT:TEA:HER:1153 |\n",
      "|  100008  |    34.51     |     683     |   416   | SNA:BAK:MUF:1456 |\n",
      "|  100009  |     9.42     |     436     |   742   | HOT:TEA:EAR:1717 |\n",
      "+----------+--------------+-------------+---------+------------------+\n"
     ]
    }
   ],
   "source": [
    "sales = %sql SELECT * FROM fact_sales LIMIT 10\n",
    "\n",
    "print(sales)"
   ]
  }
 ],
 "metadata": {
  "kernelspec": {
   "display_name": "env",
   "language": "python",
   "name": "python3"
  },
  "language_info": {
   "codemirror_mode": {
    "name": "ipython",
    "version": 3
   },
   "file_extension": ".py",
   "mimetype": "text/x-python",
   "name": "python",
   "nbconvert_exporter": "python",
   "pygments_lexer": "ipython3",
   "version": "3.11.2"
  },
  "orig_nbformat": 4
 },
 "nbformat": 4,
 "nbformat_minor": 2
}
