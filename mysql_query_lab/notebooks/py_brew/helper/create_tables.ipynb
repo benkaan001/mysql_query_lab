{
 "cells": [
  {
   "cell_type": "code",
   "execution_count": 1,
   "metadata": {},
   "outputs": [
    {
     "name": "stdout",
     "output_type": "stream",
     "text": [
      "Successfully connected to py_brew database.\n"
     ]
    }
   ],
   "source": [
    "%run setup_notebook.ipynb"
   ]
  },
  {
   "cell_type": "code",
   "execution_count": 2,
   "metadata": {
    "vscode": {
     "languageId": "sql"
    }
   },
   "outputs": [
    {
     "data": {
      "text/plain": [
       "[]"
      ]
     },
     "execution_count": 2,
     "metadata": {},
     "output_type": "execute_result"
    }
   ],
   "source": [
    "%sql -f ../../../databases/py_brew_db/create_tables.sql"
   ]
  },
  {
   "cell_type": "code",
   "execution_count": 3,
   "metadata": {
    "vscode": {
     "languageId": "sql"
    }
   },
   "outputs": [
    {
     "data": {
      "text/html": [
       "<table>\n",
       "    <thead>\n",
       "        <tr>\n",
       "            <th>Tables_in_py_brew</th>\n",
       "        </tr>\n",
       "    </thead>\n",
       "    <tbody>\n",
       "        <tr>\n",
       "            <td>dim_customer</td>\n",
       "        </tr>\n",
       "        <tr>\n",
       "            <td>dim_date</td>\n",
       "        </tr>\n",
       "        <tr>\n",
       "            <td>dim_product</td>\n",
       "        </tr>\n",
       "        <tr>\n",
       "            <td>fact_sales</td>\n",
       "        </tr>\n",
       "    </tbody>\n",
       "</table>"
      ],
      "text/plain": [
       "[('dim_customer',), ('dim_date',), ('dim_product',), ('fact_sales',)]"
      ]
     },
     "execution_count": 3,
     "metadata": {},
     "output_type": "execute_result"
    }
   ],
   "source": [
    "%%sql \n",
    "\n",
    "-- confirm that tables are created successfully \n",
    "\n",
    "SHOW TABLES;"
   ]
  },
  {
   "cell_type": "code",
   "execution_count": 13,
   "metadata": {
    "vscode": {
     "languageId": "sql"
    }
   },
   "outputs": [
    {
     "data": {
      "text/html": [
       "<table>\n",
       "    <thead>\n",
       "        <tr>\n",
       "            <th>Field</th>\n",
       "            <th>Type</th>\n",
       "            <th>Null</th>\n",
       "            <th>Key</th>\n",
       "            <th>Default</th>\n",
       "            <th>Extra</th>\n",
       "        </tr>\n",
       "    </thead>\n",
       "    <tbody>\n",
       "        <tr>\n",
       "            <td>date_id</td>\n",
       "            <td>b&#x27;int&#x27;</td>\n",
       "            <td>NO</td>\n",
       "            <td>PRI</td>\n",
       "            <td>None</td>\n",
       "            <td></td>\n",
       "        </tr>\n",
       "        <tr>\n",
       "            <td>date</td>\n",
       "            <td>b&#x27;date&#x27;</td>\n",
       "            <td>NO</td>\n",
       "            <td></td>\n",
       "            <td>None</td>\n",
       "            <td></td>\n",
       "        </tr>\n",
       "        <tr>\n",
       "            <td>day_of_week</td>\n",
       "            <td>b&#x27;varchar(10)&#x27;</td>\n",
       "            <td>NO</td>\n",
       "            <td></td>\n",
       "            <td>None</td>\n",
       "            <td></td>\n",
       "        </tr>\n",
       "        <tr>\n",
       "            <td>month</td>\n",
       "            <td>b&#x27;varchar(10)&#x27;</td>\n",
       "            <td>NO</td>\n",
       "            <td></td>\n",
       "            <td>None</td>\n",
       "            <td></td>\n",
       "        </tr>\n",
       "        <tr>\n",
       "            <td>year</td>\n",
       "            <td>b&#x27;int&#x27;</td>\n",
       "            <td>NO</td>\n",
       "            <td></td>\n",
       "            <td>None</td>\n",
       "            <td></td>\n",
       "        </tr>\n",
       "    </tbody>\n",
       "</table>"
      ],
      "text/plain": [
       "[('date_id', b'int', 'NO', 'PRI', None, ''),\n",
       " ('date', b'date', 'NO', '', None, ''),\n",
       " ('day_of_week', b'varchar(10)', 'NO', '', None, ''),\n",
       " ('month', b'varchar(10)', 'NO', '', None, ''),\n",
       " ('year', b'int', 'NO', '', None, '')]"
      ]
     },
     "execution_count": 13,
     "metadata": {},
     "output_type": "execute_result"
    }
   ],
   "source": [
    "%%sql \n",
    "\n",
    "SHOW COLUMNS FROM dim_date;"
   ]
  },
  {
   "cell_type": "code",
   "execution_count": 16,
   "metadata": {
    "vscode": {
     "languageId": "sql"
    }
   },
   "outputs": [
    {
     "data": {
      "text/html": [
       "<table>\n",
       "    <thead>\n",
       "        <tr>\n",
       "            <th>COLUMN_NAME</th>\n",
       "        </tr>\n",
       "    </thead>\n",
       "    <tbody>\n",
       "        <tr>\n",
       "            <td>date</td>\n",
       "        </tr>\n",
       "        <tr>\n",
       "            <td>date_id</td>\n",
       "        </tr>\n",
       "        <tr>\n",
       "            <td>day_of_week</td>\n",
       "        </tr>\n",
       "        <tr>\n",
       "            <td>month</td>\n",
       "        </tr>\n",
       "        <tr>\n",
       "            <td>year</td>\n",
       "        </tr>\n",
       "    </tbody>\n",
       "</table>"
      ],
      "text/plain": [
       "[('date',), ('date_id',), ('day_of_week',), ('month',), ('year',)]"
      ]
     },
     "execution_count": 16,
     "metadata": {},
     "output_type": "execute_result"
    }
   ],
   "source": [
    "%%sql \n",
    "\n",
    "SELECT COLUMN_NAME\n",
    "FROM INFORMATION_SCHEMA.COLUMNS \n",
    "WHERE TABLE_NAME = 'dim_date';"
   ]
  }
 ],
 "metadata": {
  "kernelspec": {
   "display_name": "env",
   "language": "python",
   "name": "python3"
  },
  "language_info": {
   "codemirror_mode": {
    "name": "ipython",
    "version": 3
   },
   "file_extension": ".py",
   "mimetype": "text/x-python",
   "name": "python",
   "nbconvert_exporter": "python",
   "pygments_lexer": "ipython3",
   "version": "3.11.2"
  },
  "orig_nbformat": 4
 },
 "nbformat": 4,
 "nbformat_minor": 2
}
