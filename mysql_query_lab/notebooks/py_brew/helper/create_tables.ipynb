{
 "cells": [
  {
   "cell_type": "code",
   "execution_count": 1,
   "metadata": {},
   "outputs": [
    {
     "name": "stdout",
     "output_type": "stream",
     "text": [
      "Successfully connected to py_brew database.\n"
     ]
    }
   ],
   "source": [
    "%run setup_notebook.ipynb"
   ]
  },
  {
   "cell_type": "code",
   "execution_count": 2,
   "metadata": {
    "vscode": {
     "languageId": "sql"
    }
   },
   "outputs": [
    {
     "data": {
      "text/plain": [
       "[]"
      ]
     },
     "execution_count": 2,
     "metadata": {},
     "output_type": "execute_result"
    }
   ],
   "source": [
    "%sql -f ../../../databases/py_brew_db/create_tables.sql"
   ]
  },
  {
   "cell_type": "code",
   "execution_count": 3,
   "metadata": {
    "vscode": {
     "languageId": "sql"
    }
   },
   "outputs": [
    {
     "data": {
      "text/html": [
       "<table>\n",
       "    <thead>\n",
       "        <tr>\n",
       "            <th>Tables_in_py_brew</th>\n",
       "        </tr>\n",
       "    </thead>\n",
       "    <tbody>\n",
       "        <tr>\n",
       "            <td>dim_customer</td>\n",
       "        </tr>\n",
       "        <tr>\n",
       "            <td>dim_date</td>\n",
       "        </tr>\n",
       "        <tr>\n",
       "            <td>dim_product</td>\n",
       "        </tr>\n",
       "        <tr>\n",
       "            <td>fact_sales</td>\n",
       "        </tr>\n",
       "    </tbody>\n",
       "</table>"
      ],
      "text/plain": [
       "[('dim_customer',), ('dim_date',), ('dim_product',), ('fact_sales',)]"
      ]
     },
     "execution_count": 3,
     "metadata": {},
     "output_type": "execute_result"
    }
   ],
   "source": [
    "%%sql \n",
    "\n",
    "-- confirm that tables are created successfully \n",
    "\n",
    "SHOW TABLES;"
   ]
  },
  {
   "cell_type": "code",
   "execution_count": 4,
   "metadata": {
    "vscode": {
     "languageId": "sql"
    }
   },
   "outputs": [
    {
     "data": {
      "text/html": [
       "<table>\n",
       "    <thead>\n",
       "        <tr>\n",
       "            <th>Field</th>\n",
       "            <th>Type</th>\n",
       "            <th>Null</th>\n",
       "            <th>Key</th>\n",
       "            <th>Default</th>\n",
       "            <th>Extra</th>\n",
       "        </tr>\n",
       "    </thead>\n",
       "    <tbody>\n",
       "        <tr>\n",
       "            <td>date_id</td>\n",
       "            <td>b&#x27;int&#x27;</td>\n",
       "            <td>NO</td>\n",
       "            <td>PRI</td>\n",
       "            <td>None</td>\n",
       "            <td></td>\n",
       "        </tr>\n",
       "        <tr>\n",
       "            <td>tmstp</td>\n",
       "            <td>b&#x27;timestamp&#x27;</td>\n",
       "            <td>NO</td>\n",
       "            <td></td>\n",
       "            <td>None</td>\n",
       "            <td></td>\n",
       "        </tr>\n",
       "        <tr>\n",
       "            <td>date</td>\n",
       "            <td>b&#x27;date&#x27;</td>\n",
       "            <td>NO</td>\n",
       "            <td></td>\n",
       "            <td>None</td>\n",
       "            <td></td>\n",
       "        </tr>\n",
       "        <tr>\n",
       "            <td>day_of_week</td>\n",
       "            <td>b&#x27;varchar(10)&#x27;</td>\n",
       "            <td>NO</td>\n",
       "            <td></td>\n",
       "            <td>None</td>\n",
       "            <td></td>\n",
       "        </tr>\n",
       "        <tr>\n",
       "            <td>month</td>\n",
       "            <td>b&#x27;varchar(10)&#x27;</td>\n",
       "            <td>NO</td>\n",
       "            <td></td>\n",
       "            <td>None</td>\n",
       "            <td></td>\n",
       "        </tr>\n",
       "        <tr>\n",
       "            <td>year</td>\n",
       "            <td>b&#x27;int&#x27;</td>\n",
       "            <td>NO</td>\n",
       "            <td></td>\n",
       "            <td>None</td>\n",
       "            <td></td>\n",
       "        </tr>\n",
       "    </tbody>\n",
       "</table>"
      ],
      "text/plain": [
       "[('date_id', b'int', 'NO', 'PRI', None, ''),\n",
       " ('tmstp', b'timestamp', 'NO', '', None, ''),\n",
       " ('date', b'date', 'NO', '', None, ''),\n",
       " ('day_of_week', b'varchar(10)', 'NO', '', None, ''),\n",
       " ('month', b'varchar(10)', 'NO', '', None, ''),\n",
       " ('year', b'int', 'NO', '', None, '')]"
      ]
     },
     "execution_count": 4,
     "metadata": {},
     "output_type": "execute_result"
    }
   ],
   "source": [
    "%%sql \n",
    "\n",
    "SHOW COLUMNS FROM dim_date;"
   ]
  },
  {
   "cell_type": "code",
   "execution_count": 5,
   "metadata": {
    "vscode": {
     "languageId": "sql"
    }
   },
   "outputs": [
    {
     "data": {
      "text/html": [
       "<table>\n",
       "    <thead>\n",
       "        <tr>\n",
       "            <th>TABLE_CATALOG</th>\n",
       "            <th>TABLE_SCHEMA</th>\n",
       "            <th>TABLE_NAME</th>\n",
       "            <th>COLUMN_NAME</th>\n",
       "            <th>ORDINAL_POSITION</th>\n",
       "            <th>COLUMN_DEFAULT</th>\n",
       "            <th>IS_NULLABLE</th>\n",
       "            <th>DATA_TYPE</th>\n",
       "            <th>CHARACTER_MAXIMUM_LENGTH</th>\n",
       "            <th>CHARACTER_OCTET_LENGTH</th>\n",
       "            <th>NUMERIC_PRECISION</th>\n",
       "            <th>NUMERIC_SCALE</th>\n",
       "            <th>DATETIME_PRECISION</th>\n",
       "            <th>CHARACTER_SET_NAME</th>\n",
       "            <th>COLLATION_NAME</th>\n",
       "            <th>COLUMN_TYPE</th>\n",
       "            <th>COLUMN_KEY</th>\n",
       "            <th>EXTRA</th>\n",
       "            <th>PRIVILEGES</th>\n",
       "            <th>COLUMN_COMMENT</th>\n",
       "            <th>GENERATION_EXPRESSION</th>\n",
       "            <th>SRS_ID</th>\n",
       "        </tr>\n",
       "    </thead>\n",
       "    <tbody>\n",
       "        <tr>\n",
       "            <td>def</td>\n",
       "            <td>py_brew</td>\n",
       "            <td>dim_date</td>\n",
       "            <td>date</td>\n",
       "            <td>3</td>\n",
       "            <td>None</td>\n",
       "            <td>NO</td>\n",
       "            <td>date</td>\n",
       "            <td>None</td>\n",
       "            <td>None</td>\n",
       "            <td>None</td>\n",
       "            <td>None</td>\n",
       "            <td>None</td>\n",
       "            <td>None</td>\n",
       "            <td>None</td>\n",
       "            <td>b&#x27;date&#x27;</td>\n",
       "            <td></td>\n",
       "            <td></td>\n",
       "            <td>select,insert,update,references</td>\n",
       "            <td></td>\n",
       "            <td></td>\n",
       "            <td>None</td>\n",
       "        </tr>\n",
       "        <tr>\n",
       "            <td>def</td>\n",
       "            <td>py_brew</td>\n",
       "            <td>dim_date</td>\n",
       "            <td>date_id</td>\n",
       "            <td>1</td>\n",
       "            <td>None</td>\n",
       "            <td>NO</td>\n",
       "            <td>int</td>\n",
       "            <td>None</td>\n",
       "            <td>None</td>\n",
       "            <td>10</td>\n",
       "            <td>0</td>\n",
       "            <td>None</td>\n",
       "            <td>None</td>\n",
       "            <td>None</td>\n",
       "            <td>b&#x27;int&#x27;</td>\n",
       "            <td>PRI</td>\n",
       "            <td></td>\n",
       "            <td>select,insert,update,references</td>\n",
       "            <td></td>\n",
       "            <td></td>\n",
       "            <td>None</td>\n",
       "        </tr>\n",
       "        <tr>\n",
       "            <td>def</td>\n",
       "            <td>py_brew</td>\n",
       "            <td>dim_date</td>\n",
       "            <td>day_of_week</td>\n",
       "            <td>4</td>\n",
       "            <td>None</td>\n",
       "            <td>NO</td>\n",
       "            <td>varchar</td>\n",
       "            <td>10</td>\n",
       "            <td>40</td>\n",
       "            <td>None</td>\n",
       "            <td>None</td>\n",
       "            <td>None</td>\n",
       "            <td>utf8mb4</td>\n",
       "            <td>utf8mb4_0900_ai_ci</td>\n",
       "            <td>b&#x27;varchar(10)&#x27;</td>\n",
       "            <td></td>\n",
       "            <td></td>\n",
       "            <td>select,insert,update,references</td>\n",
       "            <td></td>\n",
       "            <td></td>\n",
       "            <td>None</td>\n",
       "        </tr>\n",
       "        <tr>\n",
       "            <td>def</td>\n",
       "            <td>py_brew</td>\n",
       "            <td>dim_date</td>\n",
       "            <td>month</td>\n",
       "            <td>5</td>\n",
       "            <td>None</td>\n",
       "            <td>NO</td>\n",
       "            <td>varchar</td>\n",
       "            <td>10</td>\n",
       "            <td>40</td>\n",
       "            <td>None</td>\n",
       "            <td>None</td>\n",
       "            <td>None</td>\n",
       "            <td>utf8mb4</td>\n",
       "            <td>utf8mb4_0900_ai_ci</td>\n",
       "            <td>b&#x27;varchar(10)&#x27;</td>\n",
       "            <td></td>\n",
       "            <td></td>\n",
       "            <td>select,insert,update,references</td>\n",
       "            <td></td>\n",
       "            <td></td>\n",
       "            <td>None</td>\n",
       "        </tr>\n",
       "        <tr>\n",
       "            <td>def</td>\n",
       "            <td>py_brew</td>\n",
       "            <td>dim_date</td>\n",
       "            <td>tmstp</td>\n",
       "            <td>2</td>\n",
       "            <td>None</td>\n",
       "            <td>NO</td>\n",
       "            <td>timestamp</td>\n",
       "            <td>None</td>\n",
       "            <td>None</td>\n",
       "            <td>None</td>\n",
       "            <td>None</td>\n",
       "            <td>0</td>\n",
       "            <td>None</td>\n",
       "            <td>None</td>\n",
       "            <td>b&#x27;timestamp&#x27;</td>\n",
       "            <td></td>\n",
       "            <td></td>\n",
       "            <td>select,insert,update,references</td>\n",
       "            <td></td>\n",
       "            <td></td>\n",
       "            <td>None</td>\n",
       "        </tr>\n",
       "        <tr>\n",
       "            <td>def</td>\n",
       "            <td>py_brew</td>\n",
       "            <td>dim_date</td>\n",
       "            <td>year</td>\n",
       "            <td>6</td>\n",
       "            <td>None</td>\n",
       "            <td>NO</td>\n",
       "            <td>int</td>\n",
       "            <td>None</td>\n",
       "            <td>None</td>\n",
       "            <td>10</td>\n",
       "            <td>0</td>\n",
       "            <td>None</td>\n",
       "            <td>None</td>\n",
       "            <td>None</td>\n",
       "            <td>b&#x27;int&#x27;</td>\n",
       "            <td></td>\n",
       "            <td></td>\n",
       "            <td>select,insert,update,references</td>\n",
       "            <td></td>\n",
       "            <td></td>\n",
       "            <td>None</td>\n",
       "        </tr>\n",
       "    </tbody>\n",
       "</table>"
      ],
      "text/plain": [
       "[('def', 'py_brew', 'dim_date', 'date', 3, None, 'NO', 'date', None, None, None, None, None, None, None, b'date', '', '', 'select,insert,update,references', '', '', None),\n",
       " ('def', 'py_brew', 'dim_date', 'date_id', 1, None, 'NO', 'int', None, None, 10, 0, None, None, None, b'int', 'PRI', '', 'select,insert,update,references', '', '', None),\n",
       " ('def', 'py_brew', 'dim_date', 'day_of_week', 4, None, 'NO', 'varchar', 10, 40, None, None, None, 'utf8mb4', 'utf8mb4_0900_ai_ci', b'varchar(10)', '', '', 'select,insert,update,references', '', '', None),\n",
       " ('def', 'py_brew', 'dim_date', 'month', 5, None, 'NO', 'varchar', 10, 40, None, None, None, 'utf8mb4', 'utf8mb4_0900_ai_ci', b'varchar(10)', '', '', 'select,insert,update,references', '', '', None),\n",
       " ('def', 'py_brew', 'dim_date', 'tmstp', 2, None, 'NO', 'timestamp', None, None, None, None, 0, None, None, b'timestamp', '', '', 'select,insert,update,references', '', '', None),\n",
       " ('def', 'py_brew', 'dim_date', 'year', 6, None, 'NO', 'int', None, None, 10, 0, None, None, None, b'int', '', '', 'select,insert,update,references', '', '', None)]"
      ]
     },
     "execution_count": 5,
     "metadata": {},
     "output_type": "execute_result"
    }
   ],
   "source": [
    "%%sql \n",
    "\n",
    "SELECT *\n",
    "FROM INFORMATION_SCHEMA.COLUMNS \n",
    "WHERE TABLE_NAME = 'dim_date';"
   ]
  }
 ],
 "metadata": {
  "kernelspec": {
   "display_name": "env",
   "language": "python",
   "name": "python3"
  },
  "language_info": {
   "codemirror_mode": {
    "name": "ipython",
    "version": 3
   },
   "file_extension": ".py",
   "mimetype": "text/x-python",
   "name": "python",
   "nbconvert_exporter": "python",
   "pygments_lexer": "ipython3",
   "version": "3.11.2"
  },
  "orig_nbformat": 4
 },
 "nbformat": 4,
 "nbformat_minor": 2
}
