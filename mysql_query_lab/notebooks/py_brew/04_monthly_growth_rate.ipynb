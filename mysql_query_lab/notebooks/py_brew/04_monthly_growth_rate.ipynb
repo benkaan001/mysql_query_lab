{
 "cells": [
  {
   "cell_type": "code",
   "execution_count": 1,
   "metadata": {},
   "outputs": [
    {
     "name": "stdout",
     "output_type": "stream",
     "text": [
      "Successfully connected to py_brew database.\n",
      "+-------------+-------------------+---------------+----------------+\n",
      "| customer_id |   customer_name   | customer_city | customer_state |\n",
      "+-------------+-------------------+---------------+----------------+\n",
      "|     100     | Jennifer Gonzalez |   Smithland   |    Arkansas    |\n",
      "+-------------+-------------------+---------------+----------------+\n",
      "+---------+---------------------+------------+-------------+-------+------+\n",
      "| date_id |        tmstp        |    date    | day_of_week | month | year |\n",
      "+---------+---------------------+------------+-------------+-------+------+\n",
      "|    1    | 2020-07-04 21:23:10 | 2020-07-04 |      4      |   7   | 2020 |\n",
      "+---------+---------------------+------------+-------------+-------+------+\n",
      "+------------------+------------------+---------------------+--------------+---------------+\n",
      "|    product_id    | product_category | product_subcategory | product_name | product_price |\n",
      "+------------------+------------------+---------------------+--------------+---------------+\n",
      "| COL:ICE:COL:1048 |  Cold Beverages  |     Iced Coffee     |  Cold Brew   |      4.50     |\n",
      "+------------------+------------------+---------------------+--------------+---------------+\n",
      "+----------+--------------+-------------+---------+------------------+\n",
      "| sales_id | sales_amount | customer_id | date_id |    product_id    |\n",
      "+----------+--------------+-------------+---------+------------------+\n",
      "|  100000  |    23.64     |     629     |   888   | HOT:TEA:EAR:1339 |\n",
      "+----------+--------------+-------------+---------+------------------+\n"
     ]
    }
   ],
   "source": [
    "%run 00_display_tables.ipynb"
   ]
  },
  {
   "attachments": {},
   "cell_type": "markdown",
   "metadata": {},
   "source": [
    "#### Calculate the monthly growth rate of total sales amount for each product category over the past 12 months. Include the growth rate percentage and the corresponding month.\n",
    "\n",
    "##### *Hint: Use window functions, date manipulations, and aggregations to calculate the monthly growth rate of sales amount. Consider partitioning the data by product category.*"
   ]
  },
  {
   "attachments": {},
   "cell_type": "markdown",
   "metadata": {},
   "source": [
    "- `%b` format specifier returns the abbriviated month name"
   ]
  },
  {
   "cell_type": "code",
   "execution_count": 3,
   "metadata": {
    "vscode": {
     "languageId": "sql"
    }
   },
   "outputs": [
    {
     "data": {
      "text/html": [
       "<table>\n",
       "    <thead>\n",
       "        <tr>\n",
       "            <th>sale_month</th>\n",
       "            <th>total_sales</th>\n",
       "            <th>previous_month_sales</th>\n",
       "        </tr>\n",
       "    </thead>\n",
       "    <tbody>\n",
       "        <tr>\n",
       "            <td>2022-Aug</td>\n",
       "            <td>6184.82</td>\n",
       "            <td>None</td>\n",
       "        </tr>\n",
       "        <tr>\n",
       "            <td>2022-Dec</td>\n",
       "            <td>7901.31</td>\n",
       "            <td>6184.82</td>\n",
       "        </tr>\n",
       "        <tr>\n",
       "            <td>2022-Jul</td>\n",
       "            <td>6304.00</td>\n",
       "            <td>7901.31</td>\n",
       "        </tr>\n",
       "        <tr>\n",
       "            <td>2022-Jun</td>\n",
       "            <td>8184.53</td>\n",
       "            <td>6304.00</td>\n",
       "        </tr>\n",
       "        <tr>\n",
       "            <td>2022-May</td>\n",
       "            <td>2661.15</td>\n",
       "            <td>8184.53</td>\n",
       "        </tr>\n",
       "        <tr>\n",
       "            <td>2022-Nov</td>\n",
       "            <td>9338.83</td>\n",
       "            <td>2661.15</td>\n",
       "        </tr>\n",
       "        <tr>\n",
       "            <td>2022-Oct</td>\n",
       "            <td>7705.91</td>\n",
       "            <td>9338.83</td>\n",
       "        </tr>\n",
       "        <tr>\n",
       "            <td>2022-Sep</td>\n",
       "            <td>6071.71</td>\n",
       "            <td>7705.91</td>\n",
       "        </tr>\n",
       "        <tr>\n",
       "            <td>2023-Apr</td>\n",
       "            <td>7878.20</td>\n",
       "            <td>6071.71</td>\n",
       "        </tr>\n",
       "        <tr>\n",
       "            <td>2023-Feb</td>\n",
       "            <td>5995.50</td>\n",
       "            <td>7878.20</td>\n",
       "        </tr>\n",
       "        <tr>\n",
       "            <td>2023-Jan</td>\n",
       "            <td>5560.37</td>\n",
       "            <td>5995.50</td>\n",
       "        </tr>\n",
       "        <tr>\n",
       "            <td>2023-Mar</td>\n",
       "            <td>9149.44</td>\n",
       "            <td>5560.37</td>\n",
       "        </tr>\n",
       "        <tr>\n",
       "            <td>2023-May</td>\n",
       "            <td>2144.18</td>\n",
       "            <td>9149.44</td>\n",
       "        </tr>\n",
       "    </tbody>\n",
       "</table>"
      ],
      "text/plain": [
       "[('2022-Aug', Decimal('6184.82'), None),\n",
       " ('2022-Dec', Decimal('7901.31'), Decimal('6184.82')),\n",
       " ('2022-Jul', Decimal('6304.00'), Decimal('7901.31')),\n",
       " ('2022-Jun', Decimal('8184.53'), Decimal('6304.00')),\n",
       " ('2022-May', Decimal('2661.15'), Decimal('8184.53')),\n",
       " ('2022-Nov', Decimal('9338.83'), Decimal('2661.15')),\n",
       " ('2022-Oct', Decimal('7705.91'), Decimal('9338.83')),\n",
       " ('2022-Sep', Decimal('6071.71'), Decimal('7705.91')),\n",
       " ('2023-Apr', Decimal('7878.20'), Decimal('6071.71')),\n",
       " ('2023-Feb', Decimal('5995.50'), Decimal('7878.20')),\n",
       " ('2023-Jan', Decimal('5560.37'), Decimal('5995.50')),\n",
       " ('2023-Mar', Decimal('9149.44'), Decimal('5560.37')),\n",
       " ('2023-May', Decimal('2144.18'), Decimal('9149.44'))]"
      ]
     },
     "execution_count": 3,
     "metadata": {},
     "output_type": "execute_result"
    }
   ],
   "source": [
    "%%sql \n",
    "\n",
    "SELECT\n",
    "  DATE_FORMAT(date, '%Y-%b') AS sale_month,\n",
    "  SUM(sales_amount) AS total_sales,\n",
    "  LAG(SUM(sales_amount)) OVER (ORDER BY DATE_FORMAT(date, '%Y-%b')) AS previous_month_sales\n",
    "FROM\n",
    "  fact_sales\n",
    "  JOIN dim_date ON fact_sales.date_id = dim_date.date_id\n",
    "  JOIN dim_product ON fact_sales.product_id = dim_product.product_id\n",
    "WHERE\n",
    "  date >= DATE_SUB(CURDATE(), INTERVAL 12 MONTH)\n",
    "GROUP BY\n",
    "  DATE_FORMAT(date, '%Y-%b')\n",
    "ORDER BY\n",
    "  sale_month;\n"
   ]
  }
 ],
 "metadata": {
  "kernelspec": {
   "display_name": "env",
   "language": "python",
   "name": "python3"
  },
  "language_info": {
   "codemirror_mode": {
    "name": "ipython",
    "version": 3
   },
   "file_extension": ".py",
   "mimetype": "text/x-python",
   "name": "python",
   "nbconvert_exporter": "python",
   "pygments_lexer": "ipython3",
   "version": "3.11.2"
  },
  "orig_nbformat": 4
 },
 "nbformat": 4,
 "nbformat_minor": 2
}
