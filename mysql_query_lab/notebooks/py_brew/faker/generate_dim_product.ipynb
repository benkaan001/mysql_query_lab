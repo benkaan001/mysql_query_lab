{
 "cells": [
  {
   "cell_type": "code",
   "execution_count": 1,
   "metadata": {},
   "outputs": [],
   "source": [
    "import os \n",
    "import csv\n",
    "import random\n",
    "from faker import Faker"
   ]
  },
  {
   "cell_type": "code",
   "execution_count": 2,
   "metadata": {},
   "outputs": [],
   "source": [
    "data_dir = '../../../data'\n",
    "table_name = 'dim_product'\n",
    "output_dir = os.path.join(data_dir, f'pybrew_{table_name}')\n",
    "if not os.path.exists(output_dir):\n",
    "    os.makedirs(output_dir)\n",
    "    \n",
    "csv_location = os.path.join(output_dir, f'{table_name}.csv')"
   ]
  },
  {
   "cell_type": "code",
   "execution_count": 3,
   "metadata": {},
   "outputs": [
    {
     "name": "stdout",
     "output_type": "stream",
     "text": [
      "[('Cold Beverages', 'Iced Tea', 'Iced Black Tea', 'COL:ICE:ICE:1000', 2.5), ('Snacks', 'Baked', 'Croissant', 'SNA:BAK:CRO:1001', 1.0), ('Retail', 'Kitchen Tool', 'French Press', 'RET:KIT:FRE:1002', 10.0), ('Snacks', 'Packaged', 'Gronola Bar', 'SNA:PAC:GRO:1003', 1.5), ('Retail', 'Mug', 'PyBrew I Wish You Were Here Mug 12oz', 'RET:MUG:PYB:1004', 10.0), ('Snacks', 'Packaged', 'Trail Mix', 'SNA:PAC:TRA:1005', 2.0), ('Snacks', 'Packaged', 'M&M', 'SNA:PAC:M&M:1006', 1.75), ('Retail', 'Mug', 'PyBrew Texas Edition Mug 36oz', 'RET:MUG:PYB:1007', 15.0), ('Hot Beverages', 'Tea', 'Chai Tea', 'HOT:TEA:CHA:1008', 2.5), ('Hot Beverages', 'Coffee', 'Americano', 'HOT:COF:AME:1009', 2.5)]\n"
     ]
    }
   ],
   "source": [
    "categories = {\n",
    "    'Hot Beverages': {\n",
    "        'Coffee': ['Latte', 'Cappuccino', 'Americano', 'Espresso', 'Mocha'],\n",
    "        'Tea': ['Green Tea', 'Black Tea', 'Chai Tea', 'Earl Grey Tea', 'Herbal Tea']\n",
    "    },\n",
    "    'Cold Beverages': {\n",
    "        'Iced Coffee': ['Iced Latte', 'Iced Cappuccino', 'Iced Americano', 'Iced Mocha', 'Cold Brew'],\n",
    "        'Iced Tea': ['Iced Green Tea', 'Iced Black Tea', 'Iced Chai Tea', 'Iced Earl Grey Tea', 'Iced Herbal Tea']\n",
    "    },\n",
    "    'Snacks': {\n",
    "        'Baked': ['Croissant', 'Bagel', 'Cookie', 'Muffin', 'Cinammon Roll'],\n",
    "        'Packaged': ['Gronola Bar', 'Trail Mix', 'Fruit Cup', 'M&M', 'Chewing Gum']\n",
    "    },\n",
    "    'Retail': {\n",
    "        'Mug': ['PyBrew I Wish You Were Here Mug 12oz', 'PyBrew Texas Edition Mug 36oz'],\n",
    "        'Kitchen Tool': ['Dripper', 'French Press', 'Perculator']\n",
    "    }\n",
    "}\n",
    "\n",
    "product_prices = {\n",
    "    \"Latte\": 3.50,\n",
    "    \"Cappuccino\": 4.00,\n",
    "    \"Americano\": 2.50,\n",
    "    \"Espresso\": 2.00,\n",
    "    \"Mocha\": 3.00,\n",
    "    \"Green Tea\": 2.00,\n",
    "    \"Black Tea\": 1.50,\n",
    "    \"Chai Tea\": 2.50,\n",
    "    \"Earl Grey Tea\": 2.00,\n",
    "    \"Herbal Tea\": 1.50,\n",
    "    \"Iced Latte\": 4.50,\n",
    "    \"Iced Cappuccino\": 5.00,\n",
    "    \"Iced Americano\": 3.50,\n",
    "    \"Iced Mocha\": 4.00,\n",
    "    \"Cold Brew\": 4.50,\n",
    "    \"Iced Green Tea\": 3.00,\n",
    "    \"Iced Black Tea\": 2.50,\n",
    "    \"Iced Chai Tea\": 3.50,\n",
    "    \"Iced Earl Grey Tea\": 3.00,\n",
    "    \"Iced Herbal Tea\": 2.50,\n",
    "    \"Croissant\": 1.00,\n",
    "    \"Bagel\": 1.50,\n",
    "    \"Cookie\": 2.50,\n",
    "    \"Muffin\": 2.00,\n",
    "    \"Cinammon Roll\": 2.50,\n",
    "    \"Gronola Bar\": 1.50,\n",
    "    \"Trail Mix\": 2.00,\n",
    "    \"Fruit Cup\": 1.00,\n",
    "    \"M&M\": 1.75,\n",
    "    \"Chewing Gum\": 1.50,\n",
    "    \"PyBrew I Wish You Were Here Mug 12oz\": 10.00,\n",
    "    \"PyBrew Texas Edition Mug 36oz\": 15.00,\n",
    "    \"Dripper\": 5.00,\n",
    "    \"French Press\": 10.00,\n",
    "    \"Perculator\": 15.00\n",
    "}\n",
    "\n",
    "# Create a list of tuples\n",
    "products_list = list()\n",
    "\n",
    "\n",
    "# Use random.choice to randomly select a category and subcategory\n",
    "for i in range(1000):\n",
    "    category = random.choice(list(categories.keys()))\n",
    "    subcategory = random.choice(list(categories[category].keys()))\n",
    "\n",
    "    # Use random.choice to randomly select a product name from the subcategory\n",
    "    product_name = random.choice(categories[category][subcategory])\n",
    "\n",
    "    # Create a unique product id\n",
    "    product_id = f\"{category.upper()[:3]}:{subcategory.upper()[:3]}:{product_name.upper()[:3]}:{1_000 + i}\"\n",
    "    \n",
    "    # Select the corresponding price from the product prices\n",
    "    product_price = product_prices[product_name]\n",
    "\n",
    "    # Add the product to the list\n",
    "    products_list.append((category, subcategory, product_name, product_id, product_price))\n",
    "\n",
    "# Print the list of products\n",
    "print(products_list[:10])"
   ]
  },
  {
   "cell_type": "code",
   "execution_count": 4,
   "metadata": {},
   "outputs": [
    {
     "name": "stdout",
     "output_type": "stream",
     "text": [
      "Success! File ready @ ../../../data/pybrew_dim_product/dim_product.csv\n"
     ]
    }
   ],
   "source": [
    "# column names\n",
    "field_names = ['product_category', 'product_id', 'product_name', 'product_subcategory', 'product_price']\n",
    "\n",
    "try:\n",
    "    with open(csv_location, 'w', newline='') as csvfile:\n",
    "        writer = csv.writer(csvfile)\n",
    "        writer.writerow(field_names)\n",
    "        writer.writerows(products_list)\n",
    "except Exception as e:\n",
    "    print(e)\n",
    "else:\n",
    "    print(f\"Success! File ready @ {csv_location}\")"
   ]
  }
 ],
 "metadata": {
  "kernelspec": {
   "display_name": "env",
   "language": "python",
   "name": "python3"
  },
  "language_info": {
   "codemirror_mode": {
    "name": "ipython",
    "version": 3
   },
   "file_extension": ".py",
   "mimetype": "text/x-python",
   "name": "python",
   "nbconvert_exporter": "python",
   "pygments_lexer": "ipython3",
   "version": "3.11.2"
  },
  "orig_nbformat": 4
 },
 "nbformat": 4,
 "nbformat_minor": 2
}
