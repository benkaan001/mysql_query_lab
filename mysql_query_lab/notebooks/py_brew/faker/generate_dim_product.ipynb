{
 "cells": [
  {
   "cell_type": "code",
   "execution_count": 1,
   "metadata": {},
   "outputs": [],
   "source": [
    "import os \n",
    "import csv\n",
    "import random\n",
    "from faker import Faker"
   ]
  },
  {
   "cell_type": "code",
   "execution_count": 2,
   "metadata": {},
   "outputs": [],
   "source": [
    "data_dir = '../../../data'\n",
    "table_name = 'dim_product'\n",
    "output_dir = os.path.join(data_dir, f'pybrew_{table_name}')\n",
    "if not os.path.exists(output_dir):\n",
    "    os.makedirs(output_dir)\n",
    "    \n",
    "csv_location = os.path.join(output_dir, f'{table_name}.csv')"
   ]
  },
  {
   "cell_type": "code",
   "execution_count": 3,
   "metadata": {},
   "outputs": [
    {
     "name": "stdout",
     "output_type": "stream",
     "text": [
      "[('Hot Beverages', 'Coffee', 'Americano', 'HOT-COF-AME-1000'), ('Retail', 'Kitchen Tool', 'Dripper', 'RET-KIT-DRI-1001'), ('Hot Beverages', 'Coffee', 'Espresso', 'HOT-COF-ESP-1002'), ('Hot Beverages', 'Tea', 'Black Tea', 'HOT-TEA-BLA-1003'), ('Retail', 'Kitchen Tool', 'Perculator', 'RET-KIT-PER-1004'), ('Cold Beverages', 'Iced Coffee', 'Iced Cappuccino', 'COL-ICE-ICE-1005'), ('Retail', 'Kitchen Tool', 'French Press', 'RET-KIT-FRE-1006'), ('Cold Beverages', 'Iced Tea', 'Iced Green Tea', 'COL-ICE-ICE-1007'), ('Retail', 'Kitchen Tool', 'Perculator', 'RET-KIT-PER-1008'), ('Retail', 'Mug', 'PyBrew Texas Edition Mug 36oz', 'RET-MUG-PYB-1009')]\n"
     ]
    }
   ],
   "source": [
    "categories = {\n",
    "    'Hot Beverages': {\n",
    "        'Coffee': ['Latte', 'Cappuccino', 'Americano', 'Espresso', 'Mocha'],\n",
    "        'Tea': ['Green Tea', 'Black Tea', 'Chai Tea', 'Earl Grey Tea', 'Herbal Tea']\n",
    "    },\n",
    "    'Cold Beverages': {\n",
    "        'Iced Coffee': ['Iced Latte', 'Iced Cappuccino', 'Iced Americano', 'Iced Mocha', 'Cold Brew'],\n",
    "        'Iced Tea': ['Iced Green Tea', 'Iced Black Tea', 'Iced Chai Tea', 'Iced Earl Grey Tea', 'Iced Herbal Tea']\n",
    "    },\n",
    "    'Snacks': {\n",
    "        'Baked': ['Croissant', 'Bagel', 'Cookie', 'Muffin', 'Cinammon Roll'],\n",
    "        'Packaged': ['Gronola Bar', 'Trail Mix', 'Fruit Cup', 'M&M', 'Chewing Gum']\n",
    "    },\n",
    "    'Retail': {\n",
    "        'Mug': ['PyBrew I Wish You Were Here Mug 12oz', 'PyBrew Texas Edition Mug 36oz'],\n",
    "        'Kitchen Tool': ['Dripper', 'French Press', 'Perculator']\n",
    "    }\n",
    "}\n",
    "\n",
    "# Create a list of tuples\n",
    "products_list = list()\n",
    "\n",
    "\n",
    "# Use random.choice to randomly select a category and subcategory\n",
    "for i in range(1000):\n",
    "    category = random.choice(list(categories.keys()))\n",
    "    subcategory = random.choice(list(categories[category].keys()))\n",
    "\n",
    "    # Use random.choice to randomly select a product name from the subcategory\n",
    "    product_name = random.choice(categories[category][subcategory])\n",
    "\n",
    "    # Create a unique product id\n",
    "    product_id = f\"{category.upper()[:3]}-{subcategory.upper()[:3]}-{product_name.upper()[:3]}-{1_000 + i}\"\n",
    "\n",
    "    # Add the product to the list\n",
    "    products_list.append((category, subcategory, product_name, product_id))\n",
    "\n",
    "# Print the list of products\n",
    "print(products_list[:10])"
   ]
  },
  {
   "cell_type": "code",
   "execution_count": 4,
   "metadata": {},
   "outputs": [
    {
     "name": "stdout",
     "output_type": "stream",
     "text": [
      "Success! File ready @ ../../../data/pybrew_dim_product/dim_product.csv\n"
     ]
    }
   ],
   "source": [
    "# column names\n",
    "field_names = ['product_category', 'product_id', 'product_name', 'product_subcategory']\n",
    "\n",
    "try:\n",
    "    with open(csv_location, 'w', newline='') as csvfile:\n",
    "        writer = csv.writer(csvfile)\n",
    "        writer.writerow(field_names)\n",
    "        writer.writerows(products_list)\n",
    "except Exception as e:\n",
    "    print(e)\n",
    "else:\n",
    "    print(f\"Success! File ready @ {csv_location}\")"
   ]
  }
 ],
 "metadata": {
  "kernelspec": {
   "display_name": "env",
   "language": "python",
   "name": "python3"
  },
  "language_info": {
   "codemirror_mode": {
    "name": "ipython",
    "version": 3
   },
   "file_extension": ".py",
   "mimetype": "text/x-python",
   "name": "python",
   "nbconvert_exporter": "python",
   "pygments_lexer": "ipython3",
   "version": "3.11.2"
  },
  "orig_nbformat": 4
 },
 "nbformat": 4,
 "nbformat_minor": 2
}
