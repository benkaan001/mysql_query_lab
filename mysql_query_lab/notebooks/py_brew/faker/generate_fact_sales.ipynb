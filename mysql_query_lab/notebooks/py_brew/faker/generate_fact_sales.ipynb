{
 "cells": [
  {
   "cell_type": "code",
   "execution_count": 1,
   "metadata": {},
   "outputs": [],
   "source": [
    "import random\n",
    "import os\n",
    "import csv \n",
    "from faker import Faker \n",
    "import itertools"
   ]
  },
  {
   "cell_type": "code",
   "execution_count": 2,
   "metadata": {},
   "outputs": [],
   "source": [
    "data_dir = '../../../data'\n",
    "table_name = 'fact_sales'\n",
    "output_dir = os.path.join(data_dir, f'pybrew_{table_name}')\n",
    "if not os.path.exists(output_dir):\n",
    "    os.makedirs(output_dir)\n",
    "    \n",
    "csv_location = os.path.join(output_dir, f'{table_name}.csv')"
   ]
  },
  {
   "attachments": {},
   "cell_type": "markdown",
   "metadata": {},
   "source": [
    "## Part 1. Gather All Possible Foreign Key Values From Dim Tables"
   ]
  },
  {
   "cell_type": "code",
   "execution_count": 3,
   "metadata": {},
   "outputs": [
    {
     "name": "stdout",
     "output_type": "stream",
     "text": [
      "../../../data/pybrew_dim_customer/dim_customer.csv\n",
      "../../../data/pybrew_dim_date/dim_date.csv\n",
      "../../../data/pybrew_dim_product/dim_product.csv\n"
     ]
    }
   ],
   "source": [
    "# test file location will poin tot the right csv file\n",
    "file_names = ['dim_customer.csv', 'dim_date.csv', 'dim_product.csv']\n",
    "for file_name in file_names:\n",
    "    file_location = os.path.join(data_dir, f\"pybrew_{file_name.split('.')[0]}\", file_name)\n",
    "    print(file_location)"
   ]
  },
  {
   "cell_type": "code",
   "execution_count": 4,
   "metadata": {},
   "outputs": [
    {
     "name": "stdout",
     "output_type": "stream",
     "text": [
      "['100', '101', '102', '103', '104', '105', '106', '107', '108', '109']\n"
     ]
    }
   ],
   "source": [
    "\n",
    "# try a sample run for dim_customer table\n",
    "dim_customer_csv_location = '../../../data/pybrew_dim_customer/dim_customer.csv'\n",
    "\n",
    "with open(dim_customer_csv_location, 'r') as f:\n",
    "    # Create a list to store the column referenced by fact_sales via Foreign Key\n",
    "    column_names = list()\n",
    "    \n",
    "    # Use the reader() method to create a reader object.\n",
    "    reader = csv.reader(f)\n",
    "    \n",
    "    # Skip the header\n",
    "    next(reader)\n",
    "    \n",
    "    # Iterate over the reader object and add the column names to the list.\n",
    "    for row in reader:\n",
    "        column_names.append(row[0])\n",
    "\n",
    "print(column_names[:10])\n",
    "    "
   ]
  },
  {
   "attachments": {},
   "cell_type": "markdown",
   "metadata": {},
   "source": [
    "In case of futere additions, iterate over the existing foreign keys to collect the foreign key column values that need to be passed to **faker** to generate `fact_sales` table data. "
   ]
  },
  {
   "cell_type": "code",
   "execution_count": 5,
   "metadata": {},
   "outputs": [
    {
     "name": "stdout",
     "output_type": "stream",
     "text": [
      "['100', '101', '102', '103', '104', '105', '106', '107', '108', '109']\n",
      "['1', '2', '3', '4', '5', '6', '7', '8', '9', '10']\n",
      "['HOT:COF:CAP:1000', 'HOT:TEA:HER:1001', 'HOT:COF:MOC:1002', 'HOT:TEA:HER:1003', 'COL:ICE:ICE:1004', 'COL:ICE:ICE:1005', 'HOT:TEA:GRE:1006', 'RET:MUG:PYB:1007', 'SNA:PAC:CHE:1008', 'RET:MUG:PYB:1009']\n"
     ]
    }
   ],
   "source": [
    "# Create a list for each CSV file that holds a reference to fact_sales table.\n",
    "dim_customer_ids = list()\n",
    "dim_date_ids = list()\n",
    "dim_product_ids = list()\n",
    "\n",
    "# Keep the lists in the order of file names\n",
    "foreign_key_id_list = [dim_customer_ids, dim_date_ids, dim_product_ids]\n",
    "\n",
    "file_names = ['dim_customer.csv', 'dim_date.csv', 'dim_product.csv']\n",
    "\n",
    "try:\n",
    "    for i,file_name in enumerate(file_names):\n",
    "        # point out the csv file location\n",
    "        file_location = os.path.join(data_dir, f\"pybrew_{file_name.split('.')[0]}\", file_name)\n",
    "        \n",
    "        # Open the CSV file in read mode.\n",
    "        with open(file_location, 'r') as csvfile:\n",
    "                    \n",
    "            # Use the reader() method to create a reader object.\n",
    "            reader = csv.reader(csvfile)\n",
    "            \n",
    "            # skip the header row\n",
    "            next(reader)\n",
    "            \n",
    "            # Iterate over the reader object and add the column names to the list.\n",
    "            for row in reader:\n",
    "                foreign_key_id_list[i].append(row[0])\n",
    "except Exception as e:\n",
    "    print(e)\n",
    "else:\n",
    "    for id_list in foreign_key_id_list:\n",
    "        print(id_list[:10])\n"
   ]
  },
  {
   "attachments": {},
   "cell_type": "markdown",
   "metadata": {},
   "source": [
    "## Part 2. Generate ***fact_sales*** Data."
   ]
  },
  {
   "cell_type": "code",
   "execution_count": 6,
   "metadata": {},
   "outputs": [],
   "source": [
    "fake = Faker()"
   ]
  },
  {
   "attachments": {},
   "cell_type": "markdown",
   "metadata": {},
   "source": []
  },
  {
   "cell_type": "code",
   "execution_count": 7,
   "metadata": {},
   "outputs": [
    {
     "name": "stdout",
     "output_type": "stream",
     "text": [
      "38.626538\n"
     ]
    }
   ],
   "source": [
    "# Generate a random float between 5.00 and 50.00. using faker pyfloat\n",
    "sales_amount = fake.pyfloat(min_value=5.00, max_value=50.00)\n",
    "\n",
    "# Get the actual floating point number.\n",
    "float_sales_amount = float(sales_amount)\n",
    "\n",
    "# Print the floating point number.\n",
    "print(float_sales_amount)"
   ]
  },
  {
   "cell_type": "code",
   "execution_count": 8,
   "metadata": {},
   "outputs": [
    {
     "name": "stdout",
     "output_type": "stream",
     "text": [
      "Success!\n"
     ]
    }
   ],
   "source": [
    "field_names = ['sales_id', 'sales_amount', 'customer_id', 'date_id', 'product_id']\n",
    "\n",
    "try:\n",
    "    with open(csv_location, 'w', newline='') as csvfile:\n",
    "        writer = csv.DictWriter(csvfile, fieldnames=field_names)\n",
    "        writer.writeheader()\n",
    "        \n",
    "        for i in range(10000):\n",
    "            writer.writerow({\n",
    "                'sales_id': 100_000 + i,\n",
    "                'sales_amount': round(random.uniform(5.00, 50.00), 2),\n",
    "                'customer_id': random.choice(dim_customer_ids),\n",
    "                'date_id': random.choice(dim_date_ids),\n",
    "                'product_id': random.choice(dim_product_ids),\n",
    "            })\n",
    "except Exception as e:\n",
    "    print(e)\n",
    "else:\n",
    "    print('Success!')"
   ]
  }
 ],
 "metadata": {
  "kernelspec": {
   "display_name": "env",
   "language": "python",
   "name": "python3"
  },
  "language_info": {
   "codemirror_mode": {
    "name": "ipython",
    "version": 3
   },
   "file_extension": ".py",
   "mimetype": "text/x-python",
   "name": "python",
   "nbconvert_exporter": "python",
   "pygments_lexer": "ipython3",
   "version": "3.11.2"
  },
  "orig_nbformat": 4
 },
 "nbformat": 4,
 "nbformat_minor": 2
}
