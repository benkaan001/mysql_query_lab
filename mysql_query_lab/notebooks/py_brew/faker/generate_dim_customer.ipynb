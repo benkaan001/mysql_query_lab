{
 "cells": [
  {
   "cell_type": "code",
   "execution_count": 1,
   "metadata": {},
   "outputs": [],
   "source": [
    "import os \n",
    "import csv \n",
    "from faker import Faker "
   ]
  },
  {
   "cell_type": "code",
   "execution_count": 2,
   "metadata": {},
   "outputs": [],
   "source": [
    "data_dir = '../../../data'\n",
    "table_name = 'dim_customer'\n",
    "output_dir = os.path.join(data_dir, f'pybrew_{table_name}')\n",
    "if not os.path.exists(output_dir):\n",
    "    os.makedirs(output_dir)\n",
    "    \n",
    "csv_location = os.path.join(output_dir, f'{table_name}.csv')"
   ]
  },
  {
   "cell_type": "code",
   "execution_count": 3,
   "metadata": {},
   "outputs": [
    {
     "data": {
      "text/plain": [
       "'Jonathan Burns'"
      ]
     },
     "execution_count": 3,
     "metadata": {},
     "output_type": "execute_result"
    }
   ],
   "source": [
    "fake = Faker()\n",
    "\n",
    "fake.name()"
   ]
  },
  {
   "cell_type": "code",
   "execution_count": 4,
   "metadata": {},
   "outputs": [
    {
     "data": {
      "text/plain": [
       "'Alabama'"
      ]
     },
     "execution_count": 4,
     "metadata": {},
     "output_type": "execute_result"
    }
   ],
   "source": [
    "fake.state()"
   ]
  },
  {
   "cell_type": "code",
   "execution_count": 5,
   "metadata": {},
   "outputs": [
    {
     "data": {
      "text/plain": [
       "'Montoyaberg'"
      ]
     },
     "execution_count": 5,
     "metadata": {},
     "output_type": "execute_result"
    }
   ],
   "source": [
    "fake.city()"
   ]
  },
  {
   "cell_type": "code",
   "execution_count": 6,
   "metadata": {},
   "outputs": [
    {
     "name": "stdout",
     "output_type": "stream",
     "text": [
      "[(100, 'Mendozaland', 'Mr. Logan Nicholson', 'Colorado'), (101, 'Acostaland', 'Alicia Campbell', 'Tennessee'), (102, 'Galvantown', 'Matthew Cox', 'Virginia'), (103, 'Port Katherine', 'Andrew Martinez', 'Iowa'), (104, 'East Maria', 'Amanda Smith', 'Iowa'), (105, 'East Rebeccaview', 'Joseph Harrison', 'Wisconsin'), (106, 'Danielborough', 'Cameron Price', 'Maryland'), (107, 'East Williamhaven', 'Melanie Garrett', 'Alabama'), (108, 'Knightchester', 'Eric Thompson', 'Wisconsin'), (109, 'South Randallfort', 'Caitlin Price', 'Colorado')]\n"
     ]
    }
   ],
   "source": [
    "customers_list = list()\n",
    "\n",
    "for i in range(1000):\n",
    "    customer_id = 100 + i\n",
    "    customer_city = fake.city()\n",
    "    customer_name = fake.name()\n",
    "    customer_state = fake.state()\n",
    "    customers_list.append((customer_id, customer_city, customer_name, customer_state))\n",
    "\n",
    "print(customers_list[:10])\n",
    "    \n"
   ]
  },
  {
   "cell_type": "code",
   "execution_count": 7,
   "metadata": {},
   "outputs": [
    {
     "name": "stdout",
     "output_type": "stream",
     "text": [
      "Success!\n"
     ]
    }
   ],
   "source": [
    "field_names =['customer_id', 'customer_city', 'customer_name', 'customer_state']\n",
    "\n",
    "try:\n",
    "    with open(csv_location, 'w', newline='') as csv_file:\n",
    "        writer = csv.writer(csv_file)\n",
    "        writer.writerow(field_names)\n",
    "        writer.writerows(customers_list)\n",
    "except Exception as e:\n",
    "    print(e)\n",
    "else:\n",
    "    print('Success!')"
   ]
  }
 ],
 "metadata": {
  "kernelspec": {
   "display_name": "env",
   "language": "python",
   "name": "python3"
  },
  "language_info": {
   "codemirror_mode": {
    "name": "ipython",
    "version": 3
   },
   "file_extension": ".py",
   "mimetype": "text/x-python",
   "name": "python",
   "nbconvert_exporter": "python",
   "pygments_lexer": "ipython3",
   "version": "3.11.2"
  },
  "orig_nbformat": 4
 },
 "nbformat": 4,
 "nbformat_minor": 2
}
