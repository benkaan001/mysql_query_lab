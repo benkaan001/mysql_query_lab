{
 "cells": [
  {
   "cell_type": "code",
   "execution_count": 1,
   "metadata": {},
   "outputs": [
    {
     "name": "stdout",
     "output_type": "stream",
     "text": [
      "Successfully connected to py_brew database.\n",
      "+-------------+-------------------+---------------+----------------+\n",
      "| customer_id |   customer_name   | customer_city | customer_state |\n",
      "+-------------+-------------------+---------------+----------------+\n",
      "|     100     | Jennifer Gonzalez |   Smithland   |    Arkansas    |\n",
      "+-------------+-------------------+---------------+----------------+\n",
      "+---------+---------------------+------------+-------------+-------+------+\n",
      "| date_id |        tmstp        |    date    | day_of_week | month | year |\n",
      "+---------+---------------------+------------+-------------+-------+------+\n",
      "|    1    | 2020-07-04 21:23:10 | 2020-07-04 |      4      |   7   | 2020 |\n",
      "+---------+---------------------+------------+-------------+-------+------+\n",
      "+------------------+------------------+---------------------+--------------+---------------+\n",
      "|    product_id    | product_category | product_subcategory | product_name | product_price |\n",
      "+------------------+------------------+---------------------+--------------+---------------+\n",
      "| COL:ICE:COL:1048 |  Cold Beverages  |     Iced Coffee     |  Cold Brew   |      4.50     |\n",
      "+------------------+------------------+---------------------+--------------+---------------+\n",
      "+----------+--------------+-------------+---------+------------------+\n",
      "| sales_id | sales_amount | customer_id | date_id |    product_id    |\n",
      "+----------+--------------+-------------+---------+------------------+\n",
      "|  100000  |    23.64     |     629     |   888   | HOT:TEA:EAR:1339 |\n",
      "+----------+--------------+-------------+---------+------------------+\n"
     ]
    }
   ],
   "source": [
    "%run 00_display_tables.ipynb"
   ]
  },
  {
   "cell_type": "code",
   "execution_count": 2,
   "metadata": {
    "vscode": {
     "languageId": "sql"
    }
   },
   "outputs": [
    {
     "data": {
      "text/plain": [
       "[]"
      ]
     },
     "execution_count": 2,
     "metadata": {},
     "output_type": "execute_result"
    }
   ],
   "source": [
    "%%sql\n",
    "\n",
    "DROP PROCEDURE IF EXISTS GetProductCategorySales;\n",
    "\n",
    "CREATE PROCEDURE GetProductCategorySales(\n",
    "    IN p_category VARCHAR(100)\n",
    ")\n",
    "BEGIN\n",
    "    SELECT \n",
    "        product_category,\n",
    "        DATE_FORMAT(date, '%Y-%b') AS sale_month,\n",
    "        SUM(sales_amount) AS total_sales,\n",
    "        LAG(SUM(sales_amount)) OVER (PARTITION BY product_category ORDER BY DATE_FORMAT(date, '%Y-%b')) AS previous_month_sales,\n",
    "        ROUND(((SUM(sales_amount) - LAG(SUM(sales_amount)) OVER (PARTITION BY product_category ORDER BY DATE_FORMAT(date, '%Y-%b'))) / SUM(sales_amount) * 100), 2) AS growth_rate\n",
    "    FROM \n",
    "        fact_sales\n",
    "        JOIN dim_date ON fact_sales.date_id = dim_date.date_id\n",
    "        JOIN dim_product ON fact_sales.product_id = dim_product.product_id\n",
    "    WHERE \n",
    "        product_category = p_category\n",
    "        AND date >= DATE_SUB(CURDATE(), INTERVAL 12 MONTH)\n",
    "    GROUP BY product_category, DATE_FORMAT(date, '%Y-%b');\n",
    "END;\n"
   ]
  },
  {
   "cell_type": "code",
   "execution_count": 3,
   "metadata": {
    "vscode": {
     "languageId": "sql"
    }
   },
   "outputs": [
    {
     "data": {
      "text/plain": [
       "[]"
      ]
     },
     "execution_count": 3,
     "metadata": {},
     "output_type": "execute_result"
    }
   ],
   "source": [
    "%%sql \n",
    "-- not supported\n",
    "-- CALL GetProductCategorySales('Retail')"
   ]
  }
 ],
 "metadata": {
  "kernelspec": {
   "display_name": "env",
   "language": "python",
   "name": "python3"
  },
  "language_info": {
   "codemirror_mode": {
    "name": "ipython",
    "version": 3
   },
   "file_extension": ".py",
   "mimetype": "text/x-python",
   "name": "python",
   "nbconvert_exporter": "python",
   "pygments_lexer": "ipython3",
   "version": "3.11.2"
  },
  "orig_nbformat": 4
 },
 "nbformat": 4,
 "nbformat_minor": 2
}
