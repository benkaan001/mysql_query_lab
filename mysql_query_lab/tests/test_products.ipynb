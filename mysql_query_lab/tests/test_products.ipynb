{
 "cells": [
  {
   "cell_type": "code",
   "execution_count": 2,
   "metadata": {},
   "outputs": [],
   "source": [
    "import pandas as pd\n",
    "import pytest"
   ]
  },
  {
   "cell_type": "code",
   "execution_count": null,
   "metadata": {},
   "outputs": [],
   "source": [
    "\n",
    "# Define the original DataFrame\n",
    "original_df = pd.DataFrame({\n",
    "    'product_id': [0, 1, 2, 3, 4],\n",
    "    'low_fats': ['Y', 'Y', 'N', 'Y', 'N'],\n",
    "    'recyclable': ['N', 'Y', 'Y', 'Y', 'N']\n",
    "})\n",
    "\n",
    "def test_output(output, df=original_df):   \n",
    "    \"\"\"\n",
    "    Test the output of a query on a DataFrame.\n",
    "\n",
    "    Parameters:\n",
    "        output (DataFrame): The output DataFrame from the query.\n",
    "        df (DataFrame, optional): The original DataFrame to perform the query on. \n",
    "            Default is the provided original_df.\n",
    "\n",
    "    Raises:\n",
    "        AssertionError: If the query output does not meet the expected criteria.\n",
    "        KeyError: If an invalid key is used in the query.\n",
    "\n",
    "    Prints:\n",
    "        A message indicating whether the test passed or not.\n",
    "\n",
    "    \"\"\"\n",
    "    \n",
    "    # Define the expected output DataFrame\n",
    "    expected_output = pd.DataFrame({'product_id': [1, 3]})\n",
    "\n",
    "    # Test that the query returns the correct number of rows\n",
    "    assert len(output) == 2, \"The query did not return the correct number of rows.\"\n",
    "\n",
    "    # Test that the query returns the correct values\n",
    "    assert output.values.flatten().tolist() == [1, 3], \\\n",
    "        \"The query did not return the correct values.\"\n",
    "\n",
    "    # Test that the query returns the correct column names\n",
    "    assert output.columns == ['product_id'], \\\n",
    "        \"The query did not return the correct column names.\"\n",
    "\n",
    "    # Test that the query raises an error when an invalid key is used in the query\n",
    "    with pytest.raises(KeyError):\n",
    "        try:\n",
    "            # this will additionally trigger pd.core.computation.ops.UndefinedVariableError \n",
    "            df.query(\"low_fats == 'Y' and error_recyclable == 'Y'\")[['product_id']]\n",
    "        except:\n",
    "            raise KeyError\n",
    "\n",
    "    print(f\"Test passed: Output matches the expected result.\")\n"
   ]
  }
 ],
 "metadata": {
  "kernelspec": {
   "display_name": "env",
   "language": "python",
   "name": "python3"
  },
  "language_info": {
   "codemirror_mode": {
    "name": "ipython",
    "version": 3
   },
   "file_extension": ".py",
   "mimetype": "text/x-python",
   "name": "python",
   "nbconvert_exporter": "python",
   "pygments_lexer": "ipython3",
   "version": "3.11.2"
  },
  "orig_nbformat": 4
 },
 "nbformat": 4,
 "nbformat_minor": 2
}
